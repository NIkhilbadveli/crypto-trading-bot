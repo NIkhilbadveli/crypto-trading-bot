{
 "cells": [
  {
   "cell_type": "code",
   "execution_count": 9,
   "metadata": {
    "collapsed": true
   },
   "outputs": [],
   "source": [
    "# Import required libraries\n",
    "from binance import Client\n",
    "from keras.models import load_model\n",
    "import numpy as np\n",
    "import pandas as pd\n",
    "import matplotlib.pyplot as plt\n",
    "from sklearn.model_selection import train_test_split\n",
    "from sklearn.metrics import mean_squared_error\n",
    "\n",
    "from get_data import get_historical_data\n",
    "from datetime import datetime, timedelta\n",
    "from pickle import load"
   ]
  },
  {
   "cell_type": "code",
   "execution_count": 2,
   "outputs": [],
   "source": [
    "# Initialize the variables\n",
    "window_size = 100\n",
    "prediction_window = 48"
   ],
   "metadata": {
    "collapsed": false,
    "pycharm": {
     "name": "#%%\n"
    }
   }
  },
  {
   "cell_type": "code",
   "execution_count": 3,
   "outputs": [],
   "source": [
    "# Import model .pkl file and use it to predict the price for the next 48 time steps.\n",
    "model = load_model('bitcoin_model.h5')\n",
    "scaler = load(open('bitcoin_scaler.pkl', 'rb'))"
   ],
   "metadata": {
    "collapsed": false,
    "pycharm": {
     "name": "#%%\n"
    }
   }
  },
  {
   "cell_type": "code",
   "execution_count": 12,
   "outputs": [],
   "source": [
    "# Get the historical data for the last 100 time steps\n",
    "today = datetime.today() - timedelta(days=2)\n",
    "end_date = today.strftime('%Y-%m-%d')\n",
    "start_date = (today - timedelta(days=5)).strftime('%Y-%m-%d')\n",
    "df = pd.read_csv('historical_data_30_min.csv')\n",
    "# df = get_historical_data('BTC', start_date, end_date, Client.KLINE_INTERVAL_30MINUTE)\n",
    "# It looks like this method doesn't give us the today's price candles\n",
    "time_array = df['close_time'].to_numpy()\n",
    "price_array = df['close'].to_numpy()\n",
    "price_array = scaler.fit_transform(price_array.reshape(-1, 1))"
   ],
   "metadata": {
    "collapsed": false,
    "pycharm": {
     "name": "#%%\n"
    }
   }
  },
  {
   "cell_type": "code",
   "execution_count": 13,
   "outputs": [
    {
     "name": "stdout",
     "output_type": "stream",
     "text": [
      "(15655, 99, 1) (1740, 99, 1) (15655, 1) (1740, 1)\n"
     ]
    }
   ],
   "source": [
    "d = []\n",
    "for index in range(len(price_array) - window_size):\n",
    "    d.append(price_array[index: index + window_size])\n",
    "d = np.array(d)\n",
    "d = d.reshape((d.shape[0], d.shape[1], 1))\n",
    "\n",
    "x_data = d[:, :-1, :]\n",
    "y_data = d[:, -1, :]\n",
    "\n",
    "# Split data into training and test sets\n",
    "X_train, X_test, Y_train, Y_test = train_test_split(x_data, y_data, test_size=0.1, shuffle=False)\n",
    "print(X_train.shape, X_test.shape, Y_train.shape, Y_test.shape)"
   ],
   "metadata": {
    "collapsed": false,
    "pycharm": {
     "name": "#%%\n"
    }
   }
  },
  {
   "cell_type": "code",
   "execution_count": 11,
   "outputs": [
    {
     "name": "stdout",
     "output_type": "stream",
     "text": [
      "13.951711500520915\n"
     ]
    }
   ],
   "source": [
    "y_pred = model.predict(X_test)\n",
    "# print(mean_squared_error(Y_test, y_pred))\n",
    "print(np.mean(np.abs(Y_test - y_pred) * 100 / Y_test))"
   ],
   "metadata": {
    "collapsed": false,
    "pycharm": {
     "name": "#%%\n"
    }
   }
  },
  {
   "cell_type": "code",
   "execution_count": 14,
   "outputs": [
    {
     "name": "stdout",
     "output_type": "stream",
     "text": [
      "(15654, 99, 1) (1740, 99, 1) (15654, 1) (1740, 1)\n"
     ]
    }
   ],
   "source": [
    "window_size = 101\n",
    "d = []\n",
    "for index in range(len(price_array) - window_size):\n",
    "    d.append(price_array[index: index + window_size])\n",
    "d = np.array(d)\n",
    "d = d.reshape((d.shape[0], d.shape[1], 1))\n",
    "\n",
    "x_data = d[:, :-2, :]\n",
    "y_data = d[:, -1, :]\n",
    "\n",
    "# Split data into training and test sets\n",
    "X_train, X_test, Y_train, Y_test = train_test_split(x_data, y_data, test_size=0.1, shuffle=False)\n",
    "print(X_train.shape, X_test.shape, Y_train.shape, Y_test.shape)"
   ],
   "metadata": {
    "collapsed": false,
    "pycharm": {
     "name": "#%%\n"
    }
   }
  },
  {
   "cell_type": "code",
   "execution_count": 16,
   "outputs": [
    {
     "name": "stdout",
     "output_type": "stream",
     "text": [
      "20.636016914171986\n"
     ]
    }
   ],
   "source": [
    "y_pred = model.predict(X_test)  # This is the first step prediction\n",
    "# Now append this prediction to X_test and make another prediction\n",
    "X_test = np.append(X_test, y_pred.reshape((y_pred.shape[0], 1, 1)), axis=1)[:, 1:, :]\n",
    "y_pred = model.predict(X_test)\n",
    "# print(mean_squared_error(Y_test, y_pred))\n",
    "print(np.mean(np.abs(Y_test - y_pred) * 100 / Y_test))"
   ],
   "metadata": {
    "collapsed": false,
    "pycharm": {
     "name": "#%%\n"
    }
   }
  },
  {
   "cell_type": "code",
   "execution_count": 21,
   "outputs": [
    {
     "name": "stdout",
     "output_type": "stream",
     "text": [
      "(15653, 99, 1) (1740, 99, 1) (15653, 1) (1740, 1)\n"
     ]
    }
   ],
   "source": [
    "window_size = 102\n",
    "d = []\n",
    "for index in range(len(price_array) - window_size):\n",
    "    d.append(price_array[index: index + window_size])\n",
    "d = np.array(d)\n",
    "d = d.reshape((d.shape[0], d.shape[1], 1))\n",
    "\n",
    "x_data = d[:, :-3, :]\n",
    "y_data = d[:, -1, :]\n",
    "\n",
    "# Split data into training and test sets\n",
    "X_train, X_test, Y_train, Y_test = train_test_split(x_data, y_data, test_size=0.1, shuffle=False)\n",
    "print(X_train.shape, X_test.shape, Y_train.shape, Y_test.shape)"
   ],
   "metadata": {
    "collapsed": false,
    "pycharm": {
     "name": "#%%\n"
    }
   }
  },
  {
   "cell_type": "code",
   "execution_count": 22,
   "outputs": [
    {
     "name": "stdout",
     "output_type": "stream",
     "text": [
      "26.218329112784144\n"
     ]
    }
   ],
   "source": [
    "y_pred = model.predict(X_test)  # This is the first step prediction\n",
    "# Now append this prediction to X_test and make another prediction\n",
    "X_test = np.append(X_test, y_pred.reshape((y_pred.shape[0], 1, 1)), axis=1)[:, 1:, :]\n",
    "y_pred = model.predict(X_test)\n",
    "\n",
    "X_test = np.append(X_test, y_pred.reshape((y_pred.shape[0], 1, 1)), axis=1)[:, 1:, :]\n",
    "y_pred = model.predict(X_test)\n",
    "\n",
    "# print(mean_squared_error(Y_test, y_pred))\n",
    "print(np.mean(np.abs(Y_test - y_pred) * 100 / Y_test))"
   ],
   "metadata": {
    "collapsed": false,
    "pycharm": {
     "name": "#%%\n"
    }
   }
  },
  {
   "cell_type": "code",
   "execution_count": null,
   "outputs": [],
   "source": [],
   "metadata": {
    "collapsed": false,
    "pycharm": {
     "name": "#%%\n"
    }
   }
  }
 ],
 "metadata": {
  "kernelspec": {
   "display_name": "Python 3",
   "language": "python",
   "name": "python3"
  },
  "language_info": {
   "codemirror_mode": {
    "name": "ipython",
    "version": 2
   },
   "file_extension": ".py",
   "mimetype": "text/x-python",
   "name": "python",
   "nbconvert_exporter": "python",
   "pygments_lexer": "ipython2",
   "version": "2.7.6"
  }
 },
 "nbformat": 4,
 "nbformat_minor": 0
}