{
 "cells": [
  {
   "cell_type": "code",
   "execution_count": 1,
   "outputs": [],
   "source": [
    "import ccxt\n",
    "from pprint import pprint\n",
    "\n",
    "import pandas as pd"
   ],
   "metadata": {
    "collapsed": false,
    "pycharm": {
     "name": "#%%\n"
    }
   }
  },
  {
   "cell_type": "code",
   "execution_count": 9,
   "outputs": [],
   "source": [
    "# These are for the Spot Test network\n",
    "api_key = 'ZW4JiSeUBSNQ0Ca1YmWO9tin7coxmdoY5XJu12G72JjnbL1U9YYmhOBUptq2gDgA'\n",
    "api_secret = 'O3vGtHYwN3EqDVM4wgVAX01kSlcwJfEAuw3OCAkEWBx6YJPcTD8C8ZaijhskEISg'"
   ],
   "metadata": {
    "collapsed": false,
    "pycharm": {
     "name": "#%%\n"
    }
   }
  },
  {
   "cell_type": "code",
   "execution_count": 2,
   "outputs": [],
   "source": [
    "# Api keys for futures test account\n",
    "api_key = 'dd05414a31ad8e9e6ce66333a3134e4c871972292153ff63bae3d700d3831f19'\n",
    "api_secret = 'da487d0428c7f1de6b149004f853b7ec20a0e292d0c5692e3c56de4139dd734e'"
   ],
   "metadata": {
    "collapsed": false,
    "pycharm": {
     "name": "#%%\n"
    }
   }
  },
  {
   "cell_type": "code",
   "execution_count": null,
   "outputs": [],
   "source": [
    "# FTX api keys\n",
    "api_key = '1XgIoggpoVOWhuX5hiVVf4PvANRI5-TYxNH6CCJa'\n",
    "api_secret = 'H30lYd8zUnhs1MaAE6zgbA3DBXLBmijh8unYQaL7'"
   ],
   "metadata": {
    "collapsed": false,
    "pycharm": {
     "name": "#%%\n"
    }
   }
  },
  {
   "cell_type": "code",
   "execution_count": 3,
   "outputs": [],
   "source": [
    "exchange = ccxt.binance({\n",
    "    'apiKey': api_key,\n",
    "    'secret': api_secret,\n",
    "    'enableRateLimit': True,  # https://github.com/ccxt/ccxt/wiki/Manual#rate-limit\n",
    "    'options': {\n",
    "        'defaultType': 'future',  # or 'margin'\n",
    "    }\n",
    "})\n",
    "exchange.set_sandbox_mode(True)\n",
    "exchange.verbose = False"
   ],
   "metadata": {
    "collapsed": false,
    "pycharm": {
     "name": "#%%\n"
    }
   }
  },
  {
   "cell_type": "code",
   "execution_count": 13,
   "outputs": [
    {
     "data": {
      "text/plain": "{'info': {'feeTier': '0',\n  'canTrade': True,\n  'canDeposit': True,\n  'canWithdraw': True,\n  'updateTime': '0',\n  'totalInitialMargin': '0.00000000',\n  'totalMaintMargin': '0.00000000',\n  'totalWalletBalance': '2994.70649966',\n  'totalUnrealizedProfit': '0.00000000',\n  'totalMarginBalance': '2994.70649966',\n  'totalPositionInitialMargin': '0.00000000',\n  'totalOpenOrderInitialMargin': '0.00000000',\n  'totalCrossWalletBalance': '2994.70649966',\n  'totalCrossUnPnl': '0.00000000',\n  'availableBalance': '2994.70649966',\n  'maxWithdrawAmount': '2994.70649966',\n  'assets': [{'asset': 'BNB',\n    'walletBalance': '0.00000000',\n    'unrealizedProfit': '0.00000000',\n    'marginBalance': '0.00000000',\n    'maintMargin': '0.00000000',\n    'initialMargin': '0.00000000',\n    'positionInitialMargin': '0.00000000',\n    'openOrderInitialMargin': '0.00000000',\n    'maxWithdrawAmount': '0.00000000',\n    'crossWalletBalance': '0.00000000',\n    'crossUnPnl': '0.00000000',\n    'availableBalance': '0.00000000',\n    'marginAvailable': True,\n    'updateTime': '0'},\n   {'asset': 'USDT',\n    'walletBalance': '2994.70649966',\n    'unrealizedProfit': '0.00000000',\n    'marginBalance': '2994.70649966',\n    'maintMargin': '0.00000000',\n    'initialMargin': '0.00000000',\n    'positionInitialMargin': '0.00000000',\n    'openOrderInitialMargin': '0.00000000',\n    'maxWithdrawAmount': '2994.70649966',\n    'crossWalletBalance': '2994.70649966',\n    'crossUnPnl': '0.00000000',\n    'availableBalance': '2994.70649966',\n    'marginAvailable': True,\n    'updateTime': '1653511474313'},\n   {'asset': 'BUSD',\n    'walletBalance': '0.00000000',\n    'unrealizedProfit': '0.00000000',\n    'marginBalance': '0.00000000',\n    'maintMargin': '0.00000000',\n    'initialMargin': '0.00000000',\n    'positionInitialMargin': '0.00000000',\n    'openOrderInitialMargin': '0.00000000',\n    'maxWithdrawAmount': '0.00000000',\n    'crossWalletBalance': '0.00000000',\n    'crossUnPnl': '0.00000000',\n    'availableBalance': '0.00000000',\n    'marginAvailable': True,\n    'updateTime': '0'}],\n  'positions': [{'symbol': 'RAYUSDT',\n    'initialMargin': '0',\n    'maintMargin': '0',\n    'unrealizedProfit': '0.00000000',\n    'positionInitialMargin': '0',\n    'openOrderInitialMargin': '0',\n    'leverage': '20',\n    'isolated': False,\n    'entryPrice': '0.0',\n    'maxNotional': '25000',\n    'positionSide': 'LONG',\n    'positionAmt': '0.0',\n    'notional': '0',\n    'isolatedWallet': '0',\n    'updateTime': '0',\n    'bidNotional': '0',\n    'askNotional': '0'},\n   {'symbol': 'RAYUSDT',\n    'initialMargin': '0',\n    'maintMargin': '0',\n    'unrealizedProfit': '0.00000000',\n    'positionInitialMargin': '0',\n    'openOrderInitialMargin': '0',\n    'leverage': '20',\n    'isolated': False,\n    'entryPrice': '0.0',\n    'maxNotional': '25000',\n    'positionSide': 'SHORT',\n    'positionAmt': '0.0',\n    'notional': '0',\n    'isolatedWallet': '0',\n    'updateTime': '0',\n    'bidNotional': '0',\n    'askNotional': '0'},\n   {'symbol': 'API3USDT',\n    'initialMargin': '0',\n    'maintMargin': '0',\n    'unrealizedProfit': '0.00000000',\n    'positionInitialMargin': '0',\n    'openOrderInitialMargin': '0',\n    'leverage': '20',\n    'isolated': False,\n    'entryPrice': '0.0',\n    'maxNotional': '25000',\n    'positionSide': 'LONG',\n    'positionAmt': '0.0',\n    'notional': '0',\n    'isolatedWallet': '0',\n    'updateTime': '0',\n    'bidNotional': '0',\n    'askNotional': '0'},\n   {'symbol': 'API3USDT',\n    'initialMargin': '0',\n    'maintMargin': '0',\n    'unrealizedProfit': '0.00000000',\n    'positionInitialMargin': '0',\n    'openOrderInitialMargin': '0',\n    'leverage': '20',\n    'isolated': False,\n    'entryPrice': '0.0',\n    'maxNotional': '25000',\n    'positionSide': 'SHORT',\n    'positionAmt': '0.0',\n    'notional': '0',\n    'isolatedWallet': '0',\n    'updateTime': '0',\n    'bidNotional': '0',\n    'askNotional': '0'},\n   {'symbol': 'SUSHIUSDT',\n    'initialMargin': '0',\n    'maintMargin': '0',\n    'unrealizedProfit': '0.00000000',\n    'positionInitialMargin': '0',\n    'openOrderInitialMargin': '0',\n    'leverage': '20',\n    'isolated': False,\n    'entryPrice': '0.0',\n    'maxNotional': '25000',\n    'positionSide': 'LONG',\n    'positionAmt': '0',\n    'notional': '0',\n    'isolatedWallet': '0',\n    'updateTime': '0',\n    'bidNotional': '0',\n    'askNotional': '0'},\n   {'symbol': 'SUSHIUSDT',\n    'initialMargin': '0',\n    'maintMargin': '0',\n    'unrealizedProfit': '0.00000000',\n    'positionInitialMargin': '0',\n    'openOrderInitialMargin': '0',\n    'leverage': '20',\n    'isolated': False,\n    'entryPrice': '0.0',\n    'maxNotional': '25000',\n    'positionSide': 'SHORT',\n    'positionAmt': '0',\n    'notional': '0',\n    'isolatedWallet': '0',\n    'updateTime': '0',\n    'bidNotional': '0',\n    'askNotional': '0'},\n   {'symbol': 'CVCUSDT',\n    'initialMargin': '0',\n    'maintMargin': '0',\n    'unrealizedProfit': '0.00000000',\n    'positionInitialMargin': '0',\n    'openOrderInitialMargin': '0',\n    'leverage': '20',\n    'isolated': False,\n    'entryPrice': '0.0',\n    'maxNotional': '25000',\n    'positionSide': 'LONG',\n    'positionAmt': '0',\n    'notional': '0',\n    'isolatedWallet': '0',\n    'updateTime': '0',\n    'bidNotional': '0',\n    'askNotional': '0'},\n   {'symbol': 'CVCUSDT',\n    'initialMargin': '0',\n    'maintMargin': '0',\n    'unrealizedProfit': '0.00000000',\n    'positionInitialMargin': '0',\n    'openOrderInitialMargin': '0',\n    'leverage': '20',\n    'isolated': False,\n    'entryPrice': '0.0',\n    'maxNotional': '25000',\n    'positionSide': 'SHORT',\n    'positionAmt': '0',\n    'notional': '0',\n    'isolatedWallet': '0',\n    'updateTime': '0',\n    'bidNotional': '0',\n    'askNotional': '0'},\n   {'symbol': 'BTSUSDT',\n    'initialMargin': '0',\n    'maintMargin': '0',\n    'unrealizedProfit': '0.00000000',\n    'positionInitialMargin': '0',\n    'openOrderInitialMargin': '0',\n    'leverage': '20',\n    'isolated': False,\n    'entryPrice': '0.0',\n    'maxNotional': '25000',\n    'positionSide': 'LONG',\n    'positionAmt': '0',\n    'notional': '0',\n    'isolatedWallet': '0',\n    'updateTime': '0',\n    'bidNotional': '0',\n    'askNotional': '0'},\n   {'symbol': 'BTSUSDT',\n    'initialMargin': '0',\n    'maintMargin': '0',\n    'unrealizedProfit': '0.00000000',\n    'positionInitialMargin': '0',\n    'openOrderInitialMargin': '0',\n    'leverage': '20',\n    'isolated': False,\n    'entryPrice': '0.0',\n    'maxNotional': '25000',\n    'positionSide': 'SHORT',\n    'positionAmt': '0',\n    'notional': '0',\n    'isolatedWallet': '0',\n    'updateTime': '0',\n    'bidNotional': '0',\n    'askNotional': '0'},\n   {'symbol': 'FTMBUSD',\n    'initialMargin': '0',\n    'maintMargin': '0',\n    'unrealizedProfit': '0.00000000',\n    'positionInitialMargin': '0',\n    'openOrderInitialMargin': '0',\n    'leverage': '20',\n    'isolated': False,\n    'entryPrice': '0.0',\n    'maxNotional': '25000',\n    'positionSide': 'LONG',\n    'positionAmt': '0',\n    'notional': '0',\n    'isolatedWallet': '0',\n    'updateTime': '0',\n    'bidNotional': '0',\n    'askNotional': '0'},\n   {'symbol': 'FTMBUSD',\n    'initialMargin': '0',\n    'maintMargin': '0',\n    'unrealizedProfit': '0.00000000',\n    'positionInitialMargin': '0',\n    'openOrderInitialMargin': '0',\n    'leverage': '20',\n    'isolated': False,\n    'entryPrice': '0.0',\n    'maxNotional': '25000',\n    'positionSide': 'SHORT',\n    'positionAmt': '0',\n    'notional': '0',\n    'isolatedWallet': '0',\n    'updateTime': '0',\n    'bidNotional': '0',\n    'askNotional': '0'},\n   {'symbol': 'BNTUSDT',\n    'initialMargin': '0',\n    'maintMargin': '0',\n    'unrealizedProfit': '0.00000000',\n    'positionInitialMargin': '0',\n    'openOrderInitialMargin': '0',\n    'leverage': '20',\n    'isolated': False,\n    'entryPrice': '0.0',\n    'maxNotional': '5000',\n    'positionSide': 'LONG',\n    'positionAmt': '0',\n    'notional': '0',\n    'isolatedWallet': '0',\n    'updateTime': '0',\n    'bidNotional': '0',\n    'askNotional': '0'},\n   {'symbol': 'BNTUSDT',\n    'initialMargin': '0',\n    'maintMargin': '0',\n    'unrealizedProfit': '0.00000000',\n    'positionInitialMargin': '0',\n    'openOrderInitialMargin': '0',\n    'leverage': '20',\n    'isolated': False,\n    'entryPrice': '0.0',\n    'maxNotional': '5000',\n    'positionSide': 'SHORT',\n    'positionAmt': '0',\n    'notional': '0',\n    'isolatedWallet': '0',\n    'updateTime': '0',\n    'bidNotional': '0',\n    'askNotional': '0'},\n   {'symbol': 'HOTUSDT',\n    'initialMargin': '0',\n    'maintMargin': '0',\n    'unrealizedProfit': '0.00000000',\n    'positionInitialMargin': '0',\n    'openOrderInitialMargin': '0',\n    'leverage': '20',\n    'isolated': False,\n    'entryPrice': '0.0',\n    'maxNotional': '25000',\n    'positionSide': 'LONG',\n    'positionAmt': '0',\n    'notional': '0',\n    'isolatedWallet': '0',\n    'updateTime': '0',\n    'bidNotional': '0',\n    'askNotional': '0'},\n   {'symbol': 'HOTUSDT',\n    'initialMargin': '0',\n    'maintMargin': '0',\n    'unrealizedProfit': '0.00000000',\n    'positionInitialMargin': '0',\n    'openOrderInitialMargin': '0',\n    'leverage': '20',\n    'isolated': False,\n    'entryPrice': '0.0',\n    'maxNotional': '25000',\n    'positionSide': 'SHORT',\n    'positionAmt': '0',\n    'notional': '0',\n    'isolatedWallet': '0',\n    'updateTime': '0',\n    'bidNotional': '0',\n    'askNotional': '0'},\n   {'symbol': 'TRXBUSD',\n    'initialMargin': '0',\n    'maintMargin': '0',\n    'unrealizedProfit': '0.00000000',\n    'positionInitialMargin': '0',\n    'openOrderInitialMargin': '0',\n    'leverage': '20',\n    'isolated': False,\n    'entryPrice': '0.0',\n    'maxNotional': '25000',\n    'positionSide': 'LONG',\n    'positionAmt': '0',\n    'notional': '0',\n    'isolatedWallet': '0',\n    'updateTime': '0',\n    'bidNotional': '0',\n    'askNotional': '0'},\n   {'symbol': 'TRXBUSD',\n    'initialMargin': '0',\n    'maintMargin': '0',\n    'unrealizedProfit': '0.00000000',\n    'positionInitialMargin': '0',\n    'openOrderInitialMargin': '0',\n    'leverage': '20',\n    'isolated': False,\n    'entryPrice': '0.0',\n    'maxNotional': '25000',\n    'positionSide': 'SHORT',\n    'positionAmt': '0',\n    'notional': '0',\n    'isolatedWallet': '0',\n    'updateTime': '0',\n    'bidNotional': '0',\n    'askNotional': '0'},\n   {'symbol': 'ZRXUSDT',\n    'initialMargin': '0',\n    'maintMargin': '0',\n    'unrealizedProfit': '0.00000000',\n    'positionInitialMargin': '0',\n    'openOrderInitialMargin': '0',\n    'leverage': '20',\n    'isolated': False,\n    'entryPrice': '0.0',\n    'maxNotional': '25000',\n    'positionSide': 'LONG',\n    'positionAmt': '0.0',\n    'notional': '0',\n    'isolatedWallet': '0',\n    'updateTime': '0',\n    'bidNotional': '0',\n    'askNotional': '0'},\n   {'symbol': 'ZRXUSDT',\n    'initialMargin': '0',\n    'maintMargin': '0',\n    'unrealizedProfit': '0.00000000',\n    'positionInitialMargin': '0',\n    'openOrderInitialMargin': '0',\n    'leverage': '20',\n    'isolated': False,\n    'entryPrice': '0.0',\n    'maxNotional': '25000',\n    'positionSide': 'SHORT',\n    'positionAmt': '0.0',\n    'notional': '0',\n    'isolatedWallet': '0',\n    'updateTime': '0',\n    'bidNotional': '0',\n    'askNotional': '0'},\n   {'symbol': 'QTUMUSDT',\n    'initialMargin': '0',\n    'maintMargin': '0',\n    'unrealizedProfit': '0.00000000',\n    'positionInitialMargin': '0',\n    'openOrderInitialMargin': '0',\n    'leverage': '20',\n    'isolated': False,\n    'entryPrice': '0.0',\n    'maxNotional': '25000',\n    'positionSide': 'LONG',\n    'positionAmt': '0.0',\n    'notional': '0',\n    'isolatedWallet': '0',\n    'updateTime': '0',\n    'bidNotional': '0',\n    'askNotional': '0'},\n   {'symbol': 'QTUMUSDT',\n    'initialMargin': '0',\n    'maintMargin': '0',\n    'unrealizedProfit': '0.00000000',\n    'positionInitialMargin': '0',\n    'openOrderInitialMargin': '0',\n    'leverage': '20',\n    'isolated': False,\n    'entryPrice': '0.0',\n    'maxNotional': '25000',\n    'positionSide': 'SHORT',\n    'positionAmt': '0.0',\n    'notional': '0',\n    'isolatedWallet': '0',\n    'updateTime': '0',\n    'bidNotional': '0',\n    'askNotional': '0'},\n   {'symbol': 'IOTAUSDT',\n    'initialMargin': '0',\n    'maintMargin': '0',\n    'unrealizedProfit': '0.00000000',\n    'positionInitialMargin': '0',\n    'openOrderInitialMargin': '0',\n    'leverage': '20',\n    'isolated': False,\n    'entryPrice': '0.0',\n    'maxNotional': '25000',\n    'positionSide': 'LONG',\n    'positionAmt': '0.0',\n    'notional': '0',\n    'isolatedWallet': '0',\n    'updateTime': '0',\n    'bidNotional': '0',\n    'askNotional': '0'},\n   {'symbol': 'IOTAUSDT',\n    'initialMargin': '0',\n    'maintMargin': '0',\n    'unrealizedProfit': '0.00000000',\n    'positionInitialMargin': '0',\n    'openOrderInitialMargin': '0',\n    'leverage': '20',\n    'isolated': False,\n    'entryPrice': '0.0',\n    'maxNotional': '25000',\n    'positionSide': 'SHORT',\n    'positionAmt': '0.0',\n    'notional': '0',\n    'isolatedWallet': '0',\n    'updateTime': '0',\n    'bidNotional': '0',\n    'askNotional': '0'},\n   {'symbol': 'BTCBUSD',\n    'initialMargin': '0',\n    'maintMargin': '0',\n    'unrealizedProfit': '0.00000000',\n    'positionInitialMargin': '0',\n    'openOrderInitialMargin': '0',\n    'leverage': '20',\n    'isolated': False,\n    'entryPrice': '0.0',\n    'maxNotional': '100000',\n    'positionSide': 'LONG',\n    'positionAmt': '0.000',\n    'notional': '0',\n    'isolatedWallet': '0',\n    'updateTime': '0',\n    'bidNotional': '0',\n    'askNotional': '0'},\n   {'symbol': 'BTCBUSD',\n    'initialMargin': '0',\n    'maintMargin': '0',\n    'unrealizedProfit': '0.00000000',\n    'positionInitialMargin': '0',\n    'openOrderInitialMargin': '0',\n    'leverage': '20',\n    'isolated': False,\n    'entryPrice': '0.0',\n    'maxNotional': '100000',\n    'positionSide': 'SHORT',\n    'positionAmt': '0.000',\n    'notional': '0',\n    'isolatedWallet': '0',\n    'updateTime': '0',\n    'bidNotional': '0',\n    'askNotional': '0'},\n   {'symbol': 'WAVESUSDT',\n    'initialMargin': '0',\n    'maintMargin': '0',\n    'unrealizedProfit': '0.00000000',\n    'positionInitialMargin': '0',\n    'openOrderInitialMargin': '0',\n    'leverage': '20',\n    'isolated': False,\n    'entryPrice': '0.0',\n    'maxNotional': '25000',\n    'positionSide': 'LONG',\n    'positionAmt': '0.0',\n    'notional': '0',\n    'isolatedWallet': '0',\n    'updateTime': '0',\n    'bidNotional': '0',\n    'askNotional': '0'},\n   {'symbol': 'WAVESUSDT',\n    'initialMargin': '0',\n    'maintMargin': '0',\n    'unrealizedProfit': '0.00000000',\n    'positionInitialMargin': '0',\n    'openOrderInitialMargin': '0',\n    'leverage': '20',\n    'isolated': False,\n    'entryPrice': '0.0',\n    'maxNotional': '25000',\n    'positionSide': 'SHORT',\n    'positionAmt': '0.0',\n    'notional': '0',\n    'isolatedWallet': '0',\n    'updateTime': '0',\n    'bidNotional': '0',\n    'askNotional': '0'},\n   {'symbol': 'ADAUSDT',\n    'initialMargin': '0',\n    'maintMargin': '0',\n    'unrealizedProfit': '0.00000000',\n    'positionInitialMargin': '0',\n    'openOrderInitialMargin': '0',\n    'leverage': '20',\n    'isolated': False,\n    'entryPrice': '0.0',\n    'maxNotional': '250000',\n    'positionSide': 'LONG',\n    'positionAmt': '0',\n    'notional': '0',\n    'isolatedWallet': '0',\n    'updateTime': '0',\n    'bidNotional': '0',\n    'askNotional': '0'},\n   {'symbol': 'ADAUSDT',\n    'initialMargin': '0',\n    'maintMargin': '0',\n    'unrealizedProfit': '0.00000000',\n    'positionInitialMargin': '0',\n    'openOrderInitialMargin': '0',\n    'leverage': '20',\n    'isolated': False,\n    'entryPrice': '0.0',\n    'maxNotional': '250000',\n    'positionSide': 'SHORT',\n    'positionAmt': '0',\n    'notional': '0',\n    'isolatedWallet': '0',\n    'updateTime': '0',\n    'bidNotional': '0',\n    'askNotional': '0'},\n   {'symbol': 'LITUSDT',\n    'initialMargin': '0',\n    'maintMargin': '0',\n    'unrealizedProfit': '0.00000000',\n    'positionInitialMargin': '0',\n    'openOrderInitialMargin': '0',\n    'leverage': '20',\n    'isolated': False,\n    'entryPrice': '0.0',\n    'maxNotional': '25000',\n    'positionSide': 'LONG',\n    'positionAmt': '0.0',\n    'notional': '0',\n    'isolatedWallet': '0',\n    'updateTime': '0',\n    'bidNotional': '0',\n    'askNotional': '0'},\n   {'symbol': 'LITUSDT',\n    'initialMargin': '0',\n    'maintMargin': '0',\n    'unrealizedProfit': '0.00000000',\n    'positionInitialMargin': '0',\n    'openOrderInitialMargin': '0',\n    'leverage': '20',\n    'isolated': False,\n    'entryPrice': '0.0',\n    'maxNotional': '25000',\n    'positionSide': 'SHORT',\n    'positionAmt': '0.0',\n    'notional': '0',\n    'isolatedWallet': '0',\n    'updateTime': '0',\n    'bidNotional': '0',\n    'askNotional': '0'},\n   {'symbol': 'XTZUSDT',\n    'initialMargin': '0',\n    'maintMargin': '0',\n    'unrealizedProfit': '0.00000000',\n    'positionInitialMargin': '0',\n    'openOrderInitialMargin': '0',\n    'leverage': '20',\n    'isolated': False,\n    'entryPrice': '0.0',\n    'maxNotional': '250000',\n    'positionSide': 'LONG',\n    'positionAmt': '0.0',\n    'notional': '0',\n    'isolatedWallet': '0',\n    'updateTime': '0',\n    'bidNotional': '0',\n    'askNotional': '0'},\n   {'symbol': 'XTZUSDT',\n    'initialMargin': '0',\n    'maintMargin': '0',\n    'unrealizedProfit': '0.00000000',\n    'positionInitialMargin': '0',\n    'openOrderInitialMargin': '0',\n    'leverage': '20',\n    'isolated': False,\n    'entryPrice': '0.0',\n    'maxNotional': '250000',\n    'positionSide': 'SHORT',\n    'positionAmt': '0.0',\n    'notional': '0',\n    'isolatedWallet': '0',\n    'updateTime': '0',\n    'bidNotional': '0',\n    'askNotional': '0'},\n   {'symbol': 'BNBUSDT',\n    'initialMargin': '0',\n    'maintMargin': '0',\n    'unrealizedProfit': '0.00000000',\n    'positionInitialMargin': '0',\n    'openOrderInitialMargin': '0',\n    'leverage': '20',\n    'isolated': False,\n    'entryPrice': '0.0',\n    'maxNotional': '250000',\n    'positionSide': 'LONG',\n    'positionAmt': '0.00',\n    'notional': '0',\n    'isolatedWallet': '0',\n    'updateTime': '0',\n    'bidNotional': '0',\n    'askNotional': '0'},\n   {'symbol': 'BNBUSDT',\n    'initialMargin': '0',\n    'maintMargin': '0',\n    'unrealizedProfit': '0.00000000',\n    'positionInitialMargin': '0',\n    'openOrderInitialMargin': '0',\n    'leverage': '20',\n    'isolated': False,\n    'entryPrice': '0.0',\n    'maxNotional': '250000',\n    'positionSide': 'SHORT',\n    'positionAmt': '0.00',\n    'notional': '0',\n    'isolatedWallet': '0',\n    'updateTime': '0',\n    'bidNotional': '0',\n    'askNotional': '0'},\n   {'symbol': 'DARUSDT',\n    'initialMargin': '0',\n    'maintMargin': '0',\n    'unrealizedProfit': '0.00000000',\n    'positionInitialMargin': '0',\n    'openOrderInitialMargin': '0',\n    'leverage': '20',\n    'isolated': False,\n    'entryPrice': '0.0',\n    'maxNotional': '25000',\n    'positionSide': 'LONG',\n    'positionAmt': '0.0',\n    'notional': '0',\n    'isolatedWallet': '0',\n    'updateTime': '0',\n    'bidNotional': '0',\n    'askNotional': '0'},\n   {'symbol': 'DARUSDT',\n    'initialMargin': '0',\n    'maintMargin': '0',\n    'unrealizedProfit': '0.00000000',\n    'positionInitialMargin': '0',\n    'openOrderInitialMargin': '0',\n    'leverage': '20',\n    'isolated': False,\n    'entryPrice': '0.0',\n    'maxNotional': '25000',\n    'positionSide': 'SHORT',\n    'positionAmt': '0.0',\n    'notional': '0',\n    'isolatedWallet': '0',\n    'updateTime': '0',\n    'bidNotional': '0',\n    'askNotional': '0'},\n   {'symbol': 'HNTUSDT',\n    'initialMargin': '0',\n    'maintMargin': '0',\n    'unrealizedProfit': '0.00000000',\n    'positionInitialMargin': '0',\n    'openOrderInitialMargin': '0',\n    'leverage': '20',\n    'isolated': False,\n    'entryPrice': '0.0',\n    'maxNotional': '25000',\n    'positionSide': 'LONG',\n    'positionAmt': '0',\n    'notional': '0',\n    'isolatedWallet': '0',\n    'updateTime': '0',\n    'bidNotional': '0',\n    'askNotional': '0'},\n   {'symbol': 'HNTUSDT',\n    'initialMargin': '0',\n    'maintMargin': '0',\n    'unrealizedProfit': '0.00000000',\n    'positionInitialMargin': '0',\n    'openOrderInitialMargin': '0',\n    'leverage': '20',\n    'isolated': False,\n    'entryPrice': '0.0',\n    'maxNotional': '25000',\n    'positionSide': 'SHORT',\n    'positionAmt': '0',\n    'notional': '0',\n    'isolatedWallet': '0',\n    'updateTime': '0',\n    'bidNotional': '0',\n    'askNotional': '0'},\n   {'symbol': 'ETCUSDT',\n    'initialMargin': '0',\n    'maintMargin': '0',\n    'unrealizedProfit': '0.00000000',\n    'positionInitialMargin': '0',\n    'openOrderInitialMargin': '0',\n    'leverage': '20',\n    'isolated': False,\n    'entryPrice': '0.0',\n    'maxNotional': '250000',\n    'positionSide': 'LONG',\n    'positionAmt': '0.00',\n    'notional': '0',\n    'isolatedWallet': '0',\n    'updateTime': '0',\n    'bidNotional': '0',\n    'askNotional': '0'},\n   {'symbol': 'ETCUSDT',\n    'initialMargin': '0',\n    'maintMargin': '0',\n    'unrealizedProfit': '0.00000000',\n    'positionInitialMargin': '0',\n    'openOrderInitialMargin': '0',\n    'leverage': '20',\n    'isolated': False,\n    'entryPrice': '0.0',\n    'maxNotional': '250000',\n    'positionSide': 'SHORT',\n    'positionAmt': '0.00',\n    'notional': '0',\n    'isolatedWallet': '0',\n    'updateTime': '0',\n    'bidNotional': '0',\n    'askNotional': '0'},\n   {'symbol': 'XMRUSDT',\n    'initialMargin': '0',\n    'maintMargin': '0',\n    'unrealizedProfit': '0.00000000',\n    'positionInitialMargin': '0',\n    'openOrderInitialMargin': '0',\n    'leverage': '20',\n    'isolated': False,\n    'entryPrice': '0.0',\n    'maxNotional': '250000',\n    'positionSide': 'LONG',\n    'positionAmt': '0.000',\n    'notional': '0',\n    'isolatedWallet': '0',\n    'updateTime': '0',\n    'bidNotional': '0',\n    'askNotional': '0'},\n   {'symbol': 'XMRUSDT',\n    'initialMargin': '0',\n    'maintMargin': '0',\n    'unrealizedProfit': '0.00000000',\n    'positionInitialMargin': '0',\n    'openOrderInitialMargin': '0',\n    'leverage': '20',\n    'isolated': False,\n    'entryPrice': '0.0',\n    'maxNotional': '250000',\n    'positionSide': 'SHORT',\n    'positionAmt': '0.000',\n    'notional': '0',\n    'isolatedWallet': '0',\n    'updateTime': '0',\n    'bidNotional': '0',\n    'askNotional': '0'},\n   {'symbol': 'YFIUSDT',\n    'initialMargin': '0',\n    'maintMargin': '0',\n    'unrealizedProfit': '0.00000000',\n    'positionInitialMargin': '0',\n    'openOrderInitialMargin': '0',\n    'leverage': '20',\n    'isolated': False,\n    'entryPrice': '0.0',\n    'maxNotional': '25000',\n    'positionSide': 'LONG',\n    'positionAmt': '0.000',\n    'notional': '0',\n    'isolatedWallet': '0',\n    'updateTime': '0',\n    'bidNotional': '0',\n    'askNotional': '0'},\n   {'symbol': 'YFIUSDT',\n    'initialMargin': '0',\n    'maintMargin': '0',\n    'unrealizedProfit': '0.00000000',\n    'positionInitialMargin': '0',\n    'openOrderInitialMargin': '0',\n    'leverage': '20',\n    'isolated': False,\n    'entryPrice': '0.0',\n    'maxNotional': '25000',\n    'positionSide': 'SHORT',\n    'positionAmt': '0.000',\n    'notional': '0',\n    'isolatedWallet': '0',\n    'updateTime': '0',\n    'bidNotional': '0',\n    'askNotional': '0'},\n   {'symbol': 'FTTBUSD',\n    'initialMargin': '0',\n    'maintMargin': '0',\n    'unrealizedProfit': '0.00000000',\n    'positionInitialMargin': '0',\n    'openOrderInitialMargin': '0',\n    'leverage': '20',\n    'isolated': False,\n    'entryPrice': '0.0',\n    'maxNotional': '100000',\n    'positionSide': 'LONG',\n    'positionAmt': '0.0',\n    'notional': '0',\n    'isolatedWallet': '0',\n    'updateTime': '0',\n    'bidNotional': '0',\n    'askNotional': '0'},\n   {'symbol': 'FTTBUSD',\n    'initialMargin': '0',\n    'maintMargin': '0',\n    'unrealizedProfit': '0.00000000',\n    'positionInitialMargin': '0',\n    'openOrderInitialMargin': '0',\n    'leverage': '20',\n    'isolated': False,\n    'entryPrice': '0.0',\n    'maxNotional': '100000',\n    'positionSide': 'SHORT',\n    'positionAmt': '0.0',\n    'notional': '0',\n    'isolatedWallet': '0',\n    'updateTime': '0',\n    'bidNotional': '0',\n    'askNotional': '0'},\n   {'symbol': 'ETHUSDT',\n    'initialMargin': '0',\n    'maintMargin': '0',\n    'unrealizedProfit': '0.00000000',\n    'positionInitialMargin': '0',\n    'openOrderInitialMargin': '0',\n    'leverage': '50',\n    'isolated': True,\n    'entryPrice': '0.0',\n    'maxNotional': '500000',\n    'positionSide': 'LONG',\n    'positionAmt': '0.000',\n    'notional': '0',\n    'isolatedWallet': '0',\n    'updateTime': '1653478027011',\n    'bidNotional': '0',\n    'askNotional': '0'},\n   {'symbol': 'ETHUSDT',\n    'initialMargin': '0',\n    'maintMargin': '0',\n    'unrealizedProfit': '0.00000000',\n    'positionInitialMargin': '0',\n    'openOrderInitialMargin': '0',\n    'leverage': '50',\n    'isolated': True,\n    'entryPrice': '0.0',\n    'maxNotional': '500000',\n    'positionSide': 'SHORT',\n    'positionAmt': '0.000',\n    'notional': '0',\n    'isolatedWallet': '0',\n    'updateTime': '1653429162632',\n    'bidNotional': '0',\n    'askNotional': '0'},\n   {'symbol': 'ALICEUSDT',\n    'initialMargin': '0',\n    'maintMargin': '0',\n    'unrealizedProfit': '0.00000000',\n    'positionInitialMargin': '0',\n    'openOrderInitialMargin': '0',\n    'leverage': '20',\n    'isolated': False,\n    'entryPrice': '0.0',\n    'maxNotional': '25000',\n    'positionSide': 'LONG',\n    'positionAmt': '0.0',\n    'notional': '0',\n    'isolatedWallet': '0',\n    'updateTime': '0',\n    'bidNotional': '0',\n    'askNotional': '0'},\n   {'symbol': 'ALICEUSDT',\n    'initialMargin': '0',\n    'maintMargin': '0',\n    'unrealizedProfit': '0.00000000',\n    'positionInitialMargin': '0',\n    'openOrderInitialMargin': '0',\n    'leverage': '20',\n    'isolated': False,\n    'entryPrice': '0.0',\n    'maxNotional': '25000',\n    'positionSide': 'SHORT',\n    'positionAmt': '0.0',\n    'notional': '0',\n    'isolatedWallet': '0',\n    'updateTime': '0',\n    'bidNotional': '0',\n    'askNotional': '0'},\n   {'symbol': 'ALPHAUSDT',\n    'initialMargin': '0',\n    'maintMargin': '0',\n    'unrealizedProfit': '0.00000000',\n    'positionInitialMargin': '0',\n    'openOrderInitialMargin': '0',\n    'leverage': '20',\n    'isolated': False,\n    'entryPrice': '0.0',\n    'maxNotional': '25000',\n    'positionSide': 'LONG',\n    'positionAmt': '0',\n    'notional': '0',\n    'isolatedWallet': '0',\n    'updateTime': '0',\n    'bidNotional': '0',\n    'askNotional': '0'},\n   {'symbol': 'ALPHAUSDT',\n    'initialMargin': '0',\n    'maintMargin': '0',\n    'unrealizedProfit': '0.00000000',\n    'positionInitialMargin': '0',\n    'openOrderInitialMargin': '0',\n    'leverage': '20',\n    'isolated': False,\n    'entryPrice': '0.0',\n    'maxNotional': '25000',\n    'positionSide': 'SHORT',\n    'positionAmt': '0',\n    'notional': '0',\n    'isolatedWallet': '0',\n    'updateTime': '0',\n    'bidNotional': '0',\n    'askNotional': '0'},\n   {'symbol': 'WOOUSDT',\n    'initialMargin': '0',\n    'maintMargin': '0',\n    'unrealizedProfit': '0.00000000',\n    'positionInitialMargin': '0',\n    'openOrderInitialMargin': '0',\n    'leverage': '20',\n    'isolated': False,\n    'entryPrice': '0.0',\n    'maxNotional': '25000',\n    'positionSide': 'LONG',\n    'positionAmt': '0',\n    'notional': '0',\n    'isolatedWallet': '0',\n    'updateTime': '0',\n    'bidNotional': '0',\n    'askNotional': '0'},\n   {'symbol': 'WOOUSDT',\n    'initialMargin': '0',\n    'maintMargin': '0',\n    'unrealizedProfit': '0.00000000',\n    'positionInitialMargin': '0',\n    'openOrderInitialMargin': '0',\n    'leverage': '20',\n    'isolated': False,\n    'entryPrice': '0.0',\n    'maxNotional': '25000',\n    'positionSide': 'SHORT',\n    'positionAmt': '0',\n    'notional': '0',\n    'isolatedWallet': '0',\n    'updateTime': '0',\n    'bidNotional': '0',\n    'askNotional': '0'},\n   {'symbol': 'SFPUSDT',\n    'initialMargin': '0',\n    'maintMargin': '0',\n    'unrealizedProfit': '0.00000000',\n    'positionInitialMargin': '0',\n    'openOrderInitialMargin': '0',\n    'leverage': '20',\n    'isolated': False,\n    'entryPrice': '0.0',\n    'maxNotional': '25000',\n    'positionSide': 'LONG',\n    'positionAmt': '0',\n    'notional': '0',\n    'isolatedWallet': '0',\n    'updateTime': '0',\n    'bidNotional': '0',\n    'askNotional': '0'},\n   {'symbol': 'SFPUSDT',\n    'initialMargin': '0',\n    'maintMargin': '0',\n    'unrealizedProfit': '0.00000000',\n    'positionInitialMargin': '0',\n    'openOrderInitialMargin': '0',\n    'leverage': '20',\n    'isolated': False,\n    'entryPrice': '0.0',\n    'maxNotional': '25000',\n    'positionSide': 'SHORT',\n    'positionAmt': '0',\n    'notional': '0',\n    'isolatedWallet': '0',\n    'updateTime': '0',\n    'bidNotional': '0',\n    'askNotional': '0'},\n   {'symbol': 'REEFUSDT',\n    'initialMargin': '0',\n    'maintMargin': '0',\n    'unrealizedProfit': '0.00000000',\n    'positionInitialMargin': '0',\n    'openOrderInitialMargin': '0',\n    'leverage': '20',\n    'isolated': False,\n    'entryPrice': '0.0',\n    'maxNotional': '25000',\n    'positionSide': 'LONG',\n    'positionAmt': '0',\n    'notional': '0',\n    'isolatedWallet': '0',\n    'updateTime': '0',\n    'bidNotional': '0',\n    'askNotional': '0'},\n   {'symbol': 'REEFUSDT',\n    'initialMargin': '0',\n    'maintMargin': '0',\n    'unrealizedProfit': '0.00000000',\n    'positionInitialMargin': '0',\n    'openOrderInitialMargin': '0',\n    'leverage': '20',\n    'isolated': False,\n    'entryPrice': '0.0',\n    'maxNotional': '25000',\n    'positionSide': 'SHORT',\n    'positionAmt': '0',\n    'notional': '0',\n    'isolatedWallet': '0',\n    'updateTime': '0',\n    'bidNotional': '0',\n    'askNotional': '0'},\n   {'symbol': 'BATUSDT',\n    'initialMargin': '0',\n    'maintMargin': '0',\n    'unrealizedProfit': '0.00000000',\n    'positionInitialMargin': '0',\n    'openOrderInitialMargin': '0',\n    'leverage': '20',\n    'isolated': False,\n    'entryPrice': '0.0',\n    'maxNotional': '25000',\n    'positionSide': 'LONG',\n    'positionAmt': '0.0',\n    'notional': '0',\n    'isolatedWallet': '0',\n    'updateTime': '0',\n    'bidNotional': '0',\n    'askNotional': '0'},\n   {'symbol': 'BATUSDT',\n    'initialMargin': '0',\n    'maintMargin': '0',\n    'unrealizedProfit': '0.00000000',\n    'positionInitialMargin': '0',\n    'openOrderInitialMargin': '0',\n    'leverage': '20',\n    'isolated': False,\n    'entryPrice': '0.0',\n    'maxNotional': '25000',\n    'positionSide': 'SHORT',\n    'positionAmt': '0.0',\n    'notional': '0',\n    'isolatedWallet': '0',\n    'updateTime': '0',\n    'bidNotional': '0',\n    'askNotional': '0'},\n   {'symbol': 'DOGEUSDT',\n    'initialMargin': '0',\n    'maintMargin': '0',\n    'unrealizedProfit': '0.00000000',\n    'positionInitialMargin': '0',\n    'openOrderInitialMargin': '0',\n    'leverage': '20',\n    'isolated': False,\n    'entryPrice': '0.0',\n    'maxNotional': '25000',\n    'positionSide': 'LONG',\n    'positionAmt': '0',\n    'notional': '0',\n    'isolatedWallet': '0',\n    'updateTime': '0',\n    'bidNotional': '0',\n    'askNotional': '0'},\n   {'symbol': 'DOGEUSDT',\n    'initialMargin': '0',\n    'maintMargin': '0',\n    'unrealizedProfit': '0.00000000',\n    'positionInitialMargin': '0',\n    'openOrderInitialMargin': '0',\n    'leverage': '20',\n    'isolated': False,\n    'entryPrice': '0.0',\n    'maxNotional': '25000',\n    'positionSide': 'SHORT',\n    'positionAmt': '0',\n    'notional': '0',\n    'isolatedWallet': '0',\n    'updateTime': '0',\n    'bidNotional': '0',\n    'askNotional': '0'},\n   {'symbol': 'TRXUSDT',\n    'initialMargin': '0',\n    'maintMargin': '0',\n    'unrealizedProfit': '0.00000000',\n    'positionInitialMargin': '0',\n    'openOrderInitialMargin': '0',\n    'leverage': '20',\n    'isolated': False,\n    'entryPrice': '0.0',\n    'maxNotional': '250000',\n    'positionSide': 'LONG',\n    'positionAmt': '0',\n    'notional': '0',\n    'isolatedWallet': '0',\n    'updateTime': '0',\n    'bidNotional': '0',\n    'askNotional': '0'},\n   {'symbol': 'TRXUSDT',\n    'initialMargin': '0',\n    'maintMargin': '0',\n    'unrealizedProfit': '0.00000000',\n    'positionInitialMargin': '0',\n    'openOrderInitialMargin': '0',\n    'leverage': '20',\n    'isolated': False,\n    'entryPrice': '0.0',\n    'maxNotional': '250000',\n    'positionSide': 'SHORT',\n    'positionAmt': '0',\n    'notional': '0',\n    'isolatedWallet': '0',\n    'updateTime': '0',\n    'bidNotional': '0',\n    'askNotional': '0'},\n   {'symbol': 'RLCUSDT',\n    'initialMargin': '0',\n    'maintMargin': '0',\n    'unrealizedProfit': '0.00000000',\n    'positionInitialMargin': '0',\n    'openOrderInitialMargin': '0',\n    'leverage': '20',\n    'isolated': False,\n    'entryPrice': '0.0',\n    'maxNotional': '25000',\n    'positionSide': 'LONG',\n    'positionAmt': '0.0',\n    'notional': '0',\n    'isolatedWallet': '0',\n    'updateTime': '0',\n    'bidNotional': '0',\n    'askNotional': '0'},\n   {'symbol': 'RLCUSDT',\n    'initialMargin': '0',\n    'maintMargin': '0',\n    'unrealizedProfit': '0.00000000',\n    'positionInitialMargin': '0',\n    'openOrderInitialMargin': '0',\n    'leverage': '20',\n    'isolated': False,\n    'entryPrice': '0.0',\n    'maxNotional': '25000',\n    'positionSide': 'SHORT',\n    'positionAmt': '0.0',\n    'notional': '0',\n    'isolatedWallet': '0',\n    'updateTime': '0',\n    'bidNotional': '0',\n    'askNotional': '0'},\n   {'symbol': 'BTCSTUSDT',\n    'initialMargin': '0',\n    'maintMargin': '0',\n    'unrealizedProfit': '0.00000000',\n    'positionInitialMargin': '0',\n    'openOrderInitialMargin': '0',\n    'leverage': '20',\n    'isolated': False,\n    'entryPrice': '0.0',\n    'maxNotional': '25000',\n    'positionSide': 'LONG',\n    'positionAmt': '0.0',\n    'notional': '0',\n    'isolatedWallet': '0',\n    'updateTime': '0',\n    'bidNotional': '0',\n    'askNotional': '0'},\n   {'symbol': 'BTCSTUSDT',\n    'initialMargin': '0',\n    'maintMargin': '0',\n    'unrealizedProfit': '0.00000000',\n    'positionInitialMargin': '0',\n    'openOrderInitialMargin': '0',\n    'leverage': '20',\n    'isolated': False,\n    'entryPrice': '0.0',\n    'maxNotional': '25000',\n    'positionSide': 'SHORT',\n    'positionAmt': '0.0',\n    'notional': '0',\n    'isolatedWallet': '0',\n    'updateTime': '0',\n    'bidNotional': '0',\n    'askNotional': '0'},\n   {'symbol': 'STORJUSDT',\n    'initialMargin': '0',\n    'maintMargin': '0',\n    'unrealizedProfit': '0.00000000',\n    'positionInitialMargin': '0',\n    'openOrderInitialMargin': '0',\n    'leverage': '20',\n    'isolated': False,\n    'entryPrice': '0.0',\n    'maxNotional': '25000',\n    'positionSide': 'LONG',\n    'positionAmt': '0',\n    'notional': '0',\n    'isolatedWallet': '0',\n    'updateTime': '0',\n    'bidNotional': '0',\n    'askNotional': '0'},\n   {'symbol': 'STORJUSDT',\n    'initialMargin': '0',\n    'maintMargin': '0',\n    'unrealizedProfit': '0.00000000',\n    'positionInitialMargin': '0',\n    'openOrderInitialMargin': '0',\n    'leverage': '20',\n    'isolated': False,\n    'entryPrice': '0.0',\n    'maxNotional': '25000',\n    'positionSide': 'SHORT',\n    'positionAmt': '0',\n    'notional': '0',\n    'isolatedWallet': '0',\n    'updateTime': '0',\n    'bidNotional': '0',\n    'askNotional': '0'},\n   {'symbol': 'SNXUSDT',\n    'initialMargin': '0',\n    'maintMargin': '0',\n    'unrealizedProfit': '0.00000000',\n    'positionInitialMargin': '0',\n    'openOrderInitialMargin': '0',\n    'leverage': '20',\n    'isolated': False,\n    'entryPrice': '0.0',\n    'maxNotional': '25000',\n    'positionSide': 'LONG',\n    'positionAmt': '0.0',\n    'notional': '0',\n    'isolatedWallet': '0',\n    'updateTime': '0',\n    'bidNotional': '0',\n    'askNotional': '0'},\n   {'symbol': 'SNXUSDT',\n    'initialMargin': '0',\n    'maintMargin': '0',\n    'unrealizedProfit': '0.00000000',\n    'positionInitialMargin': '0',\n    'openOrderInitialMargin': '0',\n    'leverage': '20',\n    'isolated': False,\n    'entryPrice': '0.0',\n    'maxNotional': '25000',\n    'positionSide': 'SHORT',\n    'positionAmt': '0.0',\n    'notional': '0',\n    'isolatedWallet': '0',\n    'updateTime': '0',\n    'bidNotional': '0',\n    'askNotional': '0'},\n   {'symbol': '1000XECUSDT',\n    'initialMargin': '0',\n    'maintMargin': '0',\n    'unrealizedProfit': '0.00000000',\n    'positionInitialMargin': '0',\n    'openOrderInitialMargin': '0',\n    'leverage': '20',\n    'isolated': False,\n    'entryPrice': '0.0',\n    'maxNotional': '25000',\n    'positionSide': 'LONG',\n    'positionAmt': '0',\n    'notional': '0',\n    'isolatedWallet': '0',\n    'updateTime': '0',\n    'bidNotional': '0',\n    'askNotional': '0'},\n   {'symbol': '1000XECUSDT',\n    'initialMargin': '0',\n    'maintMargin': '0',\n    'unrealizedProfit': '0.00000000',\n    'positionInitialMargin': '0',\n    'openOrderInitialMargin': '0',\n    'leverage': '20',\n    'isolated': False,\n    'entryPrice': '0.0',\n    'maxNotional': '25000',\n    'positionSide': 'SHORT',\n    'positionAmt': '0',\n    'notional': '0',\n    'isolatedWallet': '0',\n    'updateTime': '0',\n    'bidNotional': '0',\n    'askNotional': '0'},\n   {'symbol': 'AUDIOUSDT',\n    'initialMargin': '0',\n    'maintMargin': '0',\n    'unrealizedProfit': '0.00000000',\n    'positionInitialMargin': '0',\n    'openOrderInitialMargin': '0',\n    'leverage': '20',\n    'isolated': False,\n    'entryPrice': '0.0',\n    'maxNotional': '25000',\n    'positionSide': 'LONG',\n    'positionAmt': '0',\n    'notional': '0',\n    'isolatedWallet': '0',\n    'updateTime': '0',\n    'bidNotional': '0',\n    'askNotional': '0'},\n   {'symbol': 'AUDIOUSDT',\n    'initialMargin': '0',\n    'maintMargin': '0',\n    'unrealizedProfit': '0.00000000',\n    'positionInitialMargin': '0',\n    'openOrderInitialMargin': '0',\n    'leverage': '20',\n    'isolated': False,\n    'entryPrice': '0.0',\n    'maxNotional': '25000',\n    'positionSide': 'SHORT',\n    'positionAmt': '0',\n    'notional': '0',\n    'isolatedWallet': '0',\n    'updateTime': '0',\n    'bidNotional': '0',\n    'askNotional': '0'},\n   {'symbol': 'NEARBUSD',\n    'initialMargin': '0',\n    'maintMargin': '0',\n    'unrealizedProfit': '0.00000000',\n    'positionInitialMargin': '0',\n    'openOrderInitialMargin': '0',\n    'leverage': '20',\n    'isolated': False,\n    'entryPrice': '0.0',\n    'maxNotional': '25000',\n    'positionSide': 'LONG',\n    'positionAmt': '0.0',\n    'notional': '0',\n    'isolatedWallet': '0',\n    'updateTime': '0',\n    'bidNotional': '0',\n    'askNotional': '0'},\n   {'symbol': 'NEARBUSD',\n    'initialMargin': '0',\n    'maintMargin': '0',\n    'unrealizedProfit': '0.00000000',\n    'positionInitialMargin': '0',\n    'openOrderInitialMargin': '0',\n    'leverage': '20',\n    'isolated': False,\n    'entryPrice': '0.0',\n    'maxNotional': '25000',\n    'positionSide': 'SHORT',\n    'positionAmt': '0.0',\n    'notional': '0',\n    'isolatedWallet': '0',\n    'updateTime': '0',\n    'bidNotional': '0',\n    'askNotional': '0'},\n   {'symbol': 'XLMUSDT',\n    'initialMargin': '0',\n    'maintMargin': '0',\n    'unrealizedProfit': '0.00000000',\n    'positionInitialMargin': '0',\n    'openOrderInitialMargin': '0',\n    'leverage': '20',\n    'isolated': False,\n    'entryPrice': '0.0',\n    'maxNotional': '250000',\n    'positionSide': 'LONG',\n    'positionAmt': '0',\n    'notional': '0',\n    'isolatedWallet': '0',\n    'updateTime': '0',\n    'bidNotional': '0',\n    'askNotional': '0'},\n   {'symbol': 'XLMUSDT',\n    'initialMargin': '0',\n    'maintMargin': '0',\n    'unrealizedProfit': '0.00000000',\n    'positionInitialMargin': '0',\n    'openOrderInitialMargin': '0',\n    'leverage': '20',\n    'isolated': False,\n    'entryPrice': '0.0',\n    'maxNotional': '250000',\n    'positionSide': 'SHORT',\n    'positionAmt': '0',\n    'notional': '0',\n    'isolatedWallet': '0',\n    'updateTime': '0',\n    'bidNotional': '0',\n    'askNotional': '0'},\n   {'symbol': 'APEBUSD',\n    'initialMargin': '0',\n    'maintMargin': '0',\n    'unrealizedProfit': '0.00000000',\n    'positionInitialMargin': '0',\n    'openOrderInitialMargin': '0',\n    'leverage': '20',\n    'isolated': False,\n    'entryPrice': '0.0',\n    'maxNotional': '25000',\n    'positionSide': 'LONG',\n    'positionAmt': '0.0',\n    'notional': '0',\n    'isolatedWallet': '0',\n    'updateTime': '0',\n    'bidNotional': '0',\n    'askNotional': '0'},\n   {'symbol': 'APEBUSD',\n    'initialMargin': '0',\n    'maintMargin': '0',\n    'unrealizedProfit': '0.00000000',\n    'positionInitialMargin': '0',\n    'openOrderInitialMargin': '0',\n    'leverage': '20',\n    'isolated': False,\n    'entryPrice': '0.0',\n    'maxNotional': '25000',\n    'positionSide': 'SHORT',\n    'positionAmt': '0.0',\n    'notional': '0',\n    'isolatedWallet': '0',\n    'updateTime': '0',\n    'bidNotional': '0',\n    'askNotional': '0'},\n   {'symbol': 'IOTXUSDT',\n    'initialMargin': '0',\n    'maintMargin': '0',\n    'unrealizedProfit': '0.00000000',\n    'positionInitialMargin': '0',\n    'openOrderInitialMargin': '0',\n    'leverage': '20',\n    'isolated': False,\n    'entryPrice': '0.0',\n    'maxNotional': '25000',\n    'positionSide': 'LONG',\n    'positionAmt': '0',\n    'notional': '0',\n    'isolatedWallet': '0',\n    'updateTime': '0',\n    'bidNotional': '0',\n    'askNotional': '0'},\n   {'symbol': 'IOTXUSDT',\n    'initialMargin': '0',\n    'maintMargin': '0',\n    'unrealizedProfit': '0.00000000',\n    'positionInitialMargin': '0',\n    'openOrderInitialMargin': '0',\n    'leverage': '20',\n    'isolated': False,\n    'entryPrice': '0.0',\n    'maxNotional': '25000',\n    'positionSide': 'SHORT',\n    'positionAmt': '0',\n    'notional': '0',\n    'isolatedWallet': '0',\n    'updateTime': '0',\n    'bidNotional': '0',\n    'askNotional': '0'},\n   {'symbol': 'NEOUSDT',\n    'initialMargin': '0',\n    'maintMargin': '0',\n    'unrealizedProfit': '0.00000000',\n    'positionInitialMargin': '0',\n    'openOrderInitialMargin': '0',\n    'leverage': '20',\n    'isolated': False,\n    'entryPrice': '0.0',\n    'maxNotional': '25000',\n    'positionSide': 'LONG',\n    'positionAmt': '0.00',\n    'notional': '0',\n    'isolatedWallet': '0',\n    'updateTime': '0',\n    'bidNotional': '0',\n    'askNotional': '0'},\n   {'symbol': 'NEOUSDT',\n    'initialMargin': '0',\n    'maintMargin': '0',\n    'unrealizedProfit': '0.00000000',\n    'positionInitialMargin': '0',\n    'openOrderInitialMargin': '0',\n    'leverage': '20',\n    'isolated': False,\n    'entryPrice': '0.0',\n    'maxNotional': '25000',\n    'positionSide': 'SHORT',\n    'positionAmt': '0.00',\n    'notional': '0',\n    'isolatedWallet': '0',\n    'updateTime': '0',\n    'bidNotional': '0',\n    'askNotional': '0'},\n   {'symbol': 'UNFIUSDT',\n    'initialMargin': '0',\n    'maintMargin': '0',\n    'unrealizedProfit': '0.00000000',\n    'positionInitialMargin': '0',\n    'openOrderInitialMargin': '0',\n    'leverage': '20',\n    'isolated': False,\n    'entryPrice': '0.0',\n    'maxNotional': '25000',\n    'positionSide': 'LONG',\n    'positionAmt': '0.0',\n    'notional': '0',\n    'isolatedWallet': '0',\n    'updateTime': '0',\n    'bidNotional': '0',\n    'askNotional': '0'},\n   {'symbol': 'UNFIUSDT',\n    'initialMargin': '0',\n    'maintMargin': '0',\n    'unrealizedProfit': '0.00000000',\n    'positionInitialMargin': '0',\n    'openOrderInitialMargin': '0',\n    'leverage': '20',\n    'isolated': False,\n    'entryPrice': '0.0',\n    'maxNotional': '25000',\n    'positionSide': 'SHORT',\n    'positionAmt': '0.0',\n    'notional': '0',\n    'isolatedWallet': '0',\n    'updateTime': '0',\n    'bidNotional': '0',\n    'askNotional': '0'},\n   {'symbol': 'SANDUSDT',\n    'initialMargin': '0',\n    'maintMargin': '0',\n    'unrealizedProfit': '0.00000000',\n    'positionInitialMargin': '0',\n    'openOrderInitialMargin': '0',\n    'leverage': '20',\n    'isolated': False,\n    'entryPrice': '0.0',\n    'maxNotional': '25000',\n    'positionSide': 'LONG',\n    'positionAmt': '0',\n    'notional': '0',\n    'isolatedWallet': '0',\n    'updateTime': '0',\n    'bidNotional': '0',\n    'askNotional': '0'},\n   {'symbol': 'SANDUSDT',\n    'initialMargin': '0',\n    'maintMargin': '0',\n    'unrealizedProfit': '0.00000000',\n    'positionInitialMargin': '0',\n    'openOrderInitialMargin': '0',\n    'leverage': '20',\n    'isolated': False,\n    'entryPrice': '0.0',\n    'maxNotional': '25000',\n    'positionSide': 'SHORT',\n    'positionAmt': '0',\n    'notional': '0',\n    'isolatedWallet': '0',\n    'updateTime': '0',\n    'bidNotional': '0',\n    'askNotional': '0'},\n   {'symbol': 'DASHUSDT',\n    'initialMargin': '0',\n    'maintMargin': '0',\n    'unrealizedProfit': '0.00000000',\n    'positionInitialMargin': '0',\n    'openOrderInitialMargin': '0',\n    'leverage': '20',\n    'isolated': False,\n    'entryPrice': '0.0',\n    'maxNotional': '25000',\n    'positionSide': 'LONG',\n    'positionAmt': '0.000',\n    'notional': '0',\n    'isolatedWallet': '0',\n    'updateTime': '0',\n    'bidNotional': '0',\n    'askNotional': '0'},\n   {'symbol': 'DASHUSDT',\n    'initialMargin': '0',\n    'maintMargin': '0',\n    'unrealizedProfit': '0.00000000',\n    'positionInitialMargin': '0',\n    'openOrderInitialMargin': '0',\n    'leverage': '20',\n    'isolated': False,\n    'entryPrice': '0.0',\n    'maxNotional': '25000',\n    'positionSide': 'SHORT',\n    'positionAmt': '0.000',\n    'notional': '0',\n    'isolatedWallet': '0',\n    'updateTime': '0',\n    'bidNotional': '0',\n    'askNotional': '0'},\n   {'symbol': 'KAVAUSDT',\n    'initialMargin': '0',\n    'maintMargin': '0',\n    'unrealizedProfit': '0.00000000',\n    'positionInitialMargin': '0',\n    'openOrderInitialMargin': '0',\n    'leverage': '20',\n    'isolated': False,\n    'entryPrice': '0.0',\n    'maxNotional': '25000',\n    'positionSide': 'LONG',\n    'positionAmt': '0.0',\n    'notional': '0',\n    'isolatedWallet': '0',\n    'updateTime': '0',\n    'bidNotional': '0',\n    'askNotional': '0'},\n   {'symbol': 'KAVAUSDT',\n    'initialMargin': '0',\n    'maintMargin': '0',\n    'unrealizedProfit': '0.00000000',\n    'positionInitialMargin': '0',\n    'openOrderInitialMargin': '0',\n    'leverage': '20',\n    'isolated': False,\n    'entryPrice': '0.0',\n    'maxNotional': '25000',\n    'positionSide': 'SHORT',\n    'positionAmt': '0.0',\n    'notional': '0',\n    'isolatedWallet': '0',\n    'updateTime': '0',\n    'bidNotional': '0',\n    'askNotional': '0'},\n   {'symbol': 'RUNEUSDT',\n    'initialMargin': '0',\n    'maintMargin': '0',\n    'unrealizedProfit': '0.00000000',\n    'positionInitialMargin': '0',\n    'openOrderInitialMargin': '0',\n    'leverage': '20',\n    'isolated': False,\n    'entryPrice': '0.0',\n    'maxNotional': '25000',\n    'positionSide': 'LONG',\n    'positionAmt': '0',\n    'notional': '0',\n    'isolatedWallet': '0',\n    'updateTime': '0',\n    'bidNotional': '0',\n    'askNotional': '0'},\n   {'symbol': 'RUNEUSDT',\n    'initialMargin': '0',\n    'maintMargin': '0',\n    'unrealizedProfit': '0.00000000',\n    'positionInitialMargin': '0',\n    'openOrderInitialMargin': '0',\n    'leverage': '20',\n    'isolated': False,\n    'entryPrice': '0.0',\n    'maxNotional': '25000',\n    'positionSide': 'SHORT',\n    'positionAmt': '0',\n    'notional': '0',\n    'isolatedWallet': '0',\n    'updateTime': '0',\n    'bidNotional': '0',\n    'askNotional': '0'},\n   {'symbol': 'APEUSDT',\n    'initialMargin': '0',\n    'maintMargin': '0',\n    'unrealizedProfit': '0.00000000',\n    'positionInitialMargin': '0',\n    'openOrderInitialMargin': '0',\n    'leverage': '20',\n    'isolated': False,\n    'entryPrice': '0.0',\n    'maxNotional': '25000',\n    'positionSide': 'LONG',\n    'positionAmt': '0',\n    'notional': '0',\n    'isolatedWallet': '0',\n    'updateTime': '0',\n    'bidNotional': '0',\n    'askNotional': '0'},\n   {'symbol': 'APEUSDT',\n    'initialMargin': '0',\n    'maintMargin': '0',\n    'unrealizedProfit': '0.00000000',\n    'positionInitialMargin': '0',\n    'openOrderInitialMargin': '0',\n    'leverage': '20',\n    'isolated': False,\n    'entryPrice': '0.0',\n    'maxNotional': '25000',\n    'positionSide': 'SHORT',\n    'positionAmt': '0',\n    'notional': '0',\n    'isolatedWallet': '0',\n    'updateTime': '0',\n    'bidNotional': '0',\n    'askNotional': '0'},\n   {'symbol': 'CTKUSDT',\n    'initialMargin': '0',\n    'maintMargin': '0',\n    'unrealizedProfit': '0.00000000',\n    'positionInitialMargin': '0',\n    'openOrderInitialMargin': '0',\n    'leverage': '20',\n    'isolated': False,\n    'entryPrice': '0.0',\n    'maxNotional': '25000',\n    'positionSide': 'LONG',\n    'positionAmt': '0',\n    'notional': '0',\n    'isolatedWallet': '0',\n    'updateTime': '0',\n    'bidNotional': '0',\n    'askNotional': '0'},\n   {'symbol': 'CTKUSDT',\n    'initialMargin': '0',\n    'maintMargin': '0',\n    'unrealizedProfit': '0.00000000',\n    'positionInitialMargin': '0',\n    'openOrderInitialMargin': '0',\n    'leverage': '20',\n    'isolated': False,\n    'entryPrice': '0.0',\n    'maxNotional': '25000',\n    'positionSide': 'SHORT',\n    'positionAmt': '0',\n    'notional': '0',\n    'isolatedWallet': '0',\n    'updateTime': '0',\n    'bidNotional': '0',\n    'askNotional': '0'},\n   {'symbol': 'LINKUSDT',\n    'initialMargin': '0',\n    'maintMargin': '0',\n    'unrealizedProfit': '0.00000000',\n    'positionInitialMargin': '0',\n    'openOrderInitialMargin': '0',\n    'leverage': '20',\n    'isolated': False,\n    'entryPrice': '0.0',\n    'maxNotional': '250000',\n    'positionSide': 'LONG',\n    'positionAmt': '0.00',\n    'notional': '0',\n    'isolatedWallet': '0',\n    'updateTime': '0',\n    'bidNotional': '0',\n    'askNotional': '0'},\n   {'symbol': 'LINKUSDT',\n    'initialMargin': '0',\n    'maintMargin': '0',\n    'unrealizedProfit': '0.00000000',\n    'positionInitialMargin': '0',\n    'openOrderInitialMargin': '0',\n    'leverage': '20',\n    'isolated': False,\n    'entryPrice': '0.0',\n    'maxNotional': '250000',\n    'positionSide': 'SHORT',\n    'positionAmt': '0.00',\n    'notional': '0',\n    'isolatedWallet': '0',\n    'updateTime': '0',\n    'bidNotional': '0',\n    'askNotional': '0'},\n   {'symbol': 'CELRUSDT',\n    'initialMargin': '0',\n    'maintMargin': '0',\n    'unrealizedProfit': '0.00000000',\n    'positionInitialMargin': '0',\n    'openOrderInitialMargin': '0',\n    'leverage': '20',\n    'isolated': False,\n    'entryPrice': '0.0',\n    'maxNotional': '25000',\n    'positionSide': 'LONG',\n    'positionAmt': '0',\n    'notional': '0',\n    'isolatedWallet': '0',\n    'updateTime': '0',\n    'bidNotional': '0',\n    'askNotional': '0'},\n   {'symbol': 'CELRUSDT',\n    'initialMargin': '0',\n    'maintMargin': '0',\n    'unrealizedProfit': '0.00000000',\n    'positionInitialMargin': '0',\n    'openOrderInitialMargin': '0',\n    'leverage': '20',\n    'isolated': False,\n    'entryPrice': '0.0',\n    'maxNotional': '25000',\n    'positionSide': 'SHORT',\n    'positionAmt': '0',\n    'notional': '0',\n    'isolatedWallet': '0',\n    'updateTime': '0',\n    'bidNotional': '0',\n    'askNotional': '0'},\n   {'symbol': 'BNXUSDT',\n    'initialMargin': '0',\n    'maintMargin': '0',\n    'unrealizedProfit': '0.00000000',\n    'positionInitialMargin': '0',\n    'openOrderInitialMargin': '0',\n    'leverage': '20',\n    'isolated': False,\n    'entryPrice': '0.0',\n    'maxNotional': '25000',\n    'positionSide': 'LONG',\n    'positionAmt': '0.0',\n    'notional': '0',\n    'isolatedWallet': '0',\n    'updateTime': '0',\n    'bidNotional': '0',\n    'askNotional': '0'},\n   {'symbol': 'BNXUSDT',\n    'initialMargin': '0',\n    'maintMargin': '0',\n    'unrealizedProfit': '0.00000000',\n    'positionInitialMargin': '0',\n    'openOrderInitialMargin': '0',\n    'leverage': '20',\n    'isolated': False,\n    'entryPrice': '0.0',\n    'maxNotional': '25000',\n    'positionSide': 'SHORT',\n    'positionAmt': '0.0',\n    'notional': '0',\n    'isolatedWallet': '0',\n    'updateTime': '0',\n    'bidNotional': '0',\n    'askNotional': '0'},\n   {'symbol': 'RSRUSDT',\n    'initialMargin': '0',\n    'maintMargin': '0',\n    'unrealizedProfit': '0.00000000',\n    'positionInitialMargin': '0',\n    'openOrderInitialMargin': '0',\n    'leverage': '20',\n    'isolated': False,\n    'entryPrice': '0.0',\n    'maxNotional': '25000',\n    'positionSide': 'LONG',\n    'positionAmt': '0',\n    'notional': '0',\n    'isolatedWallet': '0',\n    'updateTime': '0',\n    'bidNotional': '0',\n    'askNotional': '0'},\n   {'symbol': 'RSRUSDT',\n    'initialMargin': '0',\n    'maintMargin': '0',\n    'unrealizedProfit': '0.00000000',\n    'positionInitialMargin': '0',\n    'openOrderInitialMargin': '0',\n    'leverage': '20',\n    'isolated': False,\n    'entryPrice': '0.0',\n    'maxNotional': '25000',\n    'positionSide': 'SHORT',\n    'positionAmt': '0',\n    'notional': '0',\n    'isolatedWallet': '0',\n    'updateTime': '0',\n    'bidNotional': '0',\n    'askNotional': '0'},\n   {'symbol': 'ADABUSD',\n    'initialMargin': '0',\n    'maintMargin': '0',\n    'unrealizedProfit': '0.00000000',\n    'positionInitialMargin': '0',\n    'openOrderInitialMargin': '0',\n    'leverage': '20',\n    'isolated': False,\n    'entryPrice': '0.0',\n    'maxNotional': '100000',\n    'positionSide': 'LONG',\n    'positionAmt': '0',\n    'notional': '0',\n    'isolatedWallet': '0',\n    'updateTime': '0',\n    'bidNotional': '0',\n    'askNotional': '0'},\n   {'symbol': 'ADABUSD',\n    'initialMargin': '0',\n    'maintMargin': '0',\n    'unrealizedProfit': '0.00000000',\n    'positionInitialMargin': '0',\n    'openOrderInitialMargin': '0',\n    'leverage': '20',\n    'isolated': False,\n    'entryPrice': '0.0',\n    'maxNotional': '100000',\n    'positionSide': 'SHORT',\n    'positionAmt': '0',\n    'notional': '0',\n    'isolatedWallet': '0',\n    'updateTime': '0',\n    'bidNotional': '0',\n    'askNotional': '0'},\n   {'symbol': 'DGBUSDT',\n    'initialMargin': '0',\n    'maintMargin': '0',\n    'unrealizedProfit': '0.00000000',\n    'positionInitialMargin': '0',\n    'openOrderInitialMargin': '0',\n    'leverage': '20',\n    'isolated': False,\n    'entryPrice': '0.0',\n    'maxNotional': '25000',\n    'positionSide': 'LONG',\n    'positionAmt': '0',\n    'notional': '0',\n    'isolatedWallet': '0',\n    'updateTime': '0',\n    'bidNotional': '0',\n    'askNotional': '0'},\n   {'symbol': 'DGBUSDT',\n    'initialMargin': '0',\n    'maintMargin': '0',\n    'unrealizedProfit': '0.00000000',\n    'positionInitialMargin': '0',\n    'openOrderInitialMargin': '0',\n    'leverage': '20',\n    'isolated': False,\n    'entryPrice': '0.0',\n    'maxNotional': '25000',\n    'positionSide': 'SHORT',\n    'positionAmt': '0',\n    'notional': '0',\n    'isolatedWallet': '0',\n    'updateTime': '0',\n    'bidNotional': '0',\n    'askNotional': '0'},\n   {'symbol': 'SKLUSDT',\n    'initialMargin': '0',\n    'maintMargin': '0',\n    'unrealizedProfit': '0.00000000',\n    'positionInitialMargin': '0',\n    'openOrderInitialMargin': '0',\n    'leverage': '20',\n    'isolated': False,\n    'entryPrice': '0.0',\n    'maxNotional': '25000',\n    'positionSide': 'LONG',\n    'positionAmt': '0',\n    'notional': '0',\n    'isolatedWallet': '0',\n    'updateTime': '0',\n    'bidNotional': '0',\n    'askNotional': '0'},\n   {'symbol': 'SKLUSDT',\n    'initialMargin': '0',\n    'maintMargin': '0',\n    'unrealizedProfit': '0.00000000',\n    'positionInitialMargin': '0',\n    'openOrderInitialMargin': '0',\n    'leverage': '20',\n    'isolated': False,\n    'entryPrice': '0.0',\n    'maxNotional': '25000',\n    'positionSide': 'SHORT',\n    'positionAmt': '0',\n    'notional': '0',\n    'isolatedWallet': '0',\n    'updateTime': '0',\n    'bidNotional': '0',\n    'askNotional': '0'},\n   {'symbol': 'RENUSDT',\n    'initialMargin': '0',\n    'maintMargin': '0',\n    'unrealizedProfit': '0.00000000',\n    'positionInitialMargin': '0',\n    'openOrderInitialMargin': '0',\n    'leverage': '20',\n    'isolated': False,\n    'entryPrice': '0.0',\n    'maxNotional': '25000',\n    'positionSide': 'LONG',\n    'positionAmt': '0',\n    'notional': '0',\n    'isolatedWallet': '0',\n    'updateTime': '0',\n    'bidNotional': '0',\n    'askNotional': '0'},\n   {'symbol': 'RENUSDT',\n    'initialMargin': '0',\n    'maintMargin': '0',\n    'unrealizedProfit': '0.00000000',\n    'positionInitialMargin': '0',\n    'openOrderInitialMargin': '0',\n    'leverage': '20',\n    'isolated': False,\n    'entryPrice': '0.0',\n    'maxNotional': '25000',\n    'positionSide': 'SHORT',\n    'positionAmt': '0',\n    'notional': '0',\n    'isolatedWallet': '0',\n    'updateTime': '0',\n    'bidNotional': '0',\n    'askNotional': '0'},\n   {'symbol': 'LPTUSDT',\n    'initialMargin': '0',\n    'maintMargin': '0',\n    'unrealizedProfit': '0.00000000',\n    'positionInitialMargin': '0',\n    'openOrderInitialMargin': '0',\n    'leverage': '20',\n    'isolated': False,\n    'entryPrice': '0.0',\n    'maxNotional': '25000',\n    'positionSide': 'LONG',\n    'positionAmt': '0.0',\n    'notional': '0',\n    'isolatedWallet': '0',\n    'updateTime': '0',\n    'bidNotional': '0',\n    'askNotional': '0'},\n   {'symbol': 'LPTUSDT',\n    'initialMargin': '0',\n    'maintMargin': '0',\n    'unrealizedProfit': '0.00000000',\n    'positionInitialMargin': '0',\n    'openOrderInitialMargin': '0',\n    'leverage': '20',\n    'isolated': False,\n    'entryPrice': '0.0',\n    'maxNotional': '25000',\n    'positionSide': 'SHORT',\n    'positionAmt': '0.0',\n    'notional': '0',\n    'isolatedWallet': '0',\n    'updateTime': '0',\n    'bidNotional': '0',\n    'askNotional': '0'},\n   {'symbol': 'JASMYUSDT',\n    'initialMargin': '0',\n    'maintMargin': '0',\n    'unrealizedProfit': '0.00000000',\n    'positionInitialMargin': '0',\n    'openOrderInitialMargin': '0',\n    'leverage': '20',\n    'isolated': False,\n    'entryPrice': '0.0',\n    'maxNotional': '25000',\n    'positionSide': 'LONG',\n    'positionAmt': '0',\n    'notional': '0',\n    'isolatedWallet': '0',\n    'updateTime': '0',\n    'bidNotional': '0',\n    'askNotional': '0'},\n   {'symbol': 'JASMYUSDT',\n    'initialMargin': '0',\n    'maintMargin': '0',\n    'unrealizedProfit': '0.00000000',\n    'positionInitialMargin': '0',\n    'openOrderInitialMargin': '0',\n    'leverage': '20',\n    'isolated': False,\n    'entryPrice': '0.0',\n    'maxNotional': '25000',\n    'positionSide': 'SHORT',\n    'positionAmt': '0',\n    'notional': '0',\n    'isolatedWallet': '0',\n    'updateTime': '0',\n    'bidNotional': '0',\n    'askNotional': '0'},\n   {'symbol': 'TOMOUSDT',\n    'initialMargin': '0',\n    'maintMargin': '0',\n    'unrealizedProfit': '0.00000000',\n    'positionInitialMargin': '0',\n    'openOrderInitialMargin': '0',\n    'leverage': '20',\n    'isolated': False,\n    'entryPrice': '0.0',\n    'maxNotional': '25000',\n    'positionSide': 'LONG',\n    'positionAmt': '0',\n    'notional': '0',\n    'isolatedWallet': '0',\n    'updateTime': '0',\n    'bidNotional': '0',\n    'askNotional': '0'},\n   {'symbol': 'TOMOUSDT',\n    'initialMargin': '0',\n    'maintMargin': '0',\n    'unrealizedProfit': '0.00000000',\n    'positionInitialMargin': '0',\n    'openOrderInitialMargin': '0',\n    'leverage': '20',\n    'isolated': False,\n    'entryPrice': '0.0',\n    'maxNotional': '25000',\n    'positionSide': 'SHORT',\n    'positionAmt': '0',\n    'notional': '0',\n    'isolatedWallet': '0',\n    'updateTime': '0',\n    'bidNotional': '0',\n    'askNotional': '0'},\n   {'symbol': 'MTLUSDT',\n    'initialMargin': '0',\n    'maintMargin': '0',\n    'unrealizedProfit': '0.00000000',\n    'positionInitialMargin': '0',\n    'openOrderInitialMargin': '0',\n    'leverage': '20',\n    'isolated': False,\n    'entryPrice': '0.0',\n    'maxNotional': '25000',\n    'positionSide': 'LONG',\n    'positionAmt': '0',\n    'notional': '0',\n    'isolatedWallet': '0',\n    'updateTime': '0',\n    'bidNotional': '0',\n    'askNotional': '0'},\n   {'symbol': 'MTLUSDT',\n    'initialMargin': '0',\n    'maintMargin': '0',\n    'unrealizedProfit': '0.00000000',\n    'positionInitialMargin': '0',\n    'openOrderInitialMargin': '0',\n    'leverage': '20',\n    'isolated': False,\n    'entryPrice': '0.0',\n    'maxNotional': '25000',\n    'positionSide': 'SHORT',\n    'positionAmt': '0',\n    'notional': '0',\n    'isolatedWallet': '0',\n    'updateTime': '0',\n    'bidNotional': '0',\n    'askNotional': '0'},\n   {'symbol': 'LTCUSDT',\n    'initialMargin': '0',\n    'maintMargin': '0',\n    'unrealizedProfit': '0.00000000',\n    'positionInitialMargin': '0',\n    'openOrderInitialMargin': '0',\n    'leverage': '20',\n    'isolated': False,\n    'entryPrice': '0.0',\n    'maxNotional': '250000',\n    'positionSide': 'LONG',\n    'positionAmt': '0.000',\n    'notional': '0',\n    'isolatedWallet': '0',\n    'updateTime': '0',\n    'bidNotional': '0',\n    'askNotional': '0'},\n   {'symbol': 'LTCUSDT',\n    'initialMargin': '0',\n    'maintMargin': '0',\n    'unrealizedProfit': '0.00000000',\n    'positionInitialMargin': '0',\n    'openOrderInitialMargin': '0',\n    'leverage': '20',\n    'isolated': False,\n    'entryPrice': '0.0',\n    'maxNotional': '250000',\n    'positionSide': 'SHORT',\n    'positionAmt': '0.000',\n    'notional': '0',\n    'isolatedWallet': '0',\n    'updateTime': '0',\n    'bidNotional': '0',\n    'askNotional': '0'},\n   {'symbol': 'DODOBUSD',\n    'initialMargin': '0',\n    'maintMargin': '0',\n    'unrealizedProfit': '0.00000000',\n    'positionInitialMargin': '0',\n    'openOrderInitialMargin': '0',\n    'leverage': '20',\n    'isolated': False,\n    'entryPrice': '0.0',\n    'maxNotional': '25000',\n    'positionSide': 'LONG',\n    'positionAmt': '0',\n    'notional': '0',\n    'isolatedWallet': '0',\n    'updateTime': '0',\n    'bidNotional': '0',\n    'askNotional': '0'},\n   {'symbol': 'DODOBUSD',\n    'initialMargin': '0',\n    'maintMargin': '0',\n    'unrealizedProfit': '0.00000000',\n    'positionInitialMargin': '0',\n    'openOrderInitialMargin': '0',\n    'leverage': '20',\n    'isolated': False,\n    'entryPrice': '0.0',\n    'maxNotional': '25000',\n    'positionSide': 'SHORT',\n    'positionAmt': '0',\n    'notional': '0',\n    'isolatedWallet': '0',\n    'updateTime': '0',\n    'bidNotional': '0',\n    'askNotional': '0'},\n   {'symbol': 'EGLDUSDT',\n    'initialMargin': '0',\n    'maintMargin': '0',\n    'unrealizedProfit': '0.00000000',\n    'positionInitialMargin': '0',\n    'openOrderInitialMargin': '0',\n    'leverage': '20',\n    'isolated': False,\n    'entryPrice': '0.0',\n    'maxNotional': '25000',\n    'positionSide': 'LONG',\n    'positionAmt': '0.0',\n    'notional': '0',\n    'isolatedWallet': '0',\n    'updateTime': '0',\n    'bidNotional': '0',\n    'askNotional': '0'},\n   {'symbol': 'EGLDUSDT',\n    'initialMargin': '0',\n    'maintMargin': '0',\n    'unrealizedProfit': '0.00000000',\n    'positionInitialMargin': '0',\n    'openOrderInitialMargin': '0',\n    'leverage': '20',\n    'isolated': False,\n    'entryPrice': '0.0',\n    'maxNotional': '25000',\n    'positionSide': 'SHORT',\n    'positionAmt': '0.0',\n    'notional': '0',\n    'isolatedWallet': '0',\n    'updateTime': '0',\n    'bidNotional': '0',\n    'askNotional': '0'},\n   {'symbol': 'KSMUSDT',\n    'initialMargin': '0',\n    'maintMargin': '0',\n    'unrealizedProfit': '0.00000000',\n    'positionInitialMargin': '0',\n    'openOrderInitialMargin': '0',\n    'leverage': '20',\n    'isolated': False,\n    'entryPrice': '0.0',\n    'maxNotional': '25000',\n    'positionSide': 'LONG',\n    'positionAmt': '0.0',\n    'notional': '0',\n    'isolatedWallet': '0',\n    'updateTime': '0',\n    'bidNotional': '0',\n    'askNotional': '0'},\n   {'symbol': 'KSMUSDT',\n    'initialMargin': '0',\n    'maintMargin': '0',\n    'unrealizedProfit': '0.00000000',\n    'positionInitialMargin': '0',\n    'openOrderInitialMargin': '0',\n    'leverage': '20',\n    'isolated': False,\n    'entryPrice': '0.0',\n    'maxNotional': '25000',\n    'positionSide': 'SHORT',\n    'positionAmt': '0.0',\n    'notional': '0',\n    'isolatedWallet': '0',\n    'updateTime': '0',\n    'bidNotional': '0',\n    'askNotional': '0'},\n   {'symbol': 'BNBBUSD',\n    'initialMargin': '0',\n    'maintMargin': '0',\n    'unrealizedProfit': '0.00000000',\n    'positionInitialMargin': '0',\n    'openOrderInitialMargin': '0',\n    'leverage': '20',\n    'isolated': False,\n    'entryPrice': '0.0',\n    'maxNotional': '100000',\n    'positionSide': 'LONG',\n    'positionAmt': '0.00',\n    'notional': '0',\n    'isolatedWallet': '0',\n    'updateTime': '0',\n    'bidNotional': '0',\n    'askNotional': '0'},\n   {'symbol': 'BNBBUSD',\n    'initialMargin': '0',\n    'maintMargin': '0',\n    'unrealizedProfit': '0.00000000',\n    'positionInitialMargin': '0',\n    'openOrderInitialMargin': '0',\n    'leverage': '20',\n    'isolated': False,\n    'entryPrice': '0.0',\n    'maxNotional': '100000',\n    'positionSide': 'SHORT',\n    'positionAmt': '0.00',\n    'notional': '0',\n    'isolatedWallet': '0',\n    'updateTime': '0',\n    'bidNotional': '0',\n    'askNotional': '0'},\n   {'symbol': 'ONTUSDT',\n    'initialMargin': '0',\n    'maintMargin': '0',\n    'unrealizedProfit': '0.00000000',\n    'positionInitialMargin': '0',\n    'openOrderInitialMargin': '0',\n    'leverage': '20',\n    'isolated': False,\n    'entryPrice': '0.0',\n    'maxNotional': '25000',\n    'positionSide': 'LONG',\n    'positionAmt': '0.0',\n    'notional': '0',\n    'isolatedWallet': '0',\n    'updateTime': '0',\n    'bidNotional': '0',\n    'askNotional': '0'},\n   {'symbol': 'ONTUSDT',\n    'initialMargin': '0',\n    'maintMargin': '0',\n    'unrealizedProfit': '0.00000000',\n    'positionInitialMargin': '0',\n    'openOrderInitialMargin': '0',\n    'leverage': '20',\n    'isolated': False,\n    'entryPrice': '0.0',\n    'maxNotional': '25000',\n    'positionSide': 'SHORT',\n    'positionAmt': '0.0',\n    'notional': '0',\n    'isolatedWallet': '0',\n    'updateTime': '0',\n    'bidNotional': '0',\n    'askNotional': '0'},\n   {'symbol': 'VETUSDT',\n    'initialMargin': '0',\n    'maintMargin': '0',\n    'unrealizedProfit': '0.00000000',\n    'positionInitialMargin': '0',\n    'openOrderInitialMargin': '0',\n    'leverage': '20',\n    'isolated': False,\n    'entryPrice': '0.0',\n    'maxNotional': '25000',\n    'positionSide': 'LONG',\n    'positionAmt': '0',\n    'notional': '0',\n    'isolatedWallet': '0',\n    'updateTime': '0',\n    'bidNotional': '0',\n    'askNotional': '0'},\n   {'symbol': 'VETUSDT',\n    'initialMargin': '0',\n    'maintMargin': '0',\n    'unrealizedProfit': '0.00000000',\n    'positionInitialMargin': '0',\n    'openOrderInitialMargin': '0',\n    'leverage': '20',\n    'isolated': False,\n    'entryPrice': '0.0',\n    'maxNotional': '25000',\n    'positionSide': 'SHORT',\n    'positionAmt': '0',\n    'notional': '0',\n    'isolatedWallet': '0',\n    'updateTime': '0',\n    'bidNotional': '0',\n    'askNotional': '0'},\n   {'symbol': 'IMXUSDT',\n    'initialMargin': '0',\n    'maintMargin': '0',\n    'unrealizedProfit': '0.00000000',\n    'positionInitialMargin': '0',\n    'openOrderInitialMargin': '0',\n    'leverage': '20',\n    'isolated': False,\n    'entryPrice': '0.0',\n    'maxNotional': '25000',\n    'positionSide': 'LONG',\n    'positionAmt': '0',\n    'notional': '0',\n    'isolatedWallet': '0',\n    'updateTime': '0',\n    'bidNotional': '0',\n    'askNotional': '0'},\n   {'symbol': 'IMXUSDT',\n    'initialMargin': '0',\n    'maintMargin': '0',\n    'unrealizedProfit': '0.00000000',\n    'positionInitialMargin': '0',\n    'openOrderInitialMargin': '0',\n    'leverage': '20',\n    'isolated': False,\n    'entryPrice': '0.0',\n    'maxNotional': '25000',\n    'positionSide': 'SHORT',\n    'positionAmt': '0',\n    'notional': '0',\n    'isolatedWallet': '0',\n    'updateTime': '0',\n    'bidNotional': '0',\n    'askNotional': '0'},\n   {'symbol': 'TRBUSDT',\n    'initialMargin': '0',\n    'maintMargin': '0',\n    'unrealizedProfit': '0.00000000',\n    'positionInitialMargin': '0',\n    'openOrderInitialMargin': '0',\n    'leverage': '20',\n    'isolated': False,\n    'entryPrice': '0.0',\n    'maxNotional': '25000',\n    'positionSide': 'LONG',\n    'positionAmt': '0.0',\n    'notional': '0',\n    'isolatedWallet': '0',\n    'updateTime': '0',\n    'bidNotional': '0',\n    'askNotional': '0'},\n   {'symbol': 'TRBUSDT',\n    'initialMargin': '0',\n    'maintMargin': '0',\n    'unrealizedProfit': '0.00000000',\n    'positionInitialMargin': '0',\n    'openOrderInitialMargin': '0',\n    'leverage': '20',\n    'isolated': False,\n    'entryPrice': '0.0',\n    'maxNotional': '25000',\n    'positionSide': 'SHORT',\n    'positionAmt': '0.0',\n    'notional': '0',\n    'isolatedWallet': '0',\n    'updateTime': '0',\n    'bidNotional': '0',\n    'askNotional': '0'},\n   {'symbol': 'MANAUSDT',\n    'initialMargin': '0',\n    'maintMargin': '0',\n    'unrealizedProfit': '0.00000000',\n    'positionInitialMargin': '0',\n    'openOrderInitialMargin': '0',\n    'leverage': '20',\n    'isolated': False,\n    'entryPrice': '0.0',\n    'maxNotional': '25000',\n    'positionSide': 'LONG',\n    'positionAmt': '0',\n    'notional': '0',\n    'isolatedWallet': '0',\n    'updateTime': '0',\n    'bidNotional': '0',\n    'askNotional': '0'},\n   {'symbol': 'MANAUSDT',\n    'initialMargin': '0',\n    'maintMargin': '0',\n    'unrealizedProfit': '0.00000000',\n    'positionInitialMargin': '0',\n    'openOrderInitialMargin': '0',\n    'leverage': '20',\n    'isolated': False,\n    'entryPrice': '0.0',\n    'maxNotional': '25000',\n    'positionSide': 'SHORT',\n    'positionAmt': '0',\n    'notional': '0',\n    'isolatedWallet': '0',\n    'updateTime': '0',\n    'bidNotional': '0',\n    'askNotional': '0'},\n   {'symbol': 'FLOWUSDT',\n    'initialMargin': '0',\n    'maintMargin': '0',\n    'unrealizedProfit': '0.00000000',\n    'positionInitialMargin': '0',\n    'openOrderInitialMargin': '0',\n    'leverage': '20',\n    'isolated': False,\n    'entryPrice': '0.0',\n    'maxNotional': '25000',\n    'positionSide': 'LONG',\n    'positionAmt': '0.0',\n    'notional': '0',\n    'isolatedWallet': '0',\n    'updateTime': '0',\n    'bidNotional': '0',\n    'askNotional': '0'},\n   {'symbol': 'FLOWUSDT',\n    'initialMargin': '0',\n    'maintMargin': '0',\n    'unrealizedProfit': '0.00000000',\n    'positionInitialMargin': '0',\n    'openOrderInitialMargin': '0',\n    'leverage': '20',\n    'isolated': False,\n    'entryPrice': '0.0',\n    'maxNotional': '25000',\n    'positionSide': 'SHORT',\n    'positionAmt': '0.0',\n    'notional': '0',\n    'isolatedWallet': '0',\n    'updateTime': '0',\n    'bidNotional': '0',\n    'askNotional': '0'},\n   {'symbol': 'COTIUSDT',\n    'initialMargin': '0',\n    'maintMargin': '0',\n    'unrealizedProfit': '0.00000000',\n    'positionInitialMargin': '0',\n    'openOrderInitialMargin': '0',\n    'leverage': '20',\n    'isolated': False,\n    'entryPrice': '0.0',\n    'maxNotional': '25000',\n    'positionSide': 'LONG',\n    'positionAmt': '0',\n    'notional': '0',\n    'isolatedWallet': '0',\n    'updateTime': '0',\n    'bidNotional': '0',\n    'askNotional': '0'},\n   {'symbol': 'COTIUSDT',\n    'initialMargin': '0',\n    'maintMargin': '0',\n    'unrealizedProfit': '0.00000000',\n    'positionInitialMargin': '0',\n    'openOrderInitialMargin': '0',\n    'leverage': '20',\n    'isolated': False,\n    'entryPrice': '0.0',\n    'maxNotional': '25000',\n    'positionSide': 'SHORT',\n    'positionAmt': '0',\n    'notional': '0',\n    'isolatedWallet': '0',\n    'updateTime': '0',\n    'bidNotional': '0',\n    'askNotional': '0'},\n   {'symbol': 'CHRUSDT',\n    'initialMargin': '0',\n    'maintMargin': '0',\n    'unrealizedProfit': '0.00000000',\n    'positionInitialMargin': '0',\n    'openOrderInitialMargin': '0',\n    'leverage': '20',\n    'isolated': False,\n    'entryPrice': '0.0',\n    'maxNotional': '25000',\n    'positionSide': 'LONG',\n    'positionAmt': '0',\n    'notional': '0',\n    'isolatedWallet': '0',\n    'updateTime': '0',\n    'bidNotional': '0',\n    'askNotional': '0'},\n   {'symbol': 'CHRUSDT',\n    'initialMargin': '0',\n    'maintMargin': '0',\n    'unrealizedProfit': '0.00000000',\n    'positionInitialMargin': '0',\n    'openOrderInitialMargin': '0',\n    'leverage': '20',\n    'isolated': False,\n    'entryPrice': '0.0',\n    'maxNotional': '25000',\n    'positionSide': 'SHORT',\n    'positionAmt': '0',\n    'notional': '0',\n    'isolatedWallet': '0',\n    'updateTime': '0',\n    'bidNotional': '0',\n    'askNotional': '0'},\n   {'symbol': 'BAKEUSDT',\n    'initialMargin': '0',\n    'maintMargin': '0',\n    'unrealizedProfit': '0.00000000',\n    'positionInitialMargin': '0',\n    'openOrderInitialMargin': '0',\n    'leverage': '20',\n    'isolated': False,\n    'entryPrice': '0.0',\n    'maxNotional': '25000',\n    'positionSide': 'LONG',\n    'positionAmt': '0',\n    'notional': '0',\n    'isolatedWallet': '0',\n    'updateTime': '0',\n    'bidNotional': '0',\n    'askNotional': '0'},\n   {'symbol': 'BAKEUSDT',\n    'initialMargin': '0',\n    'maintMargin': '0',\n    'unrealizedProfit': '0.00000000',\n    'positionInitialMargin': '0',\n    'openOrderInitialMargin': '0',\n    'leverage': '20',\n    'isolated': False,\n    'entryPrice': '0.0',\n    'maxNotional': '25000',\n    'positionSide': 'SHORT',\n    'positionAmt': '0',\n    'notional': '0',\n    'isolatedWallet': '0',\n    'updateTime': '0',\n    'bidNotional': '0',\n    'askNotional': '0'},\n   {'symbol': 'AVAXBUSD',\n    'initialMargin': '0',\n    'maintMargin': '0',\n    'unrealizedProfit': '0.00000000',\n    'positionInitialMargin': '0',\n    'openOrderInitialMargin': '0',\n    'leverage': '20',\n    'isolated': False,\n    'entryPrice': '0.0',\n    'maxNotional': '25000',\n    'positionSide': 'LONG',\n    'positionAmt': '0.0',\n    'notional': '0',\n    'isolatedWallet': '0',\n    'updateTime': '0',\n    'bidNotional': '0',\n    'askNotional': '0'},\n   {'symbol': 'AVAXBUSD',\n    'initialMargin': '0',\n    'maintMargin': '0',\n    'unrealizedProfit': '0.00000000',\n    'positionInitialMargin': '0',\n    'openOrderInitialMargin': '0',\n    'leverage': '20',\n    'isolated': False,\n    'entryPrice': '0.0',\n    'maxNotional': '25000',\n    'positionSide': 'SHORT',\n    'positionAmt': '0.0',\n    'notional': '0',\n    'isolatedWallet': '0',\n    'updateTime': '0',\n    'bidNotional': '0',\n    'askNotional': '0'},\n   {'symbol': 'GRTUSDT',\n    'initialMargin': '0',\n    'maintMargin': '0',\n    'unrealizedProfit': '0.00000000',\n    'positionInitialMargin': '0',\n    'openOrderInitialMargin': '0',\n    'leverage': '20',\n    'isolated': False,\n    'entryPrice': '0.0',\n    'maxNotional': '25000',\n    'positionSide': 'LONG',\n    'positionAmt': '0',\n    'notional': '0',\n    'isolatedWallet': '0',\n    'updateTime': '0',\n    'bidNotional': '0',\n    'askNotional': '0'},\n   {'symbol': 'GRTUSDT',\n    'initialMargin': '0',\n    'maintMargin': '0',\n    'unrealizedProfit': '0.00000000',\n    'positionInitialMargin': '0',\n    'openOrderInitialMargin': '0',\n    'leverage': '20',\n    'isolated': False,\n    'entryPrice': '0.0',\n    'maxNotional': '25000',\n    'positionSide': 'SHORT',\n    'positionAmt': '0',\n    'notional': '0',\n    'isolatedWallet': '0',\n    'updateTime': '0',\n    'bidNotional': '0',\n    'askNotional': '0'},\n   {'symbol': 'FLMUSDT',\n    'initialMargin': '0',\n    'maintMargin': '0',\n    'unrealizedProfit': '0.00000000',\n    'positionInitialMargin': '0',\n    'openOrderInitialMargin': '0',\n    'leverage': '20',\n    'isolated': False,\n    'entryPrice': '0.0',\n    'maxNotional': '25000',\n    'positionSide': 'LONG',\n    'positionAmt': '0',\n    'notional': '0',\n    'isolatedWallet': '0',\n    'updateTime': '0',\n    'bidNotional': '0',\n    'askNotional': '0'},\n   {'symbol': 'FLMUSDT',\n    'initialMargin': '0',\n    'maintMargin': '0',\n    'unrealizedProfit': '0.00000000',\n    'positionInitialMargin': '0',\n    'openOrderInitialMargin': '0',\n    'leverage': '20',\n    'isolated': False,\n    'entryPrice': '0.0',\n    'maxNotional': '25000',\n    'positionSide': 'SHORT',\n    'positionAmt': '0',\n    'notional': '0',\n    'isolatedWallet': '0',\n    'updateTime': '0',\n    'bidNotional': '0',\n    'askNotional': '0'},\n   {'symbol': 'GALUSDT',\n    'initialMargin': '0',\n    'maintMargin': '0',\n    'unrealizedProfit': '0.00000000',\n    'positionInitialMargin': '0',\n    'openOrderInitialMargin': '0',\n    'leverage': '20',\n    'isolated': False,\n    'entryPrice': '0.0',\n    'maxNotional': '25000',\n    'positionSide': 'LONG',\n    'positionAmt': '0',\n    'notional': '0',\n    'isolatedWallet': '0',\n    'updateTime': '0',\n    'bidNotional': '0',\n    'askNotional': '0'},\n   {'symbol': 'GALUSDT',\n    'initialMargin': '0',\n    'maintMargin': '0',\n    'unrealizedProfit': '0.00000000',\n    'positionInitialMargin': '0',\n    'openOrderInitialMargin': '0',\n    'leverage': '20',\n    'isolated': False,\n    'entryPrice': '0.0',\n    'maxNotional': '25000',\n    'positionSide': 'SHORT',\n    'positionAmt': '0',\n    'notional': '0',\n    'isolatedWallet': '0',\n    'updateTime': '0',\n    'bidNotional': '0',\n    'askNotional': '0'},\n   {'symbol': 'GALABUSD',\n    'initialMargin': '0',\n    'maintMargin': '0',\n    'unrealizedProfit': '0.00000000',\n    'positionInitialMargin': '0',\n    'openOrderInitialMargin': '0',\n    'leverage': '20',\n    'isolated': False,\n    'entryPrice': '0.0',\n    'maxNotional': '25000',\n    'positionSide': 'LONG',\n    'positionAmt': '0',\n    'notional': '0',\n    'isolatedWallet': '0',\n    'updateTime': '0',\n    'bidNotional': '0',\n    'askNotional': '0'},\n   {'symbol': 'GALABUSD',\n    'initialMargin': '0',\n    'maintMargin': '0',\n    'unrealizedProfit': '0.00000000',\n    'positionInitialMargin': '0',\n    'openOrderInitialMargin': '0',\n    'leverage': '20',\n    'isolated': False,\n    'entryPrice': '0.0',\n    'maxNotional': '25000',\n    'positionSide': 'SHORT',\n    'positionAmt': '0',\n    'notional': '0',\n    'isolatedWallet': '0',\n    'updateTime': '0',\n    'bidNotional': '0',\n    'askNotional': '0'},\n   {'symbol': 'MASKUSDT',\n    'initialMargin': '0',\n    'maintMargin': '0',\n    'unrealizedProfit': '0.00000000',\n    'positionInitialMargin': '0',\n    'openOrderInitialMargin': '0',\n    'leverage': '20',\n    'isolated': False,\n    'entryPrice': '0.0',\n    'maxNotional': '25000',\n    'positionSide': 'LONG',\n    'positionAmt': '0',\n    'notional': '0',\n    'isolatedWallet': '0',\n    'updateTime': '0',\n    'bidNotional': '0',\n    'askNotional': '0'},\n   {'symbol': 'MASKUSDT',\n    'initialMargin': '0',\n    'maintMargin': '0',\n    'unrealizedProfit': '0.00000000',\n    'positionInitialMargin': '0',\n    'openOrderInitialMargin': '0',\n    'leverage': '20',\n    'isolated': False,\n    'entryPrice': '0.0',\n    'maxNotional': '25000',\n    'positionSide': 'SHORT',\n    'positionAmt': '0',\n    'notional': '0',\n    'isolatedWallet': '0',\n    'updateTime': '0',\n    'bidNotional': '0',\n    'askNotional': '0'},\n   {'symbol': 'EOSUSDT',\n    'initialMargin': '0',\n    'maintMargin': '0',\n    'unrealizedProfit': '0.00000000',\n    'positionInitialMargin': '0',\n    'openOrderInitialMargin': '0',\n    'leverage': '20',\n    'isolated': False,\n    'entryPrice': '0.0',\n    'maxNotional': '250000',\n    'positionSide': 'LONG',\n    'positionAmt': '0.0',\n    'notional': '0',\n    'isolatedWallet': '0',\n    'updateTime': '0',\n    'bidNotional': '0',\n    'askNotional': '0'},\n   {'symbol': 'EOSUSDT',\n    'initialMargin': '0',\n    'maintMargin': '0',\n    'unrealizedProfit': '0.00000000',\n    'positionInitialMargin': '0',\n    'openOrderInitialMargin': '0',\n    'leverage': '20',\n    'isolated': False,\n    'entryPrice': '0.0',\n    'maxNotional': '250000',\n    'positionSide': 'SHORT',\n    'positionAmt': '0.0',\n    'notional': '0',\n    'isolatedWallet': '0',\n    'updateTime': '0',\n    'bidNotional': '0',\n    'askNotional': '0'},\n   {'symbol': 'OGNUSDT',\n    'initialMargin': '0',\n    'maintMargin': '0',\n    'unrealizedProfit': '0.00000000',\n    'positionInitialMargin': '0',\n    'openOrderInitialMargin': '0',\n    'leverage': '20',\n    'isolated': False,\n    'entryPrice': '0.0',\n    'maxNotional': '25000',\n    'positionSide': 'LONG',\n    'positionAmt': '0',\n    'notional': '0',\n    'isolatedWallet': '0',\n    'updateTime': '0',\n    'bidNotional': '0',\n    'askNotional': '0'},\n   {'symbol': 'OGNUSDT',\n    'initialMargin': '0',\n    'maintMargin': '0',\n    'unrealizedProfit': '0.00000000',\n    'positionInitialMargin': '0',\n    'openOrderInitialMargin': '0',\n    'leverage': '20',\n    'isolated': False,\n    'entryPrice': '0.0',\n    'maxNotional': '25000',\n    'positionSide': 'SHORT',\n    'positionAmt': '0',\n    'notional': '0',\n    'isolatedWallet': '0',\n    'updateTime': '0',\n    'bidNotional': '0',\n    'askNotional': '0'},\n   {'symbol': 'SCUSDT',\n    'initialMargin': '0',\n    'maintMargin': '0',\n    'unrealizedProfit': '0.00000000',\n    'positionInitialMargin': '0',\n    'openOrderInitialMargin': '0',\n    'leverage': '20',\n    'isolated': False,\n    'entryPrice': '0.0',\n    'maxNotional': '25000',\n    'positionSide': 'LONG',\n    'positionAmt': '0',\n    'notional': '0',\n    'isolatedWallet': '0',\n    'updateTime': '0',\n    'bidNotional': '0',\n    'askNotional': '0'},\n   {'symbol': 'SCUSDT',\n    'initialMargin': '0',\n    'maintMargin': '0',\n    'unrealizedProfit': '0.00000000',\n    'positionInitialMargin': '0',\n    'openOrderInitialMargin': '0',\n    'leverage': '20',\n    'isolated': False,\n    'entryPrice': '0.0',\n    'maxNotional': '25000',\n    'positionSide': 'SHORT',\n    'positionAmt': '0',\n    'notional': '0',\n    'isolatedWallet': '0',\n    'updateTime': '0',\n    'bidNotional': '0',\n    'askNotional': '0'},\n   {'symbol': 'ETHUSDT_220624',\n    'initialMargin': '0',\n    'maintMargin': '0',\n    'unrealizedProfit': '0.00000000',\n    'positionInitialMargin': '0',\n    'openOrderInitialMargin': '0',\n    'leverage': '20',\n    'isolated': False,\n    'entryPrice': '0.0',\n    'maxNotional': '375000',\n    'positionSide': 'LONG',\n    'positionAmt': '0.000',\n    'notional': '0',\n    'isolatedWallet': '0',\n    'updateTime': '0',\n    'bidNotional': '0',\n    'askNotional': '0'},\n   {'symbol': 'ETHUSDT_220624',\n    'initialMargin': '0',\n    'maintMargin': '0',\n    'unrealizedProfit': '0.00000000',\n    'positionInitialMargin': '0',\n    'openOrderInitialMargin': '0',\n    'leverage': '20',\n    'isolated': False,\n    'entryPrice': '0.0',\n    'maxNotional': '375000',\n    'positionSide': 'SHORT',\n    'positionAmt': '0.000',\n    'notional': '0',\n    'isolatedWallet': '0',\n    'updateTime': '0',\n    'bidNotional': '0',\n    'askNotional': '0'},\n   {'symbol': 'GALBUSD',\n    'initialMargin': '0',\n    'maintMargin': '0',\n    'unrealizedProfit': '0.00000000',\n    'positionInitialMargin': '0',\n    'openOrderInitialMargin': '0',\n    'leverage': '20',\n    'isolated': False,\n    'entryPrice': '0.0',\n    'maxNotional': '25000',\n    'positionSide': 'LONG',\n    'positionAmt': '0',\n    'notional': '0',\n    'isolatedWallet': '0',\n    'updateTime': '0',\n    'bidNotional': '0',\n    'askNotional': '0'},\n   {'symbol': 'GALBUSD',\n    'initialMargin': '0',\n    'maintMargin': '0',\n    'unrealizedProfit': '0.00000000',\n    'positionInitialMargin': '0',\n    'openOrderInitialMargin': '0',\n    'leverage': '20',\n    'isolated': False,\n    'entryPrice': '0.0',\n    'maxNotional': '25000',\n    'positionSide': 'SHORT',\n    'positionAmt': '0',\n    'notional': '0',\n    'isolatedWallet': '0',\n    'updateTime': '0',\n    'bidNotional': '0',\n    'askNotional': '0'},\n   {'symbol': 'BALUSDT',\n    'initialMargin': '0',\n    'maintMargin': '0',\n    'unrealizedProfit': '0.00000000',\n    'positionInitialMargin': '0',\n    'openOrderInitialMargin': '0',\n    'leverage': '20',\n    'isolated': False,\n    'entryPrice': '0.0',\n    'maxNotional': '25000',\n    'positionSide': 'LONG',\n    'positionAmt': '0.0',\n    'notional': '0',\n    'isolatedWallet': '0',\n    'updateTime': '0',\n    'bidNotional': '0',\n    'askNotional': '0'},\n   {'symbol': 'BALUSDT',\n    'initialMargin': '0',\n    'maintMargin': '0',\n    'unrealizedProfit': '0.00000000',\n    'positionInitialMargin': '0',\n    'openOrderInitialMargin': '0',\n    'leverage': '20',\n    'isolated': False,\n    'entryPrice': '0.0',\n    'maxNotional': '25000',\n    'positionSide': 'SHORT',\n    'positionAmt': '0.0',\n    'notional': '0',\n    'isolatedWallet': '0',\n    'updateTime': '0',\n    'bidNotional': '0',\n    'askNotional': '0'},\n   {'symbol': 'STMXUSDT',\n    'initialMargin': '0',\n    'maintMargin': '0',\n    'unrealizedProfit': '0.00000000',\n    'positionInitialMargin': '0',\n    'openOrderInitialMargin': '0',\n    'leverage': '20',\n    'isolated': False,\n    'entryPrice': '0.0',\n    'maxNotional': '25000',\n    'positionSide': 'LONG',\n    'positionAmt': '0',\n    'notional': '0',\n    'isolatedWallet': '0',\n    'updateTime': '0',\n    'bidNotional': '0',\n    'askNotional': '0'},\n   {'symbol': 'STMXUSDT',\n    'initialMargin': '0',\n    'maintMargin': '0',\n    'unrealizedProfit': '0.00000000',\n    'positionInitialMargin': '0',\n    'openOrderInitialMargin': '0',\n    'leverage': '20',\n    'isolated': False,\n    'entryPrice': '0.0',\n    'maxNotional': '25000',\n    'positionSide': 'SHORT',\n    'positionAmt': '0',\n    'notional': '0',\n    'isolatedWallet': '0',\n    'updateTime': '0',\n    'bidNotional': '0',\n    'askNotional': '0'},\n   {'symbol': 'DENTUSDT',\n    'initialMargin': '0',\n    'maintMargin': '0',\n    'unrealizedProfit': '0.00000000',\n    'positionInitialMargin': '0',\n    'openOrderInitialMargin': '0',\n    'leverage': '20',\n    'isolated': False,\n    'entryPrice': '0.0',\n    'maxNotional': '25000',\n    'positionSide': 'LONG',\n    'positionAmt': '0',\n    'notional': '0',\n    'isolatedWallet': '0',\n    'updateTime': '0',\n    'bidNotional': '0',\n    'askNotional': '0'},\n   {'symbol': 'DENTUSDT',\n    'initialMargin': '0',\n    'maintMargin': '0',\n    'unrealizedProfit': '0.00000000',\n    'positionInitialMargin': '0',\n    'openOrderInitialMargin': '0',\n    'leverage': '20',\n    'isolated': False,\n    'entryPrice': '0.0',\n    'maxNotional': '25000',\n    'positionSide': 'SHORT',\n    'positionAmt': '0',\n    'notional': '0',\n    'isolatedWallet': '0',\n    'updateTime': '0',\n    'bidNotional': '0',\n    'askNotional': '0'},\n   {'symbol': 'KNCUSDT',\n    'initialMargin': '0',\n    'maintMargin': '0',\n    'unrealizedProfit': '0.00000000',\n    'positionInitialMargin': '0',\n    'openOrderInitialMargin': '0',\n    'leverage': '20',\n    'isolated': False,\n    'entryPrice': '0.0',\n    'maxNotional': '25000',\n    'positionSide': 'LONG',\n    'positionAmt': '0',\n    'notional': '0',\n    'isolatedWallet': '0',\n    'updateTime': '0',\n    'bidNotional': '0',\n    'askNotional': '0'},\n   {'symbol': 'KNCUSDT',\n    'initialMargin': '0',\n    'maintMargin': '0',\n    'unrealizedProfit': '0.00000000',\n    'positionInitialMargin': '0',\n    'openOrderInitialMargin': '0',\n    'leverage': '20',\n    'isolated': False,\n    'entryPrice': '0.0',\n    'maxNotional': '25000',\n    'positionSide': 'SHORT',\n    'positionAmt': '0',\n    'notional': '0',\n    'isolatedWallet': '0',\n    'updateTime': '0',\n    'bidNotional': '0',\n    'askNotional': '0'},\n   {'symbol': 'SRMUSDT',\n    'initialMargin': '0',\n    'maintMargin': '0',\n    'unrealizedProfit': '0.00000000',\n    'positionInitialMargin': '0',\n    'openOrderInitialMargin': '0',\n    'leverage': '20',\n    'isolated': False,\n    'entryPrice': '0.0',\n    'maxNotional': '25000',\n    'positionSide': 'LONG',\n    'positionAmt': '0',\n    'notional': '0',\n    'isolatedWallet': '0',\n    'updateTime': '0',\n    'bidNotional': '0',\n    'askNotional': '0'},\n   {'symbol': 'SRMUSDT',\n    'initialMargin': '0',\n    'maintMargin': '0',\n    'unrealizedProfit': '0.00000000',\n    'positionInitialMargin': '0',\n    'openOrderInitialMargin': '0',\n    'leverage': '20',\n    'isolated': False,\n    'entryPrice': '0.0',\n    'maxNotional': '25000',\n    'positionSide': 'SHORT',\n    'positionAmt': '0',\n    'notional': '0',\n    'isolatedWallet': '0',\n    'updateTime': '0',\n    'bidNotional': '0',\n    'askNotional': '0'},\n   {'symbol': 'ENJUSDT',\n    'initialMargin': '0',\n    'maintMargin': '0',\n    'unrealizedProfit': '0.00000000',\n    'positionInitialMargin': '0',\n    'openOrderInitialMargin': '0',\n    'leverage': '20',\n    'isolated': False,\n    'entryPrice': '0.0',\n    'maxNotional': '25000',\n    'positionSide': 'LONG',\n    'positionAmt': '0',\n    'notional': '0',\n    'isolatedWallet': '0',\n    'updateTime': '0',\n    'bidNotional': '0',\n    'askNotional': '0'},\n   {'symbol': 'ENJUSDT',\n    'initialMargin': '0',\n    'maintMargin': '0',\n    'unrealizedProfit': '0.00000000',\n    'positionInitialMargin': '0',\n    'openOrderInitialMargin': '0',\n    'leverage': '20',\n    'isolated': False,\n    'entryPrice': '0.0',\n    'maxNotional': '25000',\n    'positionSide': 'SHORT',\n    'positionAmt': '0',\n    'notional': '0',\n    'isolatedWallet': '0',\n    'updateTime': '0',\n    'bidNotional': '0',\n    'askNotional': '0'},\n   {'symbol': 'C98USDT',\n    'initialMargin': '0',\n    'maintMargin': '0',\n    'unrealizedProfit': '0.00000000',\n    'positionInitialMargin': '0',\n    'openOrderInitialMargin': '0',\n    'leverage': '20',\n    'isolated': False,\n    'entryPrice': '0.0',\n    'maxNotional': '25000',\n    'positionSide': 'LONG',\n    'positionAmt': '0',\n    'notional': '0',\n    'isolatedWallet': '0',\n    'updateTime': '0',\n    'bidNotional': '0',\n    'askNotional': '0'},\n   {'symbol': 'C98USDT',\n    'initialMargin': '0',\n    'maintMargin': '0',\n    'unrealizedProfit': '0.00000000',\n    'positionInitialMargin': '0',\n    'openOrderInitialMargin': '0',\n    'leverage': '20',\n    'isolated': False,\n    'entryPrice': '0.0',\n    'maxNotional': '25000',\n    'positionSide': 'SHORT',\n    'positionAmt': '0',\n    'notional': '0',\n    'isolatedWallet': '0',\n    'updateTime': '0',\n    'bidNotional': '0',\n    'askNotional': '0'},\n   {'symbol': 'ZENUSDT',\n    'initialMargin': '0',\n    'maintMargin': '0',\n    'unrealizedProfit': '0.00000000',\n    'positionInitialMargin': '0',\n    'openOrderInitialMargin': '0',\n    'leverage': '20',\n    'isolated': False,\n    'entryPrice': '0.0',\n    'maxNotional': '25000',\n    'positionSide': 'LONG',\n    'positionAmt': '0.0',\n    'notional': '0',\n    'isolatedWallet': '0',\n    'updateTime': '0',\n    'bidNotional': '0',\n    'askNotional': '0'},\n   {'symbol': 'ZENUSDT',\n    'initialMargin': '0',\n    'maintMargin': '0',\n    'unrealizedProfit': '0.00000000',\n    'positionInitialMargin': '0',\n    'openOrderInitialMargin': '0',\n    'leverage': '20',\n    'isolated': False,\n    'entryPrice': '0.0',\n    'maxNotional': '25000',\n    'positionSide': 'SHORT',\n    'positionAmt': '0.0',\n    'notional': '0',\n    'isolatedWallet': '0',\n    'updateTime': '0',\n    'bidNotional': '0',\n    'askNotional': '0'},\n   {'symbol': 'ATOMUSDT',\n    'initialMargin': '0',\n    'maintMargin': '0',\n    'unrealizedProfit': '0.00000000',\n    'positionInitialMargin': '0',\n    'openOrderInitialMargin': '0',\n    'leverage': '20',\n    'isolated': False,\n    'entryPrice': '0.0',\n    'maxNotional': '25000',\n    'positionSide': 'LONG',\n    'positionAmt': '0.00',\n    'notional': '0',\n    'isolatedWallet': '0',\n    'updateTime': '0',\n    'bidNotional': '0',\n    'askNotional': '0'},\n   {'symbol': 'ATOMUSDT',\n    'initialMargin': '0',\n    'maintMargin': '0',\n    'unrealizedProfit': '0.00000000',\n    'positionInitialMargin': '0',\n    'openOrderInitialMargin': '0',\n    'leverage': '20',\n    'isolated': False,\n    'entryPrice': '0.0',\n    'maxNotional': '25000',\n    'positionSide': 'SHORT',\n    'positionAmt': '0.00',\n    'notional': '0',\n    'isolatedWallet': '0',\n    'updateTime': '0',\n    'bidNotional': '0',\n    'askNotional': '0'},\n   {'symbol': 'NEARUSDT',\n    'initialMargin': '0',\n    'maintMargin': '0',\n    'unrealizedProfit': '0.00000000',\n    'positionInitialMargin': '0',\n    'openOrderInitialMargin': '0',\n    'leverage': '20',\n    'isolated': False,\n    'entryPrice': '0.0',\n    'maxNotional': '25000',\n    'positionSide': 'LONG',\n    'positionAmt': '0',\n    'notional': '0',\n    'isolatedWallet': '0',\n    'updateTime': '0',\n    'bidNotional': '0',\n    'askNotional': '0'},\n   {'symbol': 'NEARUSDT',\n    'initialMargin': '0',\n    'maintMargin': '0',\n    'unrealizedProfit': '0.00000000',\n    'positionInitialMargin': '0',\n    'openOrderInitialMargin': '0',\n    'leverage': '20',\n    'isolated': False,\n    'entryPrice': '0.0',\n    'maxNotional': '25000',\n    'positionSide': 'SHORT',\n    'positionAmt': '0',\n    'notional': '0',\n    'isolatedWallet': '0',\n    'updateTime': '0',\n    'bidNotional': '0',\n    'askNotional': '0'},\n   {'symbol': 'SOLBUSD',\n    'initialMargin': '0',\n    'maintMargin': '0',\n    'unrealizedProfit': '0.00000000',\n    'positionInitialMargin': '0',\n    'openOrderInitialMargin': '0',\n    'leverage': '20',\n    'isolated': False,\n    'entryPrice': '0.0',\n    'maxNotional': '100000',\n    'positionSide': 'LONG',\n    'positionAmt': '0',\n    'notional': '0',\n    'isolatedWallet': '0',\n    'updateTime': '0',\n    'bidNotional': '0',\n    'askNotional': '0'},\n   {'symbol': 'SOLBUSD',\n    'initialMargin': '0',\n    'maintMargin': '0',\n    'unrealizedProfit': '0.00000000',\n    'positionInitialMargin': '0',\n    'openOrderInitialMargin': '0',\n    'leverage': '20',\n    'isolated': False,\n    'entryPrice': '0.0',\n    'maxNotional': '100000',\n    'positionSide': 'SHORT',\n    'positionAmt': '0',\n    'notional': '0',\n    'isolatedWallet': '0',\n    'updateTime': '0',\n    'bidNotional': '0',\n    'askNotional': '0'},\n   {'symbol': 'ENSUSDT',\n    'initialMargin': '0',\n    'maintMargin': '0',\n    'unrealizedProfit': '0.00000000',\n    'positionInitialMargin': '0',\n    'openOrderInitialMargin': '0',\n    'leverage': '20',\n    'isolated': False,\n    'entryPrice': '0.0',\n    'maxNotional': '25000',\n    'positionSide': 'LONG',\n    'positionAmt': '0.0',\n    'notional': '0',\n    'isolatedWallet': '0',\n    'updateTime': '0',\n    'bidNotional': '0',\n    'askNotional': '0'},\n   {'symbol': 'ENSUSDT',\n    'initialMargin': '0',\n    'maintMargin': '0',\n    'unrealizedProfit': '0.00000000',\n    'positionInitialMargin': '0',\n    'openOrderInitialMargin': '0',\n    'leverage': '20',\n    'isolated': False,\n    'entryPrice': '0.0',\n    'maxNotional': '25000',\n    'positionSide': 'SHORT',\n    'positionAmt': '0.0',\n    'notional': '0',\n    'isolatedWallet': '0',\n    'updateTime': '0',\n    'bidNotional': '0',\n    'askNotional': '0'},\n   {'symbol': 'BCHUSDT',\n    'initialMargin': '0',\n    'maintMargin': '0',\n    'unrealizedProfit': '0.00000000',\n    'positionInitialMargin': '0',\n    'openOrderInitialMargin': '0',\n    'leverage': '20',\n    'isolated': False,\n    'entryPrice': '0.0',\n    'maxNotional': '250000',\n    'positionSide': 'LONG',\n    'positionAmt': '0.000',\n    'notional': '0',\n    'isolatedWallet': '0',\n    'updateTime': '0',\n    'bidNotional': '0',\n    'askNotional': '0'},\n   {'symbol': 'BCHUSDT',\n    'initialMargin': '0',\n    'maintMargin': '0',\n    'unrealizedProfit': '0.00000000',\n    'positionInitialMargin': '0',\n    'openOrderInitialMargin': '0',\n    'leverage': '20',\n    'isolated': False,\n    'entryPrice': '0.0',\n    'maxNotional': '250000',\n    'positionSide': 'SHORT',\n    'positionAmt': '0.000',\n    'notional': '0',\n    'isolatedWallet': '0',\n    'updateTime': '0',\n    'bidNotional': '0',\n    'askNotional': '0'},\n   {'symbol': 'ATAUSDT',\n    'initialMargin': '0',\n    'maintMargin': '0',\n    'unrealizedProfit': '0.00000000',\n    'positionInitialMargin': '0',\n    'openOrderInitialMargin': '0',\n    'leverage': '20',\n    'isolated': False,\n    'entryPrice': '0.0',\n    'maxNotional': '25000',\n    'positionSide': 'LONG',\n    'positionAmt': '0',\n    'notional': '0',\n    'isolatedWallet': '0',\n    'updateTime': '0',\n    'bidNotional': '0',\n    'askNotional': '0'},\n   {'symbol': 'ATAUSDT',\n    'initialMargin': '0',\n    'maintMargin': '0',\n    'unrealizedProfit': '0.00000000',\n    'positionInitialMargin': '0',\n    'openOrderInitialMargin': '0',\n    'leverage': '20',\n    'isolated': False,\n    'entryPrice': '0.0',\n    'maxNotional': '25000',\n    'positionSide': 'SHORT',\n    'positionAmt': '0',\n    'notional': '0',\n    'isolatedWallet': '0',\n    'updateTime': '0',\n    'bidNotional': '0',\n    'askNotional': '0'},\n   {'symbol': 'IOSTUSDT',\n    'initialMargin': '0',\n    'maintMargin': '0',\n    'unrealizedProfit': '0.00000000',\n    'positionInitialMargin': '0',\n    'openOrderInitialMargin': '0',\n    'leverage': '20',\n    'isolated': False,\n    'entryPrice': '0.0',\n    'maxNotional': '25000',\n    'positionSide': 'LONG',\n    'positionAmt': '0',\n    'notional': '0',\n    'isolatedWallet': '0',\n    'updateTime': '0',\n    'bidNotional': '0',\n    'askNotional': '0'},\n   {'symbol': 'IOSTUSDT',\n    'initialMargin': '0',\n    'maintMargin': '0',\n    'unrealizedProfit': '0.00000000',\n    'positionInitialMargin': '0',\n    'openOrderInitialMargin': '0',\n    'leverage': '20',\n    'isolated': False,\n    'entryPrice': '0.0',\n    'maxNotional': '25000',\n    'positionSide': 'SHORT',\n    'positionAmt': '0',\n    'notional': '0',\n    'isolatedWallet': '0',\n    'updateTime': '0',\n    'bidNotional': '0',\n    'askNotional': '0'},\n   {'symbol': 'HBARUSDT',\n    'initialMargin': '0',\n    'maintMargin': '0',\n    'unrealizedProfit': '0.00000000',\n    'positionInitialMargin': '0',\n    'openOrderInitialMargin': '0',\n    'leverage': '20',\n    'isolated': False,\n    'entryPrice': '0.0',\n    'maxNotional': '25000',\n    'positionSide': 'LONG',\n    'positionAmt': '0',\n    'notional': '0',\n    'isolatedWallet': '0',\n    'updateTime': '0',\n    'bidNotional': '0',\n    'askNotional': '0'},\n   {'symbol': 'HBARUSDT',\n    'initialMargin': '0',\n    'maintMargin': '0',\n    'unrealizedProfit': '0.00000000',\n    'positionInitialMargin': '0',\n    'openOrderInitialMargin': '0',\n    'leverage': '20',\n    'isolated': False,\n    'entryPrice': '0.0',\n    'maxNotional': '25000',\n    'positionSide': 'SHORT',\n    'positionAmt': '0',\n    'notional': '0',\n    'isolatedWallet': '0',\n    'updateTime': '0',\n    'bidNotional': '0',\n    'askNotional': '0'},\n   {'symbol': 'ZECUSDT',\n    'initialMargin': '0',\n    'maintMargin': '0',\n    'unrealizedProfit': '0.00000000',\n    'positionInitialMargin': '0',\n    'openOrderInitialMargin': '0',\n    'leverage': '20',\n    'isolated': False,\n    'entryPrice': '0.0',\n    'maxNotional': '25000',\n    'positionSide': 'LONG',\n    'positionAmt': '0.000',\n    'notional': '0',\n    'isolatedWallet': '0',\n    'updateTime': '0',\n    'bidNotional': '0',\n    'askNotional': '0'},\n   {'symbol': 'ZECUSDT',\n    'initialMargin': '0',\n    'maintMargin': '0',\n    'unrealizedProfit': '0.00000000',\n    'positionInitialMargin': '0',\n    'openOrderInitialMargin': '0',\n    'leverage': '20',\n    'isolated': False,\n    'entryPrice': '0.0',\n    'maxNotional': '25000',\n    'positionSide': 'SHORT',\n    'positionAmt': '0.000',\n    'notional': '0',\n    'isolatedWallet': '0',\n    'updateTime': '0',\n    'bidNotional': '0',\n    'askNotional': '0'},\n   {'symbol': '1000SHIBUSDT',\n    'initialMargin': '0',\n    'maintMargin': '0',\n    'unrealizedProfit': '0.00000000',\n    'positionInitialMargin': '0',\n    'openOrderInitialMargin': '0',\n    'leverage': '20',\n    'isolated': False,\n    'entryPrice': '0.0',\n    'maxNotional': '25000',\n    'positionSide': 'LONG',\n    'positionAmt': '0',\n    'notional': '0',\n    'isolatedWallet': '0',\n    'updateTime': '0',\n    'bidNotional': '0',\n    'askNotional': '0'},\n   {'symbol': '1000SHIBUSDT',\n    'initialMargin': '0',\n    'maintMargin': '0',\n    'unrealizedProfit': '0.00000000',\n    'positionInitialMargin': '0',\n    'openOrderInitialMargin': '0',\n    'leverage': '20',\n    'isolated': False,\n    'entryPrice': '0.0',\n    'maxNotional': '25000',\n    'positionSide': 'SHORT',\n    'positionAmt': '0',\n    'notional': '0',\n    'isolatedWallet': '0',\n    'updateTime': '0',\n    'bidNotional': '0',\n    'askNotional': '0'},\n   {'symbol': 'TLMUSDT',\n    'initialMargin': '0',\n    'maintMargin': '0',\n    'unrealizedProfit': '0.00000000',\n    'positionInitialMargin': '0',\n    'openOrderInitialMargin': '0',\n    'leverage': '20',\n    'isolated': False,\n    'entryPrice': '0.0',\n    'maxNotional': '25000',\n    'positionSide': 'LONG',\n    'positionAmt': '0',\n    'notional': '0',\n    'isolatedWallet': '0',\n    'updateTime': '0',\n    'bidNotional': '0',\n    'askNotional': '0'},\n   {'symbol': 'TLMUSDT',\n    'initialMargin': '0',\n    'maintMargin': '0',\n    'unrealizedProfit': '0.00000000',\n    'positionInitialMargin': '0',\n    'openOrderInitialMargin': '0',\n    'leverage': '20',\n    'isolated': False,\n    'entryPrice': '0.0',\n    'maxNotional': '25000',\n    'positionSide': 'SHORT',\n    'positionAmt': '0',\n    'notional': '0',\n    'isolatedWallet': '0',\n    'updateTime': '0',\n    'bidNotional': '0',\n    'askNotional': '0'},\n   {'symbol': 'ANTUSDT',\n    'initialMargin': '0',\n    'maintMargin': '0',\n    'unrealizedProfit': '0.00000000',\n    'positionInitialMargin': '0',\n    'openOrderInitialMargin': '0',\n    'leverage': '20',\n    'isolated': False,\n    'entryPrice': '0.0',\n    'maxNotional': '25000',\n    'positionSide': 'LONG',\n    'positionAmt': '0.0',\n    'notional': '0',\n    'isolatedWallet': '0',\n    'updateTime': '0',\n    'bidNotional': '0',\n    'askNotional': '0'},\n   {'symbol': 'ANTUSDT',\n    'initialMargin': '0',\n    'maintMargin': '0',\n    'unrealizedProfit': '0.00000000',\n    'positionInitialMargin': '0',\n    'openOrderInitialMargin': '0',\n    'leverage': '20',\n    'isolated': False,\n    'entryPrice': '0.0',\n    'maxNotional': '25000',\n    'positionSide': 'SHORT',\n    'positionAmt': '0.0',\n    'notional': '0',\n    'isolatedWallet': '0',\n    'updateTime': '0',\n    'bidNotional': '0',\n    'askNotional': '0'},\n   {'symbol': 'ETHBUSD',\n    'initialMargin': '0',\n    'maintMargin': '0',\n    'unrealizedProfit': '0.00000000',\n    'positionInitialMargin': '0',\n    'openOrderInitialMargin': '0',\n    'leverage': '20',\n    'isolated': False,\n    'entryPrice': '0.0',\n    'maxNotional': '100000',\n    'positionSide': 'LONG',\n    'positionAmt': '0.000',\n    'notional': '0',\n    'isolatedWallet': '0',\n    'updateTime': '0',\n    'bidNotional': '0',\n    'askNotional': '0'},\n   {'symbol': 'ETHBUSD',\n    'initialMargin': '0',\n    'maintMargin': '0',\n    'unrealizedProfit': '0.00000000',\n    'positionInitialMargin': '0',\n    'openOrderInitialMargin': '0',\n    'leverage': '20',\n    'isolated': False,\n    'entryPrice': '0.0',\n    'maxNotional': '100000',\n    'positionSide': 'SHORT',\n    'positionAmt': '0.000',\n    'notional': '0',\n    'isolatedWallet': '0',\n    'updateTime': '0',\n    'bidNotional': '0',\n    'askNotional': '0'},\n   {'symbol': 'GALAUSDT',\n    'initialMargin': '0',\n    'maintMargin': '0',\n    'unrealizedProfit': '0.00000000',\n    'positionInitialMargin': '0',\n    'openOrderInitialMargin': '0',\n    'leverage': '20',\n    'isolated': False,\n    'entryPrice': '0.0',\n    'maxNotional': '25000',\n    'positionSide': 'LONG',\n    'positionAmt': '0',\n    'notional': '0',\n    'isolatedWallet': '0',\n    'updateTime': '0',\n    'bidNotional': '0',\n    'askNotional': '0'},\n   {'symbol': 'GALAUSDT',\n    'initialMargin': '0',\n    'maintMargin': '0',\n    'unrealizedProfit': '0.00000000',\n    'positionInitialMargin': '0',\n    'openOrderInitialMargin': '0',\n    'leverage': '20',\n    'isolated': False,\n    'entryPrice': '0.0',\n    'maxNotional': '25000',\n    'positionSide': 'SHORT',\n    'positionAmt': '0',\n    'notional': '0',\n    'isolatedWallet': '0',\n    'updateTime': '0',\n    'bidNotional': '0',\n    'askNotional': '0'},\n   {'symbol': 'AAVEUSDT',\n    'initialMargin': '0',\n    'maintMargin': '0',\n    'unrealizedProfit': '0.00000000',\n    'positionInitialMargin': '0',\n    'openOrderInitialMargin': '0',\n    'leverage': '20',\n    'isolated': False,\n    'entryPrice': '0.0',\n    'maxNotional': '250000',\n    'positionSide': 'LONG',\n    'positionAmt': '0.0',\n    'notional': '0',\n    'isolatedWallet': '0',\n    'updateTime': '0',\n    'bidNotional': '0',\n    'askNotional': '0'},\n   {'symbol': 'AAVEUSDT',\n    'initialMargin': '0',\n    'maintMargin': '0',\n    'unrealizedProfit': '0.00000000',\n    'positionInitialMargin': '0',\n    'openOrderInitialMargin': '0',\n    'leverage': '20',\n    'isolated': False,\n    'entryPrice': '0.0',\n    'maxNotional': '250000',\n    'positionSide': 'SHORT',\n    'positionAmt': '0.0',\n    'notional': '0',\n    'isolatedWallet': '0',\n    'updateTime': '0',\n    'bidNotional': '0',\n    'askNotional': '0'},\n   {'symbol': 'GTCUSDT',\n    'initialMargin': '0',\n    'maintMargin': '0',\n    'unrealizedProfit': '0.00000000',\n    'positionInitialMargin': '0',\n    'openOrderInitialMargin': '0',\n    'leverage': '20',\n    'isolated': False,\n    'entryPrice': '0.0',\n    'maxNotional': '25000',\n    'positionSide': 'LONG',\n    'positionAmt': '0.0',\n    'notional': '0',\n    'isolatedWallet': '0',\n    'updateTime': '0',\n    'bidNotional': '0',\n    'askNotional': '0'},\n   {'symbol': 'GTCUSDT',\n    'initialMargin': '0',\n    'maintMargin': '0',\n    'unrealizedProfit': '0.00000000',\n    'positionInitialMargin': '0',\n    'openOrderInitialMargin': '0',\n    'leverage': '20',\n    'isolated': False,\n    'entryPrice': '0.0',\n    'maxNotional': '25000',\n    'positionSide': 'SHORT',\n    'positionAmt': '0.0',\n    'notional': '0',\n    'isolatedWallet': '0',\n    'updateTime': '0',\n    'bidNotional': '0',\n    'askNotional': '0'},\n   {'symbol': 'ALGOUSDT',\n    'initialMargin': '0',\n    'maintMargin': '0',\n    'unrealizedProfit': '0.00000000',\n    'positionInitialMargin': '0',\n    'openOrderInitialMargin': '0',\n    'leverage': '20',\n    'isolated': False,\n    'entryPrice': '0.0',\n    'maxNotional': '25000',\n    'positionSide': 'LONG',\n    'positionAmt': '0.0',\n    'notional': '0',\n    'isolatedWallet': '0',\n    'updateTime': '0',\n    'bidNotional': '0',\n    'askNotional': '0'},\n   {'symbol': 'ALGOUSDT',\n    'initialMargin': '0',\n    'maintMargin': '0',\n    'unrealizedProfit': '0.00000000',\n    'positionInitialMargin': '0',\n    'openOrderInitialMargin': '0',\n    'leverage': '20',\n    'isolated': False,\n    'entryPrice': '0.0',\n    'maxNotional': '25000',\n    'positionSide': 'SHORT',\n    'positionAmt': '0.0',\n    'notional': '0',\n    'isolatedWallet': '0',\n    'updateTime': '0',\n    'bidNotional': '0',\n    'askNotional': '0'},\n   {'symbol': 'ICPUSDT',\n    'initialMargin': '0',\n    'maintMargin': '0',\n    'unrealizedProfit': '0.00000000',\n    'positionInitialMargin': '0',\n    'openOrderInitialMargin': '0',\n    'leverage': '20',\n    'isolated': False,\n    'entryPrice': '0.0',\n    'maxNotional': '25000',\n    'positionSide': 'LONG',\n    'positionAmt': '0.00',\n    'notional': '0',\n    'isolatedWallet': '0',\n    'updateTime': '0',\n    'bidNotional': '0',\n    'askNotional': '0'},\n   {'symbol': 'ICPUSDT',\n    'initialMargin': '0',\n    'maintMargin': '0',\n    'unrealizedProfit': '0.00000000',\n    'positionInitialMargin': '0',\n    'openOrderInitialMargin': '0',\n    'leverage': '20',\n    'isolated': False,\n    'entryPrice': '0.0',\n    'maxNotional': '25000',\n    'positionSide': 'SHORT',\n    'positionAmt': '0.00',\n    'notional': '0',\n    'isolatedWallet': '0',\n    'updateTime': '0',\n    'bidNotional': '0',\n    'askNotional': '0'},\n   {'symbol': 'LRCUSDT',\n    'initialMargin': '0',\n    'maintMargin': '0',\n    'unrealizedProfit': '0.00000000',\n    'positionInitialMargin': '0',\n    'openOrderInitialMargin': '0',\n    'leverage': '20',\n    'isolated': False,\n    'entryPrice': '0.0',\n    'maxNotional': '150000',\n    'positionSide': 'LONG',\n    'positionAmt': '0',\n    'notional': '0',\n    'isolatedWallet': '0',\n    'updateTime': '0',\n    'bidNotional': '0',\n    'askNotional': '0'},\n   {'symbol': 'LRCUSDT',\n    'initialMargin': '0',\n    'maintMargin': '0',\n    'unrealizedProfit': '0.00000000',\n    'positionInitialMargin': '0',\n    'openOrderInitialMargin': '0',\n    'leverage': '20',\n    'isolated': False,\n    'entryPrice': '0.0',\n    'maxNotional': '150000',\n    'positionSide': 'SHORT',\n    'positionAmt': '0',\n    'notional': '0',\n    'isolatedWallet': '0',\n    'updateTime': '0',\n    'bidNotional': '0',\n    'askNotional': '0'},\n   {'symbol': 'AVAXUSDT',\n    'initialMargin': '0',\n    'maintMargin': '0',\n    'unrealizedProfit': '0.00000000',\n    'positionInitialMargin': '0',\n    'openOrderInitialMargin': '0',\n    'leverage': '20',\n    'isolated': False,\n    'entryPrice': '0.0',\n    'maxNotional': '25000',\n    'positionSide': 'LONG',\n    'positionAmt': '0',\n    'notional': '0',\n    'isolatedWallet': '0',\n    'updateTime': '0',\n    'bidNotional': '0',\n    'askNotional': '0'},\n   {'symbol': 'AVAXUSDT',\n    'initialMargin': '0',\n    'maintMargin': '0',\n    'unrealizedProfit': '0.00000000',\n    'positionInitialMargin': '0',\n    'openOrderInitialMargin': '0',\n    'leverage': '20',\n    'isolated': False,\n    'entryPrice': '0.0',\n    'maxNotional': '25000',\n    'positionSide': 'SHORT',\n    'positionAmt': '0',\n    'notional': '0',\n    'isolatedWallet': '0',\n    'updateTime': '0',\n    'bidNotional': '0',\n    'askNotional': '0'},\n   {'symbol': 'ARPAUSDT',\n    'initialMargin': '0',\n    'maintMargin': '0',\n    'unrealizedProfit': '0.00000000',\n    'positionInitialMargin': '0',\n    'openOrderInitialMargin': '0',\n    'leverage': '20',\n    'isolated': False,\n    'entryPrice': '0.0',\n    'maxNotional': '25000',\n    'positionSide': 'LONG',\n    'positionAmt': '0',\n    'notional': '0',\n    'isolatedWallet': '0',\n    'updateTime': '0',\n    'bidNotional': '0',\n    'askNotional': '0'},\n   {'symbol': 'ARPAUSDT',\n    'initialMargin': '0',\n    'maintMargin': '0',\n    'unrealizedProfit': '0.00000000',\n    'positionInitialMargin': '0',\n    'openOrderInitialMargin': '0',\n    'leverage': '20',\n    'isolated': False,\n    'entryPrice': '0.0',\n    'maxNotional': '25000',\n    'positionSide': 'SHORT',\n    'positionAmt': '0',\n    'notional': '0',\n    'isolatedWallet': '0',\n    'updateTime': '0',\n    'bidNotional': '0',\n    'askNotional': '0'},\n   {'symbol': 'CELOUSDT',\n    'initialMargin': '0',\n    'maintMargin': '0',\n    'unrealizedProfit': '0.00000000',\n    'positionInitialMargin': '0',\n    'openOrderInitialMargin': '0',\n    'leverage': '20',\n    'isolated': False,\n    'entryPrice': '0.0',\n    'maxNotional': '25000',\n    'positionSide': 'LONG',\n    'positionAmt': '0.0',\n    'notional': '0',\n    'isolatedWallet': '0',\n    'updateTime': '0',\n    'bidNotional': '0',\n    'askNotional': '0'},\n   {'symbol': 'CELOUSDT',\n    'initialMargin': '0',\n    'maintMargin': '0',\n    'unrealizedProfit': '0.00000000',\n    'positionInitialMargin': '0',\n    'openOrderInitialMargin': '0',\n    'leverage': '20',\n    'isolated': False,\n    'entryPrice': '0.0',\n    'maxNotional': '25000',\n    'positionSide': 'SHORT',\n    'positionAmt': '0.0',\n    'notional': '0',\n    'isolatedWallet': '0',\n    'updateTime': '0',\n    'bidNotional': '0',\n    'askNotional': '0'},\n   {'symbol': 'ROSEUSDT',\n    'initialMargin': '0',\n    'maintMargin': '0',\n    'unrealizedProfit': '0.00000000',\n    'positionInitialMargin': '0',\n    'openOrderInitialMargin': '0',\n    'leverage': '20',\n    'isolated': False,\n    'entryPrice': '0.0',\n    'maxNotional': '25000',\n    'positionSide': 'LONG',\n    'positionAmt': '0',\n    'notional': '0',\n    'isolatedWallet': '0',\n    'updateTime': '0',\n    'bidNotional': '0',\n    'askNotional': '0'},\n   {'symbol': 'ROSEUSDT',\n    'initialMargin': '0',\n    'maintMargin': '0',\n    'unrealizedProfit': '0.00000000',\n    'positionInitialMargin': '0',\n    'openOrderInitialMargin': '0',\n    'leverage': '20',\n    'isolated': False,\n    'entryPrice': '0.0',\n    'maxNotional': '25000',\n    'positionSide': 'SHORT',\n    'positionAmt': '0',\n    'notional': '0',\n    'isolatedWallet': '0',\n    'updateTime': '0',\n    'bidNotional': '0',\n    'askNotional': '0'},\n   {'symbol': 'MATICUSDT',\n    'initialMargin': '0',\n    'maintMargin': '0',\n    'unrealizedProfit': '0.00000000',\n    'positionInitialMargin': '0',\n    'openOrderInitialMargin': '0',\n    'leverage': '20',\n    'isolated': False,\n    'entryPrice': '0.0',\n    'maxNotional': '150000',\n    'positionSide': 'LONG',\n    'positionAmt': '0',\n    'notional': '0',\n    'isolatedWallet': '0',\n    'updateTime': '0',\n    'bidNotional': '0',\n    'askNotional': '0'},\n   {'symbol': 'MATICUSDT',\n    'initialMargin': '0',\n    'maintMargin': '0',\n    'unrealizedProfit': '0.00000000',\n    'positionInitialMargin': '0',\n    'openOrderInitialMargin': '0',\n    'leverage': '20',\n    'isolated': False,\n    'entryPrice': '0.0',\n    'maxNotional': '150000',\n    'positionSide': 'SHORT',\n    'positionAmt': '0',\n    'notional': '0',\n    'isolatedWallet': '0',\n    'updateTime': '0',\n    'bidNotional': '0',\n    'askNotional': '0'},\n   {'symbol': '1INCHUSDT',\n    'initialMargin': '0',\n    'maintMargin': '0',\n    'unrealizedProfit': '0.00000000',\n    'positionInitialMargin': '0',\n    'openOrderInitialMargin': '0',\n    'leverage': '20',\n    'isolated': False,\n    'entryPrice': '0.0',\n    'maxNotional': '25000',\n    'positionSide': 'LONG',\n    'positionAmt': '0',\n    'notional': '0',\n    'isolatedWallet': '0',\n    'updateTime': '0',\n    'bidNotional': '0',\n    'askNotional': '0'},\n   {'symbol': '1INCHUSDT',\n    'initialMargin': '0',\n    'maintMargin': '0',\n    'unrealizedProfit': '0.00000000',\n    'positionInitialMargin': '0',\n    'openOrderInitialMargin': '0',\n    'leverage': '20',\n    'isolated': False,\n    'entryPrice': '0.0',\n    'maxNotional': '25000',\n    'positionSide': 'SHORT',\n    'positionAmt': '0',\n    'notional': '0',\n    'isolatedWallet': '0',\n    'updateTime': '0',\n    'bidNotional': '0',\n    'askNotional': '0'},\n   {'symbol': 'MKRUSDT',\n    'initialMargin': '0',\n    'maintMargin': '0',\n    'unrealizedProfit': '0.00000000',\n    'positionInitialMargin': '0',\n    'openOrderInitialMargin': '0',\n    'leverage': '20',\n    'isolated': False,\n    'entryPrice': '0.0',\n    'maxNotional': '25000',\n    'positionSide': 'LONG',\n    'positionAmt': '0.000',\n    'notional': '0',\n    'isolatedWallet': '0',\n    'updateTime': '0',\n    'bidNotional': '0',\n    'askNotional': '0'},\n   {'symbol': 'MKRUSDT',\n    'initialMargin': '0',\n    'maintMargin': '0',\n    'unrealizedProfit': '0.00000000',\n    'positionInitialMargin': '0',\n    'openOrderInitialMargin': '0',\n    'leverage': '20',\n    'isolated': False,\n    'entryPrice': '0.0',\n    'maxNotional': '25000',\n    'positionSide': 'SHORT',\n    'positionAmt': '0.000',\n    'notional': '0',\n    'isolatedWallet': '0',\n    'updateTime': '0',\n    'bidNotional': '0',\n    'askNotional': '0'},\n   {'symbol': 'PEOPLEUSDT',\n    'initialMargin': '0',\n    'maintMargin': '0',\n    'unrealizedProfit': '0.00000000',\n    'positionInitialMargin': '0',\n    'openOrderInitialMargin': '0',\n    'leverage': '20',\n    'isolated': False,\n    'entryPrice': '0.0',\n    'maxNotional': '25000',\n    'positionSide': 'LONG',\n    'positionAmt': '0',\n    'notional': '0',\n    'isolatedWallet': '0',\n    'updateTime': '0',\n    'bidNotional': '0',\n    'askNotional': '0'},\n   {'symbol': 'PEOPLEUSDT',\n    'initialMargin': '0',\n    'maintMargin': '0',\n    'unrealizedProfit': '0.00000000',\n    'positionInitialMargin': '0',\n    'openOrderInitialMargin': '0',\n    'leverage': '20',\n    'isolated': False,\n    'entryPrice': '0.0',\n    'maxNotional': '25000',\n    'positionSide': 'SHORT',\n    'positionAmt': '0',\n    'notional': '0',\n    'isolatedWallet': '0',\n    'updateTime': '0',\n    'bidNotional': '0',\n    'askNotional': '0'},\n   {'symbol': 'ANCBUSD',\n    'initialMargin': '0',\n    'maintMargin': '0',\n    'unrealizedProfit': '0.00000000',\n    'positionInitialMargin': '0',\n    'openOrderInitialMargin': '0',\n    'leverage': '20',\n    'isolated': False,\n    'entryPrice': '0.0',\n    'maxNotional': '25000',\n    'positionSide': 'LONG',\n    'positionAmt': '0',\n    'notional': '0',\n    'isolatedWallet': '0',\n    'updateTime': '0',\n    'bidNotional': '0',\n    'askNotional': '0'},\n   {'symbol': 'ANCBUSD',\n    'initialMargin': '0',\n    'maintMargin': '0',\n    'unrealizedProfit': '0.00000000',\n    'positionInitialMargin': '0',\n    'openOrderInitialMargin': '0',\n    'leverage': '20',\n    'isolated': False,\n    'entryPrice': '0.0',\n    'maxNotional': '25000',\n    'positionSide': 'SHORT',\n    'positionAmt': '0',\n    'notional': '0',\n    'isolatedWallet': '0',\n    'updateTime': '0',\n    'bidNotional': '0',\n    'askNotional': '0'},\n   {'symbol': 'THETAUSDT',\n    'initialMargin': '0',\n    'maintMargin': '0',\n    'unrealizedProfit': '0.00000000',\n    'positionInitialMargin': '0',\n    'openOrderInitialMargin': '0',\n    'leverage': '20',\n    'isolated': False,\n    'entryPrice': '0.0',\n    'maxNotional': '25000',\n    'positionSide': 'LONG',\n    'positionAmt': '0.0',\n    'notional': '0',\n    'isolatedWallet': '0',\n    'updateTime': '0',\n    'bidNotional': '0',\n    'askNotional': '0'},\n   {'symbol': 'THETAUSDT',\n    'initialMargin': '0',\n    'maintMargin': '0',\n    'unrealizedProfit': '0.00000000',\n    'positionInitialMargin': '0',\n    'openOrderInitialMargin': '0',\n    'leverage': '20',\n    'isolated': False,\n    'entryPrice': '0.0',\n    'maxNotional': '25000',\n    'positionSide': 'SHORT',\n    'positionAmt': '0.0',\n    'notional': '0',\n    'isolatedWallet': '0',\n    'updateTime': '0',\n    'bidNotional': '0',\n    'askNotional': '0'},\n   {'symbol': 'UNIUSDT',\n    'initialMargin': '0',\n    'maintMargin': '0',\n    'unrealizedProfit': '0.00000000',\n    'positionInitialMargin': '0',\n    'openOrderInitialMargin': '0',\n    'leverage': '20',\n    'isolated': False,\n    'entryPrice': '0.0',\n    'maxNotional': '250000',\n    'positionSide': 'LONG',\n    'positionAmt': '0',\n    'notional': '0',\n    'isolatedWallet': '0',\n    'updateTime': '0',\n    'bidNotional': '0',\n    'askNotional': '0'},\n   {'symbol': 'UNIUSDT',\n    'initialMargin': '0',\n    'maintMargin': '0',\n    'unrealizedProfit': '0.00000000',\n    'positionInitialMargin': '0',\n    'openOrderInitialMargin': '0',\n    'leverage': '20',\n    'isolated': False,\n    'entryPrice': '0.0',\n    'maxNotional': '250000',\n    'positionSide': 'SHORT',\n    'positionAmt': '0',\n    'notional': '0',\n    'isolatedWallet': '0',\n    'updateTime': '0',\n    'bidNotional': '0',\n    'askNotional': '0'},\n   {'symbol': 'LINAUSDT',\n    'initialMargin': '0',\n    'maintMargin': '0',\n    'unrealizedProfit': '0.00000000',\n    'positionInitialMargin': '0',\n    'openOrderInitialMargin': '0',\n    'leverage': '20',\n    'isolated': False,\n    'entryPrice': '0.0',\n    'maxNotional': '25000',\n    'positionSide': 'LONG',\n    'positionAmt': '0',\n    'notional': '0',\n    'isolatedWallet': '0',\n    'updateTime': '0',\n    'bidNotional': '0',\n    'askNotional': '0'},\n   {'symbol': 'LINAUSDT',\n    'initialMargin': '0',\n    'maintMargin': '0',\n    'unrealizedProfit': '0.00000000',\n    'positionInitialMargin': '0',\n    'openOrderInitialMargin': '0',\n    'leverage': '20',\n    'isolated': False,\n    'entryPrice': '0.0',\n    'maxNotional': '25000',\n    'positionSide': 'SHORT',\n    'positionAmt': '0',\n    'notional': '0',\n    'isolatedWallet': '0',\n    'updateTime': '0',\n    'bidNotional': '0',\n    'askNotional': '0'},\n   {'symbol': 'ARUSDT',\n    'initialMargin': '0',\n    'maintMargin': '0',\n    'unrealizedProfit': '0.00000000',\n    'positionInitialMargin': '0',\n    'openOrderInitialMargin': '0',\n    'leverage': '20',\n    'isolated': False,\n    'entryPrice': '0.0',\n    'maxNotional': '25000',\n    'positionSide': 'LONG',\n    'positionAmt': '0.0',\n    'notional': '0',\n    'isolatedWallet': '0',\n    'updateTime': '0',\n    'bidNotional': '0',\n    'askNotional': '0'},\n   {'symbol': 'ARUSDT',\n    'initialMargin': '0',\n    'maintMargin': '0',\n    'unrealizedProfit': '0.00000000',\n    'positionInitialMargin': '0',\n    'openOrderInitialMargin': '0',\n    'leverage': '20',\n    'isolated': False,\n    'entryPrice': '0.0',\n    'maxNotional': '25000',\n    'positionSide': 'SHORT',\n    'positionAmt': '0.0',\n    'notional': '0',\n    'isolatedWallet': '0',\n    'updateTime': '0',\n    'bidNotional': '0',\n    'askNotional': '0'},\n   {'symbol': 'RVNUSDT',\n    'initialMargin': '0',\n    'maintMargin': '0',\n    'unrealizedProfit': '0.00000000',\n    'positionInitialMargin': '0',\n    'openOrderInitialMargin': '0',\n    'leverage': '20',\n    'isolated': False,\n    'entryPrice': '0.0',\n    'maxNotional': '25000',\n    'positionSide': 'LONG',\n    'positionAmt': '0',\n    'notional': '0',\n    'isolatedWallet': '0',\n    'updateTime': '0',\n    'bidNotional': '0',\n    'askNotional': '0'},\n   {'symbol': 'RVNUSDT',\n    'initialMargin': '0',\n    'maintMargin': '0',\n    'unrealizedProfit': '0.00000000',\n    'positionInitialMargin': '0',\n    'openOrderInitialMargin': '0',\n    'leverage': '20',\n    'isolated': False,\n    'entryPrice': '0.0',\n    'maxNotional': '25000',\n    'positionSide': 'SHORT',\n    'positionAmt': '0',\n    'notional': '0',\n    'isolatedWallet': '0',\n    'updateTime': '0',\n    'bidNotional': '0',\n    'askNotional': '0'},\n   {'symbol': 'FILUSDT',\n    'initialMargin': '0',\n    'maintMargin': '0',\n    'unrealizedProfit': '0.00000000',\n    'positionInitialMargin': '0',\n    'openOrderInitialMargin': '0',\n    'leverage': '20',\n    'isolated': False,\n    'entryPrice': '0.0',\n    'maxNotional': '250000',\n    'positionSide': 'LONG',\n    'positionAmt': '0.0',\n    'notional': '0',\n    'isolatedWallet': '0',\n    'updateTime': '0',\n    'bidNotional': '0',\n    'askNotional': '0'},\n   {'symbol': 'FILUSDT',\n    'initialMargin': '0',\n    'maintMargin': '0',\n    'unrealizedProfit': '0.00000000',\n    'positionInitialMargin': '0',\n    'openOrderInitialMargin': '0',\n    'leverage': '20',\n    'isolated': False,\n    'entryPrice': '0.0',\n    'maxNotional': '250000',\n    'positionSide': 'SHORT',\n    'positionAmt': '0.0',\n    'notional': '0',\n    'isolatedWallet': '0',\n    'updateTime': '0',\n    'bidNotional': '0',\n    'askNotional': '0'},\n   {'symbol': 'NKNUSDT',\n    'initialMargin': '0',\n    'maintMargin': '0',\n    'unrealizedProfit': '0.00000000',\n    'positionInitialMargin': '0',\n    'openOrderInitialMargin': '0',\n    'leverage': '20',\n    'isolated': False,\n    'entryPrice': '0.0',\n    'maxNotional': '25000',\n    'positionSide': 'LONG',\n    'positionAmt': '0',\n    'notional': '0',\n    'isolatedWallet': '0',\n    'updateTime': '0',\n    'bidNotional': '0',\n    'askNotional': '0'},\n   {'symbol': 'NKNUSDT',\n    'initialMargin': '0',\n    'maintMargin': '0',\n    'unrealizedProfit': '0.00000000',\n    'positionInitialMargin': '0',\n    'openOrderInitialMargin': '0',\n    'leverage': '20',\n    'isolated': False,\n    'entryPrice': '0.0',\n    'maxNotional': '25000',\n    'positionSide': 'SHORT',\n    'positionAmt': '0',\n    'notional': '0',\n    'isolatedWallet': '0',\n    'updateTime': '0',\n    'bidNotional': '0',\n    'askNotional': '0'},\n   {'symbol': 'KLAYUSDT',\n    'initialMargin': '0',\n    'maintMargin': '0',\n    'unrealizedProfit': '0.00000000',\n    'positionInitialMargin': '0',\n    'openOrderInitialMargin': '0',\n    'leverage': '20',\n    'isolated': False,\n    'entryPrice': '0.0',\n    'maxNotional': '25000',\n    'positionSide': 'LONG',\n    'positionAmt': '0.0',\n    'notional': '0',\n    'isolatedWallet': '0',\n    'updateTime': '0',\n    'bidNotional': '0',\n    'askNotional': '0'},\n   {'symbol': 'KLAYUSDT',\n    'initialMargin': '0',\n    'maintMargin': '0',\n    'unrealizedProfit': '0.00000000',\n    'positionInitialMargin': '0',\n    'openOrderInitialMargin': '0',\n    'leverage': '20',\n    'isolated': False,\n    'entryPrice': '0.0',\n    'maxNotional': '25000',\n    'positionSide': 'SHORT',\n    'positionAmt': '0.0',\n    'notional': '0',\n    'isolatedWallet': '0',\n    'updateTime': '0',\n    'bidNotional': '0',\n    'askNotional': '0'},\n   {'symbol': 'DEFIUSDT',\n    'initialMargin': '0',\n    'maintMargin': '0',\n    'unrealizedProfit': '0.00000000',\n    'positionInitialMargin': '0',\n    'openOrderInitialMargin': '0',\n    'leverage': '20',\n    'isolated': False,\n    'entryPrice': '0.0',\n    'maxNotional': '25000',\n    'positionSide': 'LONG',\n    'positionAmt': '0.000',\n    'notional': '0',\n    'isolatedWallet': '0',\n    'updateTime': '0',\n    'bidNotional': '0',\n    'askNotional': '0'},\n   {'symbol': 'DEFIUSDT',\n    'initialMargin': '0',\n    'maintMargin': '0',\n    'unrealizedProfit': '0.00000000',\n    'positionInitialMargin': '0',\n    'openOrderInitialMargin': '0',\n    'leverage': '20',\n    'isolated': False,\n    'entryPrice': '0.0',\n    'maxNotional': '25000',\n    'positionSide': 'SHORT',\n    'positionAmt': '0.000',\n    'notional': '0',\n    'isolatedWallet': '0',\n    'updateTime': '0',\n    'bidNotional': '0',\n    'askNotional': '0'},\n   {'symbol': 'COMPUSDT',\n    'initialMargin': '0',\n    'maintMargin': '0',\n    'unrealizedProfit': '0.00000000',\n    'positionInitialMargin': '0',\n    'openOrderInitialMargin': '0',\n    'leverage': '20',\n    'isolated': False,\n    'entryPrice': '0.0',\n    'maxNotional': '25000',\n    'positionSide': 'LONG',\n    'positionAmt': '0.000',\n    'notional': '0',\n    'isolatedWallet': '0',\n    'updateTime': '0',\n    'bidNotional': '0',\n    'askNotional': '0'},\n   {'symbol': 'COMPUSDT',\n    'initialMargin': '0',\n    'maintMargin': '0',\n    'unrealizedProfit': '0.00000000',\n    'positionInitialMargin': '0',\n    'openOrderInitialMargin': '0',\n    'leverage': '20',\n    'isolated': False,\n    'entryPrice': '0.0',\n    'maxNotional': '25000',\n    'positionSide': 'SHORT',\n    'positionAmt': '0.000',\n    'notional': '0',\n    'isolatedWallet': '0',\n    'updateTime': '0',\n    'bidNotional': '0',\n    'askNotional': '0'},\n   {'symbol': 'BTCDOMUSDT',\n    'initialMargin': '0',\n    'maintMargin': '0',\n    'unrealizedProfit': '0.00000000',\n    'positionInitialMargin': '0',\n    'openOrderInitialMargin': '0',\n    'leverage': '20',\n    'isolated': False,\n    'entryPrice': '0.0',\n    'maxNotional': '25000',\n    'positionSide': 'LONG',\n    'positionAmt': '0.000',\n    'notional': '0',\n    'isolatedWallet': '0',\n    'updateTime': '0',\n    'bidNotional': '0',\n    'askNotional': '0'},\n   {'symbol': 'BTCDOMUSDT',\n    'initialMargin': '0',\n    'maintMargin': '0',\n    'unrealizedProfit': '0.00000000',\n    'positionInitialMargin': '0',\n    'openOrderInitialMargin': '0',\n    'leverage': '20',\n    'isolated': False,\n    'entryPrice': '0.0',\n    'maxNotional': '25000',\n    'positionSide': 'SHORT',\n    'positionAmt': '0.000',\n    'notional': '0',\n    'isolatedWallet': '0',\n    'updateTime': '0',\n    'bidNotional': '0',\n    'askNotional': '0'},\n   {'symbol': 'SOLUSDT',\n    'initialMargin': '0',\n    'maintMargin': '0',\n    'unrealizedProfit': '0.00000000',\n    'positionInitialMargin': '0',\n    'openOrderInitialMargin': '0',\n    'leverage': '20',\n    'isolated': False,\n    'entryPrice': '0.0',\n    'maxNotional': '25000',\n    'positionSide': 'LONG',\n    'positionAmt': '0',\n    'notional': '0',\n    'isolatedWallet': '0',\n    'updateTime': '0',\n    'bidNotional': '0',\n    'askNotional': '0'},\n   {'symbol': 'SOLUSDT',\n    'initialMargin': '0',\n    'maintMargin': '0',\n    'unrealizedProfit': '0.00000000',\n    'positionInitialMargin': '0',\n    'openOrderInitialMargin': '0',\n    'leverage': '20',\n    'isolated': False,\n    'entryPrice': '0.0',\n    'maxNotional': '25000',\n    'positionSide': 'SHORT',\n    'positionAmt': '0',\n    'notional': '0',\n    'isolatedWallet': '0',\n    'updateTime': '0',\n    'bidNotional': '0',\n    'askNotional': '0'},\n   {'symbol': 'BTCUSDT',\n    'initialMargin': '0',\n    'maintMargin': '0',\n    'unrealizedProfit': '0.00000000',\n    'positionInitialMargin': '0',\n    'openOrderInitialMargin': '0',\n    'leverage': '25',\n    'isolated': True,\n    'entryPrice': '0.0',\n    'maxNotional': '250000',\n    'positionSide': 'LONG',\n    'positionAmt': '0.000',\n    'notional': '0',\n    'isolatedWallet': '0',\n    'updateTime': '1653511474313',\n    'bidNotional': '0',\n    'askNotional': '0'},\n   {'symbol': 'BTCUSDT',\n    'initialMargin': '0',\n    'maintMargin': '0',\n    'unrealizedProfit': '0.00000000',\n    'positionInitialMargin': '0',\n    'openOrderInitialMargin': '0',\n    'leverage': '25',\n    'isolated': True,\n    'entryPrice': '0.0',\n    'maxNotional': '250000',\n    'positionSide': 'SHORT',\n    'positionAmt': '0.000',\n    'notional': '0',\n    'isolatedWallet': '0',\n    'updateTime': '0',\n    'bidNotional': '0',\n    'askNotional': '0'},\n   {'symbol': 'OMGUSDT',\n    'initialMargin': '0',\n    'maintMargin': '0',\n    'unrealizedProfit': '0.00000000',\n    'positionInitialMargin': '0',\n    'openOrderInitialMargin': '0',\n    'leverage': '20',\n    'isolated': False,\n    'entryPrice': '0.0',\n    'maxNotional': '25000',\n    'positionSide': 'LONG',\n    'positionAmt': '0.0',\n    'notional': '0',\n    'isolatedWallet': '0',\n    'updateTime': '0',\n    'bidNotional': '0',\n    'askNotional': '0'},\n   {'symbol': 'OMGUSDT',\n    'initialMargin': '0',\n    'maintMargin': '0',\n    'unrealizedProfit': '0.00000000',\n    'positionInitialMargin': '0',\n    'openOrderInitialMargin': '0',\n    'leverage': '20',\n    'isolated': False,\n    'entryPrice': '0.0',\n    'maxNotional': '25000',\n    'positionSide': 'SHORT',\n    'positionAmt': '0.0',\n    'notional': '0',\n    'isolatedWallet': '0',\n    'updateTime': '0',\n    'bidNotional': '0',\n    'askNotional': '0'},\n   {'symbol': 'ICXUSDT',\n    'initialMargin': '0',\n    'maintMargin': '0',\n    'unrealizedProfit': '0.00000000',\n    'positionInitialMargin': '0',\n    'openOrderInitialMargin': '0',\n    'leverage': '20',\n    'isolated': False,\n    'entryPrice': '0.0',\n    'maxNotional': '25000',\n    'positionSide': 'LONG',\n    'positionAmt': '0',\n    'notional': '0',\n    'isolatedWallet': '0',\n    'updateTime': '0',\n    'bidNotional': '0',\n    'askNotional': '0'},\n   {'symbol': 'ICXUSDT',\n    'initialMargin': '0',\n    'maintMargin': '0',\n    'unrealizedProfit': '0.00000000',\n    'positionInitialMargin': '0',\n    'openOrderInitialMargin': '0',\n    'leverage': '20',\n    'isolated': False,\n    'entryPrice': '0.0',\n    'maxNotional': '25000',\n    'positionSide': 'SHORT',\n    'positionAmt': '0',\n    'notional': '0',\n    'isolatedWallet': '0',\n    'updateTime': '0',\n    'bidNotional': '0',\n    'askNotional': '0'},\n   {'symbol': 'BLZUSDT',\n    'initialMargin': '0',\n    'maintMargin': '0',\n    'unrealizedProfit': '0.00000000',\n    'positionInitialMargin': '0',\n    'openOrderInitialMargin': '0',\n    'leverage': '20',\n    'isolated': False,\n    'entryPrice': '0.0',\n    'maxNotional': '25000',\n    'positionSide': 'LONG',\n    'positionAmt': '0',\n    'notional': '0',\n    'isolatedWallet': '0',\n    'updateTime': '0',\n    'bidNotional': '0',\n    'askNotional': '0'},\n   {'symbol': 'BLZUSDT',\n    'initialMargin': '0',\n    'maintMargin': '0',\n    'unrealizedProfit': '0.00000000',\n    'positionInitialMargin': '0',\n    'openOrderInitialMargin': '0',\n    'leverage': '20',\n    'isolated': False,\n    'entryPrice': '0.0',\n    'maxNotional': '25000',\n    'positionSide': 'SHORT',\n    'positionAmt': '0',\n    'notional': '0',\n    'isolatedWallet': '0',\n    'updateTime': '0',\n    'bidNotional': '0',\n    'askNotional': '0'},\n   {'symbol': 'GMTUSDT',\n    'initialMargin': '0',\n    'maintMargin': '0',\n    'unrealizedProfit': '0.00000000',\n    'positionInitialMargin': '0',\n    'openOrderInitialMargin': '0',\n    'leverage': '20',\n    'isolated': False,\n    'entryPrice': '0.0',\n    'maxNotional': '25000',\n    'positionSide': 'LONG',\n    'positionAmt': '0',\n    'notional': '0',\n    'isolatedWallet': '0',\n    'updateTime': '0',\n    'bidNotional': '0',\n    'askNotional': '0'},\n   {'symbol': 'GMTUSDT',\n    'initialMargin': '0',\n    'maintMargin': '0',\n    'unrealizedProfit': '0.00000000',\n    'positionInitialMargin': '0',\n    'openOrderInitialMargin': '0',\n    'leverage': '20',\n    'isolated': False,\n    'entryPrice': '0.0',\n    'maxNotional': '25000',\n    'positionSide': 'SHORT',\n    'positionAmt': '0',\n    'notional': '0',\n    'isolatedWallet': '0',\n    'updateTime': '0',\n    'bidNotional': '0',\n    'askNotional': '0'},\n   {'symbol': 'FTMUSDT',\n    'initialMargin': '0',\n    'maintMargin': '0',\n    'unrealizedProfit': '0.00000000',\n    'positionInitialMargin': '0',\n    'openOrderInitialMargin': '0',\n    'leverage': '20',\n    'isolated': False,\n    'entryPrice': '0.0',\n    'maxNotional': '25000',\n    'positionSide': 'LONG',\n    'positionAmt': '0',\n    'notional': '0',\n    'isolatedWallet': '0',\n    'updateTime': '0',\n    'bidNotional': '0',\n    'askNotional': '0'},\n   {'symbol': 'FTMUSDT',\n    'initialMargin': '0',\n    'maintMargin': '0',\n    'unrealizedProfit': '0.00000000',\n    'positionInitialMargin': '0',\n    'openOrderInitialMargin': '0',\n    'leverage': '20',\n    'isolated': False,\n    'entryPrice': '0.0',\n    'maxNotional': '25000',\n    'positionSide': 'SHORT',\n    'positionAmt': '0',\n    'notional': '0',\n    'isolatedWallet': '0',\n    'updateTime': '0',\n    'bidNotional': '0',\n    'askNotional': '0'},\n   {'symbol': 'BANDUSDT',\n    'initialMargin': '0',\n    'maintMargin': '0',\n    'unrealizedProfit': '0.00000000',\n    'positionInitialMargin': '0',\n    'openOrderInitialMargin': '0',\n    'leverage': '20',\n    'isolated': False,\n    'entryPrice': '0.0',\n    'maxNotional': '25000',\n    'positionSide': 'LONG',\n    'positionAmt': '0.0',\n    'notional': '0',\n    'isolatedWallet': '0',\n    'updateTime': '0',\n    'bidNotional': '0',\n    'askNotional': '0'},\n   {'symbol': 'BANDUSDT',\n    'initialMargin': '0',\n    'maintMargin': '0',\n    'unrealizedProfit': '0.00000000',\n    'positionInitialMargin': '0',\n    'openOrderInitialMargin': '0',\n    'leverage': '20',\n    'isolated': False,\n    'entryPrice': '0.0',\n    'maxNotional': '25000',\n    'positionSide': 'SHORT',\n    'positionAmt': '0.0',\n    'notional': '0',\n    'isolatedWallet': '0',\n    'updateTime': '0',\n    'bidNotional': '0',\n    'askNotional': '0'},\n   {'symbol': 'DOGEBUSD',\n    'initialMargin': '0',\n    'maintMargin': '0',\n    'unrealizedProfit': '0.00000000',\n    'positionInitialMargin': '0',\n    'openOrderInitialMargin': '0',\n    'leverage': '20',\n    'isolated': False,\n    'entryPrice': '0.0',\n    'maxNotional': '100000',\n    'positionSide': 'LONG',\n    'positionAmt': '0',\n    'notional': '0',\n    'isolatedWallet': '0',\n    'updateTime': '0',\n    'bidNotional': '0',\n    'askNotional': '0'},\n   {'symbol': 'DOGEBUSD',\n    'initialMargin': '0',\n    'maintMargin': '0',\n    'unrealizedProfit': '0.00000000',\n    'positionInitialMargin': '0',\n    'openOrderInitialMargin': '0',\n    'leverage': '20',\n    'isolated': False,\n    'entryPrice': '0.0',\n    'maxNotional': '100000',\n    'positionSide': 'SHORT',\n    'positionAmt': '0',\n    'notional': '0',\n    'isolatedWallet': '0',\n    'updateTime': '0',\n    'bidNotional': '0',\n    'askNotional': '0'},\n   {'symbol': 'XRPBUSD',\n    'initialMargin': '0',\n    'maintMargin': '0',\n    'unrealizedProfit': '0.00000000',\n    'positionInitialMargin': '0',\n    'openOrderInitialMargin': '0',\n    'leverage': '20',\n    'isolated': False,\n    'entryPrice': '0.0',\n    'maxNotional': '100000',\n    'positionSide': 'LONG',\n    'positionAmt': '0.0',\n    'notional': '0',\n    'isolatedWallet': '0',\n    'updateTime': '0',\n    'bidNotional': '0',\n    'askNotional': '0'},\n   {'symbol': 'XRPBUSD',\n    'initialMargin': '0',\n    'maintMargin': '0',\n    'unrealizedProfit': '0.00000000',\n    'positionInitialMargin': '0',\n    'openOrderInitialMargin': '0',\n    'leverage': '20',\n    'isolated': False,\n    'entryPrice': '0.0',\n    'maxNotional': '100000',\n    'positionSide': 'SHORT',\n    'positionAmt': '0.0',\n    'notional': '0',\n    'isolatedWallet': '0',\n    'updateTime': '0',\n    'bidNotional': '0',\n    'askNotional': '0'},\n   {'symbol': 'XRPUSDT',\n    'initialMargin': '0',\n    'maintMargin': '0',\n    'unrealizedProfit': '0.00000000',\n    'positionInitialMargin': '0',\n    'openOrderInitialMargin': '0',\n    'leverage': '20',\n    'isolated': False,\n    'entryPrice': '0.0',\n    'maxNotional': '250000',\n    'positionSide': 'LONG',\n    'positionAmt': '0.0',\n    'notional': '0',\n    'isolatedWallet': '0',\n    'updateTime': '0',\n    'bidNotional': '0',\n    'askNotional': '0'},\n   {'symbol': 'XRPUSDT',\n    'initialMargin': '0',\n    'maintMargin': '0',\n    'unrealizedProfit': '0.00000000',\n    'positionInitialMargin': '0',\n    'openOrderInitialMargin': '0',\n    'leverage': '20',\n    'isolated': False,\n    'entryPrice': '0.0',\n    'maxNotional': '250000',\n    'positionSide': 'SHORT',\n    'positionAmt': '0.0',\n    'notional': '0',\n    'isolatedWallet': '0',\n    'updateTime': '0',\n    'bidNotional': '0',\n    'askNotional': '0'},\n   {'symbol': 'FTTUSDT',\n    'initialMargin': '0',\n    'maintMargin': '0',\n    'unrealizedProfit': '0.00000000',\n    'positionInitialMargin': '0',\n    'openOrderInitialMargin': '0',\n    'leverage': '20',\n    'isolated': False,\n    'entryPrice': '0.0',\n    'maxNotional': '100000',\n    'positionSide': 'LONG',\n    'positionAmt': '0.0',\n    'notional': '0',\n    'isolatedWallet': '0',\n    'updateTime': '0',\n    'bidNotional': '0',\n    'askNotional': '0'},\n   {'symbol': 'FTTUSDT',\n    'initialMargin': '0',\n    'maintMargin': '0',\n    'unrealizedProfit': '0.00000000',\n    'positionInitialMargin': '0',\n    'openOrderInitialMargin': '0',\n    'leverage': '20',\n    'isolated': False,\n    'entryPrice': '0.0',\n    'maxNotional': '100000',\n    'positionSide': 'SHORT',\n    'positionAmt': '0.0',\n    'notional': '0',\n    'isolatedWallet': '0',\n    'updateTime': '0',\n    'bidNotional': '0',\n    'askNotional': '0'},\n   {'symbol': 'SXPUSDT',\n    'initialMargin': '0',\n    'maintMargin': '0',\n    'unrealizedProfit': '0.00000000',\n    'positionInitialMargin': '0',\n    'openOrderInitialMargin': '0',\n    'leverage': '20',\n    'isolated': False,\n    'entryPrice': '0.0',\n    'maxNotional': '25000',\n    'positionSide': 'LONG',\n    'positionAmt': '0.0',\n    'notional': '0',\n    'isolatedWallet': '0',\n    'updateTime': '0',\n    'bidNotional': '0',\n    'askNotional': '0'},\n   {'symbol': 'SXPUSDT',\n    'initialMargin': '0',\n    'maintMargin': '0',\n    'unrealizedProfit': '0.00000000',\n    'positionInitialMargin': '0',\n    'openOrderInitialMargin': '0',\n    'leverage': '20',\n    'isolated': False,\n    'entryPrice': '0.0',\n    'maxNotional': '25000',\n    'positionSide': 'SHORT',\n    'positionAmt': '0.0',\n    'notional': '0',\n    'isolatedWallet': '0',\n    'updateTime': '0',\n    'bidNotional': '0',\n    'askNotional': '0'},\n   {'symbol': 'CRVUSDT',\n    'initialMargin': '0',\n    'maintMargin': '0',\n    'unrealizedProfit': '0.00000000',\n    'positionInitialMargin': '0',\n    'openOrderInitialMargin': '0',\n    'leverage': '20',\n    'isolated': False,\n    'entryPrice': '0.0',\n    'maxNotional': '25000',\n    'positionSide': 'LONG',\n    'positionAmt': '0.0',\n    'notional': '0',\n    'isolatedWallet': '0',\n    'updateTime': '0',\n    'bidNotional': '0',\n    'askNotional': '0'},\n   {'symbol': 'CRVUSDT',\n    'initialMargin': '0',\n    'maintMargin': '0',\n    'unrealizedProfit': '0.00000000',\n    'positionInitialMargin': '0',\n    'openOrderInitialMargin': '0',\n    'leverage': '20',\n    'isolated': False,\n    'entryPrice': '0.0',\n    'maxNotional': '25000',\n    'positionSide': 'SHORT',\n    'positionAmt': '0.0',\n    'notional': '0',\n    'isolatedWallet': '0',\n    'updateTime': '0',\n    'bidNotional': '0',\n    'askNotional': '0'},\n   {'symbol': 'BELUSDT',\n    'initialMargin': '0',\n    'maintMargin': '0',\n    'unrealizedProfit': '0.00000000',\n    'positionInitialMargin': '0',\n    'openOrderInitialMargin': '0',\n    'leverage': '20',\n    'isolated': False,\n    'entryPrice': '0.0',\n    'maxNotional': '25000',\n    'positionSide': 'LONG',\n    'positionAmt': '0',\n    'notional': '0',\n    'isolatedWallet': '0',\n    'updateTime': '0',\n    'bidNotional': '0',\n    'askNotional': '0'},\n   {'symbol': 'BELUSDT',\n    'initialMargin': '0',\n    'maintMargin': '0',\n    'unrealizedProfit': '0.00000000',\n    'positionInitialMargin': '0',\n    'openOrderInitialMargin': '0',\n    'leverage': '20',\n    'isolated': False,\n    'entryPrice': '0.0',\n    'maxNotional': '25000',\n    'positionSide': 'SHORT',\n    'positionAmt': '0',\n    'notional': '0',\n    'isolatedWallet': '0',\n    'updateTime': '0',\n    'bidNotional': '0',\n    'askNotional': '0'},\n   {'symbol': 'DOTUSDT',\n    'initialMargin': '0',\n    'maintMargin': '0',\n    'unrealizedProfit': '0.00000000',\n    'positionInitialMargin': '0',\n    'openOrderInitialMargin': '0',\n    'leverage': '20',\n    'isolated': False,\n    'entryPrice': '0.0',\n    'maxNotional': '250000',\n    'positionSide': 'LONG',\n    'positionAmt': '0.0',\n    'notional': '0',\n    'isolatedWallet': '0',\n    'updateTime': '0',\n    'bidNotional': '0',\n    'askNotional': '0'},\n   {'symbol': 'DOTUSDT',\n    'initialMargin': '0',\n    'maintMargin': '0',\n    'unrealizedProfit': '0.00000000',\n    'positionInitialMargin': '0',\n    'openOrderInitialMargin': '0',\n    'leverage': '20',\n    'isolated': False,\n    'entryPrice': '0.0',\n    'maxNotional': '250000',\n    'positionSide': 'SHORT',\n    'positionAmt': '0.0',\n    'notional': '0',\n    'isolatedWallet': '0',\n    'updateTime': '0',\n    'bidNotional': '0',\n    'askNotional': '0'},\n   {'symbol': 'XEMUSDT',\n    'initialMargin': '0',\n    'maintMargin': '0',\n    'unrealizedProfit': '0.00000000',\n    'positionInitialMargin': '0',\n    'openOrderInitialMargin': '0',\n    'leverage': '20',\n    'isolated': False,\n    'entryPrice': '0.0',\n    'maxNotional': '25000',\n    'positionSide': 'LONG',\n    'positionAmt': '0',\n    'notional': '0',\n    'isolatedWallet': '0',\n    'updateTime': '0',\n    'bidNotional': '0',\n    'askNotional': '0'},\n   {'symbol': 'XEMUSDT',\n    'initialMargin': '0',\n    'maintMargin': '0',\n    'unrealizedProfit': '0.00000000',\n    'positionInitialMargin': '0',\n    'openOrderInitialMargin': '0',\n    'leverage': '20',\n    'isolated': False,\n    'entryPrice': '0.0',\n    'maxNotional': '25000',\n    'positionSide': 'SHORT',\n    'positionAmt': '0',\n    'notional': '0',\n    'isolatedWallet': '0',\n    'updateTime': '0',\n    'bidNotional': '0',\n    'askNotional': '0'},\n   {'symbol': 'GMTBUSD',\n    'initialMargin': '0',\n    'maintMargin': '0',\n    'unrealizedProfit': '0.00000000',\n    'positionInitialMargin': '0',\n    'openOrderInitialMargin': '0',\n    'leverage': '20',\n    'isolated': False,\n    'entryPrice': '0.0',\n    'maxNotional': '25000',\n    'positionSide': 'LONG',\n    'positionAmt': '0.0',\n    'notional': '0',\n    'isolatedWallet': '0',\n    'updateTime': '0',\n    'bidNotional': '0',\n    'askNotional': '0'},\n   {'symbol': 'GMTBUSD',\n    'initialMargin': '0',\n    'maintMargin': '0',\n    'unrealizedProfit': '0.00000000',\n    'positionInitialMargin': '0',\n    'openOrderInitialMargin': '0',\n    'leverage': '20',\n    'isolated': False,\n    'entryPrice': '0.0',\n    'maxNotional': '25000',\n    'positionSide': 'SHORT',\n    'positionAmt': '0.0',\n    'notional': '0',\n    'isolatedWallet': '0',\n    'updateTime': '0',\n    'bidNotional': '0',\n    'askNotional': '0'},\n   {'symbol': 'ONEUSDT',\n    'initialMargin': '0',\n    'maintMargin': '0',\n    'unrealizedProfit': '0.00000000',\n    'positionInitialMargin': '0',\n    'openOrderInitialMargin': '0',\n    'leverage': '20',\n    'isolated': False,\n    'entryPrice': '0.0',\n    'maxNotional': '25000',\n    'positionSide': 'LONG',\n    'positionAmt': '0',\n    'notional': '0',\n    'isolatedWallet': '0',\n    'updateTime': '0',\n    'bidNotional': '0',\n    'askNotional': '0'},\n   {'symbol': 'ONEUSDT',\n    'initialMargin': '0',\n    'maintMargin': '0',\n    'unrealizedProfit': '0.00000000',\n    'positionInitialMargin': '0',\n    'openOrderInitialMargin': '0',\n    'leverage': '20',\n    'isolated': False,\n    'entryPrice': '0.0',\n    'maxNotional': '25000',\n    'positionSide': 'SHORT',\n    'positionAmt': '0',\n    'notional': '0',\n    'isolatedWallet': '0',\n    'updateTime': '0',\n    'bidNotional': '0',\n    'askNotional': '0'},\n   {'symbol': 'ZILUSDT',\n    'initialMargin': '0',\n    'maintMargin': '0',\n    'unrealizedProfit': '0.00000000',\n    'positionInitialMargin': '0',\n    'openOrderInitialMargin': '0',\n    'leverage': '20',\n    'isolated': False,\n    'entryPrice': '0.0',\n    'maxNotional': '25000',\n    'positionSide': 'LONG',\n    'positionAmt': '0',\n    'notional': '0',\n    'isolatedWallet': '0',\n    'updateTime': '0',\n    'bidNotional': '0',\n    'askNotional': '0'},\n   {'symbol': 'ZILUSDT',\n    'initialMargin': '0',\n    'maintMargin': '0',\n    'unrealizedProfit': '0.00000000',\n    'positionInitialMargin': '0',\n    'openOrderInitialMargin': '0',\n    'leverage': '20',\n    'isolated': False,\n    'entryPrice': '0.0',\n    'maxNotional': '25000',\n    'positionSide': 'SHORT',\n    'positionAmt': '0',\n    'notional': '0',\n    'isolatedWallet': '0',\n    'updateTime': '0',\n    'bidNotional': '0',\n    'askNotional': '0'},\n   {'symbol': 'AXSUSDT',\n    'initialMargin': '0',\n    'maintMargin': '0',\n    'unrealizedProfit': '0.00000000',\n    'positionInitialMargin': '0',\n    'openOrderInitialMargin': '0',\n    'leverage': '20',\n    'isolated': False,\n    'entryPrice': '0.0',\n    'maxNotional': '25000',\n    'positionSide': 'LONG',\n    'positionAmt': '0',\n    'notional': '0',\n    'isolatedWallet': '0',\n    'updateTime': '0',\n    'bidNotional': '0',\n    'askNotional': '0'},\n   {'symbol': 'AXSUSDT',\n    'initialMargin': '0',\n    'maintMargin': '0',\n    'unrealizedProfit': '0.00000000',\n    'positionInitialMargin': '0',\n    'openOrderInitialMargin': '0',\n    'leverage': '20',\n    'isolated': False,\n    'entryPrice': '0.0',\n    'maxNotional': '25000',\n    'positionSide': 'SHORT',\n    'positionAmt': '0',\n    'notional': '0',\n    'isolatedWallet': '0',\n    'updateTime': '0',\n    'bidNotional': '0',\n    'askNotional': '0'},\n   {'symbol': 'DYDXUSDT',\n    'initialMargin': '0',\n    'maintMargin': '0',\n    'unrealizedProfit': '0.00000000',\n    'positionInitialMargin': '0',\n    'openOrderInitialMargin': '0',\n    'leverage': '20',\n    'isolated': False,\n    'entryPrice': '0.0',\n    'maxNotional': '25000',\n    'positionSide': 'LONG',\n    'positionAmt': '0.0',\n    'notional': '0',\n    'isolatedWallet': '0',\n    'updateTime': '0',\n    'bidNotional': '0',\n    'askNotional': '0'},\n   {'symbol': 'DYDXUSDT',\n    'initialMargin': '0',\n    'maintMargin': '0',\n    'unrealizedProfit': '0.00000000',\n    'positionInitialMargin': '0',\n    'openOrderInitialMargin': '0',\n    'leverage': '20',\n    'isolated': False,\n    'entryPrice': '0.0',\n    'maxNotional': '25000',\n    'positionSide': 'SHORT',\n    'positionAmt': '0.0',\n    'notional': '0',\n    'isolatedWallet': '0',\n    'updateTime': '0',\n    'bidNotional': '0',\n    'askNotional': '0'},\n   {'symbol': 'OCEANUSDT',\n    'initialMargin': '0',\n    'maintMargin': '0',\n    'unrealizedProfit': '0.00000000',\n    'positionInitialMargin': '0',\n    'openOrderInitialMargin': '0',\n    'leverage': '20',\n    'isolated': False,\n    'entryPrice': '0.0',\n    'maxNotional': '25000',\n    'positionSide': 'LONG',\n    'positionAmt': '0',\n    'notional': '0',\n    'isolatedWallet': '0',\n    'updateTime': '0',\n    'bidNotional': '0',\n    'askNotional': '0'},\n   {'symbol': 'OCEANUSDT',\n    'initialMargin': '0',\n    'maintMargin': '0',\n    'unrealizedProfit': '0.00000000',\n    'positionInitialMargin': '0',\n    'openOrderInitialMargin': '0',\n    'leverage': '20',\n    'isolated': False,\n    'entryPrice': '0.0',\n    'maxNotional': '25000',\n    'positionSide': 'SHORT',\n    'positionAmt': '0',\n    'notional': '0',\n    'isolatedWallet': '0',\n    'updateTime': '0',\n    'bidNotional': '0',\n    'askNotional': '0'},\n   {'symbol': 'CHZUSDT',\n    'initialMargin': '0',\n    'maintMargin': '0',\n    'unrealizedProfit': '0.00000000',\n    'positionInitialMargin': '0',\n    'openOrderInitialMargin': '0',\n    'leverage': '20',\n    'isolated': False,\n    'entryPrice': '0.0',\n    'maxNotional': '25000',\n    'positionSide': 'LONG',\n    'positionAmt': '0',\n    'notional': '0',\n    'isolatedWallet': '0',\n    'updateTime': '0',\n    'bidNotional': '0',\n    'askNotional': '0'},\n   {'symbol': 'CHZUSDT',\n    'initialMargin': '0',\n    'maintMargin': '0',\n    'unrealizedProfit': '0.00000000',\n    'positionInitialMargin': '0',\n    'openOrderInitialMargin': '0',\n    'leverage': '20',\n    'isolated': False,\n    'entryPrice': '0.0',\n    'maxNotional': '25000',\n    'positionSide': 'SHORT',\n    'positionAmt': '0',\n    'notional': '0',\n    'isolatedWallet': '0',\n    'updateTime': '0',\n    'bidNotional': '0',\n    'askNotional': '0'},\n   {'symbol': 'ANKRUSDT',\n    'initialMargin': '0',\n    'maintMargin': '0',\n    'unrealizedProfit': '0.00000000',\n    'positionInitialMargin': '0',\n    'openOrderInitialMargin': '0',\n    'leverage': '20',\n    'isolated': False,\n    'entryPrice': '0.0',\n    'maxNotional': '25000',\n    'positionSide': 'LONG',\n    'positionAmt': '0',\n    'notional': '0',\n    'isolatedWallet': '0',\n    'updateTime': '0',\n    'bidNotional': '0',\n    'askNotional': '0'},\n   {'symbol': 'ANKRUSDT',\n    'initialMargin': '0',\n    'maintMargin': '0',\n    'unrealizedProfit': '0.00000000',\n    'positionInitialMargin': '0',\n    'openOrderInitialMargin': '0',\n    'leverage': '20',\n    'isolated': False,\n    'entryPrice': '0.0',\n    'maxNotional': '25000',\n    'positionSide': 'SHORT',\n    'positionAmt': '0',\n    'notional': '0',\n    'isolatedWallet': '0',\n    'updateTime': '0',\n    'bidNotional': '0',\n    'askNotional': '0'},\n   {'symbol': 'DUSKUSDT',\n    'initialMargin': '0',\n    'maintMargin': '0',\n    'unrealizedProfit': '0.00000000',\n    'positionInitialMargin': '0',\n    'openOrderInitialMargin': '0',\n    'leverage': '20',\n    'isolated': False,\n    'entryPrice': '0.0',\n    'maxNotional': '25000',\n    'positionSide': 'LONG',\n    'positionAmt': '0',\n    'notional': '0',\n    'isolatedWallet': '0',\n    'updateTime': '0',\n    'bidNotional': '0',\n    'askNotional': '0'},\n   {'symbol': 'DUSKUSDT',\n    'initialMargin': '0',\n    'maintMargin': '0',\n    'unrealizedProfit': '0.00000000',\n    'positionInitialMargin': '0',\n    'openOrderInitialMargin': '0',\n    'leverage': '20',\n    'isolated': False,\n    'entryPrice': '0.0',\n    'maxNotional': '25000',\n    'positionSide': 'SHORT',\n    'positionAmt': '0',\n    'notional': '0',\n    'isolatedWallet': '0',\n    'updateTime': '0',\n    'bidNotional': '0',\n    'askNotional': '0'},\n   {'symbol': 'BTCUSDT_220624',\n    'initialMargin': '0',\n    'maintMargin': '0',\n    'unrealizedProfit': '0.00000000',\n    'positionInitialMargin': '0',\n    'openOrderInitialMargin': '0',\n    'leverage': '20',\n    'isolated': False,\n    'entryPrice': '0.0',\n    'maxNotional': '375000',\n    'positionSide': 'LONG',\n    'positionAmt': '0.000',\n    'notional': '0',\n    'isolatedWallet': '0',\n    'updateTime': '0',\n    'bidNotional': '0',\n    'askNotional': '0'},\n   {'symbol': 'BTCUSDT_220624',\n    'initialMargin': '0',\n    'maintMargin': '0',\n    'unrealizedProfit': '0.00000000',\n    'positionInitialMargin': '0',\n    'openOrderInitialMargin': '0',\n    'leverage': '20',\n    'isolated': False,\n    'entryPrice': '0.0',\n    'maxNotional': '375000',\n    'positionSide': 'SHORT',\n    'positionAmt': '0.000',\n    'notional': '0',\n    'isolatedWallet': '0',\n    'updateTime': '0',\n    'bidNotional': '0',\n    'askNotional': '0'},\n   {'symbol': 'CTSIUSDT',\n    'initialMargin': '0',\n    'maintMargin': '0',\n    'unrealizedProfit': '0.00000000',\n    'positionInitialMargin': '0',\n    'openOrderInitialMargin': '0',\n    'leverage': '20',\n    'isolated': False,\n    'entryPrice': '0.0',\n    'maxNotional': '25000',\n    'positionSide': 'LONG',\n    'positionAmt': '0',\n    'notional': '0',\n    'isolatedWallet': '0',\n    'updateTime': '0',\n    'bidNotional': '0',\n    'askNotional': '0'},\n   {'symbol': 'CTSIUSDT',\n    'initialMargin': '0',\n    'maintMargin': '0',\n    'unrealizedProfit': '0.00000000',\n    'positionInitialMargin': '0',\n    'openOrderInitialMargin': '0',\n    'leverage': '20',\n    'isolated': False,\n    'entryPrice': '0.0',\n    'maxNotional': '25000',\n    'positionSide': 'SHORT',\n    'positionAmt': '0',\n    'notional': '0',\n    'isolatedWallet': '0',\n    'updateTime': '0',\n    'bidNotional': '0',\n    'askNotional': '0'}]},\n 'BNB': {'free': 0.0, 'used': 0.0, 'total': 0.0},\n 'USDT': {'free': 2994.70649966, 'used': 0.0, 'total': 2994.70649966},\n 'BUSD': {'free': 0.0, 'used': 0.0, 'total': 0.0},\n 'timestamp': None,\n 'datetime': None,\n 'free': {'BNB': 0.0, 'USDT': 2994.70649966, 'BUSD': 0.0},\n 'used': {'BNB': 0.0, 'USDT': 0.0, 'BUSD': 0.0},\n 'total': {'BNB': 0.0, 'USDT': 2994.70649966, 'BUSD': 0.0}}"
     },
     "execution_count": 13,
     "metadata": {},
     "output_type": "execute_result"
    }
   ],
   "source": [
    "exchange.fetch_balance()"
   ],
   "metadata": {
    "collapsed": false,
    "pycharm": {
     "name": "#%%\n"
    }
   }
  },
  {
   "cell_type": "code",
   "execution_count": 12,
   "outputs": [
    {
     "data": {
      "text/plain": "['1000SHIB/USDT',\n '1000XEC/USDT',\n '1INCH/USDT',\n 'AAVEUSDT',\n 'ADA/BUSD',\n 'ADA/USDT',\n 'AKROUSDT',\n 'ALGO/USDT',\n 'ALICEUSDT',\n 'ALPHAUSDT',\n 'ANC/BUSD',\n 'ANKR/USDT',\n 'ANT/USDT',\n 'APE/BUSD',\n 'APE/USDT',\n 'API3/USDT',\n 'ARPA/USDT',\n 'ARUSDT',\n 'ATA/USDT',\n 'ATOM/USDT',\n 'AUDIO/USDT',\n 'AVAX/BUSD',\n 'AVAX/USDT',\n 'AXS/USDT',\n 'BAKEUSDT',\n 'BAL/USDT',\n 'BAND/USDT',\n 'BAT/USDT',\n 'BCH/USDT',\n 'BELUSDT',\n 'BLZUSDT',\n 'BNB/BUSD',\n 'BNB/USDT',\n 'BNTUSDT',\n 'BNX/USDT',\n 'BTC/BUSD',\n 'BTC/USDT',\n 'BTCDOM/USDT',\n 'BTCSTUSDT',\n 'BTCUSDT_220624',\n 'BTS/USDT',\n 'C98/USDT',\n 'CELO/USDT',\n 'CELRUSDT',\n 'CHRUSDT',\n 'CHZ/USDT',\n 'COMP/USDT',\n 'COTI/USDT',\n 'CRVUSDT',\n 'CTKUSDT',\n 'CTSIUSDT',\n 'CVC/USDT',\n 'DAR/USDT',\n 'DASH/USDT',\n 'DEFI/USDT',\n 'DENT/USDT',\n 'DGBUSDT',\n 'DODO/BUSD',\n 'DODO/USDT',\n 'DOGE/USDT',\n 'DOGEBUSD',\n 'DOTUSDT',\n 'DUSK/USDT',\n 'DYDXUSDT',\n 'EGLD/USDT',\n 'ENJ/USDT',\n 'ENSUSDT',\n 'EOS/USDT',\n 'ETC/USDT',\n 'ETH/USDT',\n 'ETHBUSD',\n 'ETHUSDT_220624',\n 'FIL/USDT',\n 'FLM/USDT',\n 'FLOW/USDT',\n 'FTM/BUSD',\n 'FTM/USDT',\n 'FTT/BUSD',\n 'FTT/USDT',\n 'GAL/BUSD',\n 'GAL/USDT',\n 'GALA/BUSD',\n 'GALA/USDT',\n 'GMT/BUSD',\n 'GMT/USDT',\n 'GRTUSDT',\n 'GTCUSDT',\n 'HBARUSDT',\n 'HNT/USDT',\n 'HOT/USDT',\n 'ICPUSDT',\n 'ICXUSDT',\n 'IMX/USDT',\n 'IOST/USDT',\n 'IOTA/USDT',\n 'IOTX/USDT',\n 'JASMY/USDT',\n 'KAVA/USDT',\n 'KLAY/USDT',\n 'KNC/USDT',\n 'KSM/USDT',\n 'LINA/USDT',\n 'LINK/USDT',\n 'LIT/USDT',\n 'LPTUSDT',\n 'LRC/USDT',\n 'LTC/USDT',\n 'MANAUSDT',\n 'MASK/USDT',\n 'MATICUSDT',\n 'MKR/USDT',\n 'MTL/USDT',\n 'NEAR/BUSD',\n 'NEAR/USDT',\n 'NEOUSDT',\n 'NKNUSDT',\n 'OCEAN/USDT',\n 'OGN/USDT',\n 'OMG/USDT',\n 'ONEUSDT',\n 'ONT/USDT',\n 'PEOPLE/USDT',\n 'QTUM/USDT',\n 'RAY/USDT',\n 'REEF/USDT',\n 'REN/USDT',\n 'RLC/USDT',\n 'ROSE/USDT',\n 'RSRUSDT',\n 'RUNEUSDT',\n 'RVNUSDT',\n 'SANDUSDT',\n 'SC/USDT',\n 'SFPUSDT',\n 'SKL/USDT',\n 'SNX/USDT',\n 'SOL/USDT',\n 'SOLBUSD',\n 'SRMUSDT',\n 'STMX/USDT',\n 'STORJ/USDT',\n 'SUSHI/USDT',\n 'SXP/USDT',\n 'THETAUSDT',\n 'TLMUSDT',\n 'TOMO/USDT',\n 'TRBUSDT',\n 'TRX/BUSD',\n 'TRX/USDT',\n 'UNFI/USDT',\n 'UNI/USDT',\n 'VET/USDT',\n 'WAVES/USDT',\n 'WOO/USDT',\n 'XEMUSDT',\n 'XLM/USDT',\n 'XMR/USDT',\n 'XRP/USDT',\n 'XRPBUSD',\n 'XTZ/USDT',\n 'YFI/USDT',\n 'ZEC/USDT',\n 'ZEN/USDT',\n 'ZIL/USDT',\n 'ZRX/USDT']"
     },
     "execution_count": 12,
     "metadata": {},
     "output_type": "execute_result"
    }
   ],
   "source": [
    "exchange.symbols"
   ],
   "metadata": {
    "collapsed": false,
    "pycharm": {
     "name": "#%%\n"
    }
   }
  },
  {
   "cell_type": "code",
   "execution_count": 12,
   "outputs": [],
   "source": [
    "symbol = 'ETH/USDT'\n",
    "amount = 10  # In dollars\n",
    "leverage = 50"
   ],
   "metadata": {
    "collapsed": false,
    "pycharm": {
     "name": "#%%\n"
    }
   }
  },
  {
   "cell_type": "code",
   "execution_count": 8,
   "outputs": [],
   "source": [
    "markets = exchange.load_markets()  # https://github.com/ccxt/ccxt/wiki/Manual#loading-markets\n",
    "market = exchange.market(symbol)  # https://github.com/ccxt/ccxt/wiki/Manual#methods-for-markets-and-currencies\n",
    "# https://binance-docs.github.io/apidocs/futures/en/#change-initial-leverage-trade\n",
    "\n",
    "# exchange.fapiPrivate_post_leverage({  # https://github.com/ccxt/ccxt/wiki/Manual#implicit-api-methods\n",
    "#     'symbol': market['id'],  # https://github.com/ccxt/ccxt/wiki/Manual#symbols-and-market-ids\n",
    "#     'leverage': leverage,  # target initial leverage, int from 1 to 125\n",
    "# })\n",
    "\n",
    "# exchange.fapiPrivatePostMargintype({\n",
    "#     'symbol': market['id'],\n",
    "#     'marginType': 'ISOLATED'\n",
    "# })\n",
    "\n",
    "# exchange.fapiPrivate_post_positionside_dual({\n",
    "#     'dualSidePosition': 'true'\n",
    "# })"
   ],
   "metadata": {
    "collapsed": false,
    "pycharm": {
     "name": "#%%\n"
    }
   }
  },
  {
   "cell_type": "code",
   "execution_count": 63,
   "outputs": [
    {
     "data": {
      "text/plain": "{'id': 'ETHUSDT',\n 'symbol': 'ETH/USDT',\n 'base': 'ETH',\n 'quote': 'USDT',\n 'baseId': 'ETH',\n 'quoteId': 'USDT',\n 'active': True,\n 'type': 'future',\n 'linear': True,\n 'inverse': False,\n 'spot': False,\n 'swap': True,\n 'future': True,\n 'option': False,\n 'margin': False,\n 'contract': True,\n 'contractSize': 1.0,\n 'expiry': None,\n 'expiryDatetime': None,\n 'optionType': None,\n 'strike': None,\n 'settle': 'USDT',\n 'settleId': 'USDT',\n 'precision': {'amount': 3, 'price': 2, 'base': 8, 'quote': 8},\n 'limits': {'leverage': {'min': None, 'max': None},\n  'amount': {'min': 0.001, 'max': 10000.0},\n  'price': {'min': 19.69, 'max': 100433.24},\n  'cost': {'min': 10.0, 'max': None},\n  'market': {'min': 0.001, 'max': 10000.0}},\n 'info': {'symbol': 'ETHUSDT',\n  'pair': 'ETHUSDT',\n  'contractType': 'PERPETUAL',\n  'deliveryDate': '4133404800000',\n  'onboardDate': '1569398400000',\n  'status': 'TRADING',\n  'maintMarginPercent': '2.5000',\n  'requiredMarginPercent': '5.0000',\n  'baseAsset': 'ETH',\n  'quoteAsset': 'USDT',\n  'marginAsset': 'USDT',\n  'pricePrecision': '2',\n  'quantityPrecision': '3',\n  'baseAssetPrecision': '8',\n  'quotePrecision': '8',\n  'underlyingType': 'COIN',\n  'underlyingSubType': [],\n  'settlePlan': '0',\n  'triggerProtect': '0.0500',\n  'liquidationFee': '0.020000',\n  'marketTakeBound': '0.10',\n  'filters': [{'minPrice': '19.69',\n    'maxPrice': '100433.24',\n    'filterType': 'PRICE_FILTER',\n    'tickSize': '0.01'},\n   {'stepSize': '0.001',\n    'filterType': 'LOT_SIZE',\n    'maxQty': '10000',\n    'minQty': '0.001'},\n   {'stepSize': '0.001',\n    'filterType': 'MARKET_LOT_SIZE',\n    'maxQty': '10000',\n    'minQty': '0.001'},\n   {'limit': '200', 'filterType': 'MAX_NUM_ORDERS'},\n   {'limit': '10', 'filterType': 'MAX_NUM_ALGO_ORDERS'},\n   {'notional': '10', 'filterType': 'MIN_NOTIONAL'},\n   {'multiplierDown': '0.9000',\n    'multiplierUp': '1.1000',\n    'multiplierDecimal': '4',\n    'filterType': 'PERCENT_PRICE'}],\n  'orderTypes': ['LIMIT',\n   'MARKET',\n   'STOP',\n   'STOP_MARKET',\n   'TAKE_PROFIT',\n   'TAKE_PROFIT_MARKET',\n   'TRAILING_STOP_MARKET'],\n  'timeInForce': ['GTC', 'IOC', 'FOK', 'GTX']},\n 'percentage': True,\n 'feeSide': 'get',\n 'tierBased': False,\n 'taker': 0.0004,\n 'maker': 0.0002,\n 'lowercaseId': 'ethusdt',\n 'delivery': False}"
     },
     "execution_count": 63,
     "metadata": {},
     "output_type": "execute_result"
    }
   ],
   "source": [
    "market"
   ],
   "metadata": {
    "collapsed": false,
    "pycharm": {
     "name": "#%%\n"
    }
   }
  },
  {
   "cell_type": "code",
   "execution_count": 13,
   "outputs": [
    {
     "data": {
      "text/plain": "'0.286'"
     },
     "execution_count": 13,
     "metadata": {},
     "output_type": "execute_result"
    }
   ],
   "source": [
    "btc_price = exchange.fetch_ticker(symbol)['close']\n",
    "order_amount = amount * leverage / btc_price  # After leverage\n",
    "amount_in_btc = exchange.amount_to_precision(symbol=symbol, amount=order_amount)\n",
    "amount_in_btc"
   ],
   "metadata": {
    "collapsed": false,
    "pycharm": {
     "name": "#%%\n"
    }
   }
  },
  {
   "cell_type": "code",
   "execution_count": 30,
   "outputs": [
    {
     "data": {
      "text/plain": "{'info': {'orderId': '860463312',\n  'symbol': 'ETHUSDT',\n  'status': 'FILLED',\n  'clientOrderId': 'x-xcKtGhcu7b7eac0783260f867b8874',\n  'price': '0',\n  'avgPrice': '1796.70000',\n  'origQty': '0.286',\n  'executedQty': '0.286',\n  'cumQty': '0.286',\n  'cumQuote': '513.85620',\n  'timeInForce': 'GTC',\n  'type': 'MARKET',\n  'reduceOnly': False,\n  'closePosition': False,\n  'side': 'BUY',\n  'positionSide': 'LONG',\n  'stopPrice': '0',\n  'workingType': 'CONTRACT_PRICE',\n  'priceProtect': False,\n  'origType': 'MARKET',\n  'updateTime': '1653819655330'},\n 'id': '860463312',\n 'clientOrderId': 'x-xcKtGhcu7b7eac0783260f867b8874',\n 'timestamp': None,\n 'datetime': None,\n 'lastTradeTimestamp': None,\n 'symbol': 'ETH/USDT',\n 'type': 'market',\n 'timeInForce': 'IOC',\n 'postOnly': False,\n 'reduceOnly': False,\n 'side': 'buy',\n 'price': 1796.7,\n 'stopPrice': None,\n 'amount': 0.286,\n 'cost': 513.8562,\n 'average': 1796.7,\n 'filled': 0.286,\n 'remaining': 0.0,\n 'status': 'closed',\n 'fee': None,\n 'trades': [],\n 'fees': []}"
     },
     "execution_count": 30,
     "metadata": {},
     "output_type": "execute_result"
    }
   ],
   "source": [
    "order = exchange.create_market_buy_order(symbol=symbol, amount=amount_in_btc, params={\n",
    "    'positionSide': 'LONG'\n",
    "})\n",
    "order"
   ],
   "metadata": {
    "collapsed": false,
    "pycharm": {
     "name": "#%%\n"
    }
   }
  },
  {
   "cell_type": "code",
   "execution_count": 20,
   "outputs": [
    {
     "data": {
      "text/plain": "[{'info': {'symbol': 'ETHUSDT',\n   'positionAmt': '0.000',\n   'entryPrice': '0.0',\n   'markPrice': '1786.92709194',\n   'unRealizedProfit': '0.00000000',\n   'liquidationPrice': '0',\n   'leverage': '1',\n   'maxNotionalValue': '9.223372036854776E18',\n   'marginType': 'cross',\n   'isolatedMargin': '0.00000000',\n   'isAutoAddMargin': 'false',\n   'positionSide': 'BOTH',\n   'notional': '0',\n   'isolatedWallet': '0',\n   'updateTime': '1653556684457'},\n  'symbol': 'ETH/USDT',\n  'contracts': 0.0,\n  'contractSize': 1.0,\n  'unrealizedPnl': 0.0,\n  'leverage': 1.0,\n  'liquidationPrice': None,\n  'collateral': 0.0,\n  'notional': 0.0,\n  'markPrice': 1786.92709194,\n  'entryPrice': 0.0,\n  'timestamp': 1653556684457,\n  'initialMargin': 0.0,\n  'initialMarginPercentage': 1.0,\n  'maintenanceMargin': 0.0,\n  'maintenanceMarginPercentage': 0.005,\n  'marginRatio': None,\n  'datetime': '2022-05-26T09:18:04.457Z',\n  'marginMode': 'cross',\n  'marginType': 'cross',\n  'side': None,\n  'hedged': False,\n  'percentage': None},\n {'info': {'symbol': 'ETHUSDT',\n   'positionAmt': '0.286',\n   'entryPrice': '1788.85',\n   'markPrice': '1786.92709194',\n   'unRealizedProfit': '-0.54995170',\n   'liquidationPrice': '0',\n   'leverage': '1',\n   'maxNotionalValue': '9.223372036854776E18',\n   'marginType': 'cross',\n   'isolatedMargin': '0.00000000',\n   'isAutoAddMargin': 'false',\n   'positionSide': 'LONG',\n   'notional': '511.06114829',\n   'isolatedWallet': '0',\n   'updateTime': '1653813338823'},\n  'symbol': 'ETH/USDT',\n  'contracts': 0.286,\n  'contractSize': 1.0,\n  'unrealizedPnl': -0.5499517,\n  'leverage': 1.0,\n  'liquidationPrice': None,\n  'collateral': 511.6111,\n  'notional': 511.06114829,\n  'markPrice': 1786.92709194,\n  'entryPrice': 1788.85,\n  'timestamp': 1653813338823,\n  'initialMargin': 511.06114829,\n  'initialMarginPercentage': 1.0,\n  'maintenanceMargin': 2.55530574145,\n  'maintenanceMarginPercentage': 0.005,\n  'marginRatio': 0.005,\n  'datetime': '2022-05-29T08:35:38.823Z',\n  'marginMode': 'cross',\n  'marginType': 'cross',\n  'side': 'long',\n  'hedged': True,\n  'percentage': -0.1},\n {'info': {'symbol': 'ETHUSDT',\n   'positionAmt': '0.000',\n   'entryPrice': '0.0',\n   'markPrice': '1786.92709194',\n   'unRealizedProfit': '0.00000000',\n   'liquidationPrice': '0',\n   'leverage': '1',\n   'maxNotionalValue': '9.223372036854776E18',\n   'marginType': 'cross',\n   'isolatedMargin': '0.00000000',\n   'isAutoAddMargin': 'false',\n   'positionSide': 'SHORT',\n   'notional': '0',\n   'isolatedWallet': '0',\n   'updateTime': '1653429162632'},\n  'symbol': 'ETH/USDT',\n  'contracts': 0.0,\n  'contractSize': 1.0,\n  'unrealizedPnl': 0.0,\n  'leverage': 1.0,\n  'liquidationPrice': None,\n  'collateral': 0.0,\n  'notional': 0.0,\n  'markPrice': 1786.92709194,\n  'entryPrice': 0.0,\n  'timestamp': 1653429162632,\n  'initialMargin': 0.0,\n  'initialMarginPercentage': 1.0,\n  'maintenanceMargin': 0.0,\n  'maintenanceMarginPercentage': 0.005,\n  'marginRatio': None,\n  'datetime': '2022-05-24T21:52:42.632Z',\n  'marginMode': 'cross',\n  'marginType': 'cross',\n  'side': None,\n  'hedged': True,\n  'percentage': None}]"
     },
     "execution_count": 20,
     "metadata": {},
     "output_type": "execute_result"
    }
   ],
   "source": [
    "exchange.fetch_positions(symbols=[symbol])"
   ],
   "metadata": {
    "collapsed": false,
    "pycharm": {
     "name": "#%%\n"
    }
   }
  },
  {
   "cell_type": "code",
   "execution_count": 16,
   "outputs": [
    {
     "name": "stdout",
     "output_type": "stream",
     "text": [
      "-----------------------------------------\n",
      "{'entryPrice': '0.0',\n",
      " 'isAutoAddMargin': 'false',\n",
      " 'isolatedMargin': '0.00000000',\n",
      " 'isolatedWallet': '0',\n",
      " 'leverage': '1',\n",
      " 'liquidationPrice': '0',\n",
      " 'marginType': 'cross',\n",
      " 'markPrice': '1746.93776917',\n",
      " 'maxNotionalValue': '9.223372036854776E18',\n",
      " 'notional': '0',\n",
      " 'positionAmt': '0.000',\n",
      " 'positionSide': 'SHORT',\n",
      " 'symbol': 'ETHUSDT',\n",
      " 'unRealizedProfit': '0.00000000',\n",
      " 'updateTime': '1653429162632'}\n",
      "-----------------------------------------\n",
      "Your profit and loss for your ETH/USDT position is 0.00000000\n",
      "Your liquidation price for your ETH/USDT position is 0\n"
     ]
    }
   ],
   "source": [
    "# https://binance-docs.github.io/apidocs/futures/en/#position-information-user_data\n",
    "\n",
    "positions = exchange.fapiPrivate_get_positionrisk()  # https://github.com/ccxt/ccxt/wiki/Manual#implicit-api-methods\n",
    "positions_by_ids = exchange.index_by(positions, 'symbol')  # binance's symbol == ccxt's id\n",
    "position = exchange.safe_value(positions_by_ids, market['id'])\n",
    "\n",
    "print('-----------------------------------------')\n",
    "pprint(position)\n",
    "print('-----------------------------------------')\n",
    "print('Your profit and loss for your', symbol, 'position is', position['unRealizedProfit'])\n",
    "print('Your liquidation price for your', symbol, 'position is', position['liquidationPrice'])"
   ],
   "metadata": {
    "collapsed": false,
    "pycharm": {
     "name": "#%%\n"
    }
   }
  },
  {
   "cell_type": "code",
   "execution_count": 29,
   "outputs": [
    {
     "data": {
      "text/plain": "{'info': {'symbol': 'ETHUSDT',\n  'id': '89008524',\n  'orderId': '860461076',\n  'side': 'SELL',\n  'price': '1784.29',\n  'qty': '0.286',\n  'realizedPnl': '-1.30416000',\n  'marginAsset': 'USDT',\n  'quoteQty': '510.30694',\n  'commission': '0.20412277',\n  'commissionAsset': 'USDT',\n  'time': '1653818750331',\n  'positionSide': 'LONG',\n  'buyer': False,\n  'maker': False},\n 'timestamp': 1653818750331,\n 'datetime': '2022-05-29T10:05:50.331Z',\n 'symbol': 'ETH/USDT',\n 'id': '89008524',\n 'order': '860461076',\n 'type': None,\n 'side': 'sell',\n 'takerOrMaker': 'taker',\n 'price': 1784.29,\n 'amount': 0.286,\n 'cost': 510.30694,\n 'fee': {'cost': 0.20412277, 'currency': 'USDT'},\n 'fees': [{'currency': 'USDT', 'cost': 0.20412277}]}"
     },
     "execution_count": 29,
     "metadata": {},
     "output_type": "execute_result"
    }
   ],
   "source": [
    "exchange.fetch_my_trades(symbol)[-1]"
   ],
   "metadata": {
    "collapsed": false,
    "pycharm": {
     "name": "#%%\n"
    }
   }
  },
  {
   "cell_type": "code",
   "execution_count": 22,
   "outputs": [
    {
     "data": {
      "text/plain": "[]"
     },
     "execution_count": 22,
     "metadata": {},
     "output_type": "execute_result"
    }
   ],
   "source": [
    "exchange.fetch_open_orders(symbol)"
   ],
   "metadata": {
    "collapsed": false,
    "pycharm": {
     "name": "#%%\n"
    }
   }
  },
  {
   "cell_type": "code",
   "execution_count": 21,
   "outputs": [
    {
     "data": {
      "text/plain": "{'info': {'orderId': '860451091',\n  'symbol': 'ETHUSDT',\n  'status': 'FILLED',\n  'clientOrderId': 'x-xcKtGhcu8a3cde5d5a7b7d9978e872',\n  'price': '0',\n  'avgPrice': '1788.85000',\n  'origQty': '0.286',\n  'executedQty': '0.286',\n  'cumQuote': '511.61110',\n  'timeInForce': 'GTC',\n  'type': 'MARKET',\n  'reduceOnly': False,\n  'closePosition': False,\n  'side': 'BUY',\n  'positionSide': 'LONG',\n  'stopPrice': '0',\n  'workingType': 'CONTRACT_PRICE',\n  'priceProtect': False,\n  'origType': 'MARKET',\n  'time': '1653813338823',\n  'updateTime': '1653813338823'},\n 'id': '860451091',\n 'clientOrderId': 'x-xcKtGhcu8a3cde5d5a7b7d9978e872',\n 'timestamp': 1653813338823,\n 'datetime': '2022-05-29T08:35:38.823Z',\n 'lastTradeTimestamp': None,\n 'symbol': 'ETH/USDT',\n 'type': 'market',\n 'timeInForce': 'IOC',\n 'postOnly': False,\n 'reduceOnly': False,\n 'side': 'buy',\n 'price': 1788.85,\n 'stopPrice': None,\n 'amount': 0.286,\n 'cost': 511.6111,\n 'average': 1788.85,\n 'filled': 0.286,\n 'remaining': 0.0,\n 'status': 'closed',\n 'fee': None,\n 'trades': [],\n 'fees': []}"
     },
     "execution_count": 21,
     "metadata": {},
     "output_type": "execute_result"
    }
   ],
   "source": [
    "exchange.fetch_order(symbol=symbol, id=860451091)"
   ],
   "metadata": {
    "collapsed": false,
    "pycharm": {
     "name": "#%%\n"
    }
   }
  },
  {
   "cell_type": "code",
   "execution_count": 25,
   "outputs": [
    {
     "ename": "TypeError",
     "evalue": "can't multiply sequence by non-int of type 'float'",
     "output_type": "error",
     "traceback": [
      "\u001B[1;31m---------------------------------------------------------------------------\u001B[0m",
      "\u001B[1;31mTypeError\u001B[0m                                 Traceback (most recent call last)",
      "Input \u001B[1;32mIn [25]\u001B[0m, in \u001B[0;36m<cell line: 1>\u001B[1;34m()\u001B[0m\n\u001B[1;32m----> 1\u001B[0m \u001B[43mexchange\u001B[49m\u001B[38;5;241;43m.\u001B[39;49m\u001B[43mfetch_balance\u001B[49m\u001B[43m(\u001B[49m\u001B[43m)\u001B[49m\u001B[43m[\u001B[49m\u001B[38;5;124;43m'\u001B[39;49m\u001B[38;5;124;43minfo\u001B[39;49m\u001B[38;5;124;43m'\u001B[39;49m\u001B[43m]\u001B[49m\u001B[43m[\u001B[49m\u001B[38;5;124;43m'\u001B[39;49m\u001B[38;5;124;43mtotalWalletBalance\u001B[39;49m\u001B[38;5;124;43m'\u001B[39;49m\u001B[43m]\u001B[49m\u001B[43m \u001B[49m\u001B[38;5;241;43m*\u001B[39;49m\u001B[43m \u001B[49m\u001B[38;5;241;43m0.05\u001B[39;49m\n",
      "\u001B[1;31mTypeError\u001B[0m: can't multiply sequence by non-int of type 'float'"
     ]
    }
   ],
   "source": [
    "exchange.fetch_balance()['info']['totalWalletBalance'] * 0.05"
   ],
   "metadata": {
    "collapsed": false,
    "pycharm": {
     "name": "#%%\n"
    }
   }
  },
  {
   "cell_type": "code",
   "execution_count": 2,
   "outputs": [
    {
     "name": "stdout",
     "output_type": "stream",
     "text": [
      "Collecting ccxt\n",
      "  Downloading ccxt-1.84.75-py2.py3-none-any.whl (3.0 MB)\n",
      "     ---------------------------------------- 3.0/3.0 MB 2.2 MB/s eta 0:00:00\n",
      "Requirement already satisfied: requests>=2.18.4 in c:\\users\\nikhi\\appdata\\local\\programs\\python\\python310\\lib\\site-packages (from ccxt) (2.27.1)\n",
      "Requirement already satisfied: aiohttp>=3.8 in c:\\users\\nikhi\\appdata\\local\\programs\\python\\python310\\lib\\site-packages (from ccxt) (3.8.1)\n",
      "Collecting aiodns>=1.1.1\n",
      "  Using cached aiodns-3.0.0-py3-none-any.whl (5.0 kB)\n",
      "Requirement already satisfied: yarl==1.7.2 in c:\\users\\nikhi\\appdata\\local\\programs\\python\\python310\\lib\\site-packages (from ccxt) (1.7.2)\n",
      "Collecting setuptools>=60.9.0\n",
      "  Using cached setuptools-62.3.2-py3-none-any.whl (1.2 MB)\n",
      "Requirement already satisfied: certifi>=2018.1.18 in c:\\users\\nikhi\\appdata\\local\\programs\\python\\python310\\lib\\site-packages (from ccxt) (2021.10.8)\n",
      "Collecting cryptography>=2.6.1\n",
      "  Using cached cryptography-37.0.2-cp36-abi3-win_amd64.whl (2.4 MB)\n",
      "Requirement already satisfied: multidict>=4.0 in c:\\users\\nikhi\\appdata\\local\\programs\\python\\python310\\lib\\site-packages (from yarl==1.7.2->ccxt) (6.0.2)\n",
      "Requirement already satisfied: idna>=2.0 in c:\\users\\nikhi\\appdata\\local\\programs\\python\\python310\\lib\\site-packages (from yarl==1.7.2->ccxt) (3.3)\n",
      "Collecting pycares>=4.0.0\n",
      "  Using cached pycares-4.1.2-cp310-cp310-win_amd64.whl (83 kB)\n",
      "Requirement already satisfied: aiosignal>=1.1.2 in c:\\users\\nikhi\\appdata\\local\\programs\\python\\python310\\lib\\site-packages (from aiohttp>=3.8->ccxt) (1.2.0)\n",
      "Requirement already satisfied: frozenlist>=1.1.1 in c:\\users\\nikhi\\appdata\\local\\programs\\python\\python310\\lib\\site-packages (from aiohttp>=3.8->ccxt) (1.3.0)\n",
      "Requirement already satisfied: async-timeout<5.0,>=4.0.0a3 in c:\\users\\nikhi\\appdata\\local\\programs\\python\\python310\\lib\\site-packages (from aiohttp>=3.8->ccxt) (4.0.2)\n",
      "Requirement already satisfied: attrs>=17.3.0 in c:\\users\\nikhi\\appdata\\local\\programs\\python\\python310\\lib\\site-packages (from aiohttp>=3.8->ccxt) (21.4.0)\n",
      "Requirement already satisfied: charset-normalizer<3.0,>=2.0 in c:\\users\\nikhi\\appdata\\local\\programs\\python\\python310\\lib\\site-packages (from aiohttp>=3.8->ccxt) (2.0.10)\n",
      "Requirement already satisfied: cffi>=1.12 in c:\\users\\nikhi\\appdata\\local\\programs\\python\\python310\\lib\\site-packages (from cryptography>=2.6.1->ccxt) (1.15.0)\n",
      "Requirement already satisfied: urllib3<1.27,>=1.21.1 in c:\\users\\nikhi\\appdata\\local\\programs\\python\\python310\\lib\\site-packages (from requests>=2.18.4->ccxt) (1.26.8)\n",
      "Requirement already satisfied: pycparser in c:\\users\\nikhi\\appdata\\local\\programs\\python\\python310\\lib\\site-packages (from cffi>=1.12->cryptography>=2.6.1->ccxt) (2.21)\n",
      "Installing collected packages: setuptools, pycares, cryptography, aiodns, ccxt\n",
      "  Attempting uninstall: setuptools\n",
      "    Found existing installation: setuptools 58.1.0\n",
      "    Uninstalling setuptools-58.1.0:\n",
      "      Successfully uninstalled setuptools-58.1.0\n",
      "Successfully installed aiodns-3.0.0 ccxt-1.84.75 cryptography-37.0.2 pycares-4.1.2 setuptools-62.3.2\n"
     ]
    },
    {
     "name": "stderr",
     "output_type": "stream",
     "text": [
      "ERROR: pip's dependency resolver does not currently take into account all the packages that are installed. This behaviour is the source of the following dependency conflicts.\n",
      "numba 0.55.1 requires numpy<1.22,>=1.18, but you have numpy 1.22.3 which is incompatible.\n",
      "WARNING: You are using pip version 22.0.4; however, version 22.1.2 is available.\n",
      "You should consider upgrading via the 'C:\\Users\\nikhi\\AppData\\Local\\Programs\\Python\\Python310\\python.exe -m pip install --upgrade pip' command.\n"
     ]
    }
   ],
   "source": [
    "!pip install ccxt"
   ],
   "metadata": {
    "collapsed": false,
    "pycharm": {
     "name": "#%%\n"
    }
   }
  },
  {
   "cell_type": "code",
   "execution_count": 1,
   "outputs": [
    {
     "name": "stdout",
     "output_type": "stream",
     "text": [
      "Requirement already satisfied: websocket-client in c:\\users\\nikhi\\appdata\\local\\programs\\python\\python310\\lib\\site-packages (1.3.2)\n"
     ]
    },
    {
     "name": "stderr",
     "output_type": "stream",
     "text": [
      "WARNING: You are using pip version 22.0.4; however, version 22.1.2 is available.\n",
      "You should consider upgrading via the 'C:\\Users\\nikhi\\AppData\\Local\\Programs\\Python\\Python310\\python.exe -m pip install --upgrade pip' command.\n"
     ]
    }
   ],
   "source": [
    "!pip install websocket-client"
   ],
   "metadata": {
    "collapsed": false,
    "pycharm": {
     "name": "#%%\n"
    }
   }
  },
  {
   "cell_type": "code",
   "execution_count": 30,
   "outputs": [],
   "source": [
    "from datetime import datetime\n",
    "import json\n",
    "import websocket\n",
    "\n",
    "\n",
    "class BinanceSocket:\n",
    "    \"\"\"\n",
    "    WSS socket which streams binance kline data in real-time.\n",
    "    \"\"\"\n",
    "\n",
    "    def __init__(self, currency, base, interval, cc):\n",
    "        self.cc = cc\n",
    "        contract_type = 'perpetual'\n",
    "        # See if we can change the update frequency\n",
    "        self.socket_url = \"wss://fstream.binance.com/ws/\" + (\n",
    "                currency + base).lower() + '_' + contract_type + \"@continuousKline_\" + interval\n",
    "        print('Socket URL :', self.socket_url)\n",
    "        self.ws = websocket.WebSocketApp(self.socket_url, on_open=lambda ws: self.on_open(ws),\n",
    "                                         on_close=lambda ws: self.on_close(ws),\n",
    "                                         on_message=lambda ws, msg: self.on_message(ws, msg))\n",
    "        self.orders = []\n",
    "        self.last_buy_time = None\n",
    "        self.fee_perc = 0.04\n",
    "        self.cc = cc\n",
    "\n",
    "    def start_listening(self):\n",
    "        print(\"Trying to start listening...\")\n",
    "        self.ws.run_forever()\n",
    "\n",
    "    def on_open(self, ws):\n",
    "        print(\"Socket connected!\")\n",
    "\n",
    "    def on_close(self, ws):\n",
    "        print(\"Socket disconnected!\")\n",
    "\n",
    "    def on_message(self, ws, message):\n",
    "        json_message = json.loads(message)\n",
    "        close_price = float(json_message['k']['c'])\n",
    "        close_time = int(json_message['E'])\n",
    "        # print('Close status:', json_message['k']['x'])\n",
    "        try:\n",
    "            if self.last_buy_time is None:\n",
    "                self.last_buy_time = close_time\n",
    "                order = self.cc.open_position(short=False, stake=0.006)\n",
    "                cost = order['cost']\n",
    "                latest_trade = self.cc.get_latest_trade()\n",
    "                buy_fee = latest_trade['fee']['cost']\n",
    "                self.orders.append(\n",
    "                    ('BUY', close_time, close_price, int(order['info']['updateTime']), float(order['info']['avgPrice']),\n",
    "                     self.fee_perc * cost, buy_fee))\n",
    "                print('Buying at', close_price, 'at', close_time)\n",
    "                print('Order filled at', order['info']['avgPrice'], 'at', order['info']['updateTime'])\n",
    "            else:\n",
    "                open_period = (datetime.fromtimestamp(close_time / 1000.0) - datetime.fromtimestamp(\n",
    "                    self.last_buy_time / 1000.0)).total_seconds()\n",
    "                if open_period >= 5:\n",
    "                    order = self.cc.close_position(short=False, base_qty=0.006)\n",
    "                    cost = order['cost']\n",
    "                    latest_trade = self.cc.get_latest_trade()\n",
    "                    sell_fee = latest_trade['fee']['cost']\n",
    "                    self.orders.append(\n",
    "                        ('SELL', close_time, close_price, int(order['info']['updateTime']),\n",
    "                         float(order['info']['avgPrice']),\n",
    "                         self.fee_perc * cost, sell_fee))\n",
    "                    self.last_buy_time = None\n",
    "                    print('Selling at', close_price, 'at', close_time)\n",
    "                    print('Order filled at', order['info']['avgPrice'], 'at', order['info']['updateTime'])\n",
    "\n",
    "            if len(self.orders) == 200:\n",
    "                df = pd.DataFrame(self.orders,\n",
    "                                  columns=['Action', 'Close Time', 'Close Price', 'Order Time', 'Order Price',\n",
    "                                           'Est. Fee', 'Actual Fee'])\n",
    "                df.to_csv('orders_test.csv')\n",
    "                print('Saved orders to orders_test.csv')\n",
    "                self.ws.close()\n",
    "        except Exception as e:\n",
    "            print(e)"
   ],
   "metadata": {
    "collapsed": false,
    "pycharm": {
     "name": "#%%\n"
    }
   }
  },
  {
   "cell_type": "code",
   "execution_count": 3,
   "outputs": [],
   "source": [
    "from ccxt_orders import CcxtOrders"
   ],
   "metadata": {
    "collapsed": false,
    "pycharm": {
     "name": "#%%\n"
    }
   }
  },
  {
   "cell_type": "code",
   "execution_count": 4,
   "outputs": [],
   "source": [
    "ccx = CcxtOrders(symbol='ETH/USDT', leverage=50)"
   ],
   "metadata": {
    "collapsed": false,
    "pycharm": {
     "name": "#%%\n"
    }
   }
  },
  {
   "cell_type": "code",
   "execution_count": 5,
   "outputs": [
    {
     "data": {
      "text/plain": "2989.93590183"
     },
     "execution_count": 5,
     "metadata": {},
     "output_type": "execute_result"
    }
   ],
   "source": [
    "ccx.get_balance()"
   ],
   "metadata": {
    "collapsed": false,
    "pycharm": {
     "name": "#%%\n"
    }
   }
  },
  {
   "cell_type": "code",
   "execution_count": 31,
   "outputs": [
    {
     "name": "stdout",
     "output_type": "stream",
     "text": [
      "Socket URL : wss://fstream.binance.com/ws/ethusdt_perpetual@continuousKline_1m\n"
     ]
    }
   ],
   "source": [
    "bsck = BinanceSocket('ETH', 'USDT', '1m', ccx)"
   ],
   "metadata": {
    "collapsed": false,
    "pycharm": {
     "name": "#%%\n"
    }
   }
  },
  {
   "cell_type": "code",
   "execution_count": 32,
   "outputs": [
    {
     "name": "stdout",
     "output_type": "stream",
     "text": [
      "Trying to start listening...\n",
      "Socket connected!\n",
      "Order amount: 0.006\n",
      "Buying at 1760.75 at 1654275647237\n",
      "Order filled at 1761.49000 at 1654275647516\n",
      "Selling at 1760.84 at 1654275652246\n",
      "Order filled at 1761.26000 at 1654275652501\n",
      "Order amount: 0.006\n",
      "Buying at 1760.95 at 1654275652674\n",
      "Order filled at 1761.49000 at 1654275653477\n",
      "Selling at 1760.95 at 1654275657949\n",
      "Order filled at 1761.26000 at 1654275658701\n",
      "Order amount: 0.006\n",
      "Buying at 1761.2 at 1654275658206\n",
      "Order filled at 1761.63000 at 1654275659647\n",
      "Selling at 1761.22 at 1654275663621\n",
      "Order filled at 1761.70000 at 1654275664307\n",
      "Order amount: 0.006\n",
      "Buying at 1761.23 at 1654275664116\n",
      "Order filled at 1762.13000 at 1654275665632\n",
      "Selling at 1761.77 at 1654275669347\n",
      "Order filled at 1762.35000 at 1654275670021\n",
      "Order amount: 0.006\n",
      "Buying at 1761.78 at 1654275669691\n",
      "Order filled at 1762.43000 at 1654275670546\n",
      "Selling at 1761.4 at 1654275674957\n",
      "Order filled at 1761.76000 at 1654275675649\n",
      "Order amount: 0.006\n",
      "Buying at 1761.39 at 1654275675258\n",
      "Order filled at 1762.00000 at 1654275677049\n",
      "Selling at 1761.04 at 1654275680649\n",
      "Order filled at 1761.89000 at 1654275681329\n",
      "Order amount: 0.006\n",
      "Buying at 1761.2 at 1654275680990\n",
      "Order filled at 1761.90000 at 1654275682814\n",
      "Selling at 1760.93 at 1654275686014\n",
      "Order filled at 1761.53000 at 1654275686717\n",
      "Order amount: 0.006\n",
      "Buying at 1760.92 at 1654275686378\n",
      "Order filled at 1761.60000 at 1654275688073\n",
      "Selling at 1760.8 at 1654275691693\n",
      "Order filled at 1761.59000 at 1654275692480\n",
      "Order amount: 0.006\n",
      "Buying at 1760.91 at 1654275692077\n",
      "Order filled at 1761.67000 at 1654275693823\n",
      "Selling at 1760.8 at 1654275697640\n",
      "Order filled at 1761.50000 at 1654275698401\n",
      "Order amount: 0.006\n",
      "Buying at 1760.79 at 1654275698137\n",
      "Order filled at 1761.51000 at 1654275699749\n",
      "Selling at 1760.79 at 1654275703152\n",
      "Order filled at 1761.32000 at 1654275703441\n",
      "Order amount: 0.006\n",
      "Buying at 1760.8 at 1654275703407\n",
      "Order filled at 1761.33000 at 1654275704842\n",
      "Selling at 1761.3 at 1654275708668\n",
      "Order filled at 1761.32000 at 1654275709386\n",
      "Order amount: 0.006\n",
      "Buying at 1761.3 at 1654275709209\n",
      "Order filled at 1761.45000 at 1654275710901\n",
      "Selling at 1760.83 at 1654275714422\n",
      "Order filled at 1761.26000 at 1654275715102\n",
      "Order amount: 0.006\n",
      "Buying at 1760.83 at 1654275716147\n",
      "Order filled at 1761.85000 at 1654275716904\n",
      "Selling at 1761.11 at 1654275721671\n",
      "Order filled at 1761.27000 at 1654275722423\n",
      "Order amount: 0.006\n",
      "Buying at 1761.1 at 1654275722058\n",
      "Order filled at 1761.70000 at 1654275723412\n",
      "Selling at 1760.91 at 1654275727138\n",
      "Order filled at 1761.42000 at 1654275727891\n",
      "Order amount: 0.006\n",
      "Buying at 1760.91 at 1654275727498\n",
      "Order filled at 1761.59000 at 1654275729292\n",
      "Selling at 1760.62 at 1654275732684\n",
      "Order filled at 1761.32000 at 1654275732971\n",
      "Order amount: 0.006\n",
      "Buying at 1760.61 at 1654275733251\n",
      "Order filled at 1761.11000 at 1654275734426\n",
      "Selling at 1760.8 at 1654275738913\n",
      "Order filled at 1760.99000 at 1654275739596\n",
      "Order amount: 0.006\n",
      "Buying at 1760.81 at 1654275740521\n",
      "Order filled at 1761.29000 at 1654275741246\n",
      "Selling at 1760.81 at 1654275745753\n",
      "Order filled at 1761.19000 at 1654275746577\n",
      "Order amount: 0.006\n",
      "Buying at 1760.8 at 1654275747408\n",
      "Order filled at 1761.51000 at 1654275748200\n",
      "Selling at 1760.81 at 1654275752707\n",
      "Order filled at 1761.42000 at 1654275752964\n",
      "Order amount: 0.006\n",
      "Buying at 1760.8 at 1654275753210\n",
      "Order filled at 1761.51000 at 1654275753887\n",
      "Selling at 1760.96 at 1654275759423\n",
      "Order filled at 1761.29000 at 1654275760168\n",
      "Order amount: 0.006\n",
      "Buying at 1760.96 at 1654275760074\n",
      "Order filled at 1761.61000 at 1654275761514\n",
      "Selling at 1760.82 at 1654275765502\n",
      "Order filled at 1761.37000 at 1654275766177\n",
      "Order amount: 0.006\n",
      "Buying at 1760.82 at 1654275766407\n",
      "Order filled at 1761.56000 at 1654275767153\n",
      "Selling at 1761.96 at 1654275771534\n",
      "Order filled at 1761.50000 at 1654275772418\n",
      "Order amount: 0.006\n",
      "Buying at 1762.04 at 1654275771804\n",
      "Order filled at 1761.90000 at 1654275773754\n",
      "Selling at 1762.28 at 1654275776877\n",
      "Order filled at 1762.35000 at 1654275777131\n",
      "Order amount: 0.006\n",
      "Buying at 1762.51 at 1654275777457\n",
      "Order filled at 1763.08000 at 1654275778481\n",
      "Selling at 1762.93 at 1654275782782\n",
      "Order filled at 1762.91000 at 1654275783477\n",
      "Order amount: 0.006\n",
      "Buying at 1762.93 at 1654275783052\n",
      "Order filled at 1763.41000 at 1654275784806\n",
      "Selling at 1762.91 at 1654275788487\n",
      "Order filled at 1763.25000 at 1654275789214\n",
      "Order amount: 0.006\n",
      "Buying at 1762.92 at 1654275788865\n",
      "Order filled at 1763.27000 at 1654275790660\n",
      "Selling at 1761.5 at 1654275794105\n",
      "Order filled at 1762.46000 at 1654275794791\n",
      "Order amount: 0.006\n",
      "Buying at 1761.49 at 1654275794554\n",
      "Order filled at 1763.41000 at 1654275796219\n",
      "Selling at 1760.39 at 1654275799673\n",
      "Order filled at 1761.63000 at 1654275800458\n",
      "Order amount: 0.006\n",
      "Buying at 1760.24 at 1654275800380\n",
      "Order filled at 1761.30000 at 1654275801812\n",
      "Selling at 1760.98 at 1654275805664\n",
      "Order filled at 1760.63000 at 1654275806391\n",
      "Order amount: 0.006\n",
      "Buying at 1760.98 at 1654275806668\n",
      "Order filled at 1761.07000 at 1654275807881\n",
      "Selling at 1761.03 at 1654275811860\n",
      "Order filled at 1761.43000 at 1654275812539\n",
      "Order amount: 0.006\n",
      "Buying at 1761.03 at 1654275812532\n",
      "Order filled at 1761.62000 at 1654275813614\n",
      "Selling at 1761.25 at 1654275817623\n",
      "Order filled at 1761.43000 at 1654275818348\n",
      "Order amount: 0.006\n",
      "Buying at 1761.25 at 1654275818529\n",
      "Order filled at 1761.84000 at 1654275819774\n",
      "Selling at 1761.71 at 1654275824056\n",
      "Order filled at 1761.60000 at 1654275824740\n",
      "Order amount: 0.006\n",
      "Buying at 1761.72 at 1654275825103\n",
      "Order filled at 1761.79000 at 1654275826082\n",
      "Selling at 1762.1 at 1654275830510\n",
      "Order filled at 1762.48000 at 1654275831273\n",
      "Order amount: 0.006\n",
      "Buying at 1762.1 at 1654275831078\n",
      "Order filled at 1762.59000 at 1654275832289\n",
      "Selling at 1763.01 at 1654275836456\n",
      "Order filled at 1762.77000 at 1654275837144\n",
      "Order amount: 0.006\n",
      "Buying at 1763.05 at 1654275836762\n",
      "Order filled at 1763.13000 at 1654275838503\n",
      "Selling at 1762.87 at 1654275841964\n",
      "Order filled at 1763.25000 at 1654275842642\n",
      "Order amount: 0.006\n",
      "Buying at 1762.88 at 1654275842863\n",
      "Order filled at 1763.31000 at 1654275843650\n",
      "Selling at 1763.29 at 1654275847927\n",
      "Order filled at 1763.12000 at 1654275848682\n",
      "Order amount: 0.006\n",
      "Buying at 1763.44 at 1654275848497\n",
      "Order filled at 1763.41000 at 1654275850016\n",
      "Selling at 1762.67 at 1654275853678\n",
      "Order filled at 1763.30000 at 1654275853949\n",
      "Order amount: 0.006\n",
      "Buying at 1762.66 at 1654275854077\n",
      "Order filled at 1763.56000 at 1654275855434\n",
      "Selling at 1762.91 at 1654275859443\n",
      "Order filled at 1763.37000 at 1654275860126\n",
      "Order amount: 0.006\n",
      "Buying at 1762.91 at 1654275859833\n",
      "Order filled at 1763.33000 at 1654275861509\n",
      "Selling at 1764.0 at 1654275864868\n",
      "Order filled at 1763.14000 at 1654275865145\n",
      "Order amount: 0.006\n",
      "Buying at 1764.0 at 1654275865121\n",
      "Order filled at 1763.33000 at 1654275866205\n",
      "Selling at 1765.74 at 1654275870337\n",
      "Order filled at 1763.17000 at 1654275870615\n",
      "Order amount: 0.006\n",
      "Buying at 1765.4 at 1654275870640\n",
      "Order filled at 1765.34000 at 1654275872094\n",
      "Selling at 1765.75 at 1654275875859\n",
      "Order filled at 1765.45000 at 1654275876696\n",
      "Order amount: 0.006\n",
      "Buying at 1765.87 at 1654275876175\n",
      "Order filled at 1766.05000 at 1654275878210\n",
      "Selling at 1766.98 at 1654275881491\n",
      "Order filled at 1765.86000 at 1654275882238\n",
      "Order amount: 0.006\n",
      "Buying at 1766.32 at 1654275881743\n",
      "Order filled at 1767.29000 at 1654275883574\n",
      "Selling at 1765.02 at 1654275887052\n",
      "Order filled at 1766.47000 at 1654275887732\n",
      "Order amount: 0.006\n",
      "Buying at 1765.17 at 1654275887327\n",
      "Order filled at 1766.28000 at 1654275889204\n",
      "Selling at 1765.45 at 1654275892355\n",
      "Order filled at 1765.67000 at 1654275893143\n",
      "Order amount: 0.006\n",
      "Buying at 1765.45 at 1654275892783\n",
      "Order filled at 1765.72000 at 1654275894599\n",
      "Selling at 1765.51 at 1654275898352\n",
      "Order filled at 1765.83000 at 1654275899036\n",
      "Order amount: 0.006\n",
      "Buying at 1765.51 at 1654275898688\n",
      "Order filled at 1765.86000 at 1654275900011\n",
      "Selling at 1765.59 at 1654275903837\n",
      "Order filled at 1765.90000 at 1654275904521\n",
      "Order amount: 0.006\n",
      "Buying at 1765.59 at 1654275904189\n",
      "Order filled at 1766.00000 at 1654275905922\n",
      "Selling at 1764.75 at 1654275909421\n",
      "Order filled at 1765.27000 at 1654275910171\n",
      "Order amount: 0.006\n",
      "Buying at 1764.76 at 1654275909690\n",
      "Order filled at 1765.63000 at 1654275911584\n",
      "Selling at 1764.33 at 1654275915554\n",
      "Order filled at 1765.27000 at 1654275916287\n",
      "Order amount: 0.006\n",
      "Buying at 1764.32 at 1654275915972\n",
      "Order filled at 1765.49000 at 1654275917822\n",
      "Selling at 1764.15 at 1654275921037\n",
      "Order filled at 1764.78000 at 1654275921786\n",
      "Order amount: 0.006\n",
      "Buying at 1764.14 at 1654275921517\n",
      "Order filled at 1764.97000 at 1654275923207\n",
      "Selling at 1764.24 at 1654275926760\n",
      "Order filled at 1764.47000 at 1654275927525\n",
      "Order amount: 0.006\n",
      "Buying at 1764.24 at 1654275927074\n",
      "Order filled at 1764.84000 at 1654275928850\n",
      "Selling at 1764.41 at 1654275932221\n",
      "Order filled at 1764.97000 at 1654275932895\n",
      "Order amount: 0.006\n",
      "Buying at 1764.44 at 1654275932529\n",
      "Order filled at 1765.03000 at 1654275934314\n",
      "Selling at 1764.14 at 1654275937601\n",
      "Order filled at 1764.79000 at 1654275938278\n",
      "Order amount: 0.006\n",
      "Buying at 1764.14 at 1654275938419\n",
      "Order filled at 1764.98000 at 1654275939266\n",
      "Selling at 1763.9 at 1654275943539\n",
      "Order filled at 1764.66000 at 1654275944211\n",
      "Order amount: 0.006\n",
      "Buying at 1763.76 at 1654275943841\n",
      "Order filled at 1764.66000 at 1654275945548\n",
      "Selling at 1763.71 at 1654275949000\n",
      "Order filled at 1764.25000 at 1654275949681\n",
      "Order amount: 0.006\n",
      "Buying at 1763.7 at 1654275949292\n",
      "Order filled at 1764.62000 at 1654275951143\n",
      "Selling at 1763.91 at 1654275954549\n",
      "Order filled at 1764.16000 at 1654275955230\n",
      "Order amount: 0.006\n",
      "Buying at 1763.9 at 1654275955630\n",
      "Order filled at 1764.31000 at 1654275956323\n",
      "Selling at 1763.86 at 1654275961196\n",
      "Order filled at 1764.58000 at 1654275961876\n",
      "Order amount: 0.006\n",
      "Buying at 1763.86 at 1654275961503\n",
      "Order filled at 1764.77000 at 1654275962890\n",
      "Selling at 1764.55 at 1654275966581\n",
      "Order filled at 1764.29000 at 1654275966862\n",
      "Order amount: 0.006\n",
      "Buying at 1764.55 at 1654275966984\n",
      "Order filled at 1765.49000 at 1654275968358\n",
      "Selling at 1764.19 at 1654275972294\n",
      "Order filled at 1764.61000 at 1654275972577\n",
      "Order amount: 0.006\n",
      "Buying at 1764.19 at 1654275972609\n",
      "Order filled at 1765.02000 at 1654275973964\n",
      "Selling at 1764.21 at 1654275977774\n",
      "Order filled at 1764.65000 at 1654275978508\n",
      "Order amount: 0.006\n",
      "Buying at 1764.21 at 1654275978334\n",
      "Order filled at 1764.95000 at 1654275979523\n",
      "Selling at 1764.21 at 1654275983342\n",
      "Order filled at 1764.66000 at 1654275984027\n",
      "Order amount: 0.006\n",
      "Buying at 1764.2 at 1654275983642\n",
      "Order filled at 1764.95000 at 1654275985051\n",
      "Selling at 1763.43 at 1654275989580\n",
      "Order filled at 1764.70000 at 1654275990258\n",
      "Order amount: 0.006\n",
      "Buying at 1763.4 at 1654275990317\n",
      "Order filled at 1764.46000 at 1654275991765\n",
      "Selling at 1763.18 at 1654275996080\n",
      "Order filled at 1764.00000 at 1654275996771\n",
      "Order amount: 0.006\n",
      "Buying at 1763.18 at 1654275996344\n",
      "Order filled at 1764.11000 at 1654275998264\n",
      "Selling at 1763.43 at 1654276001557\n",
      "Order filled at 1763.91000 at 1654276002326\n",
      "Order amount: 0.006\n",
      "Buying at 1763.43 at 1654276002190\n",
      "Order filled at 1763.93000 at 1654276003819\n",
      "Selling at 1763.24 at 1654276007654\n",
      "Order filled at 1763.98000 at 1654276008451\n",
      "Order amount: 0.006\n",
      "Buying at 1763.24 at 1654276008141\n",
      "Order filled at 1764.03000 at 1654276009805\n",
      "Selling at 1764.31 at 1654276013201\n",
      "Order filled at 1764.02000 at 1654276014013\n",
      "Order amount: 0.006\n",
      "Buying at 1764.31 at 1654276013859\n",
      "Order filled at 1765.01000 at 1654276015494\n",
      "Selling at 1763.58 at 1654276019071\n",
      "Order filled at 1764.32000 at 1654276019352\n",
      "Order amount: 0.006\n",
      "Buying at 1763.57 at 1654276019442\n",
      "Order filled at 1764.54000 at 1654276020779\n",
      "Selling at 1763.99 at 1654276025082\n",
      "Order filled at 1764.03000 at 1654276025831\n",
      "Order amount: 0.006\n",
      "Buying at 1764.02 at 1654276025657\n",
      "Order filled at 1764.56000 at 1654276027308\n",
      "Selling at 1763.71 at 1654276030716\n",
      "Order filled at 1764.31000 at 1654276031469\n",
      "Order amount: 0.006\n",
      "Buying at 1763.72 at 1654276031380\n",
      "Order filled at 1764.32000 at 1654276032421\n",
      "Selling at 1763.59 at 1654276036529\n",
      "Order filled at 1764.02000 at 1654276037267\n",
      "Order amount: 0.006\n",
      "Buying at 1763.54 at 1654276036799\n",
      "Order filled at 1764.29000 at 1654276038628\n",
      "Selling at 1763.25 at 1654276041971\n",
      "Order filled at 1763.85000 at 1654276042696\n",
      "Order amount: 0.006\n",
      "Buying at 1763.25 at 1654276042700\n",
      "Order filled at 1763.94000 at 1654276044092\n",
      "Selling at 1763.22 at 1654276047776\n",
      "Order filled at 1763.51000 at 1654276048511\n",
      "Order amount: 0.006\n",
      "Buying at 1763.23 at 1654276048269\n",
      "Order filled at 1763.74000 at 1654276049955\n",
      "Selling at 1762.62 at 1654276053717\n",
      "Order filled at 1763.53000 at 1654276054466\n",
      "Order amount: 0.006\n",
      "Buying at 1762.62 at 1654276054055\n",
      "Order filled at 1763.72000 at 1654276055997\n",
      "Selling at 1762.58 at 1654276059276\n",
      "Order filled at 1763.01000 at 1654276059963\n",
      "Order amount: 0.006\n",
      "Buying at 1762.58 at 1654276059659\n",
      "Order filled at 1763.09000 at 1654276060902\n",
      "Selling at 1762.63 at 1654276066230\n",
      "Order filled at 1763.40000 at 1654276066927\n",
      "Order amount: 0.006\n",
      "Buying at 1762.62 at 1654276066497\n",
      "Order filled at 1763.45000 at 1654276068276\n",
      "Selling at 1762.07 at 1654276071692\n",
      "Order filled at 1763.00000 at 1654276072453\n",
      "Order amount: 0.006\n",
      "Buying at 1762.06 at 1654276071968\n",
      "Order filled at 1763.08000 at 1654276073472\n",
      "Selling at 1761.9 at 1654276077456\n",
      "Order filled at 1762.30000 at 1654276078144\n",
      "Order amount: 0.006\n",
      "Buying at 1761.89 at 1654276077820\n",
      "Order filled at 1762.31000 at 1654276079499\n",
      "Selling at 1761.48 at 1654276083075\n",
      "Order filled at 1762.29000 at 1654276083754\n",
      "Order amount: 0.006\n",
      "Buying at 1761.42 at 1654276083493\n",
      "Order filled at 1762.31000 at 1654276084677\n",
      "Selling at 1761.99 at 1654276088789\n",
      "Order filled at 1761.76000 at 1654276089569\n",
      "Order amount: 0.006\n",
      "Buying at 1761.73 at 1654276089323\n",
      "Order filled at 1761.95000 at 1654276091043\n",
      "Selling at 1761.13 at 1654276094651\n",
      "Order filled at 1761.98000 at 1654276095332\n",
      "Order amount: 0.006\n",
      "Buying at 1761.13 at 1654276095064\n",
      "Order filled at 1762.35000 at 1654276096281\n",
      "Selling at 1760.41 at 1654276100248\n",
      "Order filled at 1761.21000 at 1654276100512\n",
      "Order amount: 0.006\n",
      "Buying at 1759.99 at 1654276100498\n",
      "Order filled at 1761.35000 at 1654276101998\n",
      "Selling at 1759.61 at 1654276106041\n",
      "Order filled at 1760.80000 at 1654276106307\n",
      "Order amount: 0.006\n",
      "Buying at 1759.62 at 1654276106311\n",
      "Order filled at 1760.82000 at 1654276107724\n",
      "Selling at 1759.64 at 1654276111369\n",
      "Order filled at 1760.05000 at 1654276112108\n",
      "Order amount: 0.006\n",
      "Buying at 1759.71 at 1654276112208\n",
      "Order filled at 1760.06000 at 1654276113216\n",
      "Selling at 1759.3 at 1654276117402\n",
      "Order filled at 1760.00000 at 1654276118159\n",
      "Order amount: 0.006\n",
      "Buying at 1759.31 at 1654276117903\n",
      "Order filled at 1760.24000 at 1654276119508\n",
      "Selling at 1758.51 at 1654276123068\n",
      "Order filled at 1759.77000 at 1654276123857\n",
      "Order amount: 0.006\n",
      "Buying at 1758.51 at 1654276123465\n",
      "Order filled at 1760.07000 at 1654276125289\n",
      "Selling at 1758.09 at 1654276128504\n",
      "Order filled at 1758.83000 at 1654276129212\n",
      "Order amount: 0.006\n",
      "Buying at 1758.02 at 1654276128802\n",
      "Order filled at 1758.84000 at 1654276130178\n",
      "Selling at 1757.43 at 1654276133802\n",
      "Order filled at 1758.51000 at 1654276134480\n",
      "Order amount: 0.006\n",
      "Buying at 1757.43 at 1654276134236\n",
      "Order filled at 1758.83000 at 1654276135967\n",
      "Selling at 1757.92 at 1654276139662\n",
      "Order filled at 1757.90000 at 1654276139938\n",
      "Order amount: 0.006\n",
      "Buying at 1757.93 at 1654276139915\n",
      "Order filled at 1757.91000 at 1654276141443\n",
      "Selling at 1758.49 at 1654276145139\n",
      "Order filled at 1758.14000 at 1654276145819\n",
      "Order amount: 0.006\n",
      "Buying at 1758.49 at 1654276145459\n",
      "Order filled at 1759.17000 at 1654276147205\n",
      "Selling at 1757.35 at 1654276150618\n",
      "Order filled at 1758.98000 at 1654276151404\n",
      "Order amount: 0.006\n",
      "Buying at 1757.76 at 1654276150868\n",
      "Order filled at 1759.20000 at 1654276153031\n",
      "Selling at 1757.56 at 1654276155975\n",
      "Order filled at 1758.58000 at 1654276156663\n",
      "Order amount: 0.006\n",
      "Buying at 1757.42 at 1654276156280\n",
      "Order filled at 1758.52000 at 1654276157613\n",
      "Selling at 1757.17 at 1654276161889\n",
      "Order filled at 1758.15000 at 1654276162569\n",
      "Order amount: 0.006\n",
      "Buying at 1757.16 at 1654276162177\n",
      "Order filled at 1758.22000 at 1654276163916\n",
      "Selling at 1757.52 at 1654276167262\n",
      "Order filled at 1757.79000 at 1654276167538\n",
      "Order amount: 0.006\n",
      "Buying at 1757.52 at 1654276168068\n",
      "Order filled at 1758.04000 at 1654276168750\n",
      "Selling at 1757.27 at 1654276173212\n",
      "Order filled at 1758.09000 at 1654276173493\n",
      "Order amount: 0.006\n",
      "Buying at 1757.26 at 1654276173615\n",
      "Order filled at 1758.28000 at 1654276174959\n",
      "Selling at 1757.06 at 1654276178981\n",
      "Order filled at 1757.96000 at 1654276179662\n",
      "Order amount: 0.006\n",
      "Buying at 1756.92 at 1654276179533\n",
      "Order filled at 1757.97000 at 1654276181087\n",
      "Selling at 1756.92 at 1654276184593\n",
      "Order filled at 1757.79000 at 1654276185386\n",
      "Order amount: 0.006\n",
      "Buying at 1756.92 at 1654276185092\n",
      "Order filled at 1757.97000 at 1654276186757\n",
      "Selling at 1756.86 at 1654276190094\n",
      "Order filled at 1757.79000 at 1654276190782\n",
      "Order amount: 0.006\n",
      "Buying at 1756.83 at 1654276190401\n",
      "Order filled at 1757.80000 at 1654276192173\n",
      "Selling at 1756.81 at 1654276195629\n",
      "Order filled at 1757.61000 at 1654276195892\n",
      "Order amount: 0.006\n",
      "Buying at 1756.8 at 1654276196091\n",
      "Order filled at 1757.97000 at 1654276197315\n",
      "Selling at 1756.36 at 1654276201343\n",
      "Order filled at 1757.79000 at 1654276201613\n",
      "Order amount: 0.006\n",
      "Buying at 1756.34 at 1654276201598\n",
      "Order filled at 1757.97000 at 1654276202657\n",
      "Selling at 1755.94 at 1654276206600\n",
      "Order filled at 1757.26000 at 1654276207361\n",
      "Order amount: 0.006\n",
      "Buying at 1755.94 at 1654276207023\n",
      "Order filled at 1757.63000 at 1654276208849\n",
      "Selling at 1755.64 at 1654276212109\n",
      "Order filled at 1756.71000 at 1654276212804\n",
      "Order amount: 0.006\n",
      "Buying at 1755.62 at 1654276212374\n",
      "Order filled at 1756.46000 at 1654276214225\n",
      "Selling at 1755.5 at 1654276217446\n",
      "Order filled at 1755.81000 at 1654276217806\n",
      "Order amount: 0.006\n",
      "Buying at 1755.55 at 1654276217709\n",
      "Order filled at 1756.35000 at 1654276219568\n",
      "Selling at 1756.07 at 1654276222776\n",
      "Order filled at 1756.26000 at 1654276223499\n",
      "name 'pd' is not defined\n",
      "Order amount: 0.006\n",
      "Buying at 1755.39 at 1654276223030\n",
      "Order filled at 1756.35000 at 1654276224525\n",
      "Selling at 1755.03 at 1654276228238\n",
      "Order filled at 1756.96000 at 1654276228509\n",
      "Order amount: 0.006\n",
      "Buying at 1755.04 at 1654276228492\n",
      "Order filled at 1756.42000 at 1654276229466\n",
      "Selling at 1755.11 at 1654276233661\n",
      "Order filled at 1755.87000 at 1654276234362\n",
      "Order amount: 0.006\n",
      "Buying at 1755.12 at 1654276234376\n",
      "Order filled at 1755.63000 at 1654276235790\n"
     ]
    }
   ],
   "source": [
    "bsck.start_listening()"
   ],
   "metadata": {
    "collapsed": false,
    "pycharm": {
     "name": "#%%\n"
    }
   }
  },
  {
   "cell_type": "code",
   "execution_count": 34,
   "outputs": [],
   "source": [
    "import pandas as pd"
   ],
   "metadata": {
    "collapsed": false,
    "pycharm": {
     "name": "#%%\n"
    }
   }
  },
  {
   "cell_type": "code",
   "execution_count": 33,
   "outputs": [
    {
     "data": {
      "text/plain": "205"
     },
     "execution_count": 33,
     "metadata": {},
     "output_type": "execute_result"
    }
   ],
   "source": [
    "len(bsck.orders)"
   ],
   "metadata": {
    "collapsed": false,
    "pycharm": {
     "name": "#%%\n"
    }
   }
  },
  {
   "cell_type": "code",
   "execution_count": 35,
   "outputs": [],
   "source": [
    "df = pd.DataFrame(bsck.orders,\n",
    "                  columns=['Action', 'Close Time', 'Close Price', 'Order Time', 'Order Price',\n",
    "                           'Est. Fee', 'Actual Fee'])\n",
    "df.to_csv('orders_test.csv')"
   ],
   "metadata": {
    "collapsed": false,
    "pycharm": {
     "name": "#%%\n"
    }
   }
  },
  {
   "cell_type": "code",
   "execution_count": null,
   "outputs": [],
   "source": [],
   "metadata": {
    "collapsed": false,
    "pycharm": {
     "name": "#%%\n"
    }
   }
  }
 ],
 "metadata": {
  "kernelspec": {
   "display_name": "Python 3",
   "language": "python",
   "name": "python3"
  },
  "language_info": {
   "codemirror_mode": {
    "name": "ipython",
    "version": 2
   },
   "file_extension": ".py",
   "mimetype": "text/x-python",
   "name": "python",
   "nbconvert_exporter": "python",
   "pygments_lexer": "ipython2",
   "version": "2.7.6"
  }
 },
 "nbformat": 4,
 "nbformat_minor": 0
}