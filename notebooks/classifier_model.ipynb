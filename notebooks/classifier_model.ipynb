{
 "cells": [
  {
   "cell_type": "code",
   "execution_count": 2,
   "metadata": {
    "pycharm": {
     "name": "#%%\n"
    }
   },
   "outputs": [],
   "source": [
    "# Import required libraries\n",
    "import math\n",
    "\n",
    "import numpy as np\n",
    "import pandas as pd\n",
    "import matplotlib.pyplot as plt\n",
    "import sns as sns\n",
    "from keras.models import Sequential\n",
    "from keras.layers import Dense, Dropout, LSTM"
   ]
  },
  {
   "cell_type": "code",
   "execution_count": 3,
   "metadata": {
    "pycharm": {
     "name": "#%%\n"
    }
   },
   "outputs": [
    {
     "data": {
      "text/plain": "                       close     high      low\ndate                                          \n2021-05-31 23:00:00  2706.15  2720.00  2639.20\n2021-06-01 00:00:00  2730.67  2740.00  2690.00\n2021-06-01 01:00:00  2662.06  2730.67  2656.73\n2021-06-01 02:00:00  2644.88  2675.92  2612.63\n2021-06-01 03:00:00  2630.79  2679.88  2613.00",
      "text/html": "<div>\n<style scoped>\n    .dataframe tbody tr th:only-of-type {\n        vertical-align: middle;\n    }\n\n    .dataframe tbody tr th {\n        vertical-align: top;\n    }\n\n    .dataframe thead th {\n        text-align: right;\n    }\n</style>\n<table border=\"1\" class=\"dataframe\">\n  <thead>\n    <tr style=\"text-align: right;\">\n      <th></th>\n      <th>close</th>\n      <th>high</th>\n      <th>low</th>\n    </tr>\n    <tr>\n      <th>date</th>\n      <th></th>\n      <th></th>\n      <th></th>\n    </tr>\n  </thead>\n  <tbody>\n    <tr>\n      <th>2021-05-31 23:00:00</th>\n      <td>2706.15</td>\n      <td>2720.00</td>\n      <td>2639.20</td>\n    </tr>\n    <tr>\n      <th>2021-06-01 00:00:00</th>\n      <td>2730.67</td>\n      <td>2740.00</td>\n      <td>2690.00</td>\n    </tr>\n    <tr>\n      <th>2021-06-01 01:00:00</th>\n      <td>2662.06</td>\n      <td>2730.67</td>\n      <td>2656.73</td>\n    </tr>\n    <tr>\n      <th>2021-06-01 02:00:00</th>\n      <td>2644.88</td>\n      <td>2675.92</td>\n      <td>2612.63</td>\n    </tr>\n    <tr>\n      <th>2021-06-01 03:00:00</th>\n      <td>2630.79</td>\n      <td>2679.88</td>\n      <td>2613.00</td>\n    </tr>\n  </tbody>\n</table>\n</div>"
     },
     "execution_count": 3,
     "metadata": {},
     "output_type": "execute_result"
    }
   ],
   "source": [
    "# Load data\n",
    "data = pd.read_csv('ETH_USDT__data_1h.csv')\n",
    "data.dropna(inplace=True)\n",
    "# data['date'] = pd.to_datetime(data['date'], format='%d-%m-%Y').dt.date\n",
    "data['date'] = pd.to_datetime(data['open_time'], unit='ms')\n",
    "data.drop_duplicates(subset='date', keep='first', inplace=True)\n",
    "df = data[['date', 'close', 'high', 'low']]\n",
    "df = df.iloc[24 * 60:24 * 180, :]\n",
    "df.set_index('date', inplace=True)\n",
    "df.head()"
   ]
  },
  {
   "cell_type": "code",
   "execution_count": 4,
   "metadata": {
    "pycharm": {
     "name": "#%%\n"
    }
   },
   "outputs": [],
   "source": [
    "from ta.momentum import RSIIndicator, AwesomeOscillatorIndicator\n",
    "from ta.trend import MACD, ADXIndicator\n",
    "from ta.volatility import BollingerBands\n",
    "\n",
    "\n",
    "def add_technical_indicators():\n",
    "    \"\"\"\n",
    "    Add MACD, ADX, RSI, AO, BB to the dataframe\n",
    "    :return:\n",
    "    \"\"\"\n",
    "    # Create MACD using ta library\n",
    "    df['macd'] = MACD(close=df['close'], window_slow=26, window_fast=12, window_sign=9).macd()\n",
    "\n",
    "    # Create ADX using ta library\n",
    "    df['adx'] = ADXIndicator(high=df['high'], low=df['low'], close=df['close'], window=14).adx()\n",
    "\n",
    "    # Create upper and lower bollinger bands using ta library\n",
    "    indicator_bb = BollingerBands(close=df['close'], window=20, window_dev=2)\n",
    "    # df['upper_bb'] = indicator_bb.bollinger_hband()\n",
    "    # df['lower_bb'] = indicator_bb.bollinger_lband()\n",
    "    df['bb_perc'] = indicator_bb.bollinger_pband()  # Percentage band\n",
    "    df['bb_width'] = indicator_bb.bollinger_wband()  # Width band\n",
    "\n",
    "    # Create RSI using ta library\n",
    "    df['rsi'] = RSIIndicator(close=df['close'], window=14).rsi()\n",
    "\n",
    "    # Create Awesome Osciallator using ta library\n",
    "    df['ao'] = AwesomeOscillatorIndicator(high=df['high'], low=df['low'], window1=5, window2=34).awesome_oscillator()"
   ]
  },
  {
   "cell_type": "code",
   "execution_count": 5,
   "metadata": {
    "pycharm": {
     "name": "#%%\n"
    }
   },
   "outputs": [
    {
     "name": "stderr",
     "output_type": "stream",
     "text": [
      "c:\\users\\nikhi\\pycharmprojects\\crypto-trading-bot\\venv\\lib\\site-packages\\ta\\trend.py:769: RuntimeWarning: invalid value encountered in double_scalars\n",
      "  dip[idx] = 100 * (self._dip[idx] / value)\n",
      "c:\\users\\nikhi\\pycharmprojects\\crypto-trading-bot\\venv\\lib\\site-packages\\ta\\trend.py:774: RuntimeWarning: invalid value encountered in double_scalars\n",
      "  din[idx] = 100 * (self._din[idx] / value)\n"
     ]
    }
   ],
   "source": [
    "# Add technical indicators using the above function\n",
    "add_technical_indicators()"
   ]
  },
  {
   "cell_type": "code",
   "execution_count": 6,
   "metadata": {
    "pycharm": {
     "name": "#%%\n"
    }
   },
   "outputs": [
    {
     "data": {
      "text/plain": "                       close       macd        adx   bb_perc  bb_width  \\\ndate                                                                     \n2021-06-02 08:00:00  2713.71   9.712638  14.093483  1.120491  6.749468   \n2021-06-02 09:00:00  2684.51  12.792946  15.141808  0.912257  7.197615   \n2021-06-02 10:00:00  2681.16  14.793268  15.895290  0.851686  7.568330   \n2021-06-02 11:00:00  2694.35  17.244082  16.231895  0.871008  7.867020   \n2021-06-02 12:00:00  2701.10  19.506183  16.820909  0.867012  7.781784   \n\n                           rsi         ao  \ndate                                       \n2021-06-02 08:00:00  63.592360  35.689706  \n2021-06-02 09:00:00  58.232595  48.525647  \n2021-06-02 10:00:00  57.632453  61.315029  \n2021-06-02 11:00:00  59.406360  69.355059  \n2021-06-02 12:00:00  60.321931  74.250294  ",
      "text/html": "<div>\n<style scoped>\n    .dataframe tbody tr th:only-of-type {\n        vertical-align: middle;\n    }\n\n    .dataframe tbody tr th {\n        vertical-align: top;\n    }\n\n    .dataframe thead th {\n        text-align: right;\n    }\n</style>\n<table border=\"1\" class=\"dataframe\">\n  <thead>\n    <tr style=\"text-align: right;\">\n      <th></th>\n      <th>close</th>\n      <th>macd</th>\n      <th>adx</th>\n      <th>bb_perc</th>\n      <th>bb_width</th>\n      <th>rsi</th>\n      <th>ao</th>\n    </tr>\n    <tr>\n      <th>date</th>\n      <th></th>\n      <th></th>\n      <th></th>\n      <th></th>\n      <th></th>\n      <th></th>\n      <th></th>\n    </tr>\n  </thead>\n  <tbody>\n    <tr>\n      <th>2021-06-02 08:00:00</th>\n      <td>2713.71</td>\n      <td>9.712638</td>\n      <td>14.093483</td>\n      <td>1.120491</td>\n      <td>6.749468</td>\n      <td>63.592360</td>\n      <td>35.689706</td>\n    </tr>\n    <tr>\n      <th>2021-06-02 09:00:00</th>\n      <td>2684.51</td>\n      <td>12.792946</td>\n      <td>15.141808</td>\n      <td>0.912257</td>\n      <td>7.197615</td>\n      <td>58.232595</td>\n      <td>48.525647</td>\n    </tr>\n    <tr>\n      <th>2021-06-02 10:00:00</th>\n      <td>2681.16</td>\n      <td>14.793268</td>\n      <td>15.895290</td>\n      <td>0.851686</td>\n      <td>7.568330</td>\n      <td>57.632453</td>\n      <td>61.315029</td>\n    </tr>\n    <tr>\n      <th>2021-06-02 11:00:00</th>\n      <td>2694.35</td>\n      <td>17.244082</td>\n      <td>16.231895</td>\n      <td>0.871008</td>\n      <td>7.867020</td>\n      <td>59.406360</td>\n      <td>69.355059</td>\n    </tr>\n    <tr>\n      <th>2021-06-02 12:00:00</th>\n      <td>2701.10</td>\n      <td>19.506183</td>\n      <td>16.820909</td>\n      <td>0.867012</td>\n      <td>7.781784</td>\n      <td>60.321931</td>\n      <td>74.250294</td>\n    </tr>\n  </tbody>\n</table>\n</div>"
     },
     "execution_count": 6,
     "metadata": {},
     "output_type": "execute_result"
    }
   ],
   "source": [
    "# Drop nan values\n",
    "df = df.dropna()\n",
    "df.drop(labels=['high', 'low'], inplace=True, axis=1)\n",
    "df.head()"
   ]
  },
  {
   "cell_type": "code",
   "execution_count": 9,
   "metadata": {
    "pycharm": {
     "name": "#%%\n"
    }
   },
   "outputs": [],
   "source": [
    "# We will use past 'p' time steps to predict the future 'q' time steps\n",
    "p = 4\n",
    "num_epochs = 100  # These settings are used while training the model\n",
    "mini_batch_size = 16\n",
    "dropout = 0.2\n",
    "\n",
    "# Convert dataframe to numpy array\n",
    "price_array = df.to_numpy()"
   ]
  },
  {
   "cell_type": "code",
   "execution_count": 10,
   "metadata": {
    "pycharm": {
     "name": "#%%\n"
    }
   },
   "outputs": [
    {
     "data": {
      "text/plain": "array([[0.43816419, 0.62615214, 0.1143607 , ..., 0.27022434, 0.70411234,\n        0.68030814],\n       [0.4252022 , 0.63948664, 0.1313058 , ..., 0.29105004, 0.62897826,\n        0.70074626],\n       [0.42371512, 0.64814594, 0.14348505, ..., 0.30827745, 0.62056535,\n        0.72111025],\n       ...,\n       [0.49636443, 0.42560448, 0.30216018, ..., 0.21740337, 0.39738778,\n        0.50903358],\n       [0.49928531, 0.43637949, 0.29897579, ..., 0.19861643, 0.41544333,\n        0.51447114],\n       [0.50646768, 0.45209237, 0.29021593, ..., 0.18145363, 0.45961522,\n        0.51983011]])"
     },
     "execution_count": 10,
     "metadata": {},
     "output_type": "execute_result"
    }
   ],
   "source": [
    "from sklearn.preprocessing import MinMaxScaler, StandardScaler\n",
    "\n",
    "# Preprocess data using MinMaxScaler\n",
    "scaler = MinMaxScaler(feature_range=(0, 1))\n",
    "# scaler = StandardScaler()\n",
    "price_array = scaler.fit_transform(price_array)\n",
    "price_array"
   ]
  },
  {
   "cell_type": "code",
   "execution_count": 20,
   "metadata": {
    "pycharm": {
     "name": "#%%\n"
    }
   },
   "outputs": [],
   "source": [
    "from keras.utils.np_utils import to_categorical\n",
    "from sklearn.model_selection import train_test_split\n",
    "\n",
    "def make_train_test_data(p_arr, test_size=0.2, shuffle=True):\n",
    "    \"\"\"\n",
    "    This function creates training and testing data from the input array using p and q values provided above.\n",
    "    :param p_arr:\n",
    "    :param test_size:\n",
    "    :param shuffle:\n",
    "    :return:\n",
    "    \"\"\"\n",
    "    # Make sequences of 100 previous values and take the next value as the target\n",
    "    time_offset = p\n",
    "    step = 1\n",
    "    x_data = []\n",
    "    y_data = []\n",
    "    for index in range(time_offset, len(p_arr) - 1, step):\n",
    "        x_data.append(p_arr[index - time_offset: index, :])\n",
    "        cpr = p_arr[index - 1, 0]\n",
    "        npr = p_arr[index, 0]\n",
    "        y_data.append(npr > cpr)\n",
    "    x_data = np.array(x_data)\n",
    "    y_data = np.array(y_data)\n",
    "\n",
    "    # One hot encode the y_data\n",
    "    # y_data = to_categorical(y_data)\n",
    "\n",
    "    # y_data = y_data.reshape((y_data.shape[0], q, 1))\n",
    "\n",
    "    # Split data into training and test sets\n",
    "    X_train, X_test, Y_train, Y_test = train_test_split(x_data, y_data, test_size=test_size, shuffle=shuffle,\n",
    "                                                        random_state=42)\n",
    "\n",
    "    return X_train, Y_train, X_test, Y_test"
   ]
  },
  {
   "cell_type": "code",
   "execution_count": 21,
   "outputs": [
    {
     "name": "stdout",
     "output_type": "stream",
     "text": [
      "Shapes of x_train, x_test, y_train, y_test: (2273, 4, 7) (569, 4, 7) (2273,) (569,)\n"
     ]
    }
   ],
   "source": [
    "# Split data into training and test sets using the above function\n",
    "x_train, y_train, x_test, y_test = make_train_test_data(price_array, test_size=0.2, shuffle=False)\n",
    "print('Shapes of x_train, x_test, y_train, y_test:', x_train.shape, x_test.shape, y_train.shape, y_test.shape)"
   ],
   "metadata": {
    "collapsed": false,
    "pycharm": {
     "name": "#%%\n"
    }
   }
  },
  {
   "cell_type": "code",
   "execution_count": 41,
   "outputs": [
    {
     "name": "stdout",
     "output_type": "stream",
     "text": [
      "Collecting seaborn\n",
      "  Using cached seaborn-0.11.2-py3-none-any.whl (292 kB)\n",
      "Requirement already satisfied: scipy>=1.0 in c:\\users\\nikhi\\pycharmprojects\\crypto-trading-bot\\venv\\lib\\site-packages (from seaborn) (1.8.0)\n",
      "Requirement already satisfied: pandas>=0.23 in c:\\users\\nikhi\\pycharmprojects\\crypto-trading-bot\\venv\\lib\\site-packages (from seaborn) (1.3.5)\n",
      "Requirement already satisfied: numpy>=1.15 in c:\\users\\nikhi\\pycharmprojects\\crypto-trading-bot\\venv\\lib\\site-packages (from seaborn) (1.21.5)\n",
      "Requirement already satisfied: matplotlib>=2.2 in c:\\users\\nikhi\\pycharmprojects\\crypto-trading-bot\\venv\\lib\\site-packages (from seaborn) (3.5.1)\n",
      "Requirement already satisfied: fonttools>=4.22.0 in c:\\users\\nikhi\\pycharmprojects\\crypto-trading-bot\\venv\\lib\\site-packages (from matplotlib>=2.2->seaborn) (4.28.5)\n",
      "Requirement already satisfied: pyparsing>=2.2.1 in c:\\users\\nikhi\\pycharmprojects\\crypto-trading-bot\\venv\\lib\\site-packages (from matplotlib>=2.2->seaborn) (3.0.6)\n",
      "Requirement already satisfied: kiwisolver>=1.0.1 in c:\\users\\nikhi\\pycharmprojects\\crypto-trading-bot\\venv\\lib\\site-packages (from matplotlib>=2.2->seaborn) (1.3.2)\n",
      "Requirement already satisfied: python-dateutil>=2.7 in c:\\users\\nikhi\\pycharmprojects\\crypto-trading-bot\\venv\\lib\\site-packages (from matplotlib>=2.2->seaborn) (2.8.2)\n",
      "Requirement already satisfied: packaging>=20.0 in c:\\users\\nikhi\\pycharmprojects\\crypto-trading-bot\\venv\\lib\\site-packages (from matplotlib>=2.2->seaborn) (21.3)\n",
      "Requirement already satisfied: pillow>=6.2.0 in c:\\users\\nikhi\\pycharmprojects\\crypto-trading-bot\\venv\\lib\\site-packages (from matplotlib>=2.2->seaborn) (8.4.0)\n",
      "Requirement already satisfied: cycler>=0.10 in c:\\users\\nikhi\\pycharmprojects\\crypto-trading-bot\\venv\\lib\\site-packages (from matplotlib>=2.2->seaborn) (0.11.0)\n",
      "Requirement already satisfied: pytz>=2017.3 in c:\\users\\nikhi\\pycharmprojects\\crypto-trading-bot\\venv\\lib\\site-packages (from pandas>=0.23->seaborn) (2021.3)\n",
      "Requirement already satisfied: six>=1.5 in c:\\users\\nikhi\\pycharmprojects\\crypto-trading-bot\\venv\\lib\\site-packages (from python-dateutil>=2.7->matplotlib>=2.2->seaborn) (1.16.0)\n",
      "Installing collected packages: seaborn\n",
      "Successfully installed seaborn-0.11.2\n"
     ]
    },
    {
     "name": "stderr",
     "output_type": "stream",
     "text": [
      "WARNING: You are using pip version 21.1.2; however, version 22.1 is available.\n",
      "You should consider upgrading via the 'C:\\Users\\nikhi\\PycharmProjects\\crypto-trading-bot\\venv\\Scripts\\python.exe -m pip install --upgrade pip' command.\n"
     ]
    }
   ],
   "source": [
    "!pip install seaborn"
   ],
   "metadata": {
    "collapsed": false,
    "pycharm": {
     "name": "#%%\n"
    }
   }
  },
  {
   "cell_type": "code",
   "execution_count": 8,
   "outputs": [
    {
     "data": {
      "text/plain": "<Figure size 432x288 with 2 Axes>",
      "image/png": "[encoded data removed]"
     },
     "metadata": {},
     "output_type": "display_data"
    }
   ],
   "source": [
    "import seaborn as sns\n",
    "\n",
    "# Visualize the correlation matrix between the features and targets\n",
    "#df_corr = pd.DataFrame(x_train.squeeze())\n",
    "#df_corr['target'] = y_train.squeeze()\n",
    "\n",
    "corr = df.corr()\n",
    "sns.heatmap(corr, annot=True)\n",
    "\n",
    "plt.show()"
   ],
   "metadata": {
    "collapsed": false,
    "pycharm": {
     "name": "#%%\n"
    }
   }
  },
  {
   "cell_type": "code",
   "execution_count": 22,
   "metadata": {
    "pycharm": {
     "name": "#%%\n"
    }
   },
   "outputs": [
    {
     "name": "stdout",
     "output_type": "stream",
     "text": [
      "WARNING:tensorflow:Layer lstm_6 will not use cuDNN kernels since it doesn't meet the criteria. It will use a generic GPU kernel as fallback when running on GPU.\n",
      "WARNING:tensorflow:Layer lstm_6 will not use cuDNN kernels since it doesn't meet the criteria. It will use a generic GPU kernel as fallback when running on GPU.\n",
      "WARNING:tensorflow:Layer lstm_6 will not use cuDNN kernels since it doesn't meet the criteria. It will use a generic GPU kernel as fallback when running on GPU.\n",
      "WARNING:tensorflow:Layer lstm_7 will not use cuDNN kernels since it doesn't meet the criteria. It will use a generic GPU kernel as fallback when running on GPU.\n",
      "WARNING:tensorflow:Layer lstm_7 will not use cuDNN kernels since it doesn't meet the criteria. It will use a generic GPU kernel as fallback when running on GPU.\n",
      "WARNING:tensorflow:Layer lstm_7 will not use cuDNN kernels since it doesn't meet the criteria. It will use a generic GPU kernel as fallback when running on GPU.\n",
      "WARNING:tensorflow:Layer lstm_8 will not use cuDNN kernels since it doesn't meet the criteria. It will use a generic GPU kernel as fallback when running on GPU.\n",
      "WARNING:tensorflow:Layer lstm_8 will not use cuDNN kernels since it doesn't meet the criteria. It will use a generic GPU kernel as fallback when running on GPU.\n",
      "WARNING:tensorflow:Layer lstm_8 will not use cuDNN kernels since it doesn't meet the criteria. It will use a generic GPU kernel as fallback when running on GPU.\n",
      "Model: \"sequential_2\"\n",
      "_________________________________________________________________\n",
      " Layer (type)                Output Shape              Param #   \n",
      "=================================================================\n",
      " bidirectional_6 (Bidirectio  (None, 4, 20)            1440      \n",
      " nal)                                                            \n",
      "                                                                 \n",
      " dropout_4 (Dropout)         (None, 4, 20)             0         \n",
      "                                                                 \n",
      " bidirectional_7 (Bidirectio  (None, 4, 40)            6560      \n",
      " nal)                                                            \n",
      "                                                                 \n",
      " dropout_5 (Dropout)         (None, 4, 40)             0         \n",
      "                                                                 \n",
      " bidirectional_8 (Bidirectio  (None, 20)               4080      \n",
      " nal)                                                            \n",
      "                                                                 \n",
      " dense_2 (Dense)             (None, 1)                 21        \n",
      "                                                                 \n",
      " activation_2 (Activation)   (None, 1)                 0         \n",
      "                                                                 \n",
      "=================================================================\n",
      "Total params: 12,101\n",
      "Trainable params: 12,101\n",
      "Non-trainable params: 0\n",
      "_________________________________________________________________\n"
     ]
    }
   ],
   "source": [
    "from keras.optimizer_v2.adam import Adam\n",
    "from keras.layers import Bidirectional, Activation\n",
    "from dain import Dain\n",
    "\n",
    "# Create LSTM model\n",
    "model = Sequential()\n",
    "# model.add(Dain(dim=x_train.shape[1], n_features=x_train.shape[2]))\n",
    "model.add(\n",
    "    Bidirectional(LSTM(units=10, return_sequences=True, activation='relu')))\n",
    "model.add(Dropout(dropout))\n",
    "model.add(Bidirectional(LSTM(units=20, return_sequences=True, activation='relu')))\n",
    "model.add(Dropout(dropout))\n",
    "model.add(Bidirectional(LSTM(units=10, return_sequences=False, activation='relu')))\n",
    "model.add(Dense(units=1))\n",
    "model.add(Activation('sigmoid'))\n",
    "\n",
    "# Build model with the input shape\n",
    "model.build(input_shape=(None, x_train.shape[1], x_train.shape[2]))\n",
    "\n",
    "# create adam optimizer\n",
    "optimizer = Adam(learning_rate=0.1)\n",
    "\n",
    "# Compile model\n",
    "model.compile(loss='binary_crossentropy', optimizer=optimizer, metrics=['accuracy'])\n",
    "model.summary()  # Print model summary"
   ]
  },
  {
   "cell_type": "code",
   "execution_count": 23,
   "metadata": {
    "pycharm": {
     "name": "#%%\n"
    }
   },
   "outputs": [
    {
     "name": "stdout",
     "output_type": "stream",
     "text": [
      "Epoch 1/100\n",
      "128/128 [==============================] - 12s 59ms/step - loss: 0.6973 - accuracy: 0.5066 - val_loss: 0.7000 - val_accuracy: 0.5088\n",
      "Epoch 2/100\n",
      "128/128 [==============================] - 7s 55ms/step - loss: 0.6975 - accuracy: 0.4797 - val_loss: 0.6938 - val_accuracy: 0.5088\n",
      "Epoch 3/100\n",
      "128/128 [==============================] - 7s 54ms/step - loss: 0.6970 - accuracy: 0.5017 - val_loss: 0.6939 - val_accuracy: 0.4912\n",
      "Epoch 4/100\n",
      "128/128 [==============================] - 7s 51ms/step - loss: 0.6967 - accuracy: 0.4910 - val_loss: 0.6957 - val_accuracy: 0.4912\n",
      "Epoch 5/100\n",
      "128/128 [==============================] - 7s 54ms/step - loss: 0.6951 - accuracy: 0.5022 - val_loss: 0.6965 - val_accuracy: 0.5088\n",
      "Epoch 6/100\n",
      "128/128 [==============================] - 7s 54ms/step - loss: 0.6970 - accuracy: 0.5042 - val_loss: 0.6940 - val_accuracy: 0.5088\n",
      "Epoch 7/100\n",
      "128/128 [==============================] - 7s 55ms/step - loss: 0.6951 - accuracy: 0.5110 - val_loss: 0.6951 - val_accuracy: 0.5088\n",
      "Epoch 8/100\n",
      "128/128 [==============================] - 7s 53ms/step - loss: 0.6945 - accuracy: 0.5198 - val_loss: 0.6934 - val_accuracy: 0.5088\n",
      "Epoch 9/100\n",
      "128/128 [==============================] - 7s 54ms/step - loss: 0.6984 - accuracy: 0.4763 - val_loss: 0.6930 - val_accuracy: 0.5088\n",
      "Epoch 10/100\n",
      "128/128 [==============================] - 8s 59ms/step - loss: 0.6965 - accuracy: 0.5042 - val_loss: 0.6987 - val_accuracy: 0.5088\n",
      "Epoch 11/100\n",
      "128/128 [==============================] - 7s 57ms/step - loss: 0.6967 - accuracy: 0.4914 - val_loss: 0.6960 - val_accuracy: 0.5088\n",
      "Epoch 12/100\n",
      "128/128 [==============================] - 7s 57ms/step - loss: 0.6952 - accuracy: 0.5022 - val_loss: 0.6930 - val_accuracy: 0.5088\n",
      "Epoch 13/100\n",
      "128/128 [==============================] - 7s 58ms/step - loss: 0.6969 - accuracy: 0.5012 - val_loss: 0.6931 - val_accuracy: 0.5088\n",
      "Epoch 14/100\n",
      "128/128 [==============================] - 7s 59ms/step - loss: 0.6939 - accuracy: 0.4963 - val_loss: 0.7037 - val_accuracy: 0.5088\n",
      "Epoch 15/100\n",
      "128/128 [==============================] - 7s 59ms/step - loss: 0.6972 - accuracy: 0.4973 - val_loss: 0.6930 - val_accuracy: 0.5088\n",
      "Epoch 16/100\n",
      "128/128 [==============================] - 7s 56ms/step - loss: 0.6957 - accuracy: 0.5022 - val_loss: 0.6931 - val_accuracy: 0.5088\n",
      "Epoch 17/100\n",
      "112/128 [=========================>....] - ETA: 0s - loss: 0.6946 - accuracy: 0.4989"
     ]
    },
    {
     "ename": "KeyboardInterrupt",
     "evalue": "",
     "output_type": "error",
     "traceback": [
      "\u001B[1;31m---------------------------------------------------------------------------\u001B[0m",
      "\u001B[1;31mKeyboardInterrupt\u001B[0m                         Traceback (most recent call last)",
      "Input \u001B[1;32mIn [23]\u001B[0m, in \u001B[0;36m<cell line: 2>\u001B[1;34m()\u001B[0m\n\u001B[0;32m      1\u001B[0m \u001B[38;5;66;03m# Train model\u001B[39;00m\n\u001B[1;32m----> 2\u001B[0m history \u001B[38;5;241m=\u001B[39m \u001B[43mmodel\u001B[49m\u001B[38;5;241;43m.\u001B[39;49m\u001B[43mfit\u001B[49m\u001B[43m(\u001B[49m\u001B[43mx_train\u001B[49m\u001B[43m,\u001B[49m\u001B[43m \u001B[49m\u001B[43my_train\u001B[49m\u001B[43m,\u001B[49m\u001B[43m \u001B[49m\u001B[43mepochs\u001B[49m\u001B[38;5;241;43m=\u001B[39;49m\u001B[43mnum_epochs\u001B[49m\u001B[43m,\u001B[49m\u001B[43m \u001B[49m\u001B[43mbatch_size\u001B[49m\u001B[38;5;241;43m=\u001B[39;49m\u001B[43mmini_batch_size\u001B[49m\u001B[43m,\u001B[49m\u001B[43m \u001B[49m\u001B[43mvalidation_split\u001B[49m\u001B[38;5;241;43m=\u001B[39;49m\u001B[38;5;241;43m0.1\u001B[39;49m\u001B[43m)\u001B[49m\n",
      "File \u001B[1;32mc:\\users\\nikhi\\pycharmprojects\\crypto-trading-bot\\venv\\lib\\site-packages\\keras\\utils\\traceback_utils.py:64\u001B[0m, in \u001B[0;36mfilter_traceback.<locals>.error_handler\u001B[1;34m(*args, **kwargs)\u001B[0m\n\u001B[0;32m     62\u001B[0m filtered_tb \u001B[38;5;241m=\u001B[39m \u001B[38;5;28;01mNone\u001B[39;00m\n\u001B[0;32m     63\u001B[0m \u001B[38;5;28;01mtry\u001B[39;00m:\n\u001B[1;32m---> 64\u001B[0m   \u001B[38;5;28;01mreturn\u001B[39;00m fn(\u001B[38;5;241m*\u001B[39margs, \u001B[38;5;241m*\u001B[39m\u001B[38;5;241m*\u001B[39mkwargs)\n\u001B[0;32m     65\u001B[0m \u001B[38;5;28;01mexcept\u001B[39;00m \u001B[38;5;167;01mException\u001B[39;00m \u001B[38;5;28;01mas\u001B[39;00m e:  \u001B[38;5;66;03m# pylint: disable=broad-except\u001B[39;00m\n\u001B[0;32m     66\u001B[0m   filtered_tb \u001B[38;5;241m=\u001B[39m _process_traceback_frames(e\u001B[38;5;241m.\u001B[39m__traceback__)\n",
      "File \u001B[1;32mc:\\users\\nikhi\\pycharmprojects\\crypto-trading-bot\\venv\\lib\\site-packages\\keras\\engine\\training.py:1384\u001B[0m, in \u001B[0;36mModel.fit\u001B[1;34m(self, x, y, batch_size, epochs, verbose, callbacks, validation_split, validation_data, shuffle, class_weight, sample_weight, initial_epoch, steps_per_epoch, validation_steps, validation_batch_size, validation_freq, max_queue_size, workers, use_multiprocessing)\u001B[0m\n\u001B[0;32m   1377\u001B[0m \u001B[38;5;28;01mwith\u001B[39;00m tf\u001B[38;5;241m.\u001B[39mprofiler\u001B[38;5;241m.\u001B[39mexperimental\u001B[38;5;241m.\u001B[39mTrace(\n\u001B[0;32m   1378\u001B[0m     \u001B[38;5;124m'\u001B[39m\u001B[38;5;124mtrain\u001B[39m\u001B[38;5;124m'\u001B[39m,\n\u001B[0;32m   1379\u001B[0m     epoch_num\u001B[38;5;241m=\u001B[39mepoch,\n\u001B[0;32m   1380\u001B[0m     step_num\u001B[38;5;241m=\u001B[39mstep,\n\u001B[0;32m   1381\u001B[0m     batch_size\u001B[38;5;241m=\u001B[39mbatch_size,\n\u001B[0;32m   1382\u001B[0m     _r\u001B[38;5;241m=\u001B[39m\u001B[38;5;241m1\u001B[39m):\n\u001B[0;32m   1383\u001B[0m   callbacks\u001B[38;5;241m.\u001B[39mon_train_batch_begin(step)\n\u001B[1;32m-> 1384\u001B[0m   tmp_logs \u001B[38;5;241m=\u001B[39m \u001B[38;5;28;43mself\u001B[39;49m\u001B[38;5;241;43m.\u001B[39;49m\u001B[43mtrain_function\u001B[49m\u001B[43m(\u001B[49m\u001B[43miterator\u001B[49m\u001B[43m)\u001B[49m\n\u001B[0;32m   1385\u001B[0m   \u001B[38;5;28;01mif\u001B[39;00m data_handler\u001B[38;5;241m.\u001B[39mshould_sync:\n\u001B[0;32m   1386\u001B[0m     context\u001B[38;5;241m.\u001B[39masync_wait()\n",
      "File \u001B[1;32mc:\\users\\nikhi\\pycharmprojects\\crypto-trading-bot\\venv\\lib\\site-packages\\tensorflow\\python\\util\\traceback_utils.py:150\u001B[0m, in \u001B[0;36mfilter_traceback.<locals>.error_handler\u001B[1;34m(*args, **kwargs)\u001B[0m\n\u001B[0;32m    148\u001B[0m filtered_tb \u001B[38;5;241m=\u001B[39m \u001B[38;5;28;01mNone\u001B[39;00m\n\u001B[0;32m    149\u001B[0m \u001B[38;5;28;01mtry\u001B[39;00m:\n\u001B[1;32m--> 150\u001B[0m   \u001B[38;5;28;01mreturn\u001B[39;00m fn(\u001B[38;5;241m*\u001B[39margs, \u001B[38;5;241m*\u001B[39m\u001B[38;5;241m*\u001B[39mkwargs)\n\u001B[0;32m    151\u001B[0m \u001B[38;5;28;01mexcept\u001B[39;00m \u001B[38;5;167;01mException\u001B[39;00m \u001B[38;5;28;01mas\u001B[39;00m e:\n\u001B[0;32m    152\u001B[0m   filtered_tb \u001B[38;5;241m=\u001B[39m _process_traceback_frames(e\u001B[38;5;241m.\u001B[39m__traceback__)\n",
      "File \u001B[1;32mc:\\users\\nikhi\\pycharmprojects\\crypto-trading-bot\\venv\\lib\\site-packages\\tensorflow\\python\\eager\\def_function.py:915\u001B[0m, in \u001B[0;36mFunction.__call__\u001B[1;34m(self, *args, **kwds)\u001B[0m\n\u001B[0;32m    912\u001B[0m compiler \u001B[38;5;241m=\u001B[39m \u001B[38;5;124m\"\u001B[39m\u001B[38;5;124mxla\u001B[39m\u001B[38;5;124m\"\u001B[39m \u001B[38;5;28;01mif\u001B[39;00m \u001B[38;5;28mself\u001B[39m\u001B[38;5;241m.\u001B[39m_jit_compile \u001B[38;5;28;01melse\u001B[39;00m \u001B[38;5;124m\"\u001B[39m\u001B[38;5;124mnonXla\u001B[39m\u001B[38;5;124m\"\u001B[39m\n\u001B[0;32m    914\u001B[0m \u001B[38;5;28;01mwith\u001B[39;00m OptionalXlaContext(\u001B[38;5;28mself\u001B[39m\u001B[38;5;241m.\u001B[39m_jit_compile):\n\u001B[1;32m--> 915\u001B[0m   result \u001B[38;5;241m=\u001B[39m \u001B[38;5;28mself\u001B[39m\u001B[38;5;241m.\u001B[39m_call(\u001B[38;5;241m*\u001B[39margs, \u001B[38;5;241m*\u001B[39m\u001B[38;5;241m*\u001B[39mkwds)\n\u001B[0;32m    917\u001B[0m new_tracing_count \u001B[38;5;241m=\u001B[39m \u001B[38;5;28mself\u001B[39m\u001B[38;5;241m.\u001B[39mexperimental_get_tracing_count()\n\u001B[0;32m    918\u001B[0m without_tracing \u001B[38;5;241m=\u001B[39m (tracing_count \u001B[38;5;241m==\u001B[39m new_tracing_count)\n",
      "File \u001B[1;32mc:\\users\\nikhi\\pycharmprojects\\crypto-trading-bot\\venv\\lib\\site-packages\\tensorflow\\python\\eager\\def_function.py:947\u001B[0m, in \u001B[0;36mFunction._call\u001B[1;34m(self, *args, **kwds)\u001B[0m\n\u001B[0;32m    944\u001B[0m   \u001B[38;5;28mself\u001B[39m\u001B[38;5;241m.\u001B[39m_lock\u001B[38;5;241m.\u001B[39mrelease()\n\u001B[0;32m    945\u001B[0m   \u001B[38;5;66;03m# In this case we have created variables on the first call, so we run the\u001B[39;00m\n\u001B[0;32m    946\u001B[0m   \u001B[38;5;66;03m# defunned version which is guaranteed to never create variables.\u001B[39;00m\n\u001B[1;32m--> 947\u001B[0m   \u001B[38;5;28;01mreturn\u001B[39;00m \u001B[38;5;28mself\u001B[39m\u001B[38;5;241m.\u001B[39m_stateless_fn(\u001B[38;5;241m*\u001B[39margs, \u001B[38;5;241m*\u001B[39m\u001B[38;5;241m*\u001B[39mkwds)  \u001B[38;5;66;03m# pylint: disable=not-callable\u001B[39;00m\n\u001B[0;32m    948\u001B[0m \u001B[38;5;28;01melif\u001B[39;00m \u001B[38;5;28mself\u001B[39m\u001B[38;5;241m.\u001B[39m_stateful_fn \u001B[38;5;129;01mis\u001B[39;00m \u001B[38;5;129;01mnot\u001B[39;00m \u001B[38;5;28;01mNone\u001B[39;00m:\n\u001B[0;32m    949\u001B[0m   \u001B[38;5;66;03m# Release the lock early so that multiple threads can perform the call\u001B[39;00m\n\u001B[0;32m    950\u001B[0m   \u001B[38;5;66;03m# in parallel.\u001B[39;00m\n\u001B[0;32m    951\u001B[0m   \u001B[38;5;28mself\u001B[39m\u001B[38;5;241m.\u001B[39m_lock\u001B[38;5;241m.\u001B[39mrelease()\n",
      "File \u001B[1;32mc:\\users\\nikhi\\pycharmprojects\\crypto-trading-bot\\venv\\lib\\site-packages\\tensorflow\\python\\eager\\function.py:2956\u001B[0m, in \u001B[0;36mFunction.__call__\u001B[1;34m(self, *args, **kwargs)\u001B[0m\n\u001B[0;32m   2953\u001B[0m \u001B[38;5;28;01mwith\u001B[39;00m \u001B[38;5;28mself\u001B[39m\u001B[38;5;241m.\u001B[39m_lock:\n\u001B[0;32m   2954\u001B[0m   (graph_function,\n\u001B[0;32m   2955\u001B[0m    filtered_flat_args) \u001B[38;5;241m=\u001B[39m \u001B[38;5;28mself\u001B[39m\u001B[38;5;241m.\u001B[39m_maybe_define_function(args, kwargs)\n\u001B[1;32m-> 2956\u001B[0m \u001B[38;5;28;01mreturn\u001B[39;00m \u001B[43mgraph_function\u001B[49m\u001B[38;5;241;43m.\u001B[39;49m\u001B[43m_call_flat\u001B[49m\u001B[43m(\u001B[49m\n\u001B[0;32m   2957\u001B[0m \u001B[43m    \u001B[49m\u001B[43mfiltered_flat_args\u001B[49m\u001B[43m,\u001B[49m\u001B[43m \u001B[49m\u001B[43mcaptured_inputs\u001B[49m\u001B[38;5;241;43m=\u001B[39;49m\u001B[43mgraph_function\u001B[49m\u001B[38;5;241;43m.\u001B[39;49m\u001B[43mcaptured_inputs\u001B[49m\u001B[43m)\u001B[49m\n",
      "File \u001B[1;32mc:\\users\\nikhi\\pycharmprojects\\crypto-trading-bot\\venv\\lib\\site-packages\\tensorflow\\python\\eager\\function.py:1853\u001B[0m, in \u001B[0;36mConcreteFunction._call_flat\u001B[1;34m(self, args, captured_inputs, cancellation_manager)\u001B[0m\n\u001B[0;32m   1849\u001B[0m possible_gradient_type \u001B[38;5;241m=\u001B[39m gradients_util\u001B[38;5;241m.\u001B[39mPossibleTapeGradientTypes(args)\n\u001B[0;32m   1850\u001B[0m \u001B[38;5;28;01mif\u001B[39;00m (possible_gradient_type \u001B[38;5;241m==\u001B[39m gradients_util\u001B[38;5;241m.\u001B[39mPOSSIBLE_GRADIENT_TYPES_NONE\n\u001B[0;32m   1851\u001B[0m     \u001B[38;5;129;01mand\u001B[39;00m executing_eagerly):\n\u001B[0;32m   1852\u001B[0m   \u001B[38;5;66;03m# No tape is watching; skip to running the function.\u001B[39;00m\n\u001B[1;32m-> 1853\u001B[0m   \u001B[38;5;28;01mreturn\u001B[39;00m \u001B[38;5;28mself\u001B[39m\u001B[38;5;241m.\u001B[39m_build_call_outputs(\u001B[38;5;28;43mself\u001B[39;49m\u001B[38;5;241;43m.\u001B[39;49m\u001B[43m_inference_function\u001B[49m\u001B[38;5;241;43m.\u001B[39;49m\u001B[43mcall\u001B[49m\u001B[43m(\u001B[49m\n\u001B[0;32m   1854\u001B[0m \u001B[43m      \u001B[49m\u001B[43mctx\u001B[49m\u001B[43m,\u001B[49m\u001B[43m \u001B[49m\u001B[43margs\u001B[49m\u001B[43m,\u001B[49m\u001B[43m \u001B[49m\u001B[43mcancellation_manager\u001B[49m\u001B[38;5;241;43m=\u001B[39;49m\u001B[43mcancellation_manager\u001B[49m\u001B[43m)\u001B[49m)\n\u001B[0;32m   1855\u001B[0m forward_backward \u001B[38;5;241m=\u001B[39m \u001B[38;5;28mself\u001B[39m\u001B[38;5;241m.\u001B[39m_select_forward_and_backward_functions(\n\u001B[0;32m   1856\u001B[0m     args,\n\u001B[0;32m   1857\u001B[0m     possible_gradient_type,\n\u001B[0;32m   1858\u001B[0m     executing_eagerly)\n\u001B[0;32m   1859\u001B[0m forward_function, args_with_tangents \u001B[38;5;241m=\u001B[39m forward_backward\u001B[38;5;241m.\u001B[39mforward()\n",
      "File \u001B[1;32mc:\\users\\nikhi\\pycharmprojects\\crypto-trading-bot\\venv\\lib\\site-packages\\tensorflow\\python\\eager\\function.py:499\u001B[0m, in \u001B[0;36m_EagerDefinedFunction.call\u001B[1;34m(self, ctx, args, cancellation_manager)\u001B[0m\n\u001B[0;32m    497\u001B[0m \u001B[38;5;28;01mwith\u001B[39;00m _InterpolateFunctionError(\u001B[38;5;28mself\u001B[39m):\n\u001B[0;32m    498\u001B[0m   \u001B[38;5;28;01mif\u001B[39;00m cancellation_manager \u001B[38;5;129;01mis\u001B[39;00m \u001B[38;5;28;01mNone\u001B[39;00m:\n\u001B[1;32m--> 499\u001B[0m     outputs \u001B[38;5;241m=\u001B[39m \u001B[43mexecute\u001B[49m\u001B[38;5;241;43m.\u001B[39;49m\u001B[43mexecute\u001B[49m\u001B[43m(\u001B[49m\n\u001B[0;32m    500\u001B[0m \u001B[43m        \u001B[49m\u001B[38;5;28;43mstr\u001B[39;49m\u001B[43m(\u001B[49m\u001B[38;5;28;43mself\u001B[39;49m\u001B[38;5;241;43m.\u001B[39;49m\u001B[43msignature\u001B[49m\u001B[38;5;241;43m.\u001B[39;49m\u001B[43mname\u001B[49m\u001B[43m)\u001B[49m\u001B[43m,\u001B[49m\n\u001B[0;32m    501\u001B[0m \u001B[43m        \u001B[49m\u001B[43mnum_outputs\u001B[49m\u001B[38;5;241;43m=\u001B[39;49m\u001B[38;5;28;43mself\u001B[39;49m\u001B[38;5;241;43m.\u001B[39;49m\u001B[43m_num_outputs\u001B[49m\u001B[43m,\u001B[49m\n\u001B[0;32m    502\u001B[0m \u001B[43m        \u001B[49m\u001B[43minputs\u001B[49m\u001B[38;5;241;43m=\u001B[39;49m\u001B[43margs\u001B[49m\u001B[43m,\u001B[49m\n\u001B[0;32m    503\u001B[0m \u001B[43m        \u001B[49m\u001B[43mattrs\u001B[49m\u001B[38;5;241;43m=\u001B[39;49m\u001B[43mattrs\u001B[49m\u001B[43m,\u001B[49m\n\u001B[0;32m    504\u001B[0m \u001B[43m        \u001B[49m\u001B[43mctx\u001B[49m\u001B[38;5;241;43m=\u001B[39;49m\u001B[43mctx\u001B[49m\u001B[43m)\u001B[49m\n\u001B[0;32m    505\u001B[0m   \u001B[38;5;28;01melse\u001B[39;00m:\n\u001B[0;32m    506\u001B[0m     outputs \u001B[38;5;241m=\u001B[39m execute\u001B[38;5;241m.\u001B[39mexecute_with_cancellation(\n\u001B[0;32m    507\u001B[0m         \u001B[38;5;28mstr\u001B[39m(\u001B[38;5;28mself\u001B[39m\u001B[38;5;241m.\u001B[39msignature\u001B[38;5;241m.\u001B[39mname),\n\u001B[0;32m    508\u001B[0m         num_outputs\u001B[38;5;241m=\u001B[39m\u001B[38;5;28mself\u001B[39m\u001B[38;5;241m.\u001B[39m_num_outputs,\n\u001B[1;32m   (...)\u001B[0m\n\u001B[0;32m    511\u001B[0m         ctx\u001B[38;5;241m=\u001B[39mctx,\n\u001B[0;32m    512\u001B[0m         cancellation_manager\u001B[38;5;241m=\u001B[39mcancellation_manager)\n",
      "File \u001B[1;32mc:\\users\\nikhi\\pycharmprojects\\crypto-trading-bot\\venv\\lib\\site-packages\\tensorflow\\python\\eager\\execute.py:54\u001B[0m, in \u001B[0;36mquick_execute\u001B[1;34m(op_name, num_outputs, inputs, attrs, ctx, name)\u001B[0m\n\u001B[0;32m     52\u001B[0m \u001B[38;5;28;01mtry\u001B[39;00m:\n\u001B[0;32m     53\u001B[0m   ctx\u001B[38;5;241m.\u001B[39mensure_initialized()\n\u001B[1;32m---> 54\u001B[0m   tensors \u001B[38;5;241m=\u001B[39m \u001B[43mpywrap_tfe\u001B[49m\u001B[38;5;241;43m.\u001B[39;49m\u001B[43mTFE_Py_Execute\u001B[49m\u001B[43m(\u001B[49m\u001B[43mctx\u001B[49m\u001B[38;5;241;43m.\u001B[39;49m\u001B[43m_handle\u001B[49m\u001B[43m,\u001B[49m\u001B[43m \u001B[49m\u001B[43mdevice_name\u001B[49m\u001B[43m,\u001B[49m\u001B[43m \u001B[49m\u001B[43mop_name\u001B[49m\u001B[43m,\u001B[49m\n\u001B[0;32m     55\u001B[0m \u001B[43m                                      \u001B[49m\u001B[43minputs\u001B[49m\u001B[43m,\u001B[49m\u001B[43m \u001B[49m\u001B[43mattrs\u001B[49m\u001B[43m,\u001B[49m\u001B[43m \u001B[49m\u001B[43mnum_outputs\u001B[49m\u001B[43m)\u001B[49m\n\u001B[0;32m     56\u001B[0m \u001B[38;5;28;01mexcept\u001B[39;00m core\u001B[38;5;241m.\u001B[39m_NotOkStatusException \u001B[38;5;28;01mas\u001B[39;00m e:\n\u001B[0;32m     57\u001B[0m   \u001B[38;5;28;01mif\u001B[39;00m name \u001B[38;5;129;01mis\u001B[39;00m \u001B[38;5;129;01mnot\u001B[39;00m \u001B[38;5;28;01mNone\u001B[39;00m:\n",
      "\u001B[1;31mKeyboardInterrupt\u001B[0m: "
     ]
    }
   ],
   "source": [
    "# Train model\n",
    "history = model.fit(x_train, y_train, epochs=num_epochs, batch_size=mini_batch_size, validation_split=0.1)"
   ]
  },
  {
   "cell_type": "code",
   "execution_count": 125,
   "outputs": [],
   "source": [
    "x_test_n = x_test[:, :, :]\n",
    "y_test_n = y_test[:, :, :]"
   ],
   "metadata": {
    "collapsed": false,
    "pycharm": {
     "name": "#%%\n"
    }
   }
  },
  {
   "cell_type": "code",
   "execution_count": 126,
   "outputs": [
    {
     "name": "stdout",
     "output_type": "stream",
     "text": [
      "Accuracy: 0.8910369068541301\n",
      "Balance: 587.7547477571013\n",
      "Profit: 87.75474775710079\n"
     ]
    },
    {
     "data": {
      "text/plain": "array([[  0.61104878,   0.6408453 ,   0.62536138,   2.34230149,\n          4.87629186],\n       [  0.61767984,   0.64062554,   0.60868077,  -1.46374126,\n          3.7148196 ],\n       [  0.61881131,   0.64044231,   0.6077678 ,  -1.7877687 ,\n          3.49557261],\n       [  0.61545533,   0.64034128,   0.64419127,   4.66056338,\n          4.04350313],\n       [  0.61523483,   0.64032561,   0.65001141,   5.69497995,\n          4.07824366],\n       [  0.61853014,   0.6403327 ,   0.61870435,   0.02869825,\n          3.52489906],\n       [  0.61885831,   0.64030534,   0.64246044,   3.88608961,\n          3.46557982],\n       [  0.62117124,   0.64030588,   0.70187918,  13.34006469,\n          3.08041301],\n       [  0.63365358,   0.64013451,   0.6124087 ,  -3.53180389,\n          1.02278833],\n       [  0.62507197,   0.64020318,   0.603222  ,  -3.65757373,\n          2.42071451],\n       [  0.61320934,   0.64026672,   0.66130934,   8.15007805,\n          4.41242095],\n       [  0.61342455,   0.64066404,   0.65796181,   7.66210407,\n          4.44056103],\n       [  0.62120546,   0.6406402 ,   0.62402998,   0.4868059 ,\n          3.12855298],\n       [  0.62598443,   0.64055157,   0.61229458,  -2.34356207,\n          2.32707689],\n       [  0.62622631,   0.64045483,   0.54737903, -13.43362258,\n          2.27210484],\n       [  0.61112465,   0.64033633,   0.62775791,   2.83079996,\n          4.77998881],\n       [  0.61594958,   0.64058322,   0.66043442,   7.55241573,\n          3.99929362],\n       [  0.6272307 ,   0.64043909,   0.57996044,  -7.9948072 ,\n          2.10582687],\n       [  0.62668205,   0.64028066,   0.54874848, -12.99357967,\n          2.16993772],\n       [  0.61120447,   0.64020211,   0.61242772,   0.20391194,\n          4.74434251],\n       [  0.66591673,   0.64028996,   0.65090536,   2.29766978,\n          3.84834473],\n       [  0.64928183,   0.63934523,   0.71123707,  -9.76979381,\n          1.53039814],\n       [  0.64784473,   0.63979053,   0.61075396,   5.74999267,\n          1.24322946],\n       [  0.64669096,   0.64003718,   0.50317635,  22.54323623,\n          1.02889657],\n       [  0.62223716,   0.64012641,   0.55793518, -10.9634113 ,\n          2.874988  ],\n       [  0.62392632,   0.6401332 ,   0.59302724,  -5.14540432,\n          2.59756355],\n       [  0.6302399 ,   0.64005762,   0.66412432,   5.53067763,\n          1.55777592],\n       [  0.65364521,   0.63981956,   0.6061511 ,   7.55486843,\n          2.1151608 ],\n       [  0.65605458,   0.63979608,   0.6384472 ,   2.83106427,\n          2.47822389],\n       [  0.65884554,   0.63978201,   0.71175061,  -8.51595966,\n          2.89347406],\n       [  0.66975213,   0.6396243 ,   0.76926735, -15.50471971,\n          4.49835572],\n       [  0.67095161,   0.64002806,   0.6073874 ,   9.59198306,\n          4.60890944],\n       [  0.66202502,   0.64006859,   0.70421865,  -6.57523468,\n          3.31655615],\n       [  0.66780798,   0.64017928,   0.60459145,   9.64153851,\n          4.1372228 ],\n       [  0.66696126,   0.6401726 ,   0.61872337,   7.50585836,\n          4.01652359],\n       [  0.66349578,   0.64012748,   0.67749544,  -2.22141034,\n          3.52199749],\n       [  0.66868876,   0.64015597,   0.63762934,   4.86947923,\n          4.26697566],\n       [  0.67336813,   0.64014024,   0.74817407, -11.75472703,\n          4.93458065],\n       [  0.66067226,   0.64057314,   0.50448874,  24.45794537,\n          3.0422212 ],\n       [  0.62453011,   0.64063042,   0.74499772,  20.90020976,\n          2.57798882],\n       [  0.61682149,   0.64085102,   0.61948418,   0.48577315,\n          3.89570264],\n       [  0.61370576,   0.64087582,   0.57811549,  -6.53159093,\n          4.42721241],\n       [  0.61597444,   0.64059454,   0.61370207,  -0.41067485,\n          3.99693537],\n       [  0.61461919,   0.64040023,   0.61568016,   0.19202434,\n          4.19463619],\n       [  0.61079927,   0.64027357,   0.62838558,   3.20395854,\n          4.82553062],\n       [  0.62682615,   0.64047354,   0.5797322 ,  -8.40857477,\n          2.17722197],\n       [  0.64809878,   0.64006615,   0.62072048,   4.65687245,\n          1.23941511],\n       [  0.66254084,   0.63976151,   0.64959297,   2.1725444 ,\n          3.43817817],\n       [  0.66696931,   0.64019889,   0.57777313,  14.9251076 ,\n          4.01374091],\n       [  0.62787897,   0.64046019,   0.61824787,  -1.75768179,\n          2.00376605],\n       [  0.61230079,   0.64063305,   0.60249924,  -1.828672  ,\n          4.62718017],\n       [  0.61516255,   0.64130276,   0.61335971,  -0.33371929,\n          4.24931814],\n       [  0.65947011,   0.64014524,   0.53315201,  21.79863078,\n          2.9303633 ],\n       [  0.62938313,   0.64033037,   0.61305539,  -3.06546625,\n          1.73936014]])"
     },
     "execution_count": 126,
     "metadata": {},
     "output_type": "execute_result"
    }
   ],
   "source": [
    "import math\n",
    "\n",
    "# Print the predicted and actual values\n",
    "predicted = model.predict(x_test_n)\n",
    "\n",
    "count = 0\n",
    "balance = 500\n",
    "stake = 100\n",
    "\n",
    "total_profit = 0\n",
    "trades = []\n",
    "balance_history = []\n",
    "diffs = []\n",
    "for i in range(len(predicted)):\n",
    "    cur_price = x_test_n[i, -1, 0]\n",
    "    if cur_price == 0:\n",
    "        continue\n",
    "    p_diff = predicted[i][0] - cur_price\n",
    "    a_diff = y_test_n[i][0][0] - cur_price\n",
    "    diffs.append(abs(p_diff) * 100 / cur_price)\n",
    "    sign = np.sign(p_diff * a_diff)\n",
    "    if balance >= stake and 1 <= (abs(p_diff) * 100 / cur_price) <= 5:\n",
    "        balance -= stake\n",
    "        profit = stake * a_diff / cur_price\n",
    "        if p_diff < 0:\n",
    "            profit = -profit\n",
    "        total_profit += profit\n",
    "        balance += profit + stake\n",
    "        stake = 0.2 * balance\n",
    "        trades.append([cur_price, predicted[i][0], y_test_n[i][0][0], profit, abs(p_diff) * 100 / cur_price])\n",
    "        balance_history.append(balance)\n",
    "\n",
    "    if a_diff * p_diff > 0:\n",
    "        count += 1\n",
    "\n",
    "print('Accuracy:', count / len(predicted))\n",
    "print('Balance:', balance)\n",
    "print('Profit:', total_profit)\n",
    "trades = np.array(trades)\n",
    "trades"
   ],
   "metadata": {
    "collapsed": false,
    "pycharm": {
     "name": "#%%\n"
    }
   }
  },
  {
   "cell_type": "code",
   "execution_count": 20,
   "outputs": [
    {
     "data": {
      "text/plain": "<Figure size 432x288 with 1 Axes>",
      "image/png": "[encoded data removed]"
     },
     "metadata": {
      "needs_background": "light"
     },
     "output_type": "display_data"
    }
   ],
   "source": [
    "import matplotlib.pyplot as plt\n",
    "\n",
    "# Plot the balance history\n",
    "plt.plot(balance_history)\n",
    "plt.show()"
   ],
   "metadata": {
    "collapsed": false,
    "pycharm": {
     "name": "#%%\n"
    }
   }
  },
  {
   "cell_type": "code",
   "execution_count": 21,
   "outputs": [
    {
     "data": {
      "text/plain": "array([[  0.70210904,   0.71389544,   0.69510261,  -1.00180543,\n          1.67871402],\n       [  0.71020397,   0.72482139,   0.70304649,  -1.0140915 ,\n          2.05819968],\n       [  0.71026173,   0.718988  ,   0.70597879,  -0.60678882,\n          1.22859935],\n       [  0.70597879,   0.71464276,   0.70482808,  -0.16381851,\n          1.22722858],\n       [  0.69416072,   0.68513727,   0.71039502,  -2.34975066,\n          1.29990718],\n       [  0.71091483,   0.72293043,   0.69624887,  -2.06630789,\n          1.69015984],\n       [  0.7491503 ,   0.73591989,   0.75427739,  -0.69711603,\n          1.7660549 ],\n       [  0.75427739,   0.73775095,   0.75949778,  -0.70401212,\n          2.19102944],\n       [  0.73370239,   0.72632056,   0.74445861,  -1.50363235,\n          1.00610606],\n       [  0.71082598,   0.72660226,   0.69423625,  -2.3894524 ,\n          2.21942925],\n       [  0.69423625,   0.72128958,   0.67936591,  -2.18274937,\n          3.8968477 ],\n       [  0.68932686,   0.70668799,   0.68865154,  -0.09969658,\n          2.51856258],\n       [  0.68865154,   0.70597064,   0.65531658,  -4.92506737,\n          2.51493009],\n       [  0.67649581,   0.69106579,   0.6587376 ,  -2.66019507,\n          2.15374285],\n       [  0.69297891,   0.70685953,   0.68749639,  -0.81216527,\n          2.00303634],\n       [  0.69250796,   0.70509613,   0.69165049,  -0.12709451,\n          1.81776418],\n       [  0.69283229,   0.6847778 ,   0.70655192,  -2.03991481,\n          1.16254658],\n       [  0.70342857,   0.69131541,   0.71757472,  -2.06526742,\n          1.72201726],\n       [  0.70918211,   0.69966137,   0.717397  ,  -1.18759073,\n          1.34249513],\n       [  0.72997925,   0.72116703,   0.73404893,  -0.57318505,\n          1.20718825],\n       [  0.75126955,   0.72672457,   0.75785835,  -0.90666441,\n          3.26713482],\n       [  0.74257483,   0.73297036,   0.74943464,  -0.95718704,\n          1.29340128],\n       [  0.78619063,   0.76239818,   0.79124663,  -0.66764487,\n          3.02629442],\n       [  0.79124663,   0.76998007,   0.80462415,  -1.75295613,\n          2.68772785],\n       [  0.80462415,   0.77859354,   0.80501069,  -0.04963949,\n          3.23512709],\n       [  0.80232718,   0.79220551,   0.81145287,  -1.17597426,\n          1.26153901],\n       [  0.81145287,   0.80202162,   0.81491387,  -0.43998106,\n          1.16226652],\n       [  0.827545  ,   0.84199983,   0.82448829,  -0.38113978,\n          1.7467127 ],\n       [  0.82448829,   0.84393412,   0.80608142,  -2.30195562,\n          2.35853295],\n       [  0.83587985,   0.85140914,   0.8287268 ,  -0.89075987,\n          1.85783766],\n       [  0.84430356,   0.85347515,   0.81331888,  -3.82774274,\n          1.08629151],\n       [  0.81496275,   0.8267647 ,   0.78588851,  -3.73201413,\n          1.448159  ],\n       [  0.80076773,   0.80879432,   0.78981602,  -1.44680029,\n          1.00236172],\n       [  0.78981602,   0.80287319,   0.76949871,  -2.71383811,\n          1.65319185],\n       [  0.76949871,   0.79392099,   0.76437162,  -0.69930471,\n          3.17379148],\n       [  0.76704624,   0.78605187,   0.76484257,  -0.30133764,\n          2.47776879],\n       [  0.77610972,   0.78992909,   0.76514913,  -1.48479783,\n          1.78059494],\n       [  0.7681925 ,   0.79082763,   0.74781743,  -2.78292966,\n          2.94654408],\n       [  0.74781743,   0.78439528,   0.74189063,  -0.82715817,\n          4.89128   ],\n       [  0.7532733 ,   0.77709109,   0.73194745,  -2.95909329,\n          3.16190563],\n       [  0.74591588,   0.77048677,   0.73089004,  -2.09357103,\n          3.29405692],\n       [  0.79202413,   0.80539948,   0.78519098,  -0.90758965,\n          1.68875457],\n       [  0.75073197,   0.7383914 ,   0.7584226 ,  -1.08532395,\n          1.6438045 ],\n       [  0.75136285,   0.76210272,   0.74857272,  -0.39403827,\n          1.42938505],\n       [  0.74857272,   0.76391155,   0.74766193,  -0.12901068,\n          2.04907572],\n       [  0.7612305 ,   0.76921177,   0.75309114,  -1.13739798,\n          1.04846926],\n       [  0.75309114,   0.76442581,   0.74621355,  -0.96938627,\n          1.50508706],\n       [  0.74621355,   0.75597399,   0.70979523,  -5.17096126,\n          1.30799595],\n       [  0.71760582,   0.72928923,   0.69715966,  -3.00869655,\n          1.62811044],\n       [  0.71087485,   0.72022533,   0.69116621,  -2.92239997,\n          1.31534908],\n       [  0.70393506,   0.71385932,   0.65657836,  -7.07802375,\n          1.40982562],\n       [  0.65516996,   0.6805352 ,   0.64695951,  -1.30132066,\n          3.87155031],\n       [  0.64695951,   0.67590743,   0.62136405,  -4.09795556,\n          4.47445636],\n       [  0.63507035,   0.66407007,   0.62414974,  -1.76708106,\n          4.5663786 ],\n       [  0.60383243,   0.63319367,   0.59122353,  -2.1384357 ,\n          4.86248137],\n       [  0.57249677,   0.59089077,   0.56433075,  -1.46032211,\n          3.21294345],\n       [  0.59890083,   0.62082541,   0.58725159,  -1.99717034,\n          3.66080299],\n       [  0.60133553,   0.61997229,   0.59273855,  -1.46220629,\n          3.09922773],\n       [  0.59273855,   0.61579162,   0.57532244,  -2.99656625,\n          3.8892475 ],\n       [  0.57887675,   0.5976761 ,   0.56070091,  -3.18335232,\n          3.24755631],\n       [  0.52013293,   0.54446816,   0.5145971 ,  -1.07986646,\n          4.67865653],\n       [  0.5145971 ,   0.5391494 ,   0.46176676, -10.39422166,\n          4.77117082],\n       [  0.54243621,   0.54936969,   0.53555418,  -1.26438397,\n          1.2782114 ],\n       [  0.56808054,   0.55161768,   0.58401717,  -2.82252506,\n          2.89797968],\n       [  0.57059521,   0.56384736,   0.57541574,  -0.84912748,\n          1.18259847],\n       [  0.57541574,   0.56616014,   0.57631321,  -0.15649717,\n          1.60850665],\n       [  0.57631321,   0.56943619,   0.58023183,  -0.6820424 ,\n          1.19327702],\n       [  0.58023183,   0.57140201,   0.59571528,  -2.6730778 ,\n          1.52177388],\n       [  0.59571528,   0.57661378,   0.59904745,  -0.55732542,\n          3.20648117],\n       [  0.59591965,   0.58477229,   0.59874089,  -0.47355981,\n          1.87061561],\n       [  0.59874089,   0.58884925,   0.61752096,  -3.13451784,\n          1.65207359],\n       [  0.6149663 ,   0.60121334,   0.61521955,  -0.04092862,\n          2.23637697],\n       [  0.61521955,   0.60435528,   0.62437189,  -1.47844417,\n          1.76591748],\n       [  0.62437189,   0.61239219,   0.62971668,  -0.84819564,\n          1.91868025],\n       [  0.61469084,   0.62126124,   0.60346367,  -1.81369538,\n          1.06889459],\n       [  0.60346367,   0.61669582,   0.59163671,  -1.93902499,\n          2.1927001 ],\n       [  0.63056971,   0.63694793,   0.62697542,  -0.57181844,\n          1.01150098],\n       [  0.62865927,   0.63680989,   0.62697986,  -0.26782866,\n          1.29650753],\n       [  0.63262677,   0.63996941,   0.62135073,  -1.78926274,\n          1.16065938],\n       [  0.62135073,   0.63645089,   0.60824422,  -2.10991187,\n          2.43021539],\n       [  0.61011911,   0.62394959,   0.59816331,  -1.95303396,\n          2.26684811],\n       [  0.59998489,   0.61253315,   0.59748355,  -0.41413107,\n          2.09142897],\n       [  0.59748355,   0.6093455 ,   0.5913035 ,  -1.02661747,\n          1.9853175 ],\n       [  0.60389019,   0.61044329,   0.59045046,  -2.21370889,\n          1.08514834],\n       [  0.59045046,   0.60864967,   0.50217923, -14.80424986,\n          3.08225806],\n       [  0.51935098,   0.54011315,   0.51028306,  -1.67731428,\n          3.99771413],\n       [  0.53358599,   0.54628026,   0.52426481,  -1.67722573,\n          2.37905039],\n       [  0.53414579,   0.5408476 ,   0.51483701,  -3.47163733,\n          1.25467819],\n       [  0.53792668,   0.54337949,   0.526273  ,  -2.08363194,\n          1.01367013],\n       [  0.526273  ,   0.54143852,   0.5222744 ,  -0.72759787,\n          2.88168356],\n       [  0.5222744 ,   0.53811228,   0.52198117,  -0.05368398,\n          3.03248279],\n       [  0.52198117,   0.5354349 ,   0.50797276,  -2.56578292,\n          2.57743601],\n       [  0.52049725,   0.53652382,   0.5197775 ,  -0.13265224,\n          3.07908858],\n       [  0.5197775 ,   0.53812683,   0.5194354 ,  -0.0631206 ,\n          3.53022705],\n       [  0.52959628,   0.5480926 ,   0.52638407,  -0.58388353,\n          3.49253374],\n       [  0.53518542,   0.55269694,   0.53009832,  -0.91697353,\n          3.27204717],\n       [  0.53009832,   0.55060959,   0.51892891,  -2.02879435,\n          3.86933268],\n       [  0.51892891,   0.5398854 ,   0.50972325,  -1.7008932 ,\n          4.03841296],\n       [  0.50972325,   0.5272907 ,   0.5010152 ,  -1.63219932,\n          3.44646807],\n       [  0.49718543,   0.50626314,   0.4935245 ,  -0.7023648 ,\n          1.82581862],\n       [  0.4935245 ,   0.50382841,   0.48258611,  -2.11102422,\n          2.08782149],\n       [  0.48258611,   0.49707204,   0.46391711,  -3.66830724,\n          3.00172889],\n       [  0.54371132,   0.53353888,   0.55344568,  -1.75117075,\n          1.87092687],\n       [  0.59047268,   0.57990837,   0.6037258 ,  -2.20302771,\n          1.78912724],\n       [  0.59125018,   0.58313209,   0.62574474,  -5.79459991,\n          1.37303891],\n       [  0.59782565,   0.60822874,   0.5957997 ,  -0.33356374,\n          1.74015463],\n       [  0.5957997 ,   0.60722333,   0.58801576,  -1.28507334,\n          1.91736166],\n       [  0.59114355,   0.60258681,   0.56876474,  -3.71790759,\n          1.93578221],\n       [  0.56876474,   0.59319603,   0.56505049,  -0.63649133,\n          4.2955    ],\n       [  0.56508604,   0.58455706,   0.56174499,  -0.57551947,\n          3.44567353],\n       [  0.56174499,   0.58224541,   0.54468431,  -2.95280605,\n          3.64941791],\n       [  0.56610346,   0.5814932 ,   0.53181327,  -5.8594544 ,\n          2.71853875],\n       [  0.54749666,   0.5642783 ,   0.53971272,  -1.36353043,\n          3.06515988],\n       [  0.53971272,   0.5644635 ,   0.53408359,  -0.99744625,\n          4.58591618],\n       [  0.52486016,   0.53985214,   0.52139471,  -0.63032207,\n          2.85637647],\n       [  0.52713047,   0.54023224,   0.50384087,  -4.241189  ,\n          2.48548843],\n       [  0.51254893,   0.52210206,   0.49132527,  -3.97658878,\n          1.86384756]])"
     },
     "execution_count": 21,
     "metadata": {},
     "output_type": "execute_result"
    }
   ],
   "source": [
    "trades[trades[:, 3] < 0]"
   ],
   "metadata": {
    "collapsed": false,
    "pycharm": {
     "name": "#%%\n"
    }
   }
  }
 ],
 "metadata": {
  "kernelspec": {
   "display_name": "Python 3 (ipykernel)",
   "language": "python",
   "name": "python3"
  },
  "language_info": {
   "codemirror_mode": {
    "name": "ipython",
    "version": 3
   },
   "file_extension": ".py",
   "mimetype": "text/x-python",
   "name": "python",
   "nbconvert_exporter": "python",
   "pygments_lexer": "ipython3",
   "version": "3.10.1"
  }
 },
 "nbformat": 4,
 "nbformat_minor": 1
}