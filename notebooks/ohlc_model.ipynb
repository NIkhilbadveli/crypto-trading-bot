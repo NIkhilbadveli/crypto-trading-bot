{
 "cells": [
  {
   "cell_type": "code",
   "execution_count": 1,
   "metadata": {
    "pycharm": {
     "name": "#%%\n"
    }
   },
   "outputs": [],
   "source": [
    "# Import required libraries\n",
    "import math\n",
    "\n",
    "import numpy as np\n",
    "import pandas as pd\n",
    "import matplotlib.pyplot as plt\n",
    "import sns as sns\n",
    "from keras.models import Sequential\n",
    "from keras.layers import Dense, Dropout, LSTM"
   ]
  },
  {
   "cell_type": "code",
   "execution_count": 2,
   "metadata": {
    "pycharm": {
     "name": "#%%\n"
    }
   },
   "outputs": [
    {
     "data": {
      "text/plain": "                      close    high     low    open\ndate                                               \n2018-07-05 00:00:00  466.55  468.11  461.54  467.19\n2018-07-05 01:00:00  473.69  476.60  465.44  466.33\n2018-07-05 02:00:00  470.05  475.03  468.29  473.52\n2018-07-05 03:00:00  470.57  473.02  469.40  470.16\n2018-07-05 04:00:00  472.80  473.71  469.67  470.80",
      "text/html": "<div>\n<style scoped>\n    .dataframe tbody tr th:only-of-type {\n        vertical-align: middle;\n    }\n\n    .dataframe tbody tr th {\n        vertical-align: top;\n    }\n\n    .dataframe thead th {\n        text-align: right;\n    }\n</style>\n<table border=\"1\" class=\"dataframe\">\n  <thead>\n    <tr style=\"text-align: right;\">\n      <th></th>\n      <th>close</th>\n      <th>high</th>\n      <th>low</th>\n      <th>open</th>\n    </tr>\n    <tr>\n      <th>date</th>\n      <th></th>\n      <th></th>\n      <th></th>\n      <th></th>\n    </tr>\n  </thead>\n  <tbody>\n    <tr>\n      <th>2018-07-05 00:00:00</th>\n      <td>466.55</td>\n      <td>468.11</td>\n      <td>461.54</td>\n      <td>467.19</td>\n    </tr>\n    <tr>\n      <th>2018-07-05 01:00:00</th>\n      <td>473.69</td>\n      <td>476.60</td>\n      <td>465.44</td>\n      <td>466.33</td>\n    </tr>\n    <tr>\n      <th>2018-07-05 02:00:00</th>\n      <td>470.05</td>\n      <td>475.03</td>\n      <td>468.29</td>\n      <td>473.52</td>\n    </tr>\n    <tr>\n      <th>2018-07-05 03:00:00</th>\n      <td>470.57</td>\n      <td>473.02</td>\n      <td>469.40</td>\n      <td>470.16</td>\n    </tr>\n    <tr>\n      <th>2018-07-05 04:00:00</th>\n      <td>472.80</td>\n      <td>473.71</td>\n      <td>469.67</td>\n      <td>470.80</td>\n    </tr>\n  </tbody>\n</table>\n</div>"
     },
     "execution_count": 2,
     "metadata": {},
     "output_type": "execute_result"
    }
   ],
   "source": [
    "# Load data\n",
    "data = pd.read_csv('ETH_USDT__data_1h.csv')\n",
    "data.dropna(inplace=True)\n",
    "data['date'] = pd.to_datetime(data['open_time'], unit='ms')\n",
    "data.drop_duplicates(subset='date', keep='first', inplace=True)\n",
    "df = data[['date', 'close', 'high', 'low', 'open']]\n",
    "df.set_index('date', inplace=True)\n",
    "df.head()"
   ]
  },
  {
   "cell_type": "code",
   "execution_count": 3,
   "metadata": {
    "pycharm": {
     "name": "#%%\n"
    }
   },
   "outputs": [],
   "source": [
    "from ta.momentum import RSIIndicator, AwesomeOscillatorIndicator\n",
    "from ta.trend import MACD, ADXIndicator\n",
    "from ta.volatility import BollingerBands\n",
    "\n",
    "\n",
    "def add_technical_indicators():\n",
    "    \"\"\"\n",
    "    Add MACD, ADX, RSI, AO, BB to the dataframe\n",
    "    :return:\n",
    "    \"\"\"\n",
    "    # Create MACD using ta library\n",
    "    df['macd'] = MACD(close=df['close'], window_slow=26, window_fast=12, window_sign=9).macd()\n",
    "\n",
    "    # Create ADX using ta library\n",
    "    df['adx'] = ADXIndicator(high=df['high'], low=df['low'], close=df['close'], window=14).adx()\n",
    "\n",
    "    # Create upper and lower bollinger bands using ta library\n",
    "    indicator_bb = BollingerBands(close=df['close'], window=20, window_dev=2)\n",
    "    # df['upper_bb'] = indicator_bb.bollinger_hband()\n",
    "    # df['lower_bb'] = indicator_bb.bollinger_lband()\n",
    "    df['bb_perc'] = indicator_bb.bollinger_pband()  # Percentage band\n",
    "    df['bb_width'] = indicator_bb.bollinger_wband()  # Width band\n",
    "\n",
    "    # Create RSI using ta library\n",
    "    df['rsi'] = RSIIndicator(close=df['close'], window=14).rsi()\n",
    "\n",
    "    # Create Awesome Osciallator using ta library\n",
    "    df['ao'] = AwesomeOscillatorIndicator(high=df['high'], low=df['low'], window1=5, window2=34).awesome_oscillator()"
   ]
  },
  {
   "cell_type": "code",
   "execution_count": 4,
   "metadata": {
    "pycharm": {
     "name": "#%%\n"
    }
   },
   "outputs": [
    {
     "name": "stderr",
     "output_type": "stream",
     "text": [
      "C:\\Users\\nikhi\\AppData\\Local\\Temp\\ipykernel_13996\\814528709.py:12: SettingWithCopyWarning: \n",
      "A value is trying to be set on a copy of a slice from a DataFrame.\n",
      "Try using .loc[row_indexer,col_indexer] = value instead\n",
      "\n",
      "See the caveats in the documentation: https://pandas.pydata.org/pandas-docs/stable/user_guide/indexing.html#returning-a-view-versus-a-copy\n",
      "  df['macd'] = MACD(close=df['close'], window_slow=26, window_fast=12, window_sign=9).macd()\n",
      "c:\\users\\nikhi\\pycharmprojects\\crypto-trading-bot\\venv\\lib\\site-packages\\ta\\trend.py:769: RuntimeWarning: invalid value encountered in double_scalars\n",
      "  dip[idx] = 100 * (self._dip[idx] / value)\n",
      "c:\\users\\nikhi\\pycharmprojects\\crypto-trading-bot\\venv\\lib\\site-packages\\ta\\trend.py:774: RuntimeWarning: invalid value encountered in double_scalars\n",
      "  din[idx] = 100 * (self._din[idx] / value)\n",
      "C:\\Users\\nikhi\\AppData\\Local\\Temp\\ipykernel_13996\\814528709.py:15: SettingWithCopyWarning: \n",
      "A value is trying to be set on a copy of a slice from a DataFrame.\n",
      "Try using .loc[row_indexer,col_indexer] = value instead\n",
      "\n",
      "See the caveats in the documentation: https://pandas.pydata.org/pandas-docs/stable/user_guide/indexing.html#returning-a-view-versus-a-copy\n",
      "  df['adx'] = ADXIndicator(high=df['high'], low=df['low'], close=df['close'], window=14).adx()\n",
      "C:\\Users\\nikhi\\AppData\\Local\\Temp\\ipykernel_13996\\814528709.py:21: SettingWithCopyWarning: \n",
      "A value is trying to be set on a copy of a slice from a DataFrame.\n",
      "Try using .loc[row_indexer,col_indexer] = value instead\n",
      "\n",
      "See the caveats in the documentation: https://pandas.pydata.org/pandas-docs/stable/user_guide/indexing.html#returning-a-view-versus-a-copy\n",
      "  df['bb_perc'] = indicator_bb.bollinger_pband()  # Percentage band\n",
      "C:\\Users\\nikhi\\AppData\\Local\\Temp\\ipykernel_13996\\814528709.py:22: SettingWithCopyWarning: \n",
      "A value is trying to be set on a copy of a slice from a DataFrame.\n",
      "Try using .loc[row_indexer,col_indexer] = value instead\n",
      "\n",
      "See the caveats in the documentation: https://pandas.pydata.org/pandas-docs/stable/user_guide/indexing.html#returning-a-view-versus-a-copy\n",
      "  df['bb_width'] = indicator_bb.bollinger_wband()  # Width band\n",
      "C:\\Users\\nikhi\\AppData\\Local\\Temp\\ipykernel_13996\\814528709.py:25: SettingWithCopyWarning: \n",
      "A value is trying to be set on a copy of a slice from a DataFrame.\n",
      "Try using .loc[row_indexer,col_indexer] = value instead\n",
      "\n",
      "See the caveats in the documentation: https://pandas.pydata.org/pandas-docs/stable/user_guide/indexing.html#returning-a-view-versus-a-copy\n",
      "  df['rsi'] = RSIIndicator(close=df['close'], window=14).rsi()\n",
      "C:\\Users\\nikhi\\AppData\\Local\\Temp\\ipykernel_13996\\814528709.py:28: SettingWithCopyWarning: \n",
      "A value is trying to be set on a copy of a slice from a DataFrame.\n",
      "Try using .loc[row_indexer,col_indexer] = value instead\n",
      "\n",
      "See the caveats in the documentation: https://pandas.pydata.org/pandas-docs/stable/user_guide/indexing.html#returning-a-view-versus-a-copy\n",
      "  df['ao'] = AwesomeOscillatorIndicator(high=df['high'], low=df['low'], window1=5, window2=34).awesome_oscillator()\n"
     ]
    }
   ],
   "source": [
    "# Add technical indicators using the above function\n",
    "add_technical_indicators()"
   ]
  },
  {
   "cell_type": "code",
   "execution_count": 5,
   "metadata": {
    "pycharm": {
     "name": "#%%\n"
    }
   },
   "outputs": [
    {
     "data": {
      "text/plain": "                      close    high     low    open      macd        adx  \\\ndate                                                                       \n2018-07-06 09:00:00  457.00  461.24  455.65  459.24 -2.747612  18.615246   \n2018-07-06 10:00:00  461.90  462.50  456.56  457.25 -2.574199  17.998913   \n2018-07-06 11:00:00  463.22  463.96  460.74  461.90 -2.303699  17.056947   \n2018-07-06 12:00:00  470.20  470.56  463.03  463.03 -1.508707  16.890225   \n2018-07-06 13:00:00  467.49  470.29  466.51  470.20 -1.084839  16.735411   \n\n                      bb_perc  bb_width        rsi        ao  \ndate                                                          \n2018-07-06 09:00:00  0.069426  3.921034  36.278783 -8.092088  \n2018-07-06 10:00:00  0.354449  3.908913  45.318180 -9.225353  \n2018-07-06 11:00:00  0.447432  3.631575  47.479633 -8.450353  \n2018-07-06 12:00:00  0.862307  3.626582  57.129611 -5.970265  \n2018-07-06 13:00:00  0.705173  3.597707  53.053804 -4.217618  ",
      "text/html": "<div>\n<style scoped>\n    .dataframe tbody tr th:only-of-type {\n        vertical-align: middle;\n    }\n\n    .dataframe tbody tr th {\n        vertical-align: top;\n    }\n\n    .dataframe thead th {\n        text-align: right;\n    }\n</style>\n<table border=\"1\" class=\"dataframe\">\n  <thead>\n    <tr style=\"text-align: right;\">\n      <th></th>\n      <th>close</th>\n      <th>high</th>\n      <th>low</th>\n      <th>open</th>\n      <th>macd</th>\n      <th>adx</th>\n      <th>bb_perc</th>\n      <th>bb_width</th>\n      <th>rsi</th>\n      <th>ao</th>\n    </tr>\n    <tr>\n      <th>date</th>\n      <th></th>\n      <th></th>\n      <th></th>\n      <th></th>\n      <th></th>\n      <th></th>\n      <th></th>\n      <th></th>\n      <th></th>\n      <th></th>\n    </tr>\n  </thead>\n  <tbody>\n    <tr>\n      <th>2018-07-06 09:00:00</th>\n      <td>457.00</td>\n      <td>461.24</td>\n      <td>455.65</td>\n      <td>459.24</td>\n      <td>-2.747612</td>\n      <td>18.615246</td>\n      <td>0.069426</td>\n      <td>3.921034</td>\n      <td>36.278783</td>\n      <td>-8.092088</td>\n    </tr>\n    <tr>\n      <th>2018-07-06 10:00:00</th>\n      <td>461.90</td>\n      <td>462.50</td>\n      <td>456.56</td>\n      <td>457.25</td>\n      <td>-2.574199</td>\n      <td>17.998913</td>\n      <td>0.354449</td>\n      <td>3.908913</td>\n      <td>45.318180</td>\n      <td>-9.225353</td>\n    </tr>\n    <tr>\n      <th>2018-07-06 11:00:00</th>\n      <td>463.22</td>\n      <td>463.96</td>\n      <td>460.74</td>\n      <td>461.90</td>\n      <td>-2.303699</td>\n      <td>17.056947</td>\n      <td>0.447432</td>\n      <td>3.631575</td>\n      <td>47.479633</td>\n      <td>-8.450353</td>\n    </tr>\n    <tr>\n      <th>2018-07-06 12:00:00</th>\n      <td>470.20</td>\n      <td>470.56</td>\n      <td>463.03</td>\n      <td>463.03</td>\n      <td>-1.508707</td>\n      <td>16.890225</td>\n      <td>0.862307</td>\n      <td>3.626582</td>\n      <td>57.129611</td>\n      <td>-5.970265</td>\n    </tr>\n    <tr>\n      <th>2018-07-06 13:00:00</th>\n      <td>467.49</td>\n      <td>470.29</td>\n      <td>466.51</td>\n      <td>470.20</td>\n      <td>-1.084839</td>\n      <td>16.735411</td>\n      <td>0.705173</td>\n      <td>3.597707</td>\n      <td>53.053804</td>\n      <td>-4.217618</td>\n    </tr>\n  </tbody>\n</table>\n</div>"
     },
     "execution_count": 5,
     "metadata": {},
     "output_type": "execute_result"
    }
   ],
   "source": [
    "# Drop nan values\n",
    "df = df.dropna()\n",
    "# df.drop(labels=['high', 'low'], inplace=True, axis=1)\n",
    "df.head()"
   ]
  },
  {
   "cell_type": "code",
   "execution_count": 6,
   "metadata": {
    "pycharm": {
     "name": "#%%\n"
    }
   },
   "outputs": [],
   "source": [
    "p = 10\n",
    "num_epochs = 100  # These settings are used while training the model\n",
    "mini_batch_size = 32\n",
    "dropout = 0.2\n",
    "\n",
    "# Convert dataframe to numpy array\n",
    "price_array = df.to_numpy()"
   ]
  },
  {
   "cell_type": "code",
   "execution_count": 7,
   "outputs": [
    {
     "name": "stdout",
     "output_type": "stream",
     "text": [
      "81.79 515.47\n"
     ]
    },
    {
     "data": {
      "text/plain": "array([[ 0.86517709,  0.87495388,  0.86206419, ...,  3.92103414,\n        36.27878307, -8.09208824],\n       [ 0.87647574,  0.87785925,  0.86416252, ...,  3.90891304,\n        45.31818047, -9.22535294],\n       [ 0.87951946,  0.88122579,  0.87380096, ...,  3.63157486,\n        47.47963302, -8.45035294],\n       ...,\n       [ 0.11377052,  0.11404722,  0.11001199, ...,  4.8134797 ,\n        38.24830084, -3.07079412],\n       [ 0.11450839,  0.11577661,  0.11254842, ...,  5.05663718,\n        39.94809616, -3.65452941],\n       [ 0.11536156,  0.1162839 ,  0.11349382, ...,  5.19111427,\n        41.93819515, -3.57417647]])"
     },
     "execution_count": 7,
     "metadata": {},
     "output_type": "execute_result"
    }
   ],
   "source": [
    "# Scale the first 4 columns using min, max values\n",
    "mini = np.min(price_array[:, :4])\n",
    "maxi = np.max(price_array[:, :4])\n",
    "print(mini, maxi)\n",
    "price_array[:, :4] = (price_array[:, :4] - mini) / (maxi - mini)\n",
    "price_array"
   ],
   "metadata": {
    "collapsed": false,
    "pycharm": {
     "name": "#%%\n"
    }
   }
  },
  {
   "cell_type": "code",
   "execution_count": 8,
   "metadata": {
    "pycharm": {
     "name": "#%%\n"
    }
   },
   "outputs": [
    {
     "data": {
      "text/plain": "array([[0.86517709, 0.87495388, 0.86206419, ..., 0.12798977, 0.34602885,\n        0.47810172],\n       [0.87647574, 0.87785925, 0.86416252, ..., 0.12755375, 0.45087751,\n        0.45932347],\n       [0.87951946, 0.88122579, 0.87380096, ..., 0.11757734, 0.47594836,\n        0.47216526],\n       ...,\n       [0.11377052, 0.11404722, 0.11001199, ..., 0.16009284, 0.36887343,\n        0.56130476],\n       [0.11450839, 0.11577661, 0.11254842, ..., 0.1688397 , 0.38858949,\n        0.55163225],\n       [0.11536156, 0.1162839 , 0.11349382, ..., 0.17367712, 0.4116728 ,\n        0.5529637 ]])"
     },
     "execution_count": 8,
     "metadata": {},
     "output_type": "execute_result"
    }
   ],
   "source": [
    "from sklearn.preprocessing import MinMaxScaler, StandardScaler\n",
    "\n",
    "# Preprocess data using MinMaxScaler\n",
    "scaler = MinMaxScaler(feature_range=(0, 1))\n",
    "# scaler = StandardScaler()\n",
    "price_array[:, 4:] = scaler.fit_transform(price_array[:, 4:])\n",
    "price_array"
   ]
  },
  {
   "cell_type": "code",
   "execution_count": 9,
   "metadata": {
    "pycharm": {
     "name": "#%%\n"
    }
   },
   "outputs": [],
   "source": [
    "from keras.utils.np_utils import to_categorical\n",
    "from sklearn.model_selection import train_test_split\n",
    "\n",
    "def make_train_test_data(p_arr, test_size=0.2, shuffle=True):\n",
    "    \"\"\"\n",
    "    This function creates training and testing data from the input array using p and q values provided above.\n",
    "    :param p_arr:\n",
    "    :param test_size:\n",
    "    :param shuffle:\n",
    "    :return:\n",
    "    \"\"\"\n",
    "    # Make sequences of 100 previous values and take the next value as the target\n",
    "    time_offset = p\n",
    "    step = 1\n",
    "    x_data = []\n",
    "    y_data = []\n",
    "    for index in range(time_offset, len(p_arr) - 1, step):\n",
    "        x_data.append(p_arr[index - time_offset: index, :])\n",
    "        y_data.append(p_arr[index, :4])\n",
    "    x_data = np.array(x_data)\n",
    "    y_data = np.array(y_data)\n",
    "\n",
    "    # One hot encode the y_data\n",
    "    # y_data = to_categorical(y_data)\n",
    "\n",
    "    # y_data = y_data.reshape((y_data.shape[0], q, 1))\n",
    "\n",
    "    # Split data into training and test sets\n",
    "    X_train, X_test, Y_train, Y_test = train_test_split(x_data, y_data, test_size=test_size, shuffle=shuffle,\n",
    "                                                        random_state=42)\n",
    "\n",
    "    return X_train, Y_train, X_test, Y_test"
   ]
  },
  {
   "cell_type": "code",
   "execution_count": 10,
   "outputs": [
    {
     "name": "stdout",
     "output_type": "stream",
     "text": [
      "Shapes of x_train, x_test, y_train, y_test: (3413, 10, 10) (854, 10, 10) (3413, 4) (854, 4)\n"
     ]
    }
   ],
   "source": [
    "# Split data into training and test sets using the above function\n",
    "x_train, y_train, x_test, y_test = make_train_test_data(price_array, test_size=0.2, shuffle=False)\n",
    "print('Shapes of x_train, x_test, y_train, y_test:', x_train.shape, x_test.shape, y_train.shape, y_test.shape)"
   ],
   "metadata": {
    "collapsed": false,
    "pycharm": {
     "name": "#%%\n"
    }
   }
  },
  {
   "cell_type": "code",
   "execution_count": 11,
   "metadata": {
    "pycharm": {
     "name": "#%%\n"
    }
   },
   "outputs": [
    {
     "name": "stdout",
     "output_type": "stream",
     "text": [
      "Model: \"sequential\"\n",
      "_________________________________________________________________\n",
      " Layer (type)                Output Shape              Param #   \n",
      "=================================================================\n",
      " bidirectional (Bidirectiona  (None, 10, 20)           1680      \n",
      " l)                                                              \n",
      "                                                                 \n",
      " dropout (Dropout)           (None, 10, 20)            0         \n",
      "                                                                 \n",
      " bidirectional_1 (Bidirectio  (None, 10, 40)           6560      \n",
      " nal)                                                            \n",
      "                                                                 \n",
      " dropout_1 (Dropout)         (None, 10, 40)            0         \n",
      "                                                                 \n",
      " bidirectional_2 (Bidirectio  (None, 20)               4080      \n",
      " nal)                                                            \n",
      "                                                                 \n",
      " dense (Dense)               (None, 4)                 84        \n",
      "                                                                 \n",
      "=================================================================\n",
      "Total params: 12,404\n",
      "Trainable params: 12,404\n",
      "Non-trainable params: 0\n",
      "_________________________________________________________________\n"
     ]
    }
   ],
   "source": [
    "from keras.layers import Bidirectional\n",
    "\n",
    "# Create LSTM model\n",
    "model = Sequential()\n",
    "model.add(\n",
    "    Bidirectional(LSTM(units=p, return_sequences=True)))\n",
    "model.add(Dropout(dropout))\n",
    "model.add(Bidirectional(LSTM(units=p * 2, return_sequences=True)))\n",
    "model.add(Dropout(dropout))\n",
    "model.add(Bidirectional(LSTM(units=p, return_sequences=False)))\n",
    "model.add(Dense(units=4, activation='linear'))\n",
    "\n",
    "# Build model with the input shape\n",
    "model.build(input_shape=(None, x_train.shape[1], x_train.shape[2]))\n",
    "\n",
    "# Compile model\n",
    "model.compile(loss='mean_squared_error', optimizer='adam')\n",
    "model.summary()  # Print model summary"
   ]
  },
  {
   "cell_type": "code",
   "execution_count": 12,
   "metadata": {
    "pycharm": {
     "name": "#%%\n"
    }
   },
   "outputs": [
    {
     "name": "stdout",
     "output_type": "stream",
     "text": [
      "Epoch 1/100\n",
      "96/96 [==============================] - 17s 55ms/step - loss: 0.0405 - val_loss: 0.0020\n",
      "Epoch 2/100\n",
      "96/96 [==============================] - 3s 34ms/step - loss: 0.0021 - val_loss: 0.0014\n",
      "Epoch 3/100\n",
      "96/96 [==============================] - 5s 49ms/step - loss: 0.0015 - val_loss: 0.0019\n",
      "Epoch 4/100\n",
      "96/96 [==============================] - 5s 49ms/step - loss: 0.0013 - val_loss: 0.0023\n",
      "Epoch 5/100\n",
      "96/96 [==============================] - 3s 33ms/step - loss: 0.0010 - val_loss: 0.0024\n",
      "Epoch 6/100\n",
      "96/96 [==============================] - 5s 54ms/step - loss: 9.2063e-04 - val_loss: 0.0028\n",
      "Epoch 7/100\n",
      "96/96 [==============================] - 5s 52ms/step - loss: 7.4878e-04 - val_loss: 0.0022\n",
      "Epoch 8/100\n",
      "96/96 [==============================] - 5s 53ms/step - loss: 7.0361e-04 - val_loss: 0.0019\n",
      "Epoch 9/100\n",
      "96/96 [==============================] - 5s 52ms/step - loss: 6.1956e-04 - val_loss: 0.0023\n",
      "Epoch 10/100\n",
      "96/96 [==============================] - 5s 52ms/step - loss: 6.1240e-04 - val_loss: 0.0018\n",
      "Epoch 11/100\n",
      "96/96 [==============================] - 5s 52ms/step - loss: 5.5545e-04 - val_loss: 0.0022\n",
      "Epoch 12/100\n",
      "96/96 [==============================] - 5s 52ms/step - loss: 5.4455e-04 - val_loss: 0.0016\n",
      "Epoch 13/100\n",
      "96/96 [==============================] - 5s 52ms/step - loss: 4.9227e-04 - val_loss: 0.0022\n",
      "Epoch 14/100\n",
      "96/96 [==============================] - 5s 51ms/step - loss: 4.4526e-04 - val_loss: 0.0015\n",
      "Epoch 15/100\n",
      "96/96 [==============================] - 5s 56ms/step - loss: 4.2098e-04 - val_loss: 0.0020\n",
      "Epoch 16/100\n",
      "96/96 [==============================] - 5s 53ms/step - loss: 4.0974e-04 - val_loss: 0.0021\n",
      "Epoch 17/100\n",
      "96/96 [==============================] - 5s 52ms/step - loss: 3.7628e-04 - val_loss: 0.0018\n",
      "Epoch 18/100\n",
      "96/96 [==============================] - 5s 57ms/step - loss: 3.6297e-04 - val_loss: 0.0016\n",
      "Epoch 19/100\n",
      "96/96 [==============================] - 7s 74ms/step - loss: 3.4770e-04 - val_loss: 0.0017\n",
      "Epoch 20/100\n",
      "96/96 [==============================] - 6s 60ms/step - loss: 3.3041e-04 - val_loss: 0.0013\n",
      "Epoch 21/100\n",
      "96/96 [==============================] - 5s 55ms/step - loss: 3.1030e-04 - val_loss: 0.0014\n",
      "Epoch 22/100\n",
      "96/96 [==============================] - 7s 74ms/step - loss: 3.1031e-04 - val_loss: 0.0023\n",
      "Epoch 23/100\n",
      "96/96 [==============================] - 5s 55ms/step - loss: 2.9194e-04 - val_loss: 0.0013\n",
      "Epoch 24/100\n",
      "96/96 [==============================] - 5s 58ms/step - loss: 3.0037e-04 - val_loss: 0.0012\n",
      "Epoch 25/100\n",
      "96/96 [==============================] - 6s 58ms/step - loss: 2.6231e-04 - val_loss: 0.0013\n",
      "Epoch 26/100\n",
      "96/96 [==============================] - 7s 56ms/step - loss: 2.5883e-04 - val_loss: 9.9626e-04\n",
      "Epoch 27/100\n",
      "96/96 [==============================] - 5s 54ms/step - loss: 2.5691e-04 - val_loss: 0.0014\n",
      "Epoch 28/100\n",
      "96/96 [==============================] - 5s 55ms/step - loss: 2.4722e-04 - val_loss: 0.0016\n",
      "Epoch 29/100\n",
      "96/96 [==============================] - 5s 54ms/step - loss: 2.4029e-04 - val_loss: 8.5323e-04\n",
      "Epoch 30/100\n",
      "96/96 [==============================] - 5s 54ms/step - loss: 2.6955e-04 - val_loss: 0.0011\n",
      "Epoch 31/100\n",
      "96/96 [==============================] - 5s 54ms/step - loss: 2.4064e-04 - val_loss: 9.5189e-04\n",
      "Epoch 32/100\n",
      "96/96 [==============================] - 5s 54ms/step - loss: 2.3933e-04 - val_loss: 0.0011\n",
      "Epoch 33/100\n",
      "96/96 [==============================] - 5s 53ms/step - loss: 2.2663e-04 - val_loss: 0.0012\n",
      "Epoch 34/100\n",
      "96/96 [==============================] - 5s 54ms/step - loss: 2.1818e-04 - val_loss: 5.0504e-04\n",
      "Epoch 35/100\n",
      "96/96 [==============================] - 7s 73ms/step - loss: 2.1661e-04 - val_loss: 0.0012\n",
      "Epoch 36/100\n",
      "96/96 [==============================] - 5s 52ms/step - loss: 2.0448e-04 - val_loss: 8.5002e-04\n",
      "Epoch 37/100\n",
      "96/96 [==============================] - 5s 53ms/step - loss: 2.0270e-04 - val_loss: 8.4238e-04\n",
      "Epoch 38/100\n",
      "96/96 [==============================] - 5s 56ms/step - loss: 2.0228e-04 - val_loss: 0.0012\n",
      "Epoch 39/100\n",
      "96/96 [==============================] - 5s 53ms/step - loss: 2.0792e-04 - val_loss: 6.0513e-04\n",
      "Epoch 40/100\n",
      "96/96 [==============================] - 5s 53ms/step - loss: 2.0334e-04 - val_loss: 8.7851e-04\n",
      "Epoch 41/100\n",
      "96/96 [==============================] - 5s 54ms/step - loss: 1.8881e-04 - val_loss: 8.8175e-04\n",
      "Epoch 42/100\n",
      "96/96 [==============================] - 5s 54ms/step - loss: 2.2345e-04 - val_loss: 0.0016\n",
      "Epoch 43/100\n",
      "96/96 [==============================] - 5s 55ms/step - loss: 1.9347e-04 - val_loss: 6.0775e-04\n",
      "Epoch 44/100\n",
      "96/96 [==============================] - 5s 54ms/step - loss: 1.8093e-04 - val_loss: 4.8266e-04\n",
      "Epoch 45/100\n",
      "96/96 [==============================] - 5s 53ms/step - loss: 1.8487e-04 - val_loss: 0.0013\n",
      "Epoch 46/100\n",
      "96/96 [==============================] - 5s 54ms/step - loss: 1.9222e-04 - val_loss: 6.4572e-04\n",
      "Epoch 47/100\n",
      "96/96 [==============================] - 5s 54ms/step - loss: 1.8002e-04 - val_loss: 5.3874e-04\n",
      "Epoch 48/100\n",
      "96/96 [==============================] - 5s 54ms/step - loss: 1.6544e-04 - val_loss: 6.0815e-04\n",
      "Epoch 49/100\n",
      "96/96 [==============================] - 5s 54ms/step - loss: 1.8082e-04 - val_loss: 8.0260e-04\n",
      "Epoch 50/100\n",
      "96/96 [==============================] - 5s 53ms/step - loss: 1.9194e-04 - val_loss: 0.0012\n",
      "Epoch 51/100\n",
      "96/96 [==============================] - 7s 70ms/step - loss: 1.8315e-04 - val_loss: 6.6813e-04\n",
      "Epoch 52/100\n",
      "96/96 [==============================] - 5s 54ms/step - loss: 1.7947e-04 - val_loss: 4.3199e-04\n",
      "Epoch 53/100\n",
      "96/96 [==============================] - 5s 54ms/step - loss: 1.6662e-04 - val_loss: 3.1199e-04\n",
      "Epoch 54/100\n",
      "96/96 [==============================] - 5s 54ms/step - loss: 1.7198e-04 - val_loss: 3.5461e-04\n",
      "Epoch 55/100\n",
      "96/96 [==============================] - 5s 54ms/step - loss: 1.8121e-04 - val_loss: 5.4593e-04\n",
      "Epoch 56/100\n",
      "96/96 [==============================] - 5s 54ms/step - loss: 1.7436e-04 - val_loss: 3.5855e-04\n",
      "Epoch 57/100\n",
      "96/96 [==============================] - 5s 53ms/step - loss: 1.9338e-04 - val_loss: 5.2055e-04\n",
      "Epoch 58/100\n",
      "96/96 [==============================] - 5s 54ms/step - loss: 1.7706e-04 - val_loss: 5.9135e-04\n",
      "Epoch 59/100\n",
      "96/96 [==============================] - 5s 54ms/step - loss: 1.5816e-04 - val_loss: 3.3914e-04\n",
      "Epoch 60/100\n",
      "96/96 [==============================] - 5s 54ms/step - loss: 1.7126e-04 - val_loss: 8.0373e-04\n",
      "Epoch 61/100\n",
      "96/96 [==============================] - 5s 54ms/step - loss: 1.4797e-04 - val_loss: 6.8712e-04\n",
      "Epoch 62/100\n",
      "96/96 [==============================] - 5s 54ms/step - loss: 1.6448e-04 - val_loss: 4.6327e-04\n",
      "Epoch 63/100\n",
      "96/96 [==============================] - 7s 70ms/step - loss: 1.4953e-04 - val_loss: 5.1251e-04\n",
      "Epoch 64/100\n",
      "96/96 [==============================] - 5s 54ms/step - loss: 1.5231e-04 - val_loss: 3.4666e-04\n",
      "Epoch 65/100\n",
      "96/96 [==============================] - 5s 54ms/step - loss: 1.5916e-04 - val_loss: 5.9519e-04\n",
      "Epoch 66/100\n",
      "96/96 [==============================] - 5s 54ms/step - loss: 1.4915e-04 - val_loss: 5.4553e-04\n",
      "Epoch 67/100\n",
      "96/96 [==============================] - 5s 53ms/step - loss: 1.7954e-04 - val_loss: 3.7325e-04\n",
      "Epoch 68/100\n",
      "96/96 [==============================] - 5s 54ms/step - loss: 1.5435e-04 - val_loss: 4.2265e-04\n",
      "Epoch 69/100\n",
      "96/96 [==============================] - 5s 54ms/step - loss: 1.3342e-04 - val_loss: 5.9744e-04\n",
      "Epoch 70/100\n",
      "96/96 [==============================] - 5s 55ms/step - loss: 1.4489e-04 - val_loss: 6.9852e-04\n",
      "Epoch 71/100\n",
      "96/96 [==============================] - 5s 54ms/step - loss: 1.4344e-04 - val_loss: 5.2424e-04\n",
      "Epoch 72/100\n",
      "96/96 [==============================] - 5s 54ms/step - loss: 1.5054e-04 - val_loss: 4.2118e-04\n",
      "Epoch 73/100\n",
      "96/96 [==============================] - 5s 53ms/step - loss: 1.2932e-04 - val_loss: 4.4232e-04\n",
      "Epoch 74/100\n",
      "96/96 [==============================] - 5s 52ms/step - loss: 1.3673e-04 - val_loss: 2.6654e-04\n",
      "Epoch 75/100\n",
      "96/96 [==============================] - 5s 53ms/step - loss: 1.4675e-04 - val_loss: 3.9270e-04\n",
      "Epoch 76/100\n",
      "96/96 [==============================] - 5s 54ms/step - loss: 1.4285e-04 - val_loss: 2.0005e-04\n",
      "Epoch 77/100\n",
      "96/96 [==============================] - 5s 53ms/step - loss: 1.4990e-04 - val_loss: 5.4794e-04\n",
      "Epoch 78/100\n",
      "96/96 [==============================] - 5s 53ms/step - loss: 1.2445e-04 - val_loss: 5.7489e-04\n",
      "Epoch 79/100\n",
      "96/96 [==============================] - 5s 52ms/step - loss: 1.2217e-04 - val_loss: 4.5330e-04\n",
      "Epoch 80/100\n",
      "96/96 [==============================] - 5s 54ms/step - loss: 1.3620e-04 - val_loss: 8.4933e-04\n",
      "Epoch 81/100\n",
      "96/96 [==============================] - 5s 54ms/step - loss: 1.3630e-04 - val_loss: 6.8014e-04\n",
      "Epoch 82/100\n",
      "96/96 [==============================] - 5s 54ms/step - loss: 1.5596e-04 - val_loss: 4.0693e-04\n",
      "Epoch 83/100\n",
      "96/96 [==============================] - 5s 53ms/step - loss: 1.3775e-04 - val_loss: 6.6289e-04\n",
      "Epoch 84/100\n",
      "96/96 [==============================] - 5s 53ms/step - loss: 1.2220e-04 - val_loss: 5.9145e-04\n",
      "Epoch 85/100\n",
      "96/96 [==============================] - 5s 54ms/step - loss: 1.2450e-04 - val_loss: 4.6258e-04\n",
      "Epoch 86/100\n",
      "96/96 [==============================] - 7s 76ms/step - loss: 1.2583e-04 - val_loss: 4.3473e-04\n",
      "Epoch 87/100\n",
      "96/96 [==============================] - 7s 76ms/step - loss: 1.2111e-04 - val_loss: 3.1140e-04\n",
      "Epoch 88/100\n",
      "96/96 [==============================] - 5s 56ms/step - loss: 1.2856e-04 - val_loss: 5.4133e-04\n",
      "Epoch 89/100\n",
      "96/96 [==============================] - 7s 77ms/step - loss: 1.1839e-04 - val_loss: 7.8493e-04\n",
      "Epoch 90/100\n",
      "96/96 [==============================] - 6s 59ms/step - loss: 1.2158e-04 - val_loss: 4.6872e-04\n",
      "Epoch 91/100\n",
      "96/96 [==============================] - 7s 74ms/step - loss: 1.2029e-04 - val_loss: 6.7156e-04\n",
      "Epoch 92/100\n",
      "96/96 [==============================] - 5s 55ms/step - loss: 1.0704e-04 - val_loss: 3.7124e-04\n",
      "Epoch 93/100\n",
      "96/96 [==============================] - 5s 55ms/step - loss: 1.1455e-04 - val_loss: 5.2375e-04\n",
      "Epoch 94/100\n",
      "96/96 [==============================] - 5s 54ms/step - loss: 1.1488e-04 - val_loss: 2.7473e-04\n",
      "Epoch 95/100\n",
      "96/96 [==============================] - 5s 58ms/step - loss: 1.1404e-04 - val_loss: 5.3325e-04\n",
      "Epoch 96/100\n",
      "96/96 [==============================] - 5s 54ms/step - loss: 1.0850e-04 - val_loss: 4.1824e-04\n",
      "Epoch 97/100\n",
      "96/96 [==============================] - 7s 54ms/step - loss: 1.2587e-04 - val_loss: 4.7324e-04\n",
      "Epoch 98/100\n",
      "96/96 [==============================] - 5s 54ms/step - loss: 1.0567e-04 - val_loss: 5.1578e-04\n",
      "Epoch 99/100\n",
      "96/96 [==============================] - 5s 55ms/step - loss: 1.0886e-04 - val_loss: 4.3650e-04\n",
      "Epoch 100/100\n",
      "96/96 [==============================] - 6s 58ms/step - loss: 1.1176e-04 - val_loss: 3.4118e-04\n"
     ]
    }
   ],
   "source": [
    "# Train model\n",
    "history = model.fit(x_train, y_train, epochs=num_epochs, batch_size=mini_batch_size, validation_split=0.1)"
   ]
  },
  {
   "cell_type": "code",
   "execution_count": 13,
   "outputs": [
    {
     "data": {
      "text/plain": "<Figure size 432x288 with 1 Axes>",
      "image/png": "[encoded data removed]"
     },
     "metadata": {
      "needs_background": "light"
     },
     "output_type": "display_data"
    }
   ],
   "source": [
    "# Plot training loss vs number of epochs\n",
    "plt.plot(history.history['loss'])\n",
    "plt.title('Model loss')\n",
    "plt.ylabel('Loss')\n",
    "plt.xlabel('Epoch')\n",
    "plt.show()"
   ],
   "metadata": {
    "collapsed": false,
    "pycharm": {
     "name": "#%%\n"
    }
   }
  },
  {
   "cell_type": "code",
   "execution_count": 14,
   "outputs": [
    {
     "name": "stderr",
     "output_type": "stream",
     "text": [
      "C:\\Users\\nikhi\\AppData\\Local\\Temp\\ipykernel_13996\\2734859159.py:3: RuntimeWarning: divide by zero encountered in true_divide\n",
      "  erros = np.abs(predictions - y_test) / y_test * 100\n"
     ]
    },
    {
     "data": {
      "text/plain": "<Figure size 432x288 with 1 Axes>",
      "image/png": "[encoded data removed]"
     },
     "metadata": {
      "needs_background": "light"
     },
     "output_type": "display_data"
    }
   ],
   "source": [
    "# Do a sample prediction\n",
    "predictions = model.predict(x_test)\n",
    "erros = np.abs(predictions - y_test) / y_test * 100\n",
    "\n",
    "plt.hist(erros[:, 3], bins=100)\n",
    "plt.show()"
   ],
   "metadata": {
    "collapsed": false,
    "pycharm": {
     "name": "#%%\n"
    }
   }
  },
  {
   "cell_type": "code",
   "execution_count": 105,
   "outputs": [
    {
     "data": {
      "text/plain": "array([[0.7606014 , 0.75905514, 0.76129967, 0.75404286],\n       [0.76027894, 0.75878096, 0.76085174, 0.75351185],\n       [0.75985706, 0.7585706 , 0.76031095, 0.753022  ],\n       [0.7597093 , 0.75873315, 0.7599979 , 0.7529244 ],\n       [0.7592891 , 0.7584539 , 0.75934064, 0.7525375 ],\n       [0.75842273, 0.7579037 , 0.7584422 , 0.7516822 ],\n       [0.75726753, 0.75707084, 0.75729537, 0.7505922 ],\n       [0.7574939 , 0.7572871 , 0.7574707 , 0.7509836 ],\n       [0.7583889 , 0.757811  , 0.75817424, 0.7520059 ],\n       [0.75855994, 0.7578643 , 0.7583996 , 0.75212276],\n       [0.7591841 , 0.7583678 , 0.75902295, 0.75280017],\n       [0.76129234, 0.7599833 , 0.76088136, 0.75494593],\n       [0.7610968 , 0.7597609 , 0.760646  , 0.7545559 ],\n       [0.76061404, 0.7593903 , 0.7602204 , 0.753948  ],\n       [0.76058203, 0.7594044 , 0.76018065, 0.75393754],\n       [0.75922424, 0.7584128 , 0.7589525 , 0.75252885],\n       [0.7583907 , 0.75780547, 0.7582506 , 0.7517669 ],\n       [0.7575837 , 0.7572113 , 0.7576318 , 0.75105363],\n       [0.7563902 , 0.7563976 , 0.7567209 , 0.749944  ],\n       [0.75758183, 0.7573485 , 0.75799024, 0.75143284],\n       [0.758966  , 0.7582729 , 0.75939125, 0.75290984],\n       [0.7596618 , 0.75868034, 0.76019675, 0.75350803],\n       [0.76050913, 0.7592289 , 0.76099914, 0.75431764],\n       [0.7615474 , 0.7599143 , 0.7618723 , 0.75527036],\n       [0.7613766 , 0.7597597 , 0.76158094, 0.75491375],\n       [0.76035506, 0.7590224 , 0.7604794 , 0.75379974],\n       [0.75686616, 0.7565439 , 0.7572726 , 0.75013   ],\n       [0.75539416, 0.75568295, 0.7560236 , 0.74887025],\n       [0.75631684, 0.756385  , 0.75687057, 0.7501122 ],\n       [0.75883967, 0.75821316, 0.75919783, 0.75284517],\n       [0.75883275, 0.7581061 , 0.75925344, 0.75266904],\n       [0.75897413, 0.7581096 , 0.7594977 , 0.7527532 ],\n       [0.7595131 , 0.7584011 , 0.7601199 , 0.7532702 ],\n       [0.76060015, 0.7591774 , 0.76121885, 0.75433576],\n       [0.760104  , 0.7588279 , 0.7607744 , 0.75371444],\n       [0.7603875 , 0.75926626, 0.76096964, 0.7540213 ],\n       [0.76039726, 0.7592987 , 0.76068985, 0.75401276],\n       [0.75937414, 0.7584627 , 0.7595483 , 0.75289863],\n       [0.7578801 , 0.75730354, 0.7581385 , 0.75138456],\n       [0.7554556 , 0.7556191 , 0.756076  , 0.7489438 ],\n       [0.7562509 , 0.75630957, 0.75688094, 0.7501208 ],\n       [0.75810194, 0.7576441 , 0.75857216, 0.7521819 ],\n       [0.7575367 , 0.75707006, 0.7581161 , 0.7514533 ],\n       [0.7576749 , 0.75712943, 0.75841165, 0.7515716 ],\n       [0.75813925, 0.7573644 , 0.7589243 , 0.75204116],\n       [0.75678986, 0.7562992 , 0.75785744, 0.750536  ],\n       [0.75516355, 0.7551716 , 0.75660443, 0.7488771 ],\n       [0.7495744 , 0.7510214 , 0.7517808 , 0.74293053],\n       [0.7455097 , 0.7478362 , 0.74823624, 0.738968  ],\n       [0.7477937 , 0.74936724, 0.7502543 , 0.7416672 ],\n       [0.74907094, 0.750146  , 0.7513853 , 0.7428564 ],\n       [0.7502976 , 0.7510932 , 0.75262904, 0.74378985],\n       [0.7503444 , 0.7510801 , 0.752708  , 0.7434816 ],\n       [0.7433219 , 0.74538344, 0.7463427 , 0.73560625],\n       [0.7398143 , 0.7423431 , 0.7434507 , 0.7313372 ],\n       [0.7444521 , 0.7459553 , 0.74736565, 0.7356537 ],\n       [0.74429464, 0.74586284, 0.74663544, 0.7346603 ],\n       [0.74468493, 0.7460902 , 0.74649024, 0.7339755 ]], dtype=float32)"
     },
     "execution_count": 105,
     "metadata": {},
     "output_type": "execute_result"
    }
   ],
   "source": [
    "predictions[predictions[:, 1] < predictions[:, 2], :]"
   ],
   "metadata": {
    "collapsed": false,
    "pycharm": {
     "name": "#%%\n"
    }
   }
  },
  {
   "cell_type": "code",
   "execution_count": 92,
   "outputs": [],
   "source": [
    "def inverse_transform(y):\n",
    "        \"\"\"\n",
    "        This function is used to inverse transform the predicted values to the original scale.\n",
    "        :param y: predicted values for a single time series sample\n",
    "        :return:\n",
    "        \"\"\"\n",
    "        # print(mini, maxi)\n",
    "        return y * (maxi - mini) + mini"
   ],
   "metadata": {
    "collapsed": false,
    "pycharm": {
     "name": "#%%\n"
    }
   }
  },
  {
   "cell_type": "code",
   "execution_count": 104,
   "outputs": [
    {
     "name": "stdout",
     "output_type": "stream",
     "text": [
      "1700.48 4027.88\n"
     ]
    },
    {
     "data": {
      "text/plain": "array([3470.7036, 3467.105 , 3472.3286, 3455.4392], dtype=float32)"
     },
     "execution_count": 104,
     "metadata": {},
     "output_type": "execute_result"
    }
   ],
   "source": [
    "inverse_transform(predictions[0, :])"
   ],
   "metadata": {
    "collapsed": false,
    "pycharm": {
     "name": "#%%\n"
    }
   }
  },
  {
   "cell_type": "code",
   "execution_count": 25,
   "outputs": [
    {
     "data": {
      "text/plain": "1.0"
     },
     "execution_count": 25,
     "metadata": {},
     "output_type": "execute_result"
    }
   ],
   "source": [
    "# Convert predictions into trading signals\n",
    "def convert_to_signal(cur_close, p_o, p_h, p_l, p_c):\n",
    "    if p_h < p_l:\n",
    "        return True\n",
    "\n",
    "    if cur_close > p_o and cur_close > p_h and cur_close > p_l and cur_close > p_c:\n",
    "        return True\n",
    "    elif cur_close < p_o and cur_close < p_h and cur_close < p_l and cur_close < p_c:\n",
    "        return False\n",
    "    elif cur_close < p_o and cur_close < p_h and cur_close < p_c and cur_close > p_l:\n",
    "        return True\n",
    "    elif cur_close > p_o and cur_close > p_l and cur_close > p_c and cur_close < p_h:\n",
    "        return False\n",
    "    else:\n",
    "        return True\n"
   ],
   "metadata": {
    "collapsed": false,
    "pycharm": {
     "name": "#%%\n"
    }
   }
  },
  {
   "cell_type": "code",
   "execution_count": 47,
   "outputs": [],
   "source": [
    "x_test_n = x_test[:, :, :]\n",
    "y_test_n = y_test[:, :]"
   ],
   "metadata": {
    "collapsed": false,
    "pycharm": {
     "name": "#%%\n"
    }
   }
  },
  {
   "cell_type": "code",
   "execution_count": 48,
   "outputs": [
    {
     "ename": "IndexError",
     "evalue": "invalid index to scalar variable.",
     "output_type": "error",
     "traceback": [
      "\u001B[1;31m---------------------------------------------------------------------------\u001B[0m",
      "\u001B[1;31mIndexError\u001B[0m                                Traceback (most recent call last)",
      "Input \u001B[1;32mIn [48]\u001B[0m, in \u001B[0;36m<cell line: 14>\u001B[1;34m()\u001B[0m\n\u001B[0;32m     17\u001B[0m     \u001B[38;5;28;01mcontinue\u001B[39;00m\n\u001B[0;32m     18\u001B[0m p_diff \u001B[38;5;241m=\u001B[39m predicted[i][\u001B[38;5;241m0\u001B[39m] \u001B[38;5;241m-\u001B[39m cur_price\n\u001B[1;32m---> 19\u001B[0m a_diff \u001B[38;5;241m=\u001B[39m \u001B[43my_test_n\u001B[49m\u001B[43m[\u001B[49m\u001B[43mi\u001B[49m\u001B[43m]\u001B[49m\u001B[43m[\u001B[49m\u001B[38;5;241;43m0\u001B[39;49m\u001B[43m]\u001B[49m\u001B[43m[\u001B[49m\u001B[38;5;241;43m0\u001B[39;49m\u001B[43m]\u001B[49m \u001B[38;5;241m-\u001B[39m cur_price\n\u001B[0;32m     20\u001B[0m diffs\u001B[38;5;241m.\u001B[39mappend(\u001B[38;5;28mabs\u001B[39m(p_diff) \u001B[38;5;241m*\u001B[39m \u001B[38;5;241m100\u001B[39m \u001B[38;5;241m/\u001B[39m cur_price)\n\u001B[0;32m     21\u001B[0m sign \u001B[38;5;241m=\u001B[39m np\u001B[38;5;241m.\u001B[39msign(p_diff \u001B[38;5;241m*\u001B[39m a_diff)\n",
      "\u001B[1;31mIndexError\u001B[0m: invalid index to scalar variable."
     ]
    }
   ],
   "source": [
    "import math\n",
    "\n",
    "# Print the predicted and actual values\n",
    "predicted = model.predict(x_test_n)\n",
    "\n",
    "count = 0\n",
    "balance = 500\n",
    "stake = 100\n",
    "\n",
    "total_profit = 0\n",
    "trades = []\n",
    "balance_history = []\n",
    "diffs = []\n",
    "for i in range(len(predicted)):\n",
    "    cur_price = x_test_n[i, -1, 0]\n",
    "    if cur_price == 0:\n",
    "        continue\n",
    "    p_diff = predicted[i][0] - cur_price\n",
    "    a_diff = y_test_n[i][0][0] - cur_price\n",
    "    diffs.append(abs(p_diff) * 100 / cur_price)\n",
    "    sign = np.sign(p_diff * a_diff)\n",
    "    if balance >= stake and 1 <= (abs(p_diff) * 100 / cur_price) <= 5:\n",
    "        balance -= stake\n",
    "        profit = stake * a_diff / cur_price\n",
    "        if p_diff < 0:\n",
    "            profit = -profit\n",
    "        total_profit += profit\n",
    "        balance += profit + stake\n",
    "        stake = 0.2 * balance\n",
    "        trades.append([cur_price, predicted[i][0], y_test_n[i][0][0], profit, abs(p_diff) * 100 / cur_price])\n",
    "        balance_history.append(balance)\n",
    "\n",
    "    if a_diff * p_diff > 0:\n",
    "        count += 1\n",
    "\n",
    "print('Accuracy:', count / len(predicted))\n",
    "print('Balance:', balance)\n",
    "print('Profit:', total_profit)\n",
    "trades = np.array(trades)\n",
    "trades"
   ],
   "metadata": {
    "collapsed": false,
    "pycharm": {
     "name": "#%%\n"
    }
   }
  },
  {
   "cell_type": "code",
   "execution_count": 20,
   "outputs": [
    {
     "data": {
      "text/plain": "<Figure size 432x288 with 1 Axes>",
      "image/png": "[encoded data removed]"
     },
     "metadata": {
      "needs_background": "light"
     },
     "output_type": "display_data"
    }
   ],
   "source": [
    "import matplotlib.pyplot as plt\n",
    "\n",
    "# Plot the balance history\n",
    "plt.plot(balance_history)\n",
    "plt.show()"
   ],
   "metadata": {
    "collapsed": false,
    "pycharm": {
     "name": "#%%\n"
    }
   }
  },
  {
   "cell_type": "code",
   "execution_count": 21,
   "outputs": [
    {
     "data": {
      "text/plain": "array([[  0.70210904,   0.71389544,   0.69510261,  -1.00180543,\n          1.67871402],\n       [  0.71020397,   0.72482139,   0.70304649,  -1.0140915 ,\n          2.05819968],\n       [  0.71026173,   0.718988  ,   0.70597879,  -0.60678882,\n          1.22859935],\n       [  0.70597879,   0.71464276,   0.70482808,  -0.16381851,\n          1.22722858],\n       [  0.69416072,   0.68513727,   0.71039502,  -2.34975066,\n          1.29990718],\n       [  0.71091483,   0.72293043,   0.69624887,  -2.06630789,\n          1.69015984],\n       [  0.7491503 ,   0.73591989,   0.75427739,  -0.69711603,\n          1.7660549 ],\n       [  0.75427739,   0.73775095,   0.75949778,  -0.70401212,\n          2.19102944],\n       [  0.73370239,   0.72632056,   0.74445861,  -1.50363235,\n          1.00610606],\n       [  0.71082598,   0.72660226,   0.69423625,  -2.3894524 ,\n          2.21942925],\n       [  0.69423625,   0.72128958,   0.67936591,  -2.18274937,\n          3.8968477 ],\n       [  0.68932686,   0.70668799,   0.68865154,  -0.09969658,\n          2.51856258],\n       [  0.68865154,   0.70597064,   0.65531658,  -4.92506737,\n          2.51493009],\n       [  0.67649581,   0.69106579,   0.6587376 ,  -2.66019507,\n          2.15374285],\n       [  0.69297891,   0.70685953,   0.68749639,  -0.81216527,\n          2.00303634],\n       [  0.69250796,   0.70509613,   0.69165049,  -0.12709451,\n          1.81776418],\n       [  0.69283229,   0.6847778 ,   0.70655192,  -2.03991481,\n          1.16254658],\n       [  0.70342857,   0.69131541,   0.71757472,  -2.06526742,\n          1.72201726],\n       [  0.70918211,   0.69966137,   0.717397  ,  -1.18759073,\n          1.34249513],\n       [  0.72997925,   0.72116703,   0.73404893,  -0.57318505,\n          1.20718825],\n       [  0.75126955,   0.72672457,   0.75785835,  -0.90666441,\n          3.26713482],\n       [  0.74257483,   0.73297036,   0.74943464,  -0.95718704,\n          1.29340128],\n       [  0.78619063,   0.76239818,   0.79124663,  -0.66764487,\n          3.02629442],\n       [  0.79124663,   0.76998007,   0.80462415,  -1.75295613,\n          2.68772785],\n       [  0.80462415,   0.77859354,   0.80501069,  -0.04963949,\n          3.23512709],\n       [  0.80232718,   0.79220551,   0.81145287,  -1.17597426,\n          1.26153901],\n       [  0.81145287,   0.80202162,   0.81491387,  -0.43998106,\n          1.16226652],\n       [  0.827545  ,   0.84199983,   0.82448829,  -0.38113978,\n          1.7467127 ],\n       [  0.82448829,   0.84393412,   0.80608142,  -2.30195562,\n          2.35853295],\n       [  0.83587985,   0.85140914,   0.8287268 ,  -0.89075987,\n          1.85783766],\n       [  0.84430356,   0.85347515,   0.81331888,  -3.82774274,\n          1.08629151],\n       [  0.81496275,   0.8267647 ,   0.78588851,  -3.73201413,\n          1.448159  ],\n       [  0.80076773,   0.80879432,   0.78981602,  -1.44680029,\n          1.00236172],\n       [  0.78981602,   0.80287319,   0.76949871,  -2.71383811,\n          1.65319185],\n       [  0.76949871,   0.79392099,   0.76437162,  -0.69930471,\n          3.17379148],\n       [  0.76704624,   0.78605187,   0.76484257,  -0.30133764,\n          2.47776879],\n       [  0.77610972,   0.78992909,   0.76514913,  -1.48479783,\n          1.78059494],\n       [  0.7681925 ,   0.79082763,   0.74781743,  -2.78292966,\n          2.94654408],\n       [  0.74781743,   0.78439528,   0.74189063,  -0.82715817,\n          4.89128   ],\n       [  0.7532733 ,   0.77709109,   0.73194745,  -2.95909329,\n          3.16190563],\n       [  0.74591588,   0.77048677,   0.73089004,  -2.09357103,\n          3.29405692],\n       [  0.79202413,   0.80539948,   0.78519098,  -0.90758965,\n          1.68875457],\n       [  0.75073197,   0.7383914 ,   0.7584226 ,  -1.08532395,\n          1.6438045 ],\n       [  0.75136285,   0.76210272,   0.74857272,  -0.39403827,\n          1.42938505],\n       [  0.74857272,   0.76391155,   0.74766193,  -0.12901068,\n          2.04907572],\n       [  0.7612305 ,   0.76921177,   0.75309114,  -1.13739798,\n          1.04846926],\n       [  0.75309114,   0.76442581,   0.74621355,  -0.96938627,\n          1.50508706],\n       [  0.74621355,   0.75597399,   0.70979523,  -5.17096126,\n          1.30799595],\n       [  0.71760582,   0.72928923,   0.69715966,  -3.00869655,\n          1.62811044],\n       [  0.71087485,   0.72022533,   0.69116621,  -2.92239997,\n          1.31534908],\n       [  0.70393506,   0.71385932,   0.65657836,  -7.07802375,\n          1.40982562],\n       [  0.65516996,   0.6805352 ,   0.64695951,  -1.30132066,\n          3.87155031],\n       [  0.64695951,   0.67590743,   0.62136405,  -4.09795556,\n          4.47445636],\n       [  0.63507035,   0.66407007,   0.62414974,  -1.76708106,\n          4.5663786 ],\n       [  0.60383243,   0.63319367,   0.59122353,  -2.1384357 ,\n          4.86248137],\n       [  0.57249677,   0.59089077,   0.56433075,  -1.46032211,\n          3.21294345],\n       [  0.59890083,   0.62082541,   0.58725159,  -1.99717034,\n          3.66080299],\n       [  0.60133553,   0.61997229,   0.59273855,  -1.46220629,\n          3.09922773],\n       [  0.59273855,   0.61579162,   0.57532244,  -2.99656625,\n          3.8892475 ],\n       [  0.57887675,   0.5976761 ,   0.56070091,  -3.18335232,\n          3.24755631],\n       [  0.52013293,   0.54446816,   0.5145971 ,  -1.07986646,\n          4.67865653],\n       [  0.5145971 ,   0.5391494 ,   0.46176676, -10.39422166,\n          4.77117082],\n       [  0.54243621,   0.54936969,   0.53555418,  -1.26438397,\n          1.2782114 ],\n       [  0.56808054,   0.55161768,   0.58401717,  -2.82252506,\n          2.89797968],\n       [  0.57059521,   0.56384736,   0.57541574,  -0.84912748,\n          1.18259847],\n       [  0.57541574,   0.56616014,   0.57631321,  -0.15649717,\n          1.60850665],\n       [  0.57631321,   0.56943619,   0.58023183,  -0.6820424 ,\n          1.19327702],\n       [  0.58023183,   0.57140201,   0.59571528,  -2.6730778 ,\n          1.52177388],\n       [  0.59571528,   0.57661378,   0.59904745,  -0.55732542,\n          3.20648117],\n       [  0.59591965,   0.58477229,   0.59874089,  -0.47355981,\n          1.87061561],\n       [  0.59874089,   0.58884925,   0.61752096,  -3.13451784,\n          1.65207359],\n       [  0.6149663 ,   0.60121334,   0.61521955,  -0.04092862,\n          2.23637697],\n       [  0.61521955,   0.60435528,   0.62437189,  -1.47844417,\n          1.76591748],\n       [  0.62437189,   0.61239219,   0.62971668,  -0.84819564,\n          1.91868025],\n       [  0.61469084,   0.62126124,   0.60346367,  -1.81369538,\n          1.06889459],\n       [  0.60346367,   0.61669582,   0.59163671,  -1.93902499,\n          2.1927001 ],\n       [  0.63056971,   0.63694793,   0.62697542,  -0.57181844,\n          1.01150098],\n       [  0.62865927,   0.63680989,   0.62697986,  -0.26782866,\n          1.29650753],\n       [  0.63262677,   0.63996941,   0.62135073,  -1.78926274,\n          1.16065938],\n       [  0.62135073,   0.63645089,   0.60824422,  -2.10991187,\n          2.43021539],\n       [  0.61011911,   0.62394959,   0.59816331,  -1.95303396,\n          2.26684811],\n       [  0.59998489,   0.61253315,   0.59748355,  -0.41413107,\n          2.09142897],\n       [  0.59748355,   0.6093455 ,   0.5913035 ,  -1.02661747,\n          1.9853175 ],\n       [  0.60389019,   0.61044329,   0.59045046,  -2.21370889,\n          1.08514834],\n       [  0.59045046,   0.60864967,   0.50217923, -14.80424986,\n          3.08225806],\n       [  0.51935098,   0.54011315,   0.51028306,  -1.67731428,\n          3.99771413],\n       [  0.53358599,   0.54628026,   0.52426481,  -1.67722573,\n          2.37905039],\n       [  0.53414579,   0.5408476 ,   0.51483701,  -3.47163733,\n          1.25467819],\n       [  0.53792668,   0.54337949,   0.526273  ,  -2.08363194,\n          1.01367013],\n       [  0.526273  ,   0.54143852,   0.5222744 ,  -0.72759787,\n          2.88168356],\n       [  0.5222744 ,   0.53811228,   0.52198117,  -0.05368398,\n          3.03248279],\n       [  0.52198117,   0.5354349 ,   0.50797276,  -2.56578292,\n          2.57743601],\n       [  0.52049725,   0.53652382,   0.5197775 ,  -0.13265224,\n          3.07908858],\n       [  0.5197775 ,   0.53812683,   0.5194354 ,  -0.0631206 ,\n          3.53022705],\n       [  0.52959628,   0.5480926 ,   0.52638407,  -0.58388353,\n          3.49253374],\n       [  0.53518542,   0.55269694,   0.53009832,  -0.91697353,\n          3.27204717],\n       [  0.53009832,   0.55060959,   0.51892891,  -2.02879435,\n          3.86933268],\n       [  0.51892891,   0.5398854 ,   0.50972325,  -1.7008932 ,\n          4.03841296],\n       [  0.50972325,   0.5272907 ,   0.5010152 ,  -1.63219932,\n          3.44646807],\n       [  0.49718543,   0.50626314,   0.4935245 ,  -0.7023648 ,\n          1.82581862],\n       [  0.4935245 ,   0.50382841,   0.48258611,  -2.11102422,\n          2.08782149],\n       [  0.48258611,   0.49707204,   0.46391711,  -3.66830724,\n          3.00172889],\n       [  0.54371132,   0.53353888,   0.55344568,  -1.75117075,\n          1.87092687],\n       [  0.59047268,   0.57990837,   0.6037258 ,  -2.20302771,\n          1.78912724],\n       [  0.59125018,   0.58313209,   0.62574474,  -5.79459991,\n          1.37303891],\n       [  0.59782565,   0.60822874,   0.5957997 ,  -0.33356374,\n          1.74015463],\n       [  0.5957997 ,   0.60722333,   0.58801576,  -1.28507334,\n          1.91736166],\n       [  0.59114355,   0.60258681,   0.56876474,  -3.71790759,\n          1.93578221],\n       [  0.56876474,   0.59319603,   0.56505049,  -0.63649133,\n          4.2955    ],\n       [  0.56508604,   0.58455706,   0.56174499,  -0.57551947,\n          3.44567353],\n       [  0.56174499,   0.58224541,   0.54468431,  -2.95280605,\n          3.64941791],\n       [  0.56610346,   0.5814932 ,   0.53181327,  -5.8594544 ,\n          2.71853875],\n       [  0.54749666,   0.5642783 ,   0.53971272,  -1.36353043,\n          3.06515988],\n       [  0.53971272,   0.5644635 ,   0.53408359,  -0.99744625,\n          4.58591618],\n       [  0.52486016,   0.53985214,   0.52139471,  -0.63032207,\n          2.85637647],\n       [  0.52713047,   0.54023224,   0.50384087,  -4.241189  ,\n          2.48548843],\n       [  0.51254893,   0.52210206,   0.49132527,  -3.97658878,\n          1.86384756]])"
     },
     "execution_count": 21,
     "metadata": {},
     "output_type": "execute_result"
    }
   ],
   "source": [
    "trades[trades[:, 3] < 0]"
   ],
   "metadata": {
    "collapsed": false,
    "pycharm": {
     "name": "#%%\n"
    }
   }
  }
 ],
 "metadata": {
  "kernelspec": {
   "display_name": "Python 3 (ipykernel)",
   "language": "python",
   "name": "python3"
  },
  "language_info": {
   "codemirror_mode": {
    "name": "ipython",
    "version": 3
   },
   "file_extension": ".py",
   "mimetype": "text/x-python",
   "name": "python",
   "nbconvert_exporter": "python",
   "pygments_lexer": "ipython3",
   "version": "3.10.1"
  }
 },
 "nbformat": 4,
 "nbformat_minor": 1
}