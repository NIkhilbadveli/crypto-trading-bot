{
 "cells": [
  {
   "cell_type": "code",
   "execution_count": 7,
   "outputs": [
    {
     "name": "stdout",
     "output_type": "stream",
     "text": [
      "Collecting python_deriv_api\n",
      "  Using cached python_deriv_api-0.1.1-py3-none-any.whl (40 kB)\n",
      "Requirement already satisfied: websockets==9.1 in c:\\users\\nikhi\\appdata\\local\\programs\\python\\python310\\lib\\site-packages (from python_deriv_api) (9.1)\n",
      "Collecting rx==3.1.1\n",
      "  Using cached Rx-3.1.1-py3-none-any.whl (197 kB)\n",
      "Installing collected packages: rx, python_deriv_api\n",
      "Successfully installed python_deriv_api-0.1.1 rx-3.1.1\n"
     ]
    },
    {
     "name": "stderr",
     "output_type": "stream",
     "text": [
      "WARNING: You are using pip version 22.0.4; however, version 22.1.2 is available.\n",
      "You should consider upgrading via the 'C:\\Users\\nikhi\\AppData\\Local\\Programs\\Python\\Python310\\python.exe -m pip install --upgrade pip' command.\n"
     ]
    }
   ],
   "source": [
    "!pip install python_deriv_api --user"
   ],
   "metadata": {
    "collapsed": false,
    "pycharm": {
     "name": "#%%\n"
    }
   }
  },
  {
   "cell_type": "code",
   "execution_count": 33,
   "outputs": [],
   "source": [
    "from deriv_api import DerivAPI\n",
    "import pandas as pd"
   ],
   "metadata": {
    "collapsed": false,
    "pycharm": {
     "name": "#%%\n"
    }
   }
  },
  {
   "cell_type": "code",
   "execution_count": 3,
   "outputs": [],
   "source": [
    "api_token = 'O4WJddI6GWcNskz'\n",
    "app_id = 31998"
   ],
   "metadata": {
    "collapsed": false,
    "pycharm": {
     "name": "#%%\n"
    }
   }
  },
  {
   "cell_type": "code",
   "execution_count": 4,
   "outputs": [],
   "source": [
    "api = DerivAPI(app_id=app_id)"
   ],
   "metadata": {
    "collapsed": false,
    "pycharm": {
     "name": "#%%\n"
    }
   }
  },
  {
   "cell_type": "code",
   "execution_count": 5,
   "outputs": [
    {
     "name": "stdout",
     "output_type": "stream",
     "text": [
      "{'authorize': {'account_list': [{'account_type': 'trading', 'currency': 'USD', 'is_disabled': 0, 'is_virtual': 0, 'landing_company_name': 'svg', 'loginid': 'CR3963482', 'trading': {}}, {'account_type': 'trading', 'currency': 'USD', 'is_disabled': 0, 'is_virtual': 1, 'landing_company_name': 'virtual', 'loginid': 'VRTC6109201', 'trading': {}}], 'balance': 10053.85, 'country': 'in', 'currency': 'USD', 'email': 'ravitejavenkat.k5@gmail.com', 'fullname': '  ', 'is_virtual': 1, 'landing_company_fullname': 'Deriv Limited', 'landing_company_name': 'virtual', 'local_currencies': {'INR': {'fractional_digits': 2}}, 'loginid': 'VRTC6109201', 'preferred_language': 'EN', 'scopes': ['read', 'trade', 'payments', 'admin', 'trading_information'], 'trading': {}, 'upgradeable_landing_companies': ['svg'], 'user_id': 10222109}, 'echo_req': {'authorize': '<not shown>', 'req_id': 1}, 'msg_type': 'authorize', 'req_id': 1}\n"
     ]
    }
   ],
   "source": [
    "authorize = await api.authorize(api_token)\n",
    "print(authorize)"
   ],
   "metadata": {
    "collapsed": false,
    "pycharm": {
     "name": "#%%\n"
    }
   }
  },
  {
   "cell_type": "code",
   "execution_count": 6,
   "outputs": [
    {
     "name": "stdout",
     "output_type": "stream",
     "text": [
      "{'balance': {'balance': 10053.85, 'currency': 'USD', 'loginid': 'VRTC6109201'}, 'echo_req': {'balance': 1, 'req_id': 2}, 'msg_type': 'balance', 'req_id': 2}\n"
     ]
    }
   ],
   "source": [
    "account = await api.balance()\n",
    "print(account)"
   ],
   "metadata": {
    "collapsed": false,
    "pycharm": {
     "name": "#%%\n"
    }
   }
  },
  {
   "cell_type": "code",
   "execution_count": 7,
   "outputs": [
    {
     "name": "stdout",
     "output_type": "stream",
     "text": [
      "{'active_symbols': [{'allow_forward_starting': 0, 'delay_amount': 0, 'display_name': 'AUD Basket', 'exchange_is_open': 1, 'exchange_name': 'FOREX', 'intraday_interval_minutes': 5, 'is_trading_suspended': 0, 'market': 'basket_index', 'market_display_name': 'Basket Indices', 'pip': 0.001, 'quoted_currency_symbol': 'WLDAUD', 'spot': 926.378, 'spot_age': '1', 'spot_time': '1654029330', 'submarket': 'forex_basket', 'submarket_display_name': 'Forex Basket', 'symbol': 'WLDAUD', 'symbol_type': 'forex_basket'}, {'allow_forward_starting': 1, 'delay_amount': 0, 'display_name': 'AUD/CAD', 'exchange_is_open': 1, 'exchange_name': 'FOREX', 'intraday_interval_minutes': 5, 'is_trading_suspended': 0, 'market': 'forex', 'market_display_name': 'Forex', 'pip': 1e-05, 'quoted_currency_symbol': 'CAD', 'spot': 0.90796, 'spot_age': '1', 'spot_time': '1654029330', 'submarket': 'minor_pairs', 'submarket_display_name': 'Minor Pairs', 'symbol': 'frxAUDCAD', 'symbol_type': 'forex'}, {'allow_forward_starting': 1, 'delay_amount': 0, 'display_name': 'AUD/CHF', 'exchange_is_open': 1, 'exchange_name': 'FOREX', 'intraday_interval_minutes': 5, 'is_trading_suspended': 0, 'market': 'forex', 'market_display_name': 'Forex', 'pip': 1e-05, 'quoted_currency_symbol': 'CHF', 'spot': 0.6887, 'spot_age': '1', 'spot_time': '1654029330', 'submarket': 'minor_pairs', 'submarket_display_name': 'Minor Pairs', 'symbol': 'frxAUDCHF', 'symbol_type': 'forex'}, {'allow_forward_starting': 1, 'delay_amount': 0, 'display_name': 'AUD/JPY', 'exchange_is_open': 1, 'exchange_name': 'FOREX', 'intraday_interval_minutes': 5, 'is_trading_suspended': 0, 'market': 'forex', 'market_display_name': 'Forex', 'pip': 0.001, 'quoted_currency_symbol': 'JPY', 'spot': 92.387, 'spot_age': '1', 'spot_time': '1654029330', 'submarket': 'major_pairs', 'submarket_display_name': 'Major Pairs', 'symbol': 'frxAUDJPY', 'symbol_type': 'forex'}, {'allow_forward_starting': 1, 'delay_amount': 0, 'display_name': 'AUD/NZD', 'exchange_is_open': 1, 'exchange_name': 'FOREX', 'intraday_interval_minutes': 5, 'is_trading_suspended': 0, 'market': 'forex', 'market_display_name': 'Forex', 'pip': 1e-05, 'quoted_currency_symbol': 'NZD', 'spot': 1.10145, 'spot_age': '1', 'spot_time': '1654029330', 'submarket': 'minor_pairs', 'submarket_display_name': 'Minor Pairs', 'symbol': 'frxAUDNZD', 'symbol_type': 'forex'}, {'allow_forward_starting': 1, 'delay_amount': 0, 'display_name': 'AUD/USD', 'exchange_is_open': 1, 'exchange_name': 'FOREX', 'intraday_interval_minutes': 5, 'is_trading_suspended': 0, 'market': 'forex', 'market_display_name': 'Forex', 'pip': 1e-05, 'quoted_currency_symbol': 'USD', 'spot': 0.71773, 'spot_age': '1', 'spot_time': '1654029330', 'submarket': 'major_pairs', 'submarket_display_name': 'Major Pairs', 'symbol': 'frxAUDUSD', 'symbol_type': 'forex'}, {'allow_forward_starting': 1, 'delay_amount': 0, 'display_name': 'Australian Index', 'exchange_is_open': 0, 'exchange_name': 'ASX_OTC', 'intraday_interval_minutes': 5, 'is_trading_suspended': 0, 'market': 'indices', 'market_display_name': 'Stock Indices', 'pip': 0.01, 'quoted_currency_symbol': 'AUD', 'spot': 7181.6, 'spot_age': '2131', 'spot_time': '1654027200', 'submarket': 'asia_oceania_OTC', 'submarket_display_name': 'Asia/Oceania', 'symbol': 'OTC_AS51', 'symbol_type': 'stockindex'}, {'allow_forward_starting': 0, 'delay_amount': 0, 'display_name': 'BTC/USD', 'exchange_is_open': 1, 'exchange_name': 'CRYPTOCURRENCY', 'intraday_interval_minutes': 5, 'is_trading_suspended': 0, 'market': 'cryptocurrency', 'market_display_name': 'Cryptocurrencies', 'pip': 0.001, 'quoted_currency_symbol': 'USD', 'spot': 31693.15, 'spot_age': '1', 'spot_time': '1654029330', 'submarket': 'non_stable_coin', 'submarket_display_name': 'Cryptocurrencies', 'symbol': 'cryBTCUSD', 'symbol_type': 'cryptocurrency'}, {'allow_forward_starting': 1, 'delay_amount': 0, 'display_name': 'Bear Market Index', 'exchange_is_open': 1, 'exchange_name': 'RANDOM', 'intraday_interval_minutes': 5, 'is_trading_suspended': 0, 'market': 'synthetic_index', 'market_display_name': 'Synthetic Indices', 'pip': 0.0001, 'quoted_currency_symbol': '', 'spot': 978.6345, 'spot_age': '1', 'spot_time': '1654029330', 'submarket': 'random_daily', 'submarket_display_name': 'Daily Reset Indices', 'symbol': 'RDBEAR', 'symbol_type': 'stockindex'}, {'allow_forward_starting': 0, 'delay_amount': 0, 'display_name': 'Boom 300 Index', 'exchange_is_open': 1, 'exchange_name': 'RANDOM', 'intraday_interval_minutes': 5, 'is_trading_suspended': 0, 'market': 'synthetic_index', 'market_display_name': 'Synthetic Indices', 'pip': 0.001, 'quoted_currency_symbol': '', 'spot': 5416.71, 'spot_age': '1', 'spot_time': '1654029330', 'submarket': 'crash_index', 'submarket_display_name': 'Crash/Boom Indices', 'symbol': 'BOOM300N', 'symbol_type': ''}, {'allow_forward_starting': 0, 'delay_amount': 0, 'display_name': 'Boom 500 Index', 'exchange_is_open': 1, 'exchange_name': 'RANDOM', 'intraday_interval_minutes': 5, 'is_trading_suspended': 0, 'market': 'synthetic_index', 'market_display_name': 'Synthetic Indices', 'pip': 0.001, 'quoted_currency_symbol': '', 'spot': 4605.57, 'spot_age': '1', 'spot_time': '1654029330', 'submarket': 'crash_index', 'submarket_display_name': 'Crash/Boom Indices', 'symbol': 'BOOM500', 'symbol_type': ''}, {'allow_forward_starting': 0, 'delay_amount': 0, 'display_name': 'Boom 1000 Index', 'exchange_is_open': 1, 'exchange_name': 'RANDOM', 'intraday_interval_minutes': 5, 'is_trading_suspended': 0, 'market': 'synthetic_index', 'market_display_name': 'Synthetic Indices', 'pip': 0.001, 'quoted_currency_symbol': '', 'spot': 12384.426, 'spot_age': '1', 'spot_time': '1654029330', 'submarket': 'crash_index', 'submarket_display_name': 'Crash/Boom Indices', 'symbol': 'BOOM1000', 'symbol_type': ''}, {'allow_forward_starting': 1, 'delay_amount': 0, 'display_name': 'Bull Market Index', 'exchange_is_open': 1, 'exchange_name': 'RANDOM', 'intraday_interval_minutes': 5, 'is_trading_suspended': 0, 'market': 'synthetic_index', 'market_display_name': 'Synthetic Indices', 'pip': 0.0001, 'quoted_currency_symbol': '', 'spot': 1102.0104, 'spot_age': '1', 'spot_time': '1654029330', 'submarket': 'random_daily', 'submarket_display_name': 'Daily Reset Indices', 'symbol': 'RDBULL', 'symbol_type': 'stockindex'}, {'allow_forward_starting': 0, 'delay_amount': 0, 'display_name': 'Crash 300 Index', 'exchange_is_open': 1, 'exchange_name': 'RANDOM', 'intraday_interval_minutes': 5, 'is_trading_suspended': 0, 'market': 'synthetic_index', 'market_display_name': 'Synthetic Indices', 'pip': 0.001, 'quoted_currency_symbol': '', 'spot': 13477.387, 'spot_age': '1', 'spot_time': '1654029330', 'submarket': 'crash_index', 'submarket_display_name': 'Crash/Boom Indices', 'symbol': 'CRASH300N', 'symbol_type': ''}, {'allow_forward_starting': 0, 'delay_amount': 0, 'display_name': 'Crash 500 Index', 'exchange_is_open': 1, 'exchange_name': 'RANDOM', 'intraday_interval_minutes': 5, 'is_trading_suspended': 0, 'market': 'synthetic_index', 'market_display_name': 'Synthetic Indices', 'pip': 0.001, 'quoted_currency_symbol': '', 'spot': 5501.178, 'spot_age': '1', 'spot_time': '1654029330', 'submarket': 'crash_index', 'submarket_display_name': 'Crash/Boom Indices', 'symbol': 'CRASH500', 'symbol_type': ''}, {'allow_forward_starting': 0, 'delay_amount': 0, 'display_name': 'Crash 1000 Index', 'exchange_is_open': 1, 'exchange_name': 'RANDOM', 'intraday_interval_minutes': 5, 'is_trading_suspended': 0, 'market': 'synthetic_index', 'market_display_name': 'Synthetic Indices', 'pip': 0.001, 'quoted_currency_symbol': '', 'spot': 6872.675, 'spot_age': '1', 'spot_time': '1654029330', 'submarket': 'crash_index', 'submarket_display_name': 'Crash/Boom Indices', 'symbol': 'CRASH1000', 'symbol_type': ''}, {'allow_forward_starting': 1, 'delay_amount': 0, 'display_name': 'Dutch Index', 'exchange_is_open': 0, 'exchange_name': 'EURONEXT_OTC', 'intraday_interval_minutes': 5, 'is_trading_suspended': 0, 'market': 'indices', 'market_display_name': 'Stock Indices', 'pip': 0.01, 'quoted_currency_symbol': 'EUR', 'spot': 713.53, 'spot_age': '3931', 'spot_time': '1654025400', 'submarket': 'europe_OTC', 'submarket_display_name': 'Europe', 'symbol': 'OTC_AEX', 'symbol_type': 'stockindex'}, {'allow_forward_starting': 0, 'delay_amount': 0, 'display_name': 'ETH/USD', 'exchange_is_open': 1, 'exchange_name': 'CRYPTOCURRENCY', 'intraday_interval_minutes': 5, 'is_trading_suspended': 0, 'market': 'cryptocurrency', 'market_display_name': 'Cryptocurrencies', 'pip': 1e-05, 'quoted_currency_symbol': 'USD', 'spot': 1941.8655, 'spot_age': '1', 'spot_time': '1654029330', 'submarket': 'non_stable_coin', 'submarket_display_name': 'Cryptocurrencies', 'symbol': 'cryETHUSD', 'symbol_type': 'cryptocurrency'}, {'allow_forward_starting': 0, 'delay_amount': 0, 'display_name': 'EUR Basket', 'exchange_is_open': 1, 'exchange_name': 'FOREX', 'intraday_interval_minutes': 5, 'is_trading_suspended': 0, 'market': 'basket_index', 'market_display_name': 'Basket Indices', 'pip': 0.001, 'quoted_currency_symbol': 'WLDEUR', 'spot': 948.948, 'spot_age': '1', 'spot_time': '1654029330', 'submarket': 'forex_basket', 'submarket_display_name': 'Forex Basket', 'symbol': 'WLDEUR', 'symbol_type': 'forex_basket'}, {'allow_forward_starting': 1, 'delay_amount': 0, 'display_name': 'EUR/AUD', 'exchange_is_open': 1, 'exchange_name': 'FOREX', 'intraday_interval_minutes': 5, 'is_trading_suspended': 0, 'market': 'forex', 'market_display_name': 'Forex', 'pip': 1e-05, 'quoted_currency_symbol': 'AUD', 'spot': 1.49567, 'spot_age': '1', 'spot_time': '1654029330', 'submarket': 'major_pairs', 'submarket_display_name': 'Major Pairs', 'symbol': 'frxEURAUD', 'symbol_type': 'forex'}, {'allow_forward_starting': 1, 'delay_amount': 0, 'display_name': 'EUR/CAD', 'exchange_is_open': 1, 'exchange_name': 'FOREX', 'intraday_interval_minutes': 5, 'is_trading_suspended': 0, 'market': 'forex', 'market_display_name': 'Forex', 'pip': 1e-05, 'quoted_currency_symbol': 'CAD', 'spot': 1.35798, 'spot_age': '1', 'spot_time': '1654029330', 'submarket': 'major_pairs', 'submarket_display_name': 'Major Pairs', 'symbol': 'frxEURCAD', 'symbol_type': 'forex'}, {'allow_forward_starting': 1, 'delay_amount': 0, 'display_name': 'EUR/CHF', 'exchange_is_open': 1, 'exchange_name': 'FOREX', 'intraday_interval_minutes': 5, 'is_trading_suspended': 0, 'market': 'forex', 'market_display_name': 'Forex', 'pip': 1e-05, 'quoted_currency_symbol': 'CHF', 'spot': 1.03008, 'spot_age': '2', 'spot_time': '1654029329', 'submarket': 'major_pairs', 'submarket_display_name': 'Major Pairs', 'symbol': 'frxEURCHF', 'symbol_type': 'forex'}, {'allow_forward_starting': 1, 'delay_amount': 0, 'display_name': 'EUR/GBP', 'exchange_is_open': 1, 'exchange_name': 'FOREX', 'intraday_interval_minutes': 5, 'is_trading_suspended': 0, 'market': 'forex', 'market_display_name': 'Forex', 'pip': 1e-05, 'quoted_currency_symbol': 'GBP', 'spot': 0.85196, 'spot_age': '1', 'spot_time': '1654029330', 'submarket': 'major_pairs', 'submarket_display_name': 'Major Pairs', 'symbol': 'frxEURGBP', 'symbol_type': 'forex'}, {'allow_forward_starting': 1, 'delay_amount': 0, 'display_name': 'EUR/JPY', 'exchange_is_open': 1, 'exchange_name': 'FOREX', 'intraday_interval_minutes': 5, 'is_trading_suspended': 0, 'market': 'forex', 'market_display_name': 'Forex', 'pip': 0.001, 'quoted_currency_symbol': 'JPY', 'spot': 138.181, 'spot_age': '1', 'spot_time': '1654029330', 'submarket': 'major_pairs', 'submarket_display_name': 'Major Pairs', 'symbol': 'frxEURJPY', 'symbol_type': 'forex'}, {'allow_forward_starting': 1, 'delay_amount': 0, 'display_name': 'EUR/NZD', 'exchange_is_open': 1, 'exchange_name': 'FOREX', 'intraday_interval_minutes': 5, 'is_trading_suspended': 0, 'market': 'forex', 'market_display_name': 'Forex', 'pip': 1e-05, 'quoted_currency_symbol': 'NZD', 'spot': 1.64747, 'spot_age': '1', 'spot_time': '1654029330', 'submarket': 'minor_pairs', 'submarket_display_name': 'Minor Pairs', 'symbol': 'frxEURNZD', 'symbol_type': 'forex'}, {'allow_forward_starting': 1, 'delay_amount': 0, 'display_name': 'EUR/USD', 'exchange_is_open': 1, 'exchange_name': 'FOREX', 'intraday_interval_minutes': 5, 'is_trading_suspended': 0, 'market': 'forex', 'market_display_name': 'Forex', 'pip': 1e-05, 'quoted_currency_symbol': 'USD', 'spot': 1.07349, 'spot_age': '3', 'spot_time': '1654029328', 'submarket': 'major_pairs', 'submarket_display_name': 'Major Pairs', 'symbol': 'frxEURUSD', 'symbol_type': 'forex'}, {'allow_forward_starting': 1, 'delay_amount': 0, 'display_name': 'Euro 50 Index', 'exchange_is_open': 0, 'exchange_name': 'STOXX_OTC', 'intraday_interval_minutes': 5, 'is_trading_suspended': 0, 'market': 'indices', 'market_display_name': 'Stock Indices', 'pip': 0.01, 'quoted_currency_symbol': 'EUR', 'spot': 3793.15, 'spot_age': '5731', 'spot_time': '1654023600', 'submarket': 'europe_OTC', 'submarket_display_name': 'Europe', 'symbol': 'OTC_SX5E', 'symbol_type': 'stockindex'}, {'allow_forward_starting': 1, 'delay_amount': 0, 'display_name': 'French Index', 'exchange_is_open': 0, 'exchange_name': 'EURONEXT_OTC', 'intraday_interval_minutes': 5, 'is_trading_suspended': 0, 'market': 'indices', 'market_display_name': 'Stock Indices', 'pip': 0.01, 'quoted_currency_symbol': 'EUR', 'spot': 6486.5, 'spot_age': '3931', 'spot_time': '1654025400', 'submarket': 'europe_OTC', 'submarket_display_name': 'Europe', 'symbol': 'OTC_FCHI', 'symbol_type': 'stockindex'}, {'allow_forward_starting': 0, 'delay_amount': 0, 'display_name': 'GBP Basket', 'exchange_is_open': 1, 'exchange_name': 'FOREX', 'intraday_interval_minutes': 5, 'is_trading_suspended': 0, 'market': 'basket_index', 'market_display_name': 'Basket Indices', 'pip': 0.001, 'quoted_currency_symbol': 'WLDGBP', 'spot': 897.743, 'spot_age': '1', 'spot_time': '1654029330', 'submarket': 'forex_basket', 'submarket_display_name': 'Forex Basket', 'symbol': 'WLDGBP', 'symbol_type': 'forex_basket'}, {'allow_forward_starting': 1, 'delay_amount': 0, 'display_name': 'GBP/AUD', 'exchange_is_open': 1, 'exchange_name': 'FOREX', 'intraday_interval_minutes': 5, 'is_trading_suspended': 0, 'market': 'forex', 'market_display_name': 'Forex', 'pip': 1e-05, 'quoted_currency_symbol': 'AUD', 'spot': 1.75573, 'spot_age': '1', 'spot_time': '1654029330', 'submarket': 'major_pairs', 'submarket_display_name': 'Major Pairs', 'symbol': 'frxGBPAUD', 'symbol_type': 'forex'}, {'allow_forward_starting': 1, 'delay_amount': 0, 'display_name': 'GBP/CAD', 'exchange_is_open': 1, 'exchange_name': 'FOREX', 'intraday_interval_minutes': 5, 'is_trading_suspended': 0, 'market': 'forex', 'market_display_name': 'Forex', 'pip': 1e-05, 'quoted_currency_symbol': 'CAD', 'spot': 1.59428, 'spot_age': '1', 'spot_time': '1654029330', 'submarket': 'minor_pairs', 'submarket_display_name': 'Minor Pairs', 'symbol': 'frxGBPCAD', 'symbol_type': 'forex'}, {'allow_forward_starting': 1, 'delay_amount': 0, 'display_name': 'GBP/CHF', 'exchange_is_open': 1, 'exchange_name': 'FOREX', 'intraday_interval_minutes': 5, 'is_trading_suspended': 0, 'market': 'forex', 'market_display_name': 'Forex', 'pip': 1e-05, 'quoted_currency_symbol': 'CHF', 'spot': 1.20899, 'spot_age': '1', 'spot_time': '1654029330', 'submarket': 'minor_pairs', 'submarket_display_name': 'Minor Pairs', 'symbol': 'frxGBPCHF', 'symbol_type': 'forex'}, {'allow_forward_starting': 1, 'delay_amount': 0, 'display_name': 'GBP/JPY', 'exchange_is_open': 1, 'exchange_name': 'FOREX', 'intraday_interval_minutes': 5, 'is_trading_suspended': 0, 'market': 'forex', 'market_display_name': 'Forex', 'pip': 0.001, 'quoted_currency_symbol': 'JPY', 'spot': 162.201, 'spot_age': '1', 'spot_time': '1654029330', 'submarket': 'major_pairs', 'submarket_display_name': 'Major Pairs', 'symbol': 'frxGBPJPY', 'symbol_type': 'forex'}, {'allow_forward_starting': 1, 'delay_amount': 0, 'display_name': 'GBP/NOK', 'exchange_is_open': 1, 'exchange_name': 'FOREX', 'intraday_interval_minutes': 5, 'is_trading_suspended': 0, 'market': 'forex', 'market_display_name': 'Forex', 'pip': 1e-05, 'quoted_currency_symbol': 'NOK', 'spot': 11.81114, 'spot_age': '1', 'spot_time': '1654029330', 'submarket': 'minor_pairs', 'submarket_display_name': 'Minor Pairs', 'symbol': 'frxGBPNOK', 'symbol_type': 'forex'}, {'allow_forward_starting': 1, 'delay_amount': 0, 'display_name': 'GBP/NZD', 'exchange_is_open': 1, 'exchange_name': 'FOREX', 'intraday_interval_minutes': 5, 'is_trading_suspended': 0, 'market': 'forex', 'market_display_name': 'Forex', 'pip': 1e-05, 'quoted_currency_symbol': 'NZD', 'spot': 1.93414, 'spot_age': '1', 'spot_time': '1654029330', 'submarket': 'minor_pairs', 'submarket_display_name': 'Minor Pairs', 'symbol': 'frxGBPNZD', 'symbol_type': 'forex'}, {'allow_forward_starting': 1, 'delay_amount': 0, 'display_name': 'GBP/USD', 'exchange_is_open': 1, 'exchange_name': 'FOREX', 'intraday_interval_minutes': 5, 'is_trading_suspended': 0, 'market': 'forex', 'market_display_name': 'Forex', 'pip': 1e-05, 'quoted_currency_symbol': 'USD', 'spot': 1.26023, 'spot_age': '1', 'spot_time': '1654029330', 'submarket': 'major_pairs', 'submarket_display_name': 'Major Pairs', 'symbol': 'frxGBPUSD', 'symbol_type': 'forex'}, {'allow_forward_starting': 1, 'delay_amount': 0, 'display_name': 'German Index', 'exchange_is_open': 0, 'exchange_name': 'FSE_OTC', 'intraday_interval_minutes': 5, 'is_trading_suspended': 0, 'market': 'indices', 'market_display_name': 'Stock Indices', 'pip': 0.01, 'quoted_currency_symbol': 'EUR', 'spot': 14439.95, 'spot_age': '3931', 'spot_time': '1654025400', 'submarket': 'europe_OTC', 'submarket_display_name': 'Europe', 'symbol': 'OTC_GDAXI', 'symbol_type': 'stockindex'}, {'allow_forward_starting': 0, 'delay_amount': 0, 'display_name': 'Gold Basket', 'exchange_is_open': 1, 'exchange_name': 'METAL', 'intraday_interval_minutes': 5, 'is_trading_suspended': 0, 'market': 'basket_index', 'market_display_name': 'Basket Indices', 'pip': 0.001, 'quoted_currency_symbol': 'WLDXAU', 'spot': 414321.99, 'spot_age': '1', 'spot_time': '1654029330', 'submarket': 'commodity_basket', 'submarket_display_name': 'Commodities Basket', 'symbol': 'WLDXAU', 'symbol_type': 'commodity_basket'}, {'allow_forward_starting': 1, 'delay_amount': 0, 'display_name': 'Gold/USD', 'exchange_is_open': 1, 'exchange_name': 'METAL', 'intraday_interval_minutes': 5, 'is_trading_suspended': 0, 'market': 'commodities', 'market_display_name': 'Commodities', 'pip': 0.01, 'quoted_currency_symbol': 'USD', 'spot': 1837.68, 'spot_age': '5', 'spot_time': '1654029326', 'submarket': 'metals', 'submarket_display_name': 'Metals', 'symbol': 'frxXAUUSD', 'symbol_type': 'commodities'}, {'allow_forward_starting': 1, 'delay_amount': 0, 'display_name': 'Hong Kong Index', 'exchange_is_open': 0, 'exchange_name': 'HKSE_OTC', 'intraday_interval_minutes': 5, 'is_trading_suspended': 0, 'market': 'indices', 'market_display_name': 'Stock Indices', 'pip': 0.01, 'quoted_currency_symbol': 'HKD', 'spot': 21338.65, 'spot_age': '45331', 'spot_time': '1653984000', 'submarket': 'asia_oceania_OTC', 'submarket_display_name': 'Asia/Oceania', 'symbol': 'OTC_HSI', 'symbol_type': 'stockindex'}, {'allow_forward_starting': 1, 'delay_amount': 0, 'display_name': 'Japanese Index', 'exchange_is_open': 0, 'exchange_name': 'TSE_OTC', 'intraday_interval_minutes': 5, 'is_trading_suspended': 0, 'market': 'indices', 'market_display_name': 'Stock Indices', 'pip': 0.01, 'quoted_currency_symbol': 'JPY', 'spot': 27169, 'spot_age': '2131', 'spot_time': '1654027200', 'submarket': 'asia_oceania_OTC', 'submarket_display_name': 'Asia/Oceania', 'symbol': 'OTC_N225', 'symbol_type': 'stockindex'}, {'allow_forward_starting': 1, 'delay_amount': 0, 'display_name': 'Jump 10 Index', 'exchange_is_open': 1, 'exchange_name': 'RANDOM', 'intraday_interval_minutes': 5, 'is_trading_suspended': 0, 'market': 'synthetic_index', 'market_display_name': 'Synthetic Indices', 'pip': 0.01, 'quoted_currency_symbol': '', 'spot': 101558.45, 'spot_age': '1', 'spot_time': '1654029330', 'submarket': 'jump_index', 'submarket_display_name': 'Jump Indices', 'symbol': 'JD10', 'symbol_type': 'stockindex'}, {'allow_forward_starting': 1, 'delay_amount': 0, 'display_name': 'Jump 25 Index', 'exchange_is_open': 1, 'exchange_name': 'RANDOM', 'intraday_interval_minutes': 5, 'is_trading_suspended': 0, 'market': 'synthetic_index', 'market_display_name': 'Synthetic Indices', 'pip': 0.01, 'quoted_currency_symbol': '', 'spot': 89323.93, 'spot_age': '1', 'spot_time': '1654029330', 'submarket': 'jump_index', 'submarket_display_name': 'Jump Indices', 'symbol': 'JD25', 'symbol_type': 'stockindex'}, {'allow_forward_starting': 1, 'delay_amount': 0, 'display_name': 'Jump 50 Index', 'exchange_is_open': 1, 'exchange_name': 'RANDOM', 'intraday_interval_minutes': 5, 'is_trading_suspended': 0, 'market': 'synthetic_index', 'market_display_name': 'Synthetic Indices', 'pip': 0.01, 'quoted_currency_symbol': '', 'spot': 26497.17, 'spot_age': '1', 'spot_time': '1654029330', 'submarket': 'jump_index', 'submarket_display_name': 'Jump Indices', 'symbol': 'JD50', 'symbol_type': 'stockindex'}, {'allow_forward_starting': 1, 'delay_amount': 0, 'display_name': 'Jump 75 Index', 'exchange_is_open': 1, 'exchange_name': 'RANDOM', 'intraday_interval_minutes': 5, 'is_trading_suspended': 0, 'market': 'synthetic_index', 'market_display_name': 'Synthetic Indices', 'pip': 0.01, 'quoted_currency_symbol': '', 'spot': 24008.91, 'spot_age': '1', 'spot_time': '1654029330', 'submarket': 'jump_index', 'submarket_display_name': 'Jump Indices', 'symbol': 'JD75', 'symbol_type': 'stockindex'}, {'allow_forward_starting': 1, 'delay_amount': 0, 'display_name': 'Jump 100 Index', 'exchange_is_open': 1, 'exchange_name': 'RANDOM', 'intraday_interval_minutes': 5, 'is_trading_suspended': 0, 'market': 'synthetic_index', 'market_display_name': 'Synthetic Indices', 'pip': 0.01, 'quoted_currency_symbol': '', 'spot': 15717.83, 'spot_age': '1', 'spot_time': '1654029330', 'submarket': 'jump_index', 'submarket_display_name': 'Jump Indices', 'symbol': 'JD100', 'symbol_type': 'stockindex'}, {'allow_forward_starting': 1, 'delay_amount': 0, 'display_name': 'NZD/JPY', 'exchange_is_open': 1, 'exchange_name': 'FOREX', 'intraday_interval_minutes': 5, 'is_trading_suspended': 0, 'market': 'forex', 'market_display_name': 'Forex', 'pip': 0.001, 'quoted_currency_symbol': 'JPY', 'spot': 83.877, 'spot_age': '1', 'spot_time': '1654029330', 'submarket': 'minor_pairs', 'submarket_display_name': 'Minor Pairs', 'symbol': 'frxNZDJPY', 'symbol_type': 'forex'}, {'allow_forward_starting': 1, 'delay_amount': 0, 'display_name': 'NZD/USD', 'exchange_is_open': 1, 'exchange_name': 'FOREX', 'intraday_interval_minutes': 5, 'is_trading_suspended': 0, 'market': 'forex', 'market_display_name': 'Forex', 'pip': 1e-05, 'quoted_currency_symbol': 'USD', 'spot': 0.65163, 'spot_age': '1', 'spot_time': '1654029330', 'submarket': 'minor_pairs', 'submarket_display_name': 'Minor Pairs', 'symbol': 'frxNZDUSD', 'symbol_type': 'forex'}, {'allow_forward_starting': 1, 'delay_amount': 0, 'display_name': 'Oil/USD', 'exchange_is_open': 0, 'exchange_name': 'ODLS', 'intraday_interval_minutes': 5, 'is_trading_suspended': 0, 'market': 'commodities', 'market_display_name': 'Commodities', 'pip': 0.01, 'quoted_currency_symbol': 'USD', 'spot': 115.3, 'spot_age': '7531', 'spot_time': '1654021800', 'submarket': 'energy', 'submarket_display_name': 'Energy', 'symbol': 'frxBROUSD', 'symbol_type': 'commodities'}, {'allow_forward_starting': 0, 'delay_amount': 0, 'display_name': 'Palladium/USD', 'exchange_is_open': 1, 'exchange_name': 'METAL', 'intraday_interval_minutes': 5, 'is_trading_suspended': 0, 'market': 'commodities', 'market_display_name': 'Commodities', 'pip': 0.01, 'quoted_currency_symbol': 'USD', 'spot': 1997.25, 'spot_age': '43', 'spot_time': '1654029288', 'submarket': 'metals', 'submarket_display_name': 'Metals', 'symbol': 'frxXPDUSD', 'symbol_type': 'commodities'}, {'allow_forward_starting': 0, 'delay_amount': 0, 'display_name': 'Platinum/USD', 'exchange_is_open': 1, 'exchange_name': 'METAL', 'intraday_interval_minutes': 5, 'is_trading_suspended': 0, 'market': 'commodities', 'market_display_name': 'Commodities', 'pip': 0.01, 'quoted_currency_symbol': 'USD', 'spot': 968.34, 'spot_age': '3', 'spot_time': '1654029328', 'submarket': 'metals', 'submarket_display_name': 'Metals', 'symbol': 'frxXPTUSD', 'symbol_type': 'commodities'}, {'allow_forward_starting': 1, 'delay_amount': 0, 'display_name': 'Silver/USD', 'exchange_is_open': 1, 'exchange_name': 'METAL', 'intraday_interval_minutes': 5, 'is_trading_suspended': 0, 'market': 'commodities', 'market_display_name': 'Commodities', 'pip': 0.0001, 'quoted_currency_symbol': 'USD', 'spot': 21.5359, 'spot_age': '3', 'spot_time': '1654029328', 'submarket': 'metals', 'submarket_display_name': 'Metals', 'symbol': 'frxXAGUSD', 'symbol_type': 'commodities'}, {'allow_forward_starting': 0, 'delay_amount': 0, 'display_name': 'Step Index', 'exchange_is_open': 1, 'exchange_name': 'RANDOM', 'intraday_interval_minutes': 5, 'is_trading_suspended': 0, 'market': 'synthetic_index', 'market_display_name': 'Synthetic Indices', 'pip': 0.1, 'quoted_currency_symbol': '', 'spot': 8585.9, 'spot_age': '1', 'spot_time': '1654029330', 'submarket': 'step_index', 'submarket_display_name': 'Step Indices', 'symbol': 'stpRNG', 'symbol_type': ''}, {'allow_forward_starting': 1, 'delay_amount': 0, 'display_name': 'Swiss Index', 'exchange_is_open': 0, 'exchange_name': 'SWX_OTC', 'intraday_interval_minutes': 5, 'is_trading_suspended': 0, 'market': 'indices', 'market_display_name': 'Stock Indices', 'pip': 0.01, 'quoted_currency_symbol': 'CHF', 'spot': 11678.05, 'spot_age': '16531', 'spot_time': '1654012800', 'submarket': 'europe_OTC', 'submarket_display_name': 'Europe', 'symbol': 'OTC_SSMI', 'symbol_type': 'stockindex'}, {'allow_forward_starting': 1, 'delay_amount': 0, 'display_name': 'UK Index', 'exchange_is_open': 0, 'exchange_name': 'LSE_OTC', 'intraday_interval_minutes': 5, 'is_trading_suspended': 0, 'market': 'indices', 'market_display_name': 'Stock Indices', 'pip': 0.01, 'quoted_currency_symbol': 'GBP', 'spot': 7595.3, 'spot_age': '2131', 'spot_time': '1654027200', 'submarket': 'europe_OTC', 'submarket_display_name': 'Europe', 'symbol': 'OTC_FTSE', 'symbol_type': 'stockindex'}, {'allow_forward_starting': 1, 'delay_amount': 0, 'display_name': 'US Index', 'exchange_is_open': 0, 'exchange_name': 'NYSE_SPC_OTC', 'intraday_interval_minutes': 5, 'is_trading_suspended': 0, 'market': 'indices', 'market_display_name': 'Stock Indices', 'pip': 0.01, 'quoted_currency_symbol': 'USD', 'spot': 4131.8, 'spot_age': '2131', 'spot_time': '1654027200', 'submarket': 'americas_OTC', 'submarket_display_name': 'Americas', 'symbol': 'OTC_SPC', 'symbol_type': 'stockindex'}, {'allow_forward_starting': 1, 'delay_amount': 0, 'display_name': 'US Tech Index', 'exchange_is_open': 0, 'exchange_name': 'NASDAQ_OTC', 'intraday_interval_minutes': 5, 'is_trading_suspended': 0, 'market': 'indices', 'market_display_name': 'Stock Indices', 'pip': 0.01, 'quoted_currency_symbol': 'USD', 'spot': 12641.5, 'spot_age': '2131', 'spot_time': '1654027200', 'submarket': 'americas_OTC', 'submarket_display_name': 'Americas', 'symbol': 'OTC_NDX', 'symbol_type': 'stockindex'}, {'allow_forward_starting': 0, 'delay_amount': 0, 'display_name': 'USD Basket', 'exchange_is_open': 1, 'exchange_name': 'FOREX', 'intraday_interval_minutes': 5, 'is_trading_suspended': 0, 'market': 'basket_index', 'market_display_name': 'Basket Indices', 'pip': 0.001, 'quoted_currency_symbol': 'WLDUSD', 'spot': 1177.966, 'spot_age': '1', 'spot_time': '1654029330', 'submarket': 'forex_basket', 'submarket_display_name': 'Forex Basket', 'symbol': 'WLDUSD', 'symbol_type': 'forex_basket'}, {'allow_forward_starting': 1, 'delay_amount': 0, 'display_name': 'USD/CAD', 'exchange_is_open': 1, 'exchange_name': 'FOREX', 'intraday_interval_minutes': 5, 'is_trading_suspended': 0, 'market': 'forex', 'market_display_name': 'Forex', 'pip': 1e-05, 'quoted_currency_symbol': 'CAD', 'spot': 1.265, 'spot_age': '1', 'spot_time': '1654029330', 'submarket': 'major_pairs', 'submarket_display_name': 'Major Pairs', 'symbol': 'frxUSDCAD', 'symbol_type': 'forex'}, {'allow_forward_starting': 1, 'delay_amount': 0, 'display_name': 'USD/CHF', 'exchange_is_open': 1, 'exchange_name': 'FOREX', 'intraday_interval_minutes': 5, 'is_trading_suspended': 0, 'market': 'forex', 'market_display_name': 'Forex', 'pip': 1e-05, 'quoted_currency_symbol': 'CHF', 'spot': 0.95956, 'spot_age': '1', 'spot_time': '1654029330', 'submarket': 'major_pairs', 'submarket_display_name': 'Major Pairs', 'symbol': 'frxUSDCHF', 'symbol_type': 'forex'}, {'allow_forward_starting': 1, 'delay_amount': 0, 'display_name': 'USD/JPY', 'exchange_is_open': 1, 'exchange_name': 'FOREX', 'intraday_interval_minutes': 5, 'is_trading_suspended': 0, 'market': 'forex', 'market_display_name': 'Forex', 'pip': 0.001, 'quoted_currency_symbol': 'JPY', 'spot': 128.723, 'spot_age': '1', 'spot_time': '1654029330', 'submarket': 'major_pairs', 'submarket_display_name': 'Major Pairs', 'symbol': 'frxUSDJPY', 'symbol_type': 'forex'}, {'allow_forward_starting': 1, 'delay_amount': 0, 'display_name': 'USD/MXN', 'exchange_is_open': 1, 'exchange_name': 'FOREX', 'intraday_interval_minutes': 5, 'is_trading_suspended': 0, 'market': 'forex', 'market_display_name': 'Forex', 'pip': 0.0001, 'quoted_currency_symbol': 'MXN', 'spot': 19.6537, 'spot_age': '1', 'spot_time': '1654029330', 'submarket': 'minor_pairs', 'submarket_display_name': 'Minor Pairs', 'symbol': 'frxUSDMXN', 'symbol_type': 'forex'}, {'allow_forward_starting': 1, 'delay_amount': 0, 'display_name': 'USD/NOK', 'exchange_is_open': 1, 'exchange_name': 'FOREX', 'intraday_interval_minutes': 5, 'is_trading_suspended': 0, 'market': 'forex', 'market_display_name': 'Forex', 'pip': 1e-05, 'quoted_currency_symbol': 'NOK', 'spot': 9.37256, 'spot_age': '1', 'spot_time': '1654029330', 'submarket': 'minor_pairs', 'submarket_display_name': 'Minor Pairs', 'symbol': 'frxUSDNOK', 'symbol_type': 'forex'}, {'allow_forward_starting': 1, 'delay_amount': 0, 'display_name': 'USD/PLN', 'exchange_is_open': 1, 'exchange_name': 'FOREX', 'intraday_interval_minutes': 5, 'is_trading_suspended': 0, 'market': 'forex', 'market_display_name': 'Forex', 'pip': 0.0001, 'quoted_currency_symbol': 'PLN', 'spot': 4.2699, 'spot_age': '3', 'spot_time': '1654029328', 'submarket': 'minor_pairs', 'submarket_display_name': 'Minor Pairs', 'symbol': 'frxUSDPLN', 'symbol_type': 'forex'}, {'allow_forward_starting': 1, 'delay_amount': 0, 'display_name': 'USD/SEK', 'exchange_is_open': 1, 'exchange_name': 'FOREX', 'intraday_interval_minutes': 5, 'is_trading_suspended': 0, 'market': 'forex', 'market_display_name': 'Forex', 'pip': 1e-05, 'quoted_currency_symbol': 'SEK', 'spot': 9.76978, 'spot_age': '1', 'spot_time': '1654029330', 'submarket': 'minor_pairs', 'submarket_display_name': 'Minor Pairs', 'symbol': 'frxUSDSEK', 'symbol_type': 'forex'}, {'allow_forward_starting': 1, 'delay_amount': 0, 'display_name': 'Volatility 10 (1s) Index', 'exchange_is_open': 1, 'exchange_name': 'RANDOM', 'intraday_interval_minutes': 5, 'is_trading_suspended': 0, 'market': 'synthetic_index', 'market_display_name': 'Synthetic Indices', 'pip': 0.01, 'quoted_currency_symbol': '', 'spot': 8307, 'spot_age': '1', 'spot_time': '1654029330', 'submarket': 'random_index', 'submarket_display_name': 'Continuous Indices', 'symbol': '1HZ10V', 'symbol_type': 'stockindex'}, {'allow_forward_starting': 1, 'delay_amount': 0, 'display_name': 'Volatility 10 Index', 'exchange_is_open': 1, 'exchange_name': 'RANDOM', 'intraday_interval_minutes': 5, 'is_trading_suspended': 0, 'market': 'synthetic_index', 'market_display_name': 'Synthetic Indices', 'pip': 0.001, 'quoted_currency_symbol': '', 'spot': 6770.223, 'spot_age': '1', 'spot_time': '1654029330', 'submarket': 'random_index', 'submarket_display_name': 'Continuous Indices', 'symbol': 'R_10', 'symbol_type': 'stockindex'}, {'allow_forward_starting': 1, 'delay_amount': 0, 'display_name': 'Volatility 25 (1s) Index', 'exchange_is_open': 1, 'exchange_name': 'RANDOM', 'intraday_interval_minutes': 5, 'is_trading_suspended': 0, 'market': 'synthetic_index', 'market_display_name': 'Synthetic Indices', 'pip': 0.01, 'quoted_currency_symbol': '', 'spot': 407699.14, 'spot_age': '1', 'spot_time': '1654029330', 'submarket': 'random_index', 'submarket_display_name': 'Continuous Indices', 'symbol': '1HZ25V', 'symbol_type': 'stockindex'}, {'allow_forward_starting': 1, 'delay_amount': 0, 'display_name': 'Volatility 25 Index', 'exchange_is_open': 1, 'exchange_name': 'RANDOM', 'intraday_interval_minutes': 5, 'is_trading_suspended': 0, 'market': 'synthetic_index', 'market_display_name': 'Synthetic Indices', 'pip': 0.001, 'quoted_currency_symbol': '', 'spot': 1846.112, 'spot_age': '1', 'spot_time': '1654029330', 'submarket': 'random_index', 'submarket_display_name': 'Continuous Indices', 'symbol': 'R_25', 'symbol_type': 'stockindex'}, {'allow_forward_starting': 1, 'delay_amount': 0, 'display_name': 'Volatility 50 (1s) Index', 'exchange_is_open': 1, 'exchange_name': 'RANDOM', 'intraday_interval_minutes': 5, 'is_trading_suspended': 0, 'market': 'synthetic_index', 'market_display_name': 'Synthetic Indices', 'pip': 0.01, 'quoted_currency_symbol': '', 'spot': 579688.03, 'spot_age': '1', 'spot_time': '1654029330', 'submarket': 'random_index', 'submarket_display_name': 'Continuous Indices', 'symbol': '1HZ50V', 'symbol_type': 'stockindex'}, {'allow_forward_starting': 1, 'delay_amount': 0, 'display_name': 'Volatility 50 Index', 'exchange_is_open': 1, 'exchange_name': 'RANDOM', 'intraday_interval_minutes': 5, 'is_trading_suspended': 0, 'market': 'synthetic_index', 'market_display_name': 'Synthetic Indices', 'pip': 0.0001, 'quoted_currency_symbol': '', 'spot': 191.2312, 'spot_age': '1', 'spot_time': '1654029330', 'submarket': 'random_index', 'submarket_display_name': 'Continuous Indices', 'symbol': 'R_50', 'symbol_type': 'stockindex'}, {'allow_forward_starting': 1, 'delay_amount': 0, 'display_name': 'Volatility 75 (1s) Index', 'exchange_is_open': 1, 'exchange_name': 'RANDOM', 'intraday_interval_minutes': 5, 'is_trading_suspended': 0, 'market': 'synthetic_index', 'market_display_name': 'Synthetic Indices', 'pip': 0.01, 'quoted_currency_symbol': '', 'spot': 6617.79, 'spot_age': '1', 'spot_time': '1654029330', 'submarket': 'random_index', 'submarket_display_name': 'Continuous Indices', 'symbol': '1HZ75V', 'symbol_type': 'stockindex'}, {'allow_forward_starting': 1, 'delay_amount': 0, 'display_name': 'Volatility 75 Index', 'exchange_is_open': 1, 'exchange_name': 'RANDOM', 'intraday_interval_minutes': 5, 'is_trading_suspended': 0, 'market': 'synthetic_index', 'market_display_name': 'Synthetic Indices', 'pip': 0.0001, 'quoted_currency_symbol': '', 'spot': 927141.503, 'spot_age': '1', 'spot_time': '1654029330', 'submarket': 'random_index', 'submarket_display_name': 'Continuous Indices', 'symbol': 'R_75', 'symbol_type': 'stockindex'}, {'allow_forward_starting': 1, 'delay_amount': 0, 'display_name': 'Volatility 100 (1s) Index', 'exchange_is_open': 1, 'exchange_name': 'RANDOM', 'intraday_interval_minutes': 5, 'is_trading_suspended': 0, 'market': 'synthetic_index', 'market_display_name': 'Synthetic Indices', 'pip': 0.01, 'quoted_currency_symbol': '', 'spot': 3841.47, 'spot_age': '1', 'spot_time': '1654029330', 'submarket': 'random_index', 'submarket_display_name': 'Continuous Indices', 'symbol': '1HZ100V', 'symbol_type': 'stockindex'}, {'allow_forward_starting': 1, 'delay_amount': 0, 'display_name': 'Volatility 100 Index', 'exchange_is_open': 1, 'exchange_name': 'RANDOM', 'intraday_interval_minutes': 5, 'is_trading_suspended': 0, 'market': 'synthetic_index', 'market_display_name': 'Synthetic Indices', 'pip': 0.01, 'quoted_currency_symbol': '', 'spot': 11718.3, 'spot_age': '1', 'spot_time': '1654029330', 'submarket': 'random_index', 'submarket_display_name': 'Continuous Indices', 'symbol': 'R_100', 'symbol_type': 'stockindex'}, {'allow_forward_starting': 0, 'delay_amount': 0, 'display_name': 'Volatility 200 (1s) Index', 'exchange_is_open': 1, 'exchange_name': 'RANDOM', 'intraday_interval_minutes': 5, 'is_trading_suspended': 0, 'market': 'synthetic_index', 'market_display_name': 'Synthetic Indices', 'pip': 0.01, 'quoted_currency_symbol': '', 'spot': 2170.31, 'spot_age': '1', 'spot_time': '1654029330', 'submarket': 'random_index', 'submarket_display_name': 'Continuous Indices', 'symbol': '1HZ200V', 'symbol_type': 'stockindex'}, {'allow_forward_starting': 0, 'delay_amount': 0, 'display_name': 'Volatility 300 (1s) Index', 'exchange_is_open': 1, 'exchange_name': 'RANDOM', 'intraday_interval_minutes': 5, 'is_trading_suspended': 0, 'market': 'synthetic_index', 'market_display_name': 'Synthetic Indices', 'pip': 0.01, 'quoted_currency_symbol': '', 'spot': 28.21, 'spot_age': '1', 'spot_time': '1654029330', 'submarket': 'random_index', 'submarket_display_name': 'Continuous Indices', 'symbol': '1HZ300V', 'symbol_type': 'stockindex'}, {'allow_forward_starting': 1, 'delay_amount': 0, 'display_name': 'Wall Street Index', 'exchange_is_open': 0, 'exchange_name': 'NYSE_OTC', 'intraday_interval_minutes': 5, 'is_trading_suspended': 0, 'market': 'indices', 'market_display_name': 'Stock Indices', 'pip': 0.01, 'quoted_currency_symbol': 'USD', 'spot': 33011.3, 'spot_age': '2131', 'spot_time': '1654027200', 'submarket': 'americas_OTC', 'submarket_display_name': 'Americas', 'symbol': 'OTC_DJI', 'symbol_type': 'stockindex'}], 'echo_req': {'active_symbols': 'full', 'req_id': 3}, 'msg_type': 'active_symbols', 'req_id': 3}\n"
     ]
    }
   ],
   "source": [
    "active_symbols = await api.active_symbols({\"active_symbols\": \"full\"})\n",
    "print(active_symbols)"
   ],
   "metadata": {
    "collapsed": false,
    "pycharm": {
     "name": "#%%\n"
    }
   }
  },
  {
   "cell_type": "code",
   "execution_count": 24,
   "outputs": [],
   "source": [
    "symbol = 'GBP/USD'\n",
    "our_types = ['ONETOUCH', 'NOTOUCH']"
   ],
   "metadata": {
    "collapsed": false,
    "pycharm": {
     "name": "#%%\n"
    }
   }
  },
  {
   "cell_type": "code",
   "execution_count": 18,
   "outputs": [
    {
     "data": {
      "text/plain": "'frxGBPUSD'"
     },
     "execution_count": 18,
     "metadata": {},
     "output_type": "execute_result"
    }
   ],
   "source": [
    "deriv_symbol = [a['symbol'] for a in active_symbols['active_symbols'] if a['display_name'] == symbol][0]\n",
    "deriv_symbol"
   ],
   "metadata": {
    "collapsed": false,
    "pycharm": {
     "name": "#%%\n"
    }
   }
  },
  {
   "cell_type": "code",
   "execution_count": 25,
   "outputs": [
    {
     "name": "stdout",
     "output_type": "stream",
     "text": [
      "[('Touches', '1d'), ('Does Not Touch', '1d')]\n"
     ]
    }
   ],
   "source": [
    "contract_types = await api.contracts_for({\n",
    "    \"contracts_for\": deriv_symbol,\n",
    "    \"currency\": \"USD\",\n",
    "    \"landing_company\": \"svg\",\n",
    "    \"product_type\": \"basic\"\n",
    "})\n",
    "\n",
    "print([(a['contract_display'], a['min_contract_duration']) for a in contract_types['contracts_for']['available'] if\n",
    "       a['contract_type'] in our_types])"
   ],
   "metadata": {
    "collapsed": false,
    "pycharm": {
     "name": "#%%\n"
    }
   }
  },
  {
   "cell_type": "code",
   "execution_count": 65,
   "outputs": [
    {
     "name": "stdout",
     "output_type": "stream",
     "text": [
      "{'echo_req': {'req_id': 28, 'subscribe': 1, 'ticks': 'R_50'}, 'msg_type': 'tick', 'req_id': 28, 'subscription': {'id': '0d77256d-964b-78c7-5cd8-96f0d13f134d'}, 'tick': {'ask': 190.6212, 'bid': 190.6012, 'epoch': 1654033172, 'id': '0d77256d-964b-78c7-5cd8-96f0d13f134d', 'pip_size': 4, 'quote': 190.6112, 'symbol': 'R_50'}}\n",
      "{'echo_req': {'amount': 100, 'barrier': '1.2652', 'basis': 'stake', 'contract_type': 'ONETOUCH', 'currency': 'USD', 'duration': 1, 'duration_unit': 'd', 'product_type': 'basic', 'proposal': 1, 'req_id': 35, 'symbol': 'frxGBPUSD'}, 'msg_type': 'proposal', 'proposal': {'ask_price': 100, 'date_expiry': 1654127999, 'date_start': 1654033172, 'display_value': '100.00', 'id': 'ed85b38d-e4cc-d287-6b29-f61969c6e53a', 'longcode': 'Win payout if GBP/USD touches 1.26520 through close on 2022-06-01.', 'payout': 146.06, 'spot': 1.26014, 'spot_time': 1654033171}, 'req_id': 35}\n"
     ]
    }
   ],
   "source": [
    "proposal = await api.proposal({\"proposal\": 1, \"amount\": 100, \"barrier\": \"1.2652\", \"basis\": \"stake\",\n",
    "                               \"contract_type\": our_types[0], \"currency\": \"USD\", \"duration\": 1, \"duration_unit\": \"d\",\n",
    "                               \"symbol\": deriv_symbol\n",
    "                               })\n",
    "print(proposal)"
   ],
   "metadata": {
    "collapsed": false,
    "pycharm": {
     "name": "#%%\n"
    }
   }
  },
  {
   "cell_type": "code",
   "execution_count": 64,
   "outputs": [
    {
     "data": {
      "text/plain": "1.2652408"
     },
     "execution_count": 64,
     "metadata": {},
     "output_type": "execute_result"
    }
   ],
   "source": [
    "1.2602 * 1.004"
   ],
   "metadata": {
    "collapsed": false,
    "pycharm": {
     "name": "#%%\n"
    }
   }
  },
  {
   "cell_type": "code",
   "execution_count": 30,
   "outputs": [
    {
     "name": "stdout",
     "output_type": "stream",
     "text": [
      "{'buy': {'balance_after': 9953.85, 'buy_price': 100, 'contract_id': 171635196208, 'longcode': 'Win payout if GBP/USD touches 1.20000 through close on 2022-06-01.', 'payout': 2000, 'purchase_time': 1654031228, 'shortcode': 'ONETOUCH_FRXGBPUSD_2000.00_1654031228_1654127999_1200000_0', 'start_time': 1654031228, 'transaction_id': 342584007288}, 'echo_req': {'buy': '9ce0ce27-dc38-4100-23ba-10f147e8d081', 'price': 100, 'req_id': 16}, 'msg_type': 'buy', 'req_id': 16}\n"
     ]
    }
   ],
   "source": [
    "proposal_id = proposal['proposal']['id']\n",
    "buy = await api.buy({\"buy\": proposal_id, \"price\": 100})\n",
    "print(buy)"
   ],
   "metadata": {
    "collapsed": false,
    "pycharm": {
     "name": "#%%\n"
    }
   }
  },
  {
   "cell_type": "code",
   "execution_count": 31,
   "outputs": [
    {
     "name": "stdout",
     "output_type": "stream",
     "text": [
      "{'echo_req': {'contract_id': 171635196208, 'proposal_open_contract': 1, 'req_id': 17}, 'msg_type': 'proposal_open_contract', 'proposal_open_contract': {'account_id': 126086828, 'barrier': '1.20000', 'barrier_count': 1, 'bid_price': 0, 'buy_price': 100, 'contract_id': 171635196208, 'contract_type': 'ONETOUCH', 'currency': 'USD', 'current_spot': 1.26023, 'current_spot_display_value': '1.26023', 'current_spot_time': 1654031291, 'date_expiry': 1654127999, 'date_settlement': 1654128000, 'date_start': 1654031228, 'display_name': 'GBP/USD', 'entry_spot': 1.26018, 'entry_spot_display_value': '1.26018', 'entry_tick': 1.26018, 'entry_tick_display_value': '1.26018', 'entry_tick_time': 1654031229, 'expiry_time': 1654127999, 'is_expired': 0, 'is_forward_starting': 0, 'is_intraday': 0, 'is_path_dependent': 1, 'is_settleable': 0, 'is_sold': 0, 'is_valid_to_cancel': 0, 'is_valid_to_sell': 0, 'longcode': 'Win payout if GBP/USD touches 1.20000 through close on 2022-06-01.', 'payout': 2000, 'profit': -100, 'profit_percentage': -100, 'purchase_time': 1654031228, 'shortcode': 'ONETOUCH_FRXGBPUSD_2000.00_1654031228_1654127999_1200000_0', 'status': 'open', 'transaction_ids': {'buy': 342584007288}, 'underlying': 'frxGBPUSD', 'validation_error': 'Resale of this contract is not offered.'}, 'req_id': 17}\n"
     ]
    }
   ],
   "source": [
    "contract_id = buy['buy']['contract_id']\n",
    "poc = await api.proposal_open_contract(\n",
    "    {\"proposal_open_contract\": 1, \"contract_id\": contract_id})\n",
    "print(poc)"
   ],
   "metadata": {
    "collapsed": false,
    "pycharm": {
     "name": "#%%\n"
    }
   }
  },
  {
   "cell_type": "code",
   "execution_count": 32,
   "outputs": [
    {
     "name": "stdout",
     "output_type": "stream",
     "text": [
      "{'echo_req': {'description': 1, 'profit_table': 1, 'req_id': 18, 'sort': 'ASC'}, 'msg_type': 'profit_table', 'profit_table': {'count': 23, 'transactions': [{'app_id': 16929, 'buy_price': 10, 'contract_id': 171432001028, 'duration_type': 'ticks', 'longcode': 'Win payout if Volatility 100 (1s) Index after 5 ticks is strictly lower than entry spot.', 'payout': 19.53, 'purchase_time': 1653917041, 'sell_price': 0, 'sell_time': 1653917047, 'shortcode': 'PUT_1HZ100V_19.53_1653917041_5T_S0P_0', 'transaction_id': 342177783988}, {'app_id': 16929, 'buy_price': 10, 'contract_id': 171432048748, 'duration_type': 'ticks', 'longcode': 'Win payout if Volatility 100 (1s) Index touches entry spot plus 1.22 through 5 ticks after first tick.', 'payout': 33.16, 'purchase_time': 1653917066, 'sell_price': 0, 'sell_time': 1653917073, 'shortcode': 'ONETOUCH_1HZ100V_33.16_1653917066_5T_S122P_0', 'transaction_id': 342177878888}, {'app_id': 16929, 'buy_price': 10, 'contract_id': 171432108508, 'duration_type': 'minutes', 'longcode': 'Win payout if Volatility 100 (1s) Index touches entry spot plus 5.97 through 10 minutes after contract start time.', 'payout': 14.29, 'purchase_time': 1653917096, 'sell_price': 14.29, 'sell_time': 1653917336, 'shortcode': 'ONETOUCH_1HZ100V_14.29_1653917096_1653917696_S597P_0', 'transaction_id': 342177997028}, {'app_id': 16929, 'buy_price': 10, 'contract_id': 171432355368, 'duration_type': 'minutes', 'longcode': 'Win payout if Volatility 100 (1s) Index touches entry spot plus 15.00 through 10 minutes after contract start time.', 'payout': 29.1, 'purchase_time': 1653917216, 'sell_price': 29.1, 'sell_time': 1653917570, 'shortcode': 'ONETOUCH_1HZ100V_29.10_1653917216_1653917816_S1500P_0', 'transaction_id': 342178490508}, {'app_id': 16929, 'buy_price': 10, 'contract_id': 171434171808, 'duration_type': 'days', 'longcode': 'Win payout if Volatility 100 (1s) Index touches entry spot plus 999.00 through 1 day after contract start time.', 'payout': 400, 'purchase_time': 1653918090, 'sell_price': 0, 'sell_time': 1653918101, 'shortcode': 'ONETOUCH_1HZ100V_400.00_1653918090_1654004490_S99900P_0', 'transaction_id': 342182123148}, {'app_id': 16929, 'buy_price': 10, 'contract_id': 171434734028, 'duration_type': 'days', 'longcode': 'Win payout if Volatility 100 (1s) Index touches entry spot plus 200.00 through 1 day after contract start time.', 'payout': 32.21, 'purchase_time': 1653918354, 'sell_price': 10.69, 'sell_time': 1653919063, 'shortcode': 'ONETOUCH_1HZ100V_32.21_1653918355_1654004755_S20000P_0', 'transaction_id': 342183249228}, {'app_id': 16929, 'buy_price': 10, 'contract_id': 171434998668, 'duration_type': 'days', 'longcode': 'Win payout if AUD/JPY touches 92.276 through close on 2022-05-31.', 'payout': 18.49, 'purchase_time': 1653918479, 'sell_price': 8.74, 'sell_time': 1653918817, 'shortcode': 'ONETOUCH_FRXAUDJPY_18.49_1653918479_1654041599_92276000_0', 'transaction_id': 342183775988}, {'app_id': 16929, 'buy_price': 10, 'contract_id': 171435833528, 'duration_type': 'days', 'longcode': 'Win payout if Volatility 100 (1s) Index touches 3839.46 through close on 2022-05-31.', 'payout': 21.77, 'purchase_time': 1653918874, 'sell_price': 9.61, 'sell_time': 1653919058, 'shortcode': 'ONETOUCH_1HZ100V_21.77_1653918874_1654041599_3839460000_0', 'transaction_id': 342185445668}, {'app_id': 16929, 'buy_price': 10, 'contract_id': 171435990208, 'duration_type': 'minutes', 'longcode': 'Win payout if Volatility 100 (1s) Index touches entry spot plus 6.04 through 10 minutes after contract start time.', 'payout': 14.3, 'purchase_time': 1653918949, 'sell_price': 14.3, 'sell_time': 1653919004, 'shortcode': 'ONETOUCH_1HZ100V_14.30_1653918949_1653919549_S604P_0', 'transaction_id': 342185761108}, {'app_id': 16929, 'buy_price': 10, 'contract_id': 171436157628, 'duration_type': 'minutes', 'longcode': 'Win payout if Volatility 100 (1s) Index touches entry spot plus 6.04 through 10 minutes after contract start time.', 'payout': 14.3, 'purchase_time': 1653919027, 'sell_price': 14.3, 'sell_time': 1653919194, 'shortcode': 'ONETOUCH_1HZ100V_14.30_1653919027_1653919627_S604P_0', 'transaction_id': 342186093608}, {'app_id': 16929, 'buy_price': 10, 'contract_id': 171436584368, 'duration_type': 'minutes', 'longcode': 'Win payout if Volatility 100 (1s) Index touches entry spot plus 6.04 through 10 minutes after contract start time.', 'payout': 14.28, 'purchase_time': 1653919235, 'sell_price': 0, 'sell_time': 1653919836, 'shortcode': 'ONETOUCH_1HZ100V_14.28_1653919235_1653919835_S604P_0', 'transaction_id': 342186946468}, {'app_id': 16929, 'buy_price': 10, 'contract_id': 171535637708, 'duration_type': 'minutes', 'longcode': 'Win payout if Volatility 100 (1s) Index touches entry spot plus 2.00 through 2 minutes after contract start time.', 'payout': 13.21, 'purchase_time': 1653969135, 'sell_price': 13.21, 'sell_time': 1653969173, 'shortcode': 'ONETOUCH_1HZ100V_13.21_1653969135_1653969255_S200P_0', 'transaction_id': 342384970888}, {'app_id': 16929, 'buy_price': 10, 'contract_id': 171535698448, 'duration_type': 'minutes', 'longcode': 'Win payout if Volatility 100 (1s) Index touches entry spot plus 3.00 through 3 minutes after contract start time.', 'payout': 13.92, 'purchase_time': 1653969189, 'sell_price': 13.92, 'sell_time': 1653969204, 'shortcode': 'ONETOUCH_1HZ100V_13.92_1653969189_1653969369_S300P_0', 'transaction_id': 342385091628}, {'app_id': 16929, 'buy_price': 10, 'contract_id': 171535736408, 'duration_type': 'minutes', 'longcode': 'Win payout if Volatility 100 (1s) Index does not touch entry spot minus 2.00 through 3 minutes after contract start time.', 'payout': 45.17, 'purchase_time': 1653969224, 'sell_price': 18.05, 'sell_time': 1653969263, 'shortcode': 'NOTOUCH_1HZ100V_45.17_1653969224_1653969404_S-200P_0', 'transaction_id': 342385167848}, {'app_id': 16929, 'buy_price': 10, 'contract_id': 171535799148, 'duration_type': 'minutes', 'longcode': 'Win payout if Volatility 100 (1s) Index touches entry spot plus 2.00 through 3 minutes after contract start time.', 'payout': 12.47, 'purchase_time': 1653969277, 'sell_price': 6.79, 'sell_time': 1653969317, 'shortcode': 'ONETOUCH_1HZ100V_12.47_1653969277_1653969457_S200P_0', 'transaction_id': 342385292968}, {'app_id': 16929, 'buy_price': 10, 'contract_id': 171535892068, 'duration_type': 'minutes', 'longcode': 'Win payout if Volatility 100 (1s) Index does not touch entry spot plus 3.00 through 3 minutes after contract start time.', 'payout': 32.63, 'purchase_time': 1653969357, 'sell_price': 0, 'sell_time': 1653969452, 'shortcode': 'NOTOUCH_1HZ100V_32.63_1653969357_1653969537_S300P_0', 'transaction_id': 342385478508}, {'app_id': 16929, 'buy_price': 10, 'contract_id': 171536029708, 'duration_type': 'minutes', 'longcode': 'Win payout if Volatility 100 (1s) Index is strictly higher than entry spot at 3 minutes after contract start time.', 'payout': 19.55, 'purchase_time': 1653969477, 'sell_price': 0, 'sell_time': 1653969658, 'shortcode': 'CALL_1HZ100V_19.55_1653969477_1653969657_S0P_0', 'transaction_id': 342385754608}, {'app_id': 16929, 'buy_price': 10, 'contract_id': 171536245648, 'duration_type': 'minutes', 'longcode': 'Win payout if Volatility 100 (1s) Index is strictly higher than entry spot plus 1.19 at 1 minute after contract start time.', 'payout': 23.76, 'purchase_time': 1653969664, 'sell_price': 0, 'sell_time': 1653969725, 'shortcode': 'CALL_1HZ100V_23.76_1653969664_1653969724_S119P_0', 'transaction_id': 342386185708}, {'app_id': 16929, 'buy_price': 10, 'contract_id': 171536312688, 'duration_type': 'minutes', 'longcode': 'Win payout if Volatility 100 (1s) Index does not touch entry spot plus 2.19 through 2 minutes after contract start time.', 'payout': 34.82, 'purchase_time': 1653969721, 'sell_price': 34.82, 'sell_time': 1653969842, 'shortcode': 'NOTOUCH_1HZ100V_34.82_1653969721_1653969841_S219P_0', 'transaction_id': 342386319268}, {'app_id': 16929, 'buy_price': 10, 'contract_id': 171536466668, 'duration_type': 'minutes', 'longcode': 'Win payout if Volatility 100 (1s) Index does not touch entry spot plus 10.19 through 2 minutes after contract start time.', 'payout': 11.59, 'purchase_time': 1653969853, 'sell_price': 11.59, 'sell_time': 1653969974, 'shortcode': 'NOTOUCH_1HZ100V_11.59_1653969853_1653969973_S1019P_0', 'transaction_id': 342386626128}, {'app_id': 16929, 'buy_price': 10, 'contract_id': 171536501388, 'duration_type': 'minutes', 'longcode': 'Win payout if Volatility 100 (1s) Index does not touch entry spot plus 1.19 through 2 minutes after contract start time.', 'payout': 54.68, 'purchase_time': 1653969884, 'sell_price': 54.68, 'sell_time': 1653970005, 'shortcode': 'NOTOUCH_1HZ100V_54.68_1653969884_1653970004_S119P_0', 'transaction_id': 342386696368}, {'app_id': 16929, 'buy_price': 10, 'contract_id': 171536677088, 'duration_type': 'minutes', 'longcode': 'Win payout if Volatility 100 (1s) Index touches entry spot plus 2.19 through 2 minutes after contract start time.', 'payout': 13.58, 'purchase_time': 1653970040, 'sell_price': 13.58, 'sell_time': 1653970047, 'shortcode': 'ONETOUCH_1HZ100V_13.58_1653970040_1653970160_S219P_0', 'transaction_id': 342387047728}, {'app_id': 16929, 'buy_price': 10, 'contract_id': 171536897088, 'duration_type': 'minutes', 'longcode': 'Win payout if Volatility 100 (1s) Index touches entry spot plus 6.17 through 2 minutes after contract start time.', 'payout': 26.18, 'purchase_time': 1653970249, 'sell_price': 26.18, 'sell_time': 1653970341, 'shortcode': 'ONETOUCH_1HZ100V_26.18_1653970249_1653970369_S617P_0', 'transaction_id': 342387487488}]}, 'req_id': 18}\n"
     ]
    }
   ],
   "source": [
    "profit_table = await api.profit_table({\"profit_table\": 1, \"description\": 1, \"sort\": \"ASC\"})\n",
    "print(profit_table)"
   ],
   "metadata": {
    "collapsed": false,
    "pycharm": {
     "name": "#%%\n"
    }
   }
  },
  {
   "cell_type": "code",
   "execution_count": 34,
   "outputs": [
    {
     "data": {
      "text/plain": "   app_id  buy_price   contract_id duration_type  \\\n0   16929         10  171432001028         ticks   \n1   16929         10  171432048748         ticks   \n2   16929         10  171432108508       minutes   \n3   16929         10  171432355368       minutes   \n4   16929         10  171434171808          days   \n\n                                            longcode  payout  purchase_time  \\\n0  Win payout if Volatility 100 (1s) Index after ...   19.53     1653917041   \n1  Win payout if Volatility 100 (1s) Index touche...   33.16     1653917066   \n2  Win payout if Volatility 100 (1s) Index touche...   14.29     1653917096   \n3  Win payout if Volatility 100 (1s) Index touche...   29.10     1653917216   \n4  Win payout if Volatility 100 (1s) Index touche...  400.00     1653918090   \n\n   sell_price   sell_time                                          shortcode  \\\n0        0.00  1653917047              PUT_1HZ100V_19.53_1653917041_5T_S0P_0   \n1        0.00  1653917073       ONETOUCH_1HZ100V_33.16_1653917066_5T_S122P_0   \n2       14.29  1653917336  ONETOUCH_1HZ100V_14.29_1653917096_1653917696_S...   \n3       29.10  1653917570  ONETOUCH_1HZ100V_29.10_1653917216_1653917816_S...   \n4        0.00  1653918101  ONETOUCH_1HZ100V_400.00_1653918090_1654004490_...   \n\n   transaction_id  \n0    342177783988  \n1    342177878888  \n2    342177997028  \n3    342178490508  \n4    342182123148  ",
      "text/html": "<div>\n<style scoped>\n    .dataframe tbody tr th:only-of-type {\n        vertical-align: middle;\n    }\n\n    .dataframe tbody tr th {\n        vertical-align: top;\n    }\n\n    .dataframe thead th {\n        text-align: right;\n    }\n</style>\n<table border=\"1\" class=\"dataframe\">\n  <thead>\n    <tr style=\"text-align: right;\">\n      <th></th>\n      <th>app_id</th>\n      <th>buy_price</th>\n      <th>contract_id</th>\n      <th>duration_type</th>\n      <th>longcode</th>\n      <th>payout</th>\n      <th>purchase_time</th>\n      <th>sell_price</th>\n      <th>sell_time</th>\n      <th>shortcode</th>\n      <th>transaction_id</th>\n    </tr>\n  </thead>\n  <tbody>\n    <tr>\n      <th>0</th>\n      <td>16929</td>\n      <td>10</td>\n      <td>171432001028</td>\n      <td>ticks</td>\n      <td>Win payout if Volatility 100 (1s) Index after ...</td>\n      <td>19.53</td>\n      <td>1653917041</td>\n      <td>0.00</td>\n      <td>1653917047</td>\n      <td>PUT_1HZ100V_19.53_1653917041_5T_S0P_0</td>\n      <td>342177783988</td>\n    </tr>\n    <tr>\n      <th>1</th>\n      <td>16929</td>\n      <td>10</td>\n      <td>171432048748</td>\n      <td>ticks</td>\n      <td>Win payout if Volatility 100 (1s) Index touche...</td>\n      <td>33.16</td>\n      <td>1653917066</td>\n      <td>0.00</td>\n      <td>1653917073</td>\n      <td>ONETOUCH_1HZ100V_33.16_1653917066_5T_S122P_0</td>\n      <td>342177878888</td>\n    </tr>\n    <tr>\n      <th>2</th>\n      <td>16929</td>\n      <td>10</td>\n      <td>171432108508</td>\n      <td>minutes</td>\n      <td>Win payout if Volatility 100 (1s) Index touche...</td>\n      <td>14.29</td>\n      <td>1653917096</td>\n      <td>14.29</td>\n      <td>1653917336</td>\n      <td>ONETOUCH_1HZ100V_14.29_1653917096_1653917696_S...</td>\n      <td>342177997028</td>\n    </tr>\n    <tr>\n      <th>3</th>\n      <td>16929</td>\n      <td>10</td>\n      <td>171432355368</td>\n      <td>minutes</td>\n      <td>Win payout if Volatility 100 (1s) Index touche...</td>\n      <td>29.10</td>\n      <td>1653917216</td>\n      <td>29.10</td>\n      <td>1653917570</td>\n      <td>ONETOUCH_1HZ100V_29.10_1653917216_1653917816_S...</td>\n      <td>342178490508</td>\n    </tr>\n    <tr>\n      <th>4</th>\n      <td>16929</td>\n      <td>10</td>\n      <td>171434171808</td>\n      <td>days</td>\n      <td>Win payout if Volatility 100 (1s) Index touche...</td>\n      <td>400.00</td>\n      <td>1653918090</td>\n      <td>0.00</td>\n      <td>1653918101</td>\n      <td>ONETOUCH_1HZ100V_400.00_1653918090_1654004490_...</td>\n      <td>342182123148</td>\n    </tr>\n  </tbody>\n</table>\n</div>"
     },
     "execution_count": 34,
     "metadata": {},
     "output_type": "execute_result"
    }
   ],
   "source": [
    "df = pd.DataFrame(profit_table['profit_table']['transactions'])\n",
    "df.head()"
   ],
   "metadata": {
    "collapsed": false,
    "pycharm": {
     "name": "#%%\n"
    }
   }
  },
  {
   "cell_type": "code",
   "execution_count": 36,
   "outputs": [
    {
     "name": "stdout",
     "output_type": "stream",
     "text": [
      "{'echo_req': {'description': 1, 'limit': 100, 'offset': 25, 'req_id': 19, 'statement': 1}, 'msg_type': 'statement', 'req_id': 19, 'statement': {'count': 24, 'transactions': [{'action_type': 'sell', 'amount': 0, 'app_id': 2, 'balance_after': 9981.03, 'contract_id': 171436584368, 'longcode': 'Win payout if Volatility 100 (1s) Index touches entry spot plus 6.04 through 10 minutes after contract start time.', 'payout': 14.28, 'purchase_time': 1653919235, 'reference_id': 342186946468, 'shortcode': 'ONETOUCH_1HZ100V_14.28_1653919235_1653919835_S604P_0', 'transaction_id': 342189443888, 'transaction_time': 1653919836}, {'action_type': 'buy', 'amount': -10, 'app_id': 16929, 'balance_after': 9981.03, 'contract_id': 171436584368, 'longcode': 'Win payout if Volatility 100 (1s) Index touches entry spot plus 6.04 through 10 minutes after contract start time.', 'payout': 14.28, 'reference_id': None, 'shortcode': 'ONETOUCH_1HZ100V_14.28_1653919235_1653919835_S604P_0', 'transaction_id': 342186946468, 'transaction_time': 1653919235}, {'action_type': 'sell', 'amount': 14.3, 'app_id': 2, 'balance_after': 9991.03, 'contract_id': 171436157628, 'longcode': 'Win payout if Volatility 100 (1s) Index touches entry spot plus 6.04 through 10 minutes after contract start time.', 'payout': 14.3, 'purchase_time': 1653919027, 'reference_id': 342186093608, 'shortcode': 'ONETOUCH_1HZ100V_14.30_1653919027_1653919627_S604P_0', 'transaction_id': 342186772688, 'transaction_time': 1653919194}, {'action_type': 'sell', 'amount': 10.69, 'app_id': 16929, 'balance_after': 9976.73, 'contract_id': 171434734028, 'longcode': 'Win payout if Volatility 100 (1s) Index touches entry spot plus 200.00 through 1 day after contract start time.', 'payout': 32.21, 'purchase_time': 1653918354, 'reference_id': 342183249228, 'shortcode': 'ONETOUCH_1HZ100V_32.21_1653918355_1654004755_S20000P_0', 'transaction_id': 342186241828, 'transaction_time': 1653919063}, {'action_type': 'sell', 'amount': 9.61, 'app_id': 16929, 'balance_after': 9966.04, 'contract_id': 171435833528, 'longcode': 'Win payout if Volatility 100 (1s) Index touches 3839.46 through close on 2022-05-31.', 'payout': 21.77, 'purchase_time': 1653918874, 'reference_id': 342185445668, 'shortcode': 'ONETOUCH_1HZ100V_21.77_1653918874_1654041599_3839460000_0', 'transaction_id': 342186218448, 'transaction_time': 1653919058}, {'action_type': 'buy', 'amount': -10, 'app_id': 16929, 'balance_after': 9956.43, 'contract_id': 171436157628, 'longcode': 'Win payout if Volatility 100 (1s) Index touches entry spot plus 6.04 through 10 minutes after contract start time.', 'payout': 14.3, 'reference_id': None, 'shortcode': 'ONETOUCH_1HZ100V_14.30_1653919027_1653919627_S604P_0', 'transaction_id': 342186093608, 'transaction_time': 1653919027}, {'action_type': 'sell', 'amount': 14.3, 'app_id': 2, 'balance_after': 9966.43, 'contract_id': 171435990208, 'longcode': 'Win payout if Volatility 100 (1s) Index touches entry spot plus 6.04 through 10 minutes after contract start time.', 'payout': 14.3, 'purchase_time': 1653918949, 'reference_id': 342185761108, 'shortcode': 'ONETOUCH_1HZ100V_14.30_1653918949_1653919549_S604P_0', 'transaction_id': 342185990408, 'transaction_time': 1653919004}, {'action_type': 'buy', 'amount': -10, 'app_id': 16929, 'balance_after': 9952.13, 'contract_id': 171435990208, 'longcode': 'Win payout if Volatility 100 (1s) Index touches entry spot plus 6.04 through 10 minutes after contract start time.', 'payout': 14.3, 'reference_id': None, 'shortcode': 'ONETOUCH_1HZ100V_14.30_1653918949_1653919549_S604P_0', 'transaction_id': 342185761108, 'transaction_time': 1653918949}, {'action_type': 'buy', 'amount': -10, 'app_id': 16929, 'balance_after': 9962.13, 'contract_id': 171435833528, 'longcode': 'Win payout if Volatility 100 (1s) Index touches 3839.46 through close on 2022-05-31.', 'payout': 21.77, 'reference_id': None, 'shortcode': 'ONETOUCH_1HZ100V_21.77_1653918874_1654041599_3839460000_0', 'transaction_id': 342185445668, 'transaction_time': 1653918874}, {'action_type': 'sell', 'amount': 8.74, 'app_id': 16929, 'balance_after': 9972.13, 'contract_id': 171434998668, 'longcode': 'Win payout if AUD/JPY touches 92.276 through close on 2022-05-31.', 'payout': 18.49, 'purchase_time': 1653918479, 'reference_id': 342183775988, 'shortcode': 'ONETOUCH_FRXAUDJPY_18.49_1653918479_1654041599_92276000_0', 'transaction_id': 342185206768, 'transaction_time': 1653918817}, {'action_type': 'buy', 'amount': -10, 'app_id': 16929, 'balance_after': 9963.39, 'contract_id': 171435160308, 'longcode': 'Win 30% of your stake for every 1% rise in BTC/USD.', 'payout': 0, 'reference_id': None, 'shortcode': 'MULTUP_CRYBTCUSD_10.00_30_1653918557_1654559999_0_0.00', 'transaction_id': 342184100748, 'transaction_time': 1653918557}, {'action_type': 'buy', 'amount': -10, 'app_id': 16929, 'balance_after': 9973.39, 'contract_id': 171434998668, 'longcode': 'Win payout if AUD/JPY touches 92.276 through close on 2022-05-31.', 'payout': 18.49, 'reference_id': None, 'shortcode': 'ONETOUCH_FRXAUDJPY_18.49_1653918479_1654041599_92276000_0', 'transaction_id': 342183775988, 'transaction_time': 1653918479}, {'action_type': 'buy', 'amount': -10, 'app_id': 16929, 'balance_after': 9983.39, 'contract_id': 171434734028, 'longcode': 'Win payout if Volatility 100 (1s) Index touches entry spot plus 200.00 through 1 day after contract start time.', 'payout': 32.21, 'reference_id': None, 'shortcode': 'ONETOUCH_1HZ100V_32.21_1653918355_1654004755_S20000P_0', 'transaction_id': 342183249228, 'transaction_time': 1653918354}, {'action_type': 'sell', 'amount': 0, 'app_id': 16929, 'balance_after': 9993.39, 'contract_id': 171434171808, 'longcode': 'Win payout if Volatility 100 (1s) Index touches entry spot plus 999.00 through 1 day after contract start time.', 'payout': 400, 'purchase_time': 1653918090, 'reference_id': 342182123148, 'shortcode': 'ONETOUCH_1HZ100V_400.00_1653918090_1654004490_S99900P_0', 'transaction_id': 342182170048, 'transaction_time': 1653918101}, {'action_type': 'buy', 'amount': -10, 'app_id': 16929, 'balance_after': 9993.39, 'contract_id': 171434171808, 'longcode': 'Win payout if Volatility 100 (1s) Index touches entry spot plus 999.00 through 1 day after contract start time.', 'payout': 400, 'reference_id': None, 'shortcode': 'ONETOUCH_1HZ100V_400.00_1653918090_1654004490_S99900P_0', 'transaction_id': 342182123148, 'transaction_time': 1653918090}, {'action_type': 'sell', 'amount': 29.1, 'app_id': 2, 'balance_after': 10003.39, 'contract_id': 171432355368, 'longcode': 'Win payout if Volatility 100 (1s) Index touches entry spot plus 15.00 through 10 minutes after contract start time.', 'payout': 29.1, 'purchase_time': 1653917216, 'reference_id': 342178490508, 'shortcode': 'ONETOUCH_1HZ100V_29.10_1653917216_1653917816_S1500P_0', 'transaction_id': 342179962608, 'transaction_time': 1653917570}, {'action_type': 'sell', 'amount': 14.29, 'app_id': 2, 'balance_after': 9974.29, 'contract_id': 171432108508, 'longcode': 'Win payout if Volatility 100 (1s) Index touches entry spot plus 5.97 through 10 minutes after contract start time.', 'payout': 14.29, 'purchase_time': 1653917096, 'reference_id': 342177997028, 'shortcode': 'ONETOUCH_1HZ100V_14.29_1653917096_1653917696_S597P_0', 'transaction_id': 342178984128, 'transaction_time': 1653917336}, {'action_type': 'buy', 'amount': -10, 'app_id': 16929, 'balance_after': 9960, 'contract_id': 171432355368, 'longcode': 'Win payout if Volatility 100 (1s) Index touches entry spot plus 15.00 through 10 minutes after contract start time.', 'payout': 29.1, 'reference_id': None, 'shortcode': 'ONETOUCH_1HZ100V_29.10_1653917216_1653917816_S1500P_0', 'transaction_id': 342178490508, 'transaction_time': 1653917216}, {'action_type': 'buy', 'amount': -10, 'app_id': 16929, 'balance_after': 9970, 'contract_id': 171432108508, 'longcode': 'Win payout if Volatility 100 (1s) Index touches entry spot plus 5.97 through 10 minutes after contract start time.', 'payout': 14.29, 'reference_id': None, 'shortcode': 'ONETOUCH_1HZ100V_14.29_1653917096_1653917696_S597P_0', 'transaction_id': 342177997028, 'transaction_time': 1653917096}, {'action_type': 'sell', 'amount': 0, 'app_id': 16929, 'balance_after': 9980, 'contract_id': 171432048748, 'longcode': 'Win payout if Volatility 100 (1s) Index touches entry spot plus 1.22 through 5 ticks after first tick.', 'payout': 33.16, 'purchase_time': 1653917066, 'reference_id': 342177878888, 'shortcode': 'ONETOUCH_1HZ100V_33.16_1653917066_5T_S122P_0', 'transaction_id': 342177904908, 'transaction_time': 1653917073}, {'action_type': 'buy', 'amount': -10, 'app_id': 16929, 'balance_after': 9980, 'contract_id': 171432048748, 'longcode': 'Win payout if Volatility 100 (1s) Index touches entry spot plus 1.22 through 5 ticks after first tick.', 'payout': 33.16, 'reference_id': None, 'shortcode': 'ONETOUCH_1HZ100V_33.16_1653917066_5T_S122P_0', 'transaction_id': 342177878888, 'transaction_time': 1653917066}, {'action_type': 'sell', 'amount': 0, 'app_id': 2, 'balance_after': 9990, 'contract_id': 171432001028, 'longcode': 'Win payout if Volatility 100 (1s) Index after 5 ticks is strictly lower than entry spot.', 'payout': 19.53, 'purchase_time': 1653917041, 'reference_id': 342177783988, 'shortcode': 'PUT_1HZ100V_19.53_1653917041_5T_S0P_0', 'transaction_id': 342177805308, 'transaction_time': 1653917047}, {'action_type': 'buy', 'amount': -10, 'app_id': 16929, 'balance_after': 9990, 'contract_id': 171432001028, 'longcode': 'Win payout if Volatility 100 (1s) Index after 5 ticks is strictly lower than entry spot.', 'payout': 19.53, 'reference_id': None, 'shortcode': 'PUT_1HZ100V_19.53_1653917041_5T_S0P_0', 'transaction_id': 342177783988, 'transaction_time': 1653917041}, {'action_type': 'deposit', 'amount': 10000, 'app_id': 16929, 'balance_after': 10000, 'contract_id': None, 'longcode': 'Reset to default demo account balance.', 'payout': None, 'reference_id': None, 'shortcode': None, 'transaction_id': 342177684648, 'transaction_time': 1653917016}]}}\n"
     ]
    }
   ],
   "source": [
    "statement = await api.statement({\"statement\": 1, \"description\": 1, \"limit\": 100, \"offset\": 25})\n",
    "print(statement)"
   ],
   "metadata": {
    "collapsed": false,
    "pycharm": {
     "name": "#%%\n"
    }
   }
  },
  {
   "cell_type": "code",
   "execution_count": 37,
   "outputs": [
    {
     "data": {
      "text/plain": "  action_type  amount  app_id  balance_after   contract_id  \\\n0        sell    0.00       2        9981.03  1.714366e+11   \n1         buy  -10.00   16929        9981.03  1.714366e+11   \n2        sell   14.30       2        9991.03  1.714362e+11   \n3        sell   10.69   16929        9976.73  1.714347e+11   \n4        sell    9.61   16929        9966.04  1.714358e+11   \n\n                                            longcode  payout  purchase_time  \\\n0  Win payout if Volatility 100 (1s) Index touche...   14.28   1.653919e+09   \n1  Win payout if Volatility 100 (1s) Index touche...   14.28            NaN   \n2  Win payout if Volatility 100 (1s) Index touche...   14.30   1.653919e+09   \n3  Win payout if Volatility 100 (1s) Index touche...   32.21   1.653918e+09   \n4  Win payout if Volatility 100 (1s) Index touche...   21.77   1.653919e+09   \n\n   reference_id                                          shortcode  \\\n0  3.421869e+11  ONETOUCH_1HZ100V_14.28_1653919235_1653919835_S...   \n1           NaN  ONETOUCH_1HZ100V_14.28_1653919235_1653919835_S...   \n2  3.421861e+11  ONETOUCH_1HZ100V_14.30_1653919027_1653919627_S...   \n3  3.421832e+11  ONETOUCH_1HZ100V_32.21_1653918355_1654004755_S...   \n4  3.421854e+11  ONETOUCH_1HZ100V_21.77_1653918874_1654041599_3...   \n\n   transaction_id  transaction_time  \n0    342189443888        1653919836  \n1    342186946468        1653919235  \n2    342186772688        1653919194  \n3    342186241828        1653919063  \n4    342186218448        1653919058  ",
      "text/html": "<div>\n<style scoped>\n    .dataframe tbody tr th:only-of-type {\n        vertical-align: middle;\n    }\n\n    .dataframe tbody tr th {\n        vertical-align: top;\n    }\n\n    .dataframe thead th {\n        text-align: right;\n    }\n</style>\n<table border=\"1\" class=\"dataframe\">\n  <thead>\n    <tr style=\"text-align: right;\">\n      <th></th>\n      <th>action_type</th>\n      <th>amount</th>\n      <th>app_id</th>\n      <th>balance_after</th>\n      <th>contract_id</th>\n      <th>longcode</th>\n      <th>payout</th>\n      <th>purchase_time</th>\n      <th>reference_id</th>\n      <th>shortcode</th>\n      <th>transaction_id</th>\n      <th>transaction_time</th>\n    </tr>\n  </thead>\n  <tbody>\n    <tr>\n      <th>0</th>\n      <td>sell</td>\n      <td>0.00</td>\n      <td>2</td>\n      <td>9981.03</td>\n      <td>1.714366e+11</td>\n      <td>Win payout if Volatility 100 (1s) Index touche...</td>\n      <td>14.28</td>\n      <td>1.653919e+09</td>\n      <td>3.421869e+11</td>\n      <td>ONETOUCH_1HZ100V_14.28_1653919235_1653919835_S...</td>\n      <td>342189443888</td>\n      <td>1653919836</td>\n    </tr>\n    <tr>\n      <th>1</th>\n      <td>buy</td>\n      <td>-10.00</td>\n      <td>16929</td>\n      <td>9981.03</td>\n      <td>1.714366e+11</td>\n      <td>Win payout if Volatility 100 (1s) Index touche...</td>\n      <td>14.28</td>\n      <td>NaN</td>\n      <td>NaN</td>\n      <td>ONETOUCH_1HZ100V_14.28_1653919235_1653919835_S...</td>\n      <td>342186946468</td>\n      <td>1653919235</td>\n    </tr>\n    <tr>\n      <th>2</th>\n      <td>sell</td>\n      <td>14.30</td>\n      <td>2</td>\n      <td>9991.03</td>\n      <td>1.714362e+11</td>\n      <td>Win payout if Volatility 100 (1s) Index touche...</td>\n      <td>14.30</td>\n      <td>1.653919e+09</td>\n      <td>3.421861e+11</td>\n      <td>ONETOUCH_1HZ100V_14.30_1653919027_1653919627_S...</td>\n      <td>342186772688</td>\n      <td>1653919194</td>\n    </tr>\n    <tr>\n      <th>3</th>\n      <td>sell</td>\n      <td>10.69</td>\n      <td>16929</td>\n      <td>9976.73</td>\n      <td>1.714347e+11</td>\n      <td>Win payout if Volatility 100 (1s) Index touche...</td>\n      <td>32.21</td>\n      <td>1.653918e+09</td>\n      <td>3.421832e+11</td>\n      <td>ONETOUCH_1HZ100V_32.21_1653918355_1654004755_S...</td>\n      <td>342186241828</td>\n      <td>1653919063</td>\n    </tr>\n    <tr>\n      <th>4</th>\n      <td>sell</td>\n      <td>9.61</td>\n      <td>16929</td>\n      <td>9966.04</td>\n      <td>1.714358e+11</td>\n      <td>Win payout if Volatility 100 (1s) Index touche...</td>\n      <td>21.77</td>\n      <td>1.653919e+09</td>\n      <td>3.421854e+11</td>\n      <td>ONETOUCH_1HZ100V_21.77_1653918874_1654041599_3...</td>\n      <td>342186218448</td>\n      <td>1653919058</td>\n    </tr>\n  </tbody>\n</table>\n</div>"
     },
     "execution_count": 37,
     "metadata": {},
     "output_type": "execute_result"
    }
   ],
   "source": [
    "df = pd.DataFrame(statement['statement']['transactions'])\n",
    "df.head()"
   ],
   "metadata": {
    "collapsed": false,
    "pycharm": {
     "name": "#%%\n"
    }
   }
  },
  {
   "cell_type": "code",
   "execution_count": 38,
   "outputs": [
    {
     "data": {
      "text/plain": "   action_type    amount  app_id  balance_after   contract_id  \\\n0         sell      0.00       2        9981.03  1.714366e+11   \n1          buy    -10.00   16929        9981.03  1.714366e+11   \n2         sell     14.30       2        9991.03  1.714362e+11   \n3         sell     10.69   16929        9976.73  1.714347e+11   \n4         sell      9.61   16929        9966.04  1.714358e+11   \n5          buy    -10.00   16929        9956.43  1.714362e+11   \n6         sell     14.30       2        9966.43  1.714360e+11   \n7          buy    -10.00   16929        9952.13  1.714360e+11   \n8          buy    -10.00   16929        9962.13  1.714358e+11   \n9         sell      8.74   16929        9972.13  1.714350e+11   \n10         buy    -10.00   16929        9963.39  1.714352e+11   \n11         buy    -10.00   16929        9973.39  1.714350e+11   \n12         buy    -10.00   16929        9983.39  1.714347e+11   \n13        sell      0.00   16929        9993.39  1.714342e+11   \n14         buy    -10.00   16929        9993.39  1.714342e+11   \n15        sell     29.10       2       10003.39  1.714324e+11   \n16        sell     14.29       2        9974.29  1.714321e+11   \n17         buy    -10.00   16929        9960.00  1.714324e+11   \n18         buy    -10.00   16929        9970.00  1.714321e+11   \n19        sell      0.00   16929        9980.00  1.714320e+11   \n20         buy    -10.00   16929        9980.00  1.714320e+11   \n21        sell      0.00       2        9990.00  1.714320e+11   \n22         buy    -10.00   16929        9990.00  1.714320e+11   \n23     deposit  10000.00   16929       10000.00           NaN   \n\n                                             longcode  payout  purchase_time  \\\n0   Win payout if Volatility 100 (1s) Index touche...   14.28   1.653919e+09   \n1   Win payout if Volatility 100 (1s) Index touche...   14.28            NaN   \n2   Win payout if Volatility 100 (1s) Index touche...   14.30   1.653919e+09   \n3   Win payout if Volatility 100 (1s) Index touche...   32.21   1.653918e+09   \n4   Win payout if Volatility 100 (1s) Index touche...   21.77   1.653919e+09   \n5   Win payout if Volatility 100 (1s) Index touche...   14.30            NaN   \n6   Win payout if Volatility 100 (1s) Index touche...   14.30   1.653919e+09   \n7   Win payout if Volatility 100 (1s) Index touche...   14.30            NaN   \n8   Win payout if Volatility 100 (1s) Index touche...   21.77            NaN   \n9   Win payout if AUD/JPY touches 92.276 through c...   18.49   1.653918e+09   \n10  Win 30% of your stake for every 1% rise in BTC...    0.00            NaN   \n11  Win payout if AUD/JPY touches 92.276 through c...   18.49            NaN   \n12  Win payout if Volatility 100 (1s) Index touche...   32.21            NaN   \n13  Win payout if Volatility 100 (1s) Index touche...  400.00   1.653918e+09   \n14  Win payout if Volatility 100 (1s) Index touche...  400.00            NaN   \n15  Win payout if Volatility 100 (1s) Index touche...   29.10   1.653917e+09   \n16  Win payout if Volatility 100 (1s) Index touche...   14.29   1.653917e+09   \n17  Win payout if Volatility 100 (1s) Index touche...   29.10            NaN   \n18  Win payout if Volatility 100 (1s) Index touche...   14.29            NaN   \n19  Win payout if Volatility 100 (1s) Index touche...   33.16   1.653917e+09   \n20  Win payout if Volatility 100 (1s) Index touche...   33.16            NaN   \n21  Win payout if Volatility 100 (1s) Index after ...   19.53   1.653917e+09   \n22  Win payout if Volatility 100 (1s) Index after ...   19.53            NaN   \n23             Reset to default demo account balance.     NaN            NaN   \n\n    reference_id                                          shortcode  \\\n0   3.421869e+11  ONETOUCH_1HZ100V_14.28_1653919235_1653919835_S...   \n1            NaN  ONETOUCH_1HZ100V_14.28_1653919235_1653919835_S...   \n2   3.421861e+11  ONETOUCH_1HZ100V_14.30_1653919027_1653919627_S...   \n3   3.421832e+11  ONETOUCH_1HZ100V_32.21_1653918355_1654004755_S...   \n4   3.421854e+11  ONETOUCH_1HZ100V_21.77_1653918874_1654041599_3...   \n5            NaN  ONETOUCH_1HZ100V_14.30_1653919027_1653919627_S...   \n6   3.421858e+11  ONETOUCH_1HZ100V_14.30_1653918949_1653919549_S...   \n7            NaN  ONETOUCH_1HZ100V_14.30_1653918949_1653919549_S...   \n8            NaN  ONETOUCH_1HZ100V_21.77_1653918874_1654041599_3...   \n9   3.421838e+11  ONETOUCH_FRXAUDJPY_18.49_1653918479_1654041599...   \n10           NaN  MULTUP_CRYBTCUSD_10.00_30_1653918557_165455999...   \n11           NaN  ONETOUCH_FRXAUDJPY_18.49_1653918479_1654041599...   \n12           NaN  ONETOUCH_1HZ100V_32.21_1653918355_1654004755_S...   \n13  3.421821e+11  ONETOUCH_1HZ100V_400.00_1653918090_1654004490_...   \n14           NaN  ONETOUCH_1HZ100V_400.00_1653918090_1654004490_...   \n15  3.421785e+11  ONETOUCH_1HZ100V_29.10_1653917216_1653917816_S...   \n16  3.421780e+11  ONETOUCH_1HZ100V_14.29_1653917096_1653917696_S...   \n17           NaN  ONETOUCH_1HZ100V_29.10_1653917216_1653917816_S...   \n18           NaN  ONETOUCH_1HZ100V_14.29_1653917096_1653917696_S...   \n19  3.421779e+11       ONETOUCH_1HZ100V_33.16_1653917066_5T_S122P_0   \n20           NaN       ONETOUCH_1HZ100V_33.16_1653917066_5T_S122P_0   \n21  3.421778e+11              PUT_1HZ100V_19.53_1653917041_5T_S0P_0   \n22           NaN              PUT_1HZ100V_19.53_1653917041_5T_S0P_0   \n23           NaN                                               None   \n\n    transaction_id  transaction_time  \n0     342189443888        1653919836  \n1     342186946468        1653919235  \n2     342186772688        1653919194  \n3     342186241828        1653919063  \n4     342186218448        1653919058  \n5     342186093608        1653919027  \n6     342185990408        1653919004  \n7     342185761108        1653918949  \n8     342185445668        1653918874  \n9     342185206768        1653918817  \n10    342184100748        1653918557  \n11    342183775988        1653918479  \n12    342183249228        1653918354  \n13    342182170048        1653918101  \n14    342182123148        1653918090  \n15    342179962608        1653917570  \n16    342178984128        1653917336  \n17    342178490508        1653917216  \n18    342177997028        1653917096  \n19    342177904908        1653917073  \n20    342177878888        1653917066  \n21    342177805308        1653917047  \n22    342177783988        1653917041  \n23    342177684648        1653917016  ",
      "text/html": "<div>\n<style scoped>\n    .dataframe tbody tr th:only-of-type {\n        vertical-align: middle;\n    }\n\n    .dataframe tbody tr th {\n        vertical-align: top;\n    }\n\n    .dataframe thead th {\n        text-align: right;\n    }\n</style>\n<table border=\"1\" class=\"dataframe\">\n  <thead>\n    <tr style=\"text-align: right;\">\n      <th></th>\n      <th>action_type</th>\n      <th>amount</th>\n      <th>app_id</th>\n      <th>balance_after</th>\n      <th>contract_id</th>\n      <th>longcode</th>\n      <th>payout</th>\n      <th>purchase_time</th>\n      <th>reference_id</th>\n      <th>shortcode</th>\n      <th>transaction_id</th>\n      <th>transaction_time</th>\n    </tr>\n  </thead>\n  <tbody>\n    <tr>\n      <th>0</th>\n      <td>sell</td>\n      <td>0.00</td>\n      <td>2</td>\n      <td>9981.03</td>\n      <td>1.714366e+11</td>\n      <td>Win payout if Volatility 100 (1s) Index touche...</td>\n      <td>14.28</td>\n      <td>1.653919e+09</td>\n      <td>3.421869e+11</td>\n      <td>ONETOUCH_1HZ100V_14.28_1653919235_1653919835_S...</td>\n      <td>342189443888</td>\n      <td>1653919836</td>\n    </tr>\n    <tr>\n      <th>1</th>\n      <td>buy</td>\n      <td>-10.00</td>\n      <td>16929</td>\n      <td>9981.03</td>\n      <td>1.714366e+11</td>\n      <td>Win payout if Volatility 100 (1s) Index touche...</td>\n      <td>14.28</td>\n      <td>NaN</td>\n      <td>NaN</td>\n      <td>ONETOUCH_1HZ100V_14.28_1653919235_1653919835_S...</td>\n      <td>342186946468</td>\n      <td>1653919235</td>\n    </tr>\n    <tr>\n      <th>2</th>\n      <td>sell</td>\n      <td>14.30</td>\n      <td>2</td>\n      <td>9991.03</td>\n      <td>1.714362e+11</td>\n      <td>Win payout if Volatility 100 (1s) Index touche...</td>\n      <td>14.30</td>\n      <td>1.653919e+09</td>\n      <td>3.421861e+11</td>\n      <td>ONETOUCH_1HZ100V_14.30_1653919027_1653919627_S...</td>\n      <td>342186772688</td>\n      <td>1653919194</td>\n    </tr>\n    <tr>\n      <th>3</th>\n      <td>sell</td>\n      <td>10.69</td>\n      <td>16929</td>\n      <td>9976.73</td>\n      <td>1.714347e+11</td>\n      <td>Win payout if Volatility 100 (1s) Index touche...</td>\n      <td>32.21</td>\n      <td>1.653918e+09</td>\n      <td>3.421832e+11</td>\n      <td>ONETOUCH_1HZ100V_32.21_1653918355_1654004755_S...</td>\n      <td>342186241828</td>\n      <td>1653919063</td>\n    </tr>\n    <tr>\n      <th>4</th>\n      <td>sell</td>\n      <td>9.61</td>\n      <td>16929</td>\n      <td>9966.04</td>\n      <td>1.714358e+11</td>\n      <td>Win payout if Volatility 100 (1s) Index touche...</td>\n      <td>21.77</td>\n      <td>1.653919e+09</td>\n      <td>3.421854e+11</td>\n      <td>ONETOUCH_1HZ100V_21.77_1653918874_1654041599_3...</td>\n      <td>342186218448</td>\n      <td>1653919058</td>\n    </tr>\n    <tr>\n      <th>5</th>\n      <td>buy</td>\n      <td>-10.00</td>\n      <td>16929</td>\n      <td>9956.43</td>\n      <td>1.714362e+11</td>\n      <td>Win payout if Volatility 100 (1s) Index touche...</td>\n      <td>14.30</td>\n      <td>NaN</td>\n      <td>NaN</td>\n      <td>ONETOUCH_1HZ100V_14.30_1653919027_1653919627_S...</td>\n      <td>342186093608</td>\n      <td>1653919027</td>\n    </tr>\n    <tr>\n      <th>6</th>\n      <td>sell</td>\n      <td>14.30</td>\n      <td>2</td>\n      <td>9966.43</td>\n      <td>1.714360e+11</td>\n      <td>Win payout if Volatility 100 (1s) Index touche...</td>\n      <td>14.30</td>\n      <td>1.653919e+09</td>\n      <td>3.421858e+11</td>\n      <td>ONETOUCH_1HZ100V_14.30_1653918949_1653919549_S...</td>\n      <td>342185990408</td>\n      <td>1653919004</td>\n    </tr>\n    <tr>\n      <th>7</th>\n      <td>buy</td>\n      <td>-10.00</td>\n      <td>16929</td>\n      <td>9952.13</td>\n      <td>1.714360e+11</td>\n      <td>Win payout if Volatility 100 (1s) Index touche...</td>\n      <td>14.30</td>\n      <td>NaN</td>\n      <td>NaN</td>\n      <td>ONETOUCH_1HZ100V_14.30_1653918949_1653919549_S...</td>\n      <td>342185761108</td>\n      <td>1653918949</td>\n    </tr>\n    <tr>\n      <th>8</th>\n      <td>buy</td>\n      <td>-10.00</td>\n      <td>16929</td>\n      <td>9962.13</td>\n      <td>1.714358e+11</td>\n      <td>Win payout if Volatility 100 (1s) Index touche...</td>\n      <td>21.77</td>\n      <td>NaN</td>\n      <td>NaN</td>\n      <td>ONETOUCH_1HZ100V_21.77_1653918874_1654041599_3...</td>\n      <td>342185445668</td>\n      <td>1653918874</td>\n    </tr>\n    <tr>\n      <th>9</th>\n      <td>sell</td>\n      <td>8.74</td>\n      <td>16929</td>\n      <td>9972.13</td>\n      <td>1.714350e+11</td>\n      <td>Win payout if AUD/JPY touches 92.276 through c...</td>\n      <td>18.49</td>\n      <td>1.653918e+09</td>\n      <td>3.421838e+11</td>\n      <td>ONETOUCH_FRXAUDJPY_18.49_1653918479_1654041599...</td>\n      <td>342185206768</td>\n      <td>1653918817</td>\n    </tr>\n    <tr>\n      <th>10</th>\n      <td>buy</td>\n      <td>-10.00</td>\n      <td>16929</td>\n      <td>9963.39</td>\n      <td>1.714352e+11</td>\n      <td>Win 30% of your stake for every 1% rise in BTC...</td>\n      <td>0.00</td>\n      <td>NaN</td>\n      <td>NaN</td>\n      <td>MULTUP_CRYBTCUSD_10.00_30_1653918557_165455999...</td>\n      <td>342184100748</td>\n      <td>1653918557</td>\n    </tr>\n    <tr>\n      <th>11</th>\n      <td>buy</td>\n      <td>-10.00</td>\n      <td>16929</td>\n      <td>9973.39</td>\n      <td>1.714350e+11</td>\n      <td>Win payout if AUD/JPY touches 92.276 through c...</td>\n      <td>18.49</td>\n      <td>NaN</td>\n      <td>NaN</td>\n      <td>ONETOUCH_FRXAUDJPY_18.49_1653918479_1654041599...</td>\n      <td>342183775988</td>\n      <td>1653918479</td>\n    </tr>\n    <tr>\n      <th>12</th>\n      <td>buy</td>\n      <td>-10.00</td>\n      <td>16929</td>\n      <td>9983.39</td>\n      <td>1.714347e+11</td>\n      <td>Win payout if Volatility 100 (1s) Index touche...</td>\n      <td>32.21</td>\n      <td>NaN</td>\n      <td>NaN</td>\n      <td>ONETOUCH_1HZ100V_32.21_1653918355_1654004755_S...</td>\n      <td>342183249228</td>\n      <td>1653918354</td>\n    </tr>\n    <tr>\n      <th>13</th>\n      <td>sell</td>\n      <td>0.00</td>\n      <td>16929</td>\n      <td>9993.39</td>\n      <td>1.714342e+11</td>\n      <td>Win payout if Volatility 100 (1s) Index touche...</td>\n      <td>400.00</td>\n      <td>1.653918e+09</td>\n      <td>3.421821e+11</td>\n      <td>ONETOUCH_1HZ100V_400.00_1653918090_1654004490_...</td>\n      <td>342182170048</td>\n      <td>1653918101</td>\n    </tr>\n    <tr>\n      <th>14</th>\n      <td>buy</td>\n      <td>-10.00</td>\n      <td>16929</td>\n      <td>9993.39</td>\n      <td>1.714342e+11</td>\n      <td>Win payout if Volatility 100 (1s) Index touche...</td>\n      <td>400.00</td>\n      <td>NaN</td>\n      <td>NaN</td>\n      <td>ONETOUCH_1HZ100V_400.00_1653918090_1654004490_...</td>\n      <td>342182123148</td>\n      <td>1653918090</td>\n    </tr>\n    <tr>\n      <th>15</th>\n      <td>sell</td>\n      <td>29.10</td>\n      <td>2</td>\n      <td>10003.39</td>\n      <td>1.714324e+11</td>\n      <td>Win payout if Volatility 100 (1s) Index touche...</td>\n      <td>29.10</td>\n      <td>1.653917e+09</td>\n      <td>3.421785e+11</td>\n      <td>ONETOUCH_1HZ100V_29.10_1653917216_1653917816_S...</td>\n      <td>342179962608</td>\n      <td>1653917570</td>\n    </tr>\n    <tr>\n      <th>16</th>\n      <td>sell</td>\n      <td>14.29</td>\n      <td>2</td>\n      <td>9974.29</td>\n      <td>1.714321e+11</td>\n      <td>Win payout if Volatility 100 (1s) Index touche...</td>\n      <td>14.29</td>\n      <td>1.653917e+09</td>\n      <td>3.421780e+11</td>\n      <td>ONETOUCH_1HZ100V_14.29_1653917096_1653917696_S...</td>\n      <td>342178984128</td>\n      <td>1653917336</td>\n    </tr>\n    <tr>\n      <th>17</th>\n      <td>buy</td>\n      <td>-10.00</td>\n      <td>16929</td>\n      <td>9960.00</td>\n      <td>1.714324e+11</td>\n      <td>Win payout if Volatility 100 (1s) Index touche...</td>\n      <td>29.10</td>\n      <td>NaN</td>\n      <td>NaN</td>\n      <td>ONETOUCH_1HZ100V_29.10_1653917216_1653917816_S...</td>\n      <td>342178490508</td>\n      <td>1653917216</td>\n    </tr>\n    <tr>\n      <th>18</th>\n      <td>buy</td>\n      <td>-10.00</td>\n      <td>16929</td>\n      <td>9970.00</td>\n      <td>1.714321e+11</td>\n      <td>Win payout if Volatility 100 (1s) Index touche...</td>\n      <td>14.29</td>\n      <td>NaN</td>\n      <td>NaN</td>\n      <td>ONETOUCH_1HZ100V_14.29_1653917096_1653917696_S...</td>\n      <td>342177997028</td>\n      <td>1653917096</td>\n    </tr>\n    <tr>\n      <th>19</th>\n      <td>sell</td>\n      <td>0.00</td>\n      <td>16929</td>\n      <td>9980.00</td>\n      <td>1.714320e+11</td>\n      <td>Win payout if Volatility 100 (1s) Index touche...</td>\n      <td>33.16</td>\n      <td>1.653917e+09</td>\n      <td>3.421779e+11</td>\n      <td>ONETOUCH_1HZ100V_33.16_1653917066_5T_S122P_0</td>\n      <td>342177904908</td>\n      <td>1653917073</td>\n    </tr>\n    <tr>\n      <th>20</th>\n      <td>buy</td>\n      <td>-10.00</td>\n      <td>16929</td>\n      <td>9980.00</td>\n      <td>1.714320e+11</td>\n      <td>Win payout if Volatility 100 (1s) Index touche...</td>\n      <td>33.16</td>\n      <td>NaN</td>\n      <td>NaN</td>\n      <td>ONETOUCH_1HZ100V_33.16_1653917066_5T_S122P_0</td>\n      <td>342177878888</td>\n      <td>1653917066</td>\n    </tr>\n    <tr>\n      <th>21</th>\n      <td>sell</td>\n      <td>0.00</td>\n      <td>2</td>\n      <td>9990.00</td>\n      <td>1.714320e+11</td>\n      <td>Win payout if Volatility 100 (1s) Index after ...</td>\n      <td>19.53</td>\n      <td>1.653917e+09</td>\n      <td>3.421778e+11</td>\n      <td>PUT_1HZ100V_19.53_1653917041_5T_S0P_0</td>\n      <td>342177805308</td>\n      <td>1653917047</td>\n    </tr>\n    <tr>\n      <th>22</th>\n      <td>buy</td>\n      <td>-10.00</td>\n      <td>16929</td>\n      <td>9990.00</td>\n      <td>1.714320e+11</td>\n      <td>Win payout if Volatility 100 (1s) Index after ...</td>\n      <td>19.53</td>\n      <td>NaN</td>\n      <td>NaN</td>\n      <td>PUT_1HZ100V_19.53_1653917041_5T_S0P_0</td>\n      <td>342177783988</td>\n      <td>1653917041</td>\n    </tr>\n    <tr>\n      <th>23</th>\n      <td>deposit</td>\n      <td>10000.00</td>\n      <td>16929</td>\n      <td>10000.00</td>\n      <td>NaN</td>\n      <td>Reset to default demo account balance.</td>\n      <td>NaN</td>\n      <td>NaN</td>\n      <td>NaN</td>\n      <td>None</td>\n      <td>342177684648</td>\n      <td>1653917016</td>\n    </tr>\n  </tbody>\n</table>\n</div>"
     },
     "execution_count": 38,
     "metadata": {},
     "output_type": "execute_result"
    }
   ],
   "source": [
    "df"
   ],
   "metadata": {
    "collapsed": false,
    "pycharm": {
     "name": "#%%\n"
    }
   }
  },
  {
   "cell_type": "code",
   "execution_count": 52,
   "outputs": [],
   "source": [
    "source_poc = await api.subscribe({\"proposal_open_contract\": 1, \"contract_id\": contract_id})\n",
    "rxpy = source_poc.subscribe(lambda poc: print(poc))"
   ],
   "metadata": {
    "collapsed": false,
    "pycharm": {
     "name": "#%%\n"
    }
   }
  },
  {
   "cell_type": "code",
   "execution_count": null,
   "outputs": [],
   "source": [
    "# Monitor the is_sold attribute of the poc. Then, once the contract is finished, you'll know if it's won or not."
   ],
   "metadata": {
    "collapsed": false,
    "pycharm": {
     "name": "#%%\n"
    }
   }
  },
  {
   "cell_type": "code",
   "execution_count": null,
   "outputs": [],
   "source": [
    "# Todo: Get live ticker price of a symbol.\n",
    "# Get historical data of a symbol.\n",
    "# Utilize the websockets somehow from the Quickstart guide.\n",
    "# https://api.deriv.com/api-explorer/#ticks_history"
   ],
   "metadata": {
    "collapsed": false,
    "pycharm": {
     "name": "#%%\n"
    }
   }
  },
  {
   "cell_type": "code",
   "execution_count": 60,
   "outputs": [],
   "source": [
    "rxpy.dispose()"
   ],
   "metadata": {
    "collapsed": false,
    "pycharm": {
     "name": "#%%\n"
    }
   }
  },
  {
   "cell_type": "code",
   "execution_count": 1,
   "outputs": [],
   "source": [
    "from dateutil import parser"
   ],
   "metadata": {
    "collapsed": false,
    "pycharm": {
     "name": "#%%\n"
    }
   }
  },
  {
   "cell_type": "code",
   "execution_count": 13,
   "outputs": [
    {
     "data": {
      "text/plain": "1653951600.0"
     },
     "execution_count": 13,
     "metadata": {},
     "output_type": "execute_result"
    }
   ],
   "source": [
    "parser.parse('2022-05-31').timestamp()"
   ],
   "metadata": {
    "collapsed": false,
    "pycharm": {
     "name": "#%%\n"
    }
   }
  },
  {
   "cell_type": "code",
   "execution_count": 12,
   "outputs": [
    {
     "ename": "ModuleNotFoundError",
     "evalue": "No module named 'deriv_api'",
     "output_type": "error",
     "traceback": [
      "\u001B[1;31m---------------------------------------------------------------------------\u001B[0m",
      "\u001B[1;31mModuleNotFoundError\u001B[0m                       Traceback (most recent call last)",
      "Input \u001B[1;32mIn [12]\u001B[0m, in \u001B[0;36m<module>\u001B[1;34m\u001B[0m\n\u001B[1;32m----> 1\u001B[0m \u001B[38;5;28;01mfrom\u001B[39;00m \u001B[38;5;21;01mget_data\u001B[39;00m \u001B[38;5;28;01mimport\u001B[39;00m get_deriv_data\n",
      "File \u001B[1;32m~\\PycharmProjects\\crypto-trading-bot\\options\\get_data.py:9\u001B[0m, in \u001B[0;36m<module>\u001B[1;34m\u001B[0m\n\u001B[0;32m      7\u001B[0m \u001B[38;5;28;01mimport\u001B[39;00m \u001B[38;5;21;01myfinance\u001B[39;00m \u001B[38;5;28;01mas\u001B[39;00m \u001B[38;5;21;01myf\u001B[39;00m\n\u001B[0;32m      8\u001B[0m \u001B[38;5;28;01mfrom\u001B[39;00m \u001B[38;5;21;01mdateutil\u001B[39;00m \u001B[38;5;28;01mimport\u001B[39;00m parser\n\u001B[1;32m----> 9\u001B[0m \u001B[38;5;28;01mfrom\u001B[39;00m \u001B[38;5;21;01mderiv_api\u001B[39;00m \u001B[38;5;28;01mimport\u001B[39;00m DerivAPI\n\u001B[0;32m     11\u001B[0m api_key \u001B[38;5;241m=\u001B[39m \u001B[38;5;124m'\u001B[39m\u001B[38;5;124mzlDM7tnQhO1knwggZcoT4IvGxD2qVppkdh02dTJxMHgHgsXpn8mIBLoYO12KQkNB\u001B[39m\u001B[38;5;124m'\u001B[39m\n\u001B[0;32m     12\u001B[0m api_secret \u001B[38;5;241m=\u001B[39m \u001B[38;5;124m'\u001B[39m\u001B[38;5;124mTEb49wDTTYGk0KFEanI4DqShlFV9ZnFh9lLabHmvv7OHA8GSmHm5cdMBuYfn5rcC\u001B[39m\u001B[38;5;124m'\u001B[39m\n",
      "\u001B[1;31mModuleNotFoundError\u001B[0m: No module named 'deriv_api'"
     ]
    }
   ],
   "source": [
    "from get_data import get_deriv_data"
   ],
   "metadata": {
    "collapsed": false,
    "pycharm": {
     "name": "#%%\n"
    }
   }
  },
  {
   "cell_type": "code",
   "execution_count": 11,
   "outputs": [
    {
     "name": "stdout",
     "output_type": "stream",
     "text": [
      "C:\\Users\\nikhi\\AppData\\Local\\Programs\\Python\\Python310\\python.exe\n"
     ]
    }
   ],
   "source": [
    "import sys\n",
    "print(sys.executable)"
   ],
   "metadata": {
    "collapsed": false,
    "pycharm": {
     "name": "#%%\n"
    }
   }
  },
  {
   "cell_type": "code",
   "execution_count": null,
   "outputs": [],
   "source": [],
   "metadata": {
    "collapsed": false,
    "pycharm": {
     "name": "#%%\n"
    }
   }
  }
 ],
 "metadata": {
  "kernelspec": {
   "display_name": "Python 3",
   "language": "python",
   "name": "python3"
  },
  "language_info": {
   "codemirror_mode": {
    "name": "ipython",
    "version": 2
   },
   "file_extension": ".py",
   "mimetype": "text/x-python",
   "name": "python",
   "nbconvert_exporter": "python",
   "pygments_lexer": "ipython2",
   "version": "2.7.6"
  }
 },
 "nbformat": 4,
 "nbformat_minor": 0
}