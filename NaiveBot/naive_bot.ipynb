{
 "cells": [
  {
   "cell_type": "code",
   "execution_count": null,
   "outputs": [],
   "source": [
    "import pandas as pd\n",
    "import numpy as np\n",
    "from datetime import datetime\n",
    "import matplotlib.pyplot as plt"
   ],
   "metadata": {
    "collapsed": false,
    "pycharm": {
     "name": "#%%\n"
    }
   }
  },
  {
   "cell_type": "code",
   "execution_count": 53,
   "outputs": [
    {
     "name": "stdout",
     "output_type": "stream",
     "text": [
      "(119521, 2)\n"
     ]
    }
   ],
   "source": [
    "data = pd.read_csv('doge_data_1_min.csv')\n",
    "df = data[['close_time', 'close']]\n",
    "price_data = df.to_numpy()\n",
    "\n",
    "print(price_data.shape)"
   ],
   "metadata": {
    "collapsed": false,
    "pycharm": {
     "name": "#%%\n"
    }
   }
  },
  {
   "cell_type": "code",
   "execution_count": 54,
   "outputs": [
    {
     "data": {
      "text/plain": "<Figure size 432x288 with 1 Axes>",
      "image/png": "[encoded data removed]"
     },
     "metadata": {
      "needs_background": "light"
     },
     "output_type": "display_data"
    }
   ],
   "source": [
    "plt.plot(price_data[:, 1])\n",
    "plt.show()"
   ],
   "metadata": {
    "collapsed": false,
    "pycharm": {
     "name": "#%%\n"
    }
   }
  },
  {
   "cell_type": "code",
   "execution_count": 93,
   "outputs": [],
   "source": [
    "def get_trades(price_arr, short, take_profit_percentage, selling_points, starting_balance=500, starting_stake=100, compound=False):\n",
    "    # selling_points => (open_period >=, sell_at_loss_percentage)\n",
    "    trades = []\n",
    "    trade_buy_time = -1\n",
    "    trade_buy_price = -1\n",
    "    i = 0\n",
    "\n",
    "    current_balance = starting_balance  # This cannot be negative at any point of time\n",
    "    current_stake = starting_stake\n",
    "    open_trades = []\n",
    "    open_period = 0\n",
    "    profit_loss = 0\n",
    "\n",
    "    trades_on_hold = []\n",
    "\n",
    "    for row in price_arr:\n",
    "        i += 1\n",
    "\n",
    "        # Open a new trade if possible\n",
    "        if trade_buy_time == -1 and current_balance >= current_stake:\n",
    "            trade_buy_time = row[0]\n",
    "            trade_buy_price = row[1]\n",
    "            open_trades.append([trade_buy_time, current_stake])\n",
    "\n",
    "            # reduce the stake amount from current balance\n",
    "            current_balance -= current_stake\n",
    "\n",
    "\n",
    "        if trade_buy_time != -1:\n",
    "            open_period = (datetime.fromtimestamp(row[0] / 1000.0) - datetime.fromtimestamp(\n",
    "                trade_buy_time / 1000.0)).total_seconds() / 86400\n",
    "            profit_loss = (row[1] - trade_buy_price) * 100 / trade_buy_price\n",
    "\n",
    "        if short:\n",
    "            profit_loss = -profit_loss\n",
    "\n",
    "        # Profit loop\n",
    "        if profit_loss >= take_profit_percentage:\n",
    "            trade_sell_time = row[0]\n",
    "            trade_sell_price = row[1]\n",
    "\n",
    "            # open_trades.remove([trade_buy_time])\n",
    "            # open_trades_history.append(len(open_trades))\n",
    "\n",
    "            # add the profit amount to stake amount\n",
    "            profit_loss_abs = current_stake * profit_loss / 100\n",
    "            current_balance += (current_stake + profit_loss_abs)\n",
    "            if compound:\n",
    "                current_stake += profit_loss_abs  # This is like re-investing profits\n",
    "\n",
    "            trades.append(\n",
    "                [trade_buy_time, trade_buy_price, trade_sell_time, trade_sell_price, profit_loss_abs, current_balance])\n",
    "            trade_buy_time = -1\n",
    "            trade_buy_price = -1\n",
    "            open_period = 0\n",
    "            skip_until = i + 0\n",
    "\n",
    "        # Loss loop\n",
    "        if len(trades_on_hold) > 0:\n",
    "            trade, trades_on_hold, p_l = try_to_sell_hold_trades(trades_on_hold, row, selling_points, short)\n",
    "            if trade is not None:\n",
    "                trade_sell_time = row[0]\n",
    "                trade_sell_price = row[1]\n",
    "\n",
    "                # open_trades.remove([trade[0]])\n",
    "                # open_trades_history.append(len(open_trades))\n",
    "\n",
    "                # add the profit amount to stake amount\n",
    "                profit_loss_abs = trade[2] * p_l / 100\n",
    "                current_balance += (trade[2] + profit_loss_abs)  # Assuming profit_loss_abs is negative\n",
    "                trades.append([trade[0], trade[1], trade_sell_time, trade_sell_price, profit_loss_abs, current_balance])\n",
    "\n",
    "        for period, _ in selling_points:\n",
    "            if open_period >= period:\n",
    "                # Add the trade to the list of trades on hold\n",
    "                trades_on_hold.append([trade_buy_time, trade_buy_price, current_stake])\n",
    "\n",
    "                # Open a new trade\n",
    "                trade_buy_time = -1\n",
    "                trade_buy_price = -1\n",
    "                open_period = 0\n",
    "\n",
    "                # current_stake_amount = starting_stake\n",
    "                break\n",
    "\n",
    "    print(\"Current balance: \", current_balance)\n",
    "\n",
    "    open_trades_amount = 0\n",
    "    for trade in open_trades:\n",
    "        if trade[0] not in np.array(trades)[:, 0]:\n",
    "            open_trades_amount += trade[1]\n",
    "    print(\"Sum of current invested amount: \", open_trades_amount)\n",
    "\n",
    "    return np.array(trades), trade_buy_time, trade_buy_price, trades_on_hold\n",
    "\n",
    "def try_to_sell_hold_trades(trades_on_hold, row, selling_points, short):\n",
    "    profit_loss = 0\n",
    "    for trade in trades_on_hold:\n",
    "        profit_loss = (row[1] - trade[1]) * 100 / trade[1]\n",
    "        open_period = (datetime.fromtimestamp(row[0] / 1000.0) - datetime.fromtimestamp(\n",
    "            trade[0] / 1000.0)).total_seconds() / 86400\n",
    "        if short:\n",
    "            profit_loss = -profit_loss\n",
    "        # For now, I'm assuming it's only loss and only one trade on hold at a time.\n",
    "        for period, stop_loss_percentage in selling_points:\n",
    "            if open_period >= period and -profit_loss <= stop_loss_percentage:\n",
    "                trades_on_hold.remove(trade)\n",
    "                return trade, trades_on_hold, profit_loss\n",
    "    return None, trades_on_hold, profit_loss"
   ],
   "metadata": {
    "collapsed": false,
    "pycharm": {
     "name": "#%%\n"
    }
   }
  },
  {
   "cell_type": "code",
   "execution_count": 15,
   "outputs": [],
   "source": [
    "total_trading_period = (datetime.fromtimestamp(price_data[-1, 0] / 1000.0) - datetime.fromtimestamp(\n",
    "        price_data[0, 0] / 1000.0)).total_seconds() / 86400\n",
    "\n",
    "def summarize_trades(get_trades_out):\n",
    "    trades, trade_buy_time, trade_buy_price, trades_on_hold = get_trades_out[0], get_trades_out[1], get_trades_out[2], get_trades_out[3]\n",
    "    print('total profit is', trades[:, 4].sum())\n",
    "    print('Average profit per day is', trades[:, 4].sum() / total_trading_period)\n",
    "    print('No. of trades', len(trades))\n",
    "    print('Average trade period is', trades[:, 5].sum() / len(trades))\n",
    "    print('Min trade period is', np.min(trades[:, 5]))\n",
    "    print('Max trade period is', np.max(trades[:, 5]))\n",
    "    print('No. of trades on hold', len(trades_on_hold))\n",
    "    print('\\n')\n",
    "\n",
    "    if trade_buy_time != -1:\n",
    "        hold_period = datetime.fromtimestamp(price_data[-1, 0] / 1000.0) - datetime.fromtimestamp(trade_buy_time / 1000.0)\n",
    "        print('Last buy time', datetime.fromtimestamp(trade_buy_time / 1000.0))\n",
    "        print('Last buy price', trade_buy_price)\n",
    "        print('Hold period since the last buy time', hold_period)\n",
    "\n",
    "    print('\\n')\n",
    "    calculate_compound_returns(trades)\n",
    "\n",
    "def calculate_compound_returns(trades):\n",
    "    initial_amount = 100\n",
    "    profit = initial_amount\n",
    "    for trade in trades:\n",
    "        profit += profit * trade[4] / 100\n",
    "\n",
    "    print('Total compounded profit percentage is', (profit - initial_amount))\n",
    "    print('Average profit per day is', (profit - initial_amount) / total_trading_period)"
   ],
   "metadata": {
    "collapsed": false,
    "pycharm": {
     "name": "#%%\n"
    }
   }
  },
  {
   "cell_type": "code",
   "execution_count": 94,
   "outputs": [
    {
     "name": "stdout",
     "output_type": "stream",
     "text": [
      "Current balance:  251.85473601659533\n",
      "Sum of current invested amount:  300\n",
      "total profit is 51.85473601659528\n",
      "Average profit per day is 0.22948804432939088\n",
      "No. of trades 139\n",
      "Average trade period is 304.865602317772\n",
      "Min trade period is 130.36136269903568\n",
      "Max trade period is 530.3361228294168\n",
      "No. of trades on hold 2\n",
      "\n",
      "\n",
      "Last buy time 2022-03-24 09:57:59.999000\n",
      "Last buy price 0.1405\n",
      "Hold period since the last buy time 14:03:00\n",
      "\n",
      "\n",
      "Total compounded profit percentage is 61.541157785847275\n",
      "Average profit per day is 0.2723562210695804\n"
     ]
    }
   ],
   "source": [
    "a = get_trades(price_arr=price_data, short=0, take_profit_percentage=1, selling_points=[(2, 3), (5, 7)], compound=False)\n",
    "summarize_trades(a)"
   ],
   "metadata": {
    "collapsed": false,
    "pycharm": {
     "name": "#%%\n"
    }
   }
  },
  {
   "cell_type": "code",
   "execution_count": 92,
   "outputs": [
    {
     "name": "stdout",
     "output_type": "stream",
     "text": [
      "Current balance:  1084.863161002872\n",
      "Sum of current invested amount:  765.0050916815701\n",
      "total profit is 372.34330897218206\n",
      "Average profit per day is 1.647840570778604\n",
      "No. of trades 165\n",
      "Average trade period is 0.9232996632996633\n",
      "Min trade period is 0.0\n",
      "Max trade period is 30.492361111111112\n",
      "No. of trades on hold 0\n",
      "\n",
      "\n",
      "Last buy time 2022-03-23 01:05:59.999000\n",
      "Last buy price 0.1214\n",
      "Hold period since the last buy time 1 day, 22:55:00\n",
      "\n",
      "\n",
      "Total compounded profit percentage is 2176.8338628988504\n",
      "Average profit per day is 9.633784383103892\n"
     ]
    }
   ],
   "source": [
    "b = get_trades(price_arr=price_data, short=1, take_profit_percentage=1, selling_points=[(2, 3), (5, 7)], compound=True)\n",
    "summarize_trades(b)"
   ],
   "metadata": {
    "collapsed": false,
    "pycharm": {
     "name": "#%%\n"
    }
   }
  },
  {
   "cell_type": "code",
   "execution_count": 70,
   "outputs": [
    {
     "data": {
      "text/plain": "<Figure size 432x288 with 1 Axes>",
      "image/png": "[encoded data removed]"
     },
     "metadata": {
      "needs_background": "light"
     },
     "output_type": "display_data"
    }
   ],
   "source": [
    "plt.hist(b[0][:, 4], bins=5)\n",
    "plt.show()"
   ],
   "metadata": {
    "collapsed": false,
    "pycharm": {
     "name": "#%%\n"
    }
   }
  },
  {
   "cell_type": "code",
   "execution_count": 59,
   "outputs": [],
   "source": [
    "# Convert a[0] to dataframe\n",
    "df = pd.DataFrame(a[0], columns=['buy_time', 'buy_price', 'sell_time', 'sell_price', 'profit_loss', 'current_balance'])\n",
    "df.to_csv('trades.csv')"
   ],
   "metadata": {
    "collapsed": false,
    "pycharm": {
     "name": "#%%\n"
    }
   }
  },
  {
   "cell_type": "code",
   "execution_count": null,
   "outputs": [],
   "source": [
    "# Trading logic:-\n",
    "# 1. Take profit at 1% or above. Wait a maximum of 2 days for this to happen.\n",
    "# 2. If the trade is not closed in the above case, then sell it at stop loss 3% or below. Wait a maximum of 3 days for this to happen.\n",
    "# 3. If below 3% stop loss is not possible, then move the trade to a list of trades on hold.\n",
    "# 4. Try to sell this trades on hold at a loss of 7% or below.\n",
    "\n",
    "# TimeFrame - Action\n",
    "# 0 - 2 days - Take profit at 1% or above.\n",
    "# 3 - 5 days - Sell at stop loss 3% or below.\n",
    "# >= 5 days - Sell at loss of 7% or below."
   ],
   "metadata": {
    "collapsed": false,
    "pycharm": {
     "name": "#%%\n"
    }
   }
  },
  {
   "cell_type": "code",
   "execution_count": null,
   "outputs": [],
   "source": [
    "# Considering all of these parameters, can I do some sort of grid search to maximize the profit?\n",
    "# Try experimenting with different time periods, different currency pairs\n",
    "# Try deploying it in a real time environment but with demo account balance.\n",
    "# Try using freqtade algo trading platform. (https://freqtrade.readthedocs.io/en/latest/index.html)\n",
    "# Try using alpaca trading platform. (https://alpaca.markets/docs/api-documentation/introduction/)\n",
    "# Try blankly tool from reddit."
   ],
   "metadata": {
    "collapsed": false,
    "pycharm": {
     "name": "#%%\n"
    }
   }
  },
  {
   "cell_type": "code",
   "execution_count": null,
   "outputs": [],
   "source": [
    "from naive_bot import NaiveBot\n",
    "\n",
    "bot1 = NaiveBot(price_data)\n",
    "bot1.perform_backtest(short=0, take_profit_percentage=1, selling_points=[(2, 3), (5, 7)], compound=False)"
   ],
   "metadata": {
    "collapsed": false,
    "pycharm": {
     "name": "#%%\n",
     "is_executing": true
    }
   }
  },
  {
   "cell_type": "code",
   "execution_count": null,
   "outputs": [],
   "source": [],
   "metadata": {
    "collapsed": false,
    "pycharm": {
     "name": "#%%\n"
    }
   }
  }
 ],
 "metadata": {
  "kernelspec": {
   "display_name": "Python 3",
   "language": "python",
   "name": "python3"
  },
  "language_info": {
   "codemirror_mode": {
    "name": "ipython",
    "version": 2
   },
   "file_extension": ".py",
   "mimetype": "text/x-python",
   "name": "python",
   "nbconvert_exporter": "python",
   "pygments_lexer": "ipython2",
   "version": "2.7.6"
  }
 },
 "nbformat": 4,
 "nbformat_minor": 0
}